{
  "cells": [
    {
      "cell_type": "markdown",
      "source": [
        "# INSTITUTO NACIONAL DE PESQUISAS ESPACIAIS\n",
        "#Mestrado em Computação Aplicada (CAP)\n",
        "# CAP-345-3 - Inteligência Artificial\n",
        "\n",
        "* Aluno: Lourenço José Cavalcante Neto\n",
        "\n",
        "These code was provide for [this](https://sites.google.com/view/ia-inpe-2022/) course. "
      ],
      "metadata": {
        "id": "XG4_PFUnjQy9"
      }
    },
    {
      "cell_type": "markdown",
      "metadata": {
        "id": "BmLJbiScKSR8"
      },
      "source": [
        "# **Aquisição dos dados para o Dataset que será usado no Treino e Teste do modelo de Rede Neural Convolucional** \n",
        "\n",
        "**Plota as imagens do ABI(Infravermelho) e GLM(Raios)**\n",
        "---\n",
        "**OBJETIVO:** Este Notebook serve plotar e salvar as imagens do canal infravermelho sobreposta com dados de relâmpagos do GLM de uma data específica, nas quais irão ser utilizadas no modelo de RNC.\n",
        "\n",
        "**Dados de Entrada:** \n",
        "\n",
        "1.   **Dados do Sensor GLM:** Arquivos de descargas elétricas a cada 15 min. **Local:** Os dados são processados e fornecidos pelo CPTEC/INPE. Estão disponiveis e foram adquiridos [aqui](http://ftp.cptec.inpe.br/goes/goes16/goes16_web/glm_acumulado_nc/), **Extensão:** .nc, **Formato dos dados:** Netcdf.\n",
        "\n",
        "2.   **Dados do Sensor ABI:** Canal 13 (Infravermelho - 10.8 µm) do sensor ABI a bordo do satélite GOES-16. **Local:** Os dados são processados e fornecidos pelo CPTEC/INPE. Estão disponiveis e foram adquiridos [aqui](http://ftp.cptec.inpe.br//goes/goes16/retangular/ch13/), **Extensão:**.nc, **Formato:** Netcdf.\n",
        "---\n",
        "**Dados de saída:**\n",
        "Mapa espacial de Descargas elétricas\n",
        "---\n",
        "**Os seguintes procedimentos foram realizados nesse código:**\n",
        "1.   Instalação das bibliotecas necessárias para geração dos mapas/imagens\n",
        "2.   Importação das bibliotecas\n",
        "3.   Montagem/Conexão com do google Drive\n",
        "4.   Download dos dados através do servidor do CPTEC/INPE\n",
        "5.   Plotagem e salvamento das imagens \n",
        "\n"
      ]
    },
    {
      "cell_type": "markdown",
      "metadata": {
        "id": "qj3KTyoc7IWh"
      },
      "source": [
        "# **Instalação das bibliotecas necessárias**"
      ]
    },
    {
      "cell_type": "code",
      "execution_count": null,
      "metadata": {
        "id": "TXQ41t6czExV"
      },
      "outputs": [],
      "source": [
        "# Instalando o cartopy (usado para gerar Mapas)\n",
        "!apt-get install libproj-dev proj-data proj-bin\n",
        "!apt-get install libgeos-dev\n",
        "!pip install --no-binary shapely shapely --force\n",
        "!pip install cartopy\n",
        "\n",
        "# Instalando o proplot (usado para gerar Mapas também)\n",
        "!pip install proplot==0.6.4\n",
        "\n",
        "!pip install geopandas"
      ]
    },
    {
      "cell_type": "markdown",
      "metadata": {
        "id": "snGAcm7DEUcd"
      },
      "source": [
        "# **Download de arquivos/dados auxiliares**"
      ]
    },
    {
      "cell_type": "code",
      "execution_count": null,
      "metadata": {
        "id": "XhvnqldzEVgd"
      },
      "outputs": [],
      "source": [
        "# Criando os diretórios de entrada e saida\n",
        "import os\n",
        "os.makedirs('input', exist_ok=True)\n",
        "os.makedirs('arquivos_auxiliares', exist_ok=True)\n",
        "\n",
        "# Baixando os arquivos de shapefile dos estados brasileiros\n",
        "!wget -c https://geoftp.ibge.gov.br/organizacao_do_territorio/malhas_territoriais/malhas_municipais/municipio_2019/Brasil/BR/br_unidades_da_federacao.zip -P /content/arquivos_auxiliares/ \n",
        "print('\\n')\n",
        "\n",
        "# Descomprimindo o arquivo de shapefile dos estados brasileiros\n",
        "!unzip -o  /content/arquivos_auxiliares/br_unidades_da_federacao.zip -d /content/arquivos_auxiliares/\n",
        "print('\\n')\n",
        "\n",
        "# Baixa paleta de cores\n",
        "!wget -c https://www.dropbox.com/s/t7b8x2i3gnsq8gv/cpt_convert.py \n",
        "!wget -c https://www.dropbox.com/s/74vlk75bkh3fzaz/IR4AVHRR6.cpt"
      ]
    },
    {
      "cell_type": "markdown",
      "metadata": {
        "id": "lomA446p7DN5"
      },
      "source": [
        "# **Importa as bibliotecas**"
      ]
    },
    {
      "cell_type": "code",
      "execution_count": null,
      "metadata": {
        "id": "V8rQ81eCv_qz"
      },
      "outputs": [],
      "source": [
        "import pandas as pd\n",
        "import xarray as xr\n",
        "import numpy as np\n",
        "import proplot as plot\n",
        "import cartopy.crs as ccrs\n",
        "import cartopy.io.shapereader as shpreader\n",
        "from cartopy.feature import NaturalEarthFeature\n",
        "import matplotlib.pyplot as plt\n",
        "import os\n",
        "import matplotlib\n",
        "from matplotlib.patches import Polygon\n",
        "from matplotlib.collections import PatchCollection\n",
        "from datetime import datetime, timedelta\n",
        "\n",
        "import matplotlib\n",
        "matplotlib.rcParams.update({'font.size':22})\n",
        "from matplotlib import pyplot as plt\n",
        "from cpt_convert import loadCPT # Importando a função CPT convert \n",
        "from matplotlib.colors import LinearSegmentedColormap # interpolação linear para as cores dos mapas\n",
        "from netCDF4 import Dataset  \n",
        "import warnings\n",
        "import seaborn as sns\n",
        "warnings.filterwarnings(\"ignore\")\n"
      ]
    },
    {
      "cell_type": "markdown",
      "metadata": {
        "id": "Z8w6Sb9iL5tq"
      },
      "source": [
        "# **Conexão com o Drive e definição do caminho da pasta para as imagens**"
      ]
    },
    {
      "cell_type": "code",
      "execution_count": null,
      "metadata": {
        "id": "3Zh-3lrqepKP"
      },
      "outputs": [],
      "source": [
        "from google.colab import drive\n",
        "drive.mount('/content/drive')"
      ]
    },
    {
      "cell_type": "code",
      "execution_count": null,
      "metadata": {
        "id": "qfVARDM0L53A"
      },
      "outputs": [],
      "source": [
        "# Define o caminho do drive. Pasta para a saída das Figuras geradas que serão usadas na CNN\n",
        "#path_fig_abi_glm = f'/content/drive/MyDrive/MestradoCAP/DADOS_CAP354/database_for_cnn/training_set/presence_of_electrical_discharges/'\n",
        "#path_fig_abi = f'/content/drive/MyDrive/MestradoCAP/DADOS_CAP354/database_for_cnn/training_set/no_electrical_discharges/'\n",
        "path_outputGerais = f'/content/drive/MyDrive/MestradoCAP/DADOS/outputGerais/'"
      ]
    },
    {
      "cell_type": "markdown",
      "source": [],
      "metadata": {
        "id": "Zxms35SybCP6"
      }
    },
    {
      "cell_type": "markdown",
      "metadata": {
        "id": "lm9Wtd0VQOXV"
      },
      "source": [
        "# **Importa funções**"
      ]
    },
    {
      "cell_type": "code",
      "execution_count": null,
      "metadata": {
        "id": "gA3v0HbEhp6u"
      },
      "outputs": [],
      "source": [
        "import geopandas as gpd\n",
        "def evm_plot_states2():\n",
        "    estados_BR = gpd.read_file('/content/arquivos_auxiliares/BR_UF_2019.shp', geom_col='geometry', encoding='utf-8')\n",
        "    estado = 'Amazonas'\n",
        "    estado_cd_uf = 13\n",
        "    estado_poly = estados_BR[estados_BR.NM_UF == estado]\n",
        "    shapefile = list(estado_poly.geometries())\n",
        "    ax.add_geometries(shapefile, ccrs.PlateCarree(), edgecolor='black',facecolor='none', linewidth=0.6) \n"
      ]
    },
    {
      "cell_type": "code",
      "execution_count": null,
      "metadata": {
        "id": "tg_sG7_ZQNsv"
      },
      "outputs": [],
      "source": [
        "#----------------------------------------------------------------------------------- \n",
        "# Função que plota os Estados \n",
        "#----------------------------------------------------------------------------------- \n",
        "def evm_plot_states():\n",
        "    shapefile = list(shpreader.Reader('/content/drive/MyDrive/MestradoCAP/DADOS/auxiliares/shapefile/BR_UF_2021/BR_UF_2021.shp').geometries())\n",
        "    ax.add_geometries(shapefile, ccrs.PlateCarree(), edgecolor='black',facecolor='none', linewidth=0.8)\n",
        "\n",
        "#----------------------------------------------------------------------------------- \n",
        "# Função que plota Amazonas no mapa \n",
        "#----------------------------------------------------------------------------------- \n",
        "def evm_plot_amazon():\n",
        "    shapefile_amazon = list(shpreader.Reader('/content/drive/MyDrive/MestradoCAP/DADOS_CAP354/auxiliares/shapefile/Sede_Mun_Amazonia_Legal_2020.shp').geometries())\n",
        "    ax.add_geometries(shapefile_amazon, ccrs.PlateCarree(), edgecolor='red',facecolor='none', linewidth=0.5)\n",
        "  "
      ]
    },
    {
      "cell_type": "markdown",
      "metadata": {
        "id": "Lf7YfSN6tgk3"
      },
      "source": [
        "# **PROCESSAMENTO DOS DADOS:**\n",
        "Nesta etapa serão utilizados os dados de **relâmpagos** do sensor GLM e **temperatura de brilho** do canal infravermelho do sensor ABI, ambos pertencentes ao satélite GOES-16. Serão produzidas as seguintes figuras:\n",
        "\n",
        "1.   **Mapa espacial** da temperatua do canal infravermelho do satélite e relâmpagos do satélite GOES-16."
      ]
    },
    {
      "cell_type": "markdown",
      "metadata": {
        "id": "SrEp8WEcMTOl"
      },
      "source": [
        "Vamos definir a data e a hora dos dados para download e posterior geração da imagem."
      ]
    },
    {
      "cell_type": "code",
      "execution_count": null,
      "metadata": {
        "id": "TUFy9-J05FvS"
      },
      "outputs": [],
      "source": [
        "ano = '2019'\n",
        "mes = '01'\n",
        "dia = '21'\n",
        "hor = '16'\n",
        "minu = '00'"
      ]
    },
    {
      "cell_type": "markdown",
      "metadata": {
        "id": "LII4bfBDtx6j"
      },
      "source": [
        "## **Baixando os dados do sensor ABI:**"
      ]
    },
    {
      "cell_type": "code",
      "execution_count": null,
      "metadata": {
        "id": "ZR1k_WEzEHlC"
      },
      "outputs": [],
      "source": [
        "# Endereço do FTP do CPTEC-INPE\n",
        "ftp_cptec = 'ftp.cptec.inpe.br'\n",
        "# ---------------------------------------------------------- #\n",
        "#              BAIXANDO DADOS DO ABI\n",
        "# ---------------------------------------------------------- #\n",
        "# Nome do arquivo\n",
        "file_ir =  f'{ftp_cptec}/goes/goes16/retangular/ch13/{ano}/{mes}/S10635346_{ano}{mes}{dia}{hor}{minu}.nc'\n",
        "\n",
        "# Download dos arquivos\n",
        "!wget -c {file_ir} -P /content/input/"
      ]
    },
    {
      "cell_type": "markdown",
      "metadata": {
        "id": "O0urjHl6KiO3"
      },
      "source": [
        "## **Baixando os dados do sensor GLM:**"
      ]
    },
    {
      "cell_type": "code",
      "execution_count": null,
      "metadata": {
        "id": "I7mgdTFrEHoM"
      },
      "outputs": [],
      "source": [
        "# ---------------------------------------------------------- #\n",
        "#              BAIXANDO DADOS DO GLM \n",
        "# ---------------------------------------------------------- #\n",
        "# S11635949_202009010000.nc\t\n",
        "path_glm = '/goes/goes16/goes16_web/glm_acumulado_nc/' ; path_total = f'{ftp_cptec}{path_glm}'\n",
        "\n",
        "# primeiro arquivo: 5min\n",
        "#basename_glm_5min = f'S11635949_{ano}{mes}{dia}{hor}{minu}.nc'\n",
        "\n",
        "# segundo arquivo: 10min\n",
        "date_10min = str(datetime(int(ano), int(mes), int(dia), int(hor), int(minu)) + timedelta(minutes=5)) # calcula a imagem + 5min\n",
        "ano_10min = datetime.strptime(date_10min, '%Y-%m-%d %H:%M:%S').strftime('%Y')  # extrai o ano \n",
        "mes_10min = datetime.strptime(date_10min, '%Y-%m-%d %H:%M:%S').strftime('%m')  # extrai o mes \n",
        "dia_10min = datetime.strptime(date_10min, '%Y-%m-%d %H:%M:%S').strftime('%d')  # extrai o dia \n",
        "hor_10min = datetime.strptime(date_10min, '%Y-%m-%d %H:%M:%S').strftime('%H')  # extrai o hora \n",
        "minu_10min = datetime.strptime(date_10min, '%Y-%m-%d %H:%M:%S').strftime('%M') # extrai o minuto\n",
        "basename_glm_10min = f'S11635949_{ano_10min}{mes_10min}{dia_10min}{hor_10min}{minu_10min}.nc'\n",
        "\n",
        " # path + nome dos arquivos\n",
        "#file_glm_5min = f'{path_total}{ano}/{mes}/{basename_glm_5min}'\n",
        "file_glm_10min = f'{path_total}{ano_10min}/{mes}/{basename_glm_10min}'\n",
        "\n",
        "# Download dos arquivos\n",
        "#!wget -c {file_glm_5min} -P /content/input/\n",
        "!wget -c {file_glm_10min} -P /content/input/"
      ]
    },
    {
      "cell_type": "markdown",
      "metadata": {
        "id": "1iW6rtwkfMBm"
      },
      "source": [
        "# **Loop - Plotando o mapa espacial: ABI CH13 + GLM Flashes de Janeiro 2019** \n"
      ]
    },
    {
      "cell_type": "code",
      "execution_count": null,
      "metadata": {
        "id": "-NtYjLSVNat1"
      },
      "outputs": [],
      "source": [
        "list_min_abi_glm = ['00','10','20','30','40','50']\n",
        "abi_data_list = []\n",
        "glm_data_list = []\n",
        "\n",
        "#ABI\n",
        "os.chdir('/content/drive/MyDrive/MestradoCAP/DADOS/abi/nc/2019/1/')\n",
        "full_direc_abi = os.listdir()\n",
        "\n",
        "  \n",
        "#GLM\n",
        "os.chdir('/content/drive/MyDrive/MestradoCAP/DADOS/glm/nc/2019/1/')\n",
        "full_direc_glm = os.listdir()\n"
      ]
    },
    {
      "cell_type": "code",
      "execution_count": null,
      "metadata": {
        "id": "Ix3CBF-idvjN"
      },
      "outputs": [],
      "source": [
        "conta_plot = 0\n",
        "for abi_nc in full_direc_abi:\n",
        "  for glm_nc in full_direc_glm:\n",
        "    abi_nc_res = abi_nc[:-3][-12::]\n",
        "    glm_nc_res = glm_nc[:-3][-12::]\n",
        "    \n",
        "    if (abi_nc_res[:8] == '20190114' or abi_nc_res[:8] == '20190115') and (abi_nc_res == glm_nc_res):\n",
        "    #if (abi_nc_res == glm_nc_res):\n",
        "      year = glm_nc_res[0:4]\n",
        "      month = glm_nc_res[4:6]\n",
        "      day = glm_nc_res[6:8]\n",
        "      hour = glm_nc_res[8:10]\n",
        "      minute = glm_nc_res[10:12]\n",
        "\n",
        "      if (glm_nc_res[-2::] == '00' or glm_nc_res[-2::] == '15' or glm_nc_res[-2::] == '30' or glm_nc_res[-2::] == '45'):\n",
        "      \n",
        "        #glm_nc_15min = str(int(p1_nc),int(p2_nc) + timedelta(minutes=15))\n",
        "\n",
        "        if(glm_nc_res[-2::] == '45'):\n",
        "          \n",
        "          glm_nc_15min_p1 = str(int(glm_nc_res[-3::]) + 55)\n",
        "          glm_nc_15min = str(glm_nc_res[:9])+''+glm_nc_15min_p1\n",
        "          \n",
        "        else:\n",
        "          glm_nc_15min = str(int(glm_nc_res[:12]) + 15)\n",
        "          #print(glm_nc_15min)\n",
        "\n",
        "        conta_plot = conta_plot + 1\n",
        "\n",
        "        #basename = os.path.basename(os.path.splitext(file_ir)[0]) \n",
        "        file = f'/content/drive/MyDrive/MestradoCAP/DADOS/abi/nc/2019/1/{abi_nc}'\n",
        "\n",
        "        # Leitura do arquivo ABI\n",
        "        imagem = xr.open_dataset(file)\n",
        "\n",
        "        # Extração dos limites: latitudes e longitudes\n",
        "        latmin, latmax, lonmin, lonmax = float(imagem['lat'][0]), float(imagem['lat'][-1]), float(imagem['lon'][0]), float(imagem['lon'][-1])\n",
        "        # lats/lons do quadrado limitando o Brasil\n",
        "        #latmin1, latmax1, lonmin1, lonmax1 =  -35, 7, -75, -32\n",
        "        latmin1, latmax1, lonmin1, lonmax1 =  2.4, -10, -74, -55.11 #lats/lons do quadrado limitando ao estado do amazonas\n",
        "        #latmin1, latmax1, lonmin1, lonmax1 =  -6, -10, -74, -70 #lats/lons do quadrado limitando as imagens das amostras com e sem raios\n",
        "\n",
        "        # Transformação da temperatura lida para Celsius\n",
        "        imagem = (imagem['Band1']/100.)-273.15\n",
        "\n",
        "        # Inverte a matriz\n",
        "        imagem = np.flipud(imagem)\n",
        "\n",
        "        # Configurações da plotagem da Figura\n",
        "        fig, ax = plot.subplots(axwidth=7, axheight=7, tight=True, proj='pcarree')\n",
        "        \n",
        "        # Add coastlines, borders and gridlines\n",
        "        #ax.coastlines(resolution='10m', color='white', linewidth=0.2, zorder=1)\n",
        "        # add the geographic boundaries\n",
        "        l = NaturalEarthFeature(category='cultural', name='admin_0_countries', scale='110m', facecolor='none')\n",
        "        ax.add_feature(l, edgecolor='', linewidth=0.25)\n",
        "\n",
        "        #----------------------------------------------------------------------------------- \n",
        "        # Caso queiramos plotar os Estados Brasieliros no mapa\n",
        "        #----------------------------------------------------------------------------------- \n",
        "        '''\n",
        "        shapefile = list(shpreader.Reader('/content/drive/MyDrive/MestradoCAP/DADOS/auxiliares/shapefile/BR_UF_2021/BR_UF_2021.shp').geometries())\n",
        "        ax.add_geometries(shapefile, ccrs.PlateCarree(), edgecolor='black',facecolor='none', linewidth=0.8)\n",
        "        '''\n",
        "        #----------------------------------------------------------------------------------- \n",
        "        # Caso queiramos plotar o Estado do Amazonas no mapa \n",
        "        #----------------------------------------------------------------------------------- \n",
        "        \n",
        "        shapefile_amazon = list(shpreader.Reader('/content/drive/MyDrive/MestradoCAP/DADOS/auxiliares/shapefile/AM/Sede_Mun_Amazonia_Legal_2020.shp').geometries())\n",
        "        ax.add_geometries(shapefile_amazon, ccrs.PlateCarree(), edgecolor='red',facecolor='none', linewidth=1.0) \n",
        "        \n",
        "\n",
        "        # Aqui definimos o formato da imagems\n",
        "        ax.format(coast=False, borders=False, innerborders=False,labels=False, latlim=(latmin1,latmax1), lonlim=(lonmin1,lonmax1), fontsize=9, \n",
        "                  small='25px', large='25px')\n",
        "        # Choose the plot size (width x height, in inches)\n",
        "\n",
        "        #Carrega tabela de cores do Infravermelho\n",
        "        cpt_ir = loadCPT('/content/drive/MyDrive/MestradoCAP/DADOS/auxiliares/paleta_cores/IR4AVHRR6.cpt')\n",
        "        cpt_convert_ir = LinearSegmentedColormap('cpt_ir', cpt_ir)\n",
        "        # limites da paleta de cores\n",
        "        vmin_ir = -103.0 \n",
        "        vmax_ir = 105\n",
        "\n",
        "        mean_temperature_ABI = round(np.mean(imagem),2) #Temperatura média \n",
        "\n",
        "        # Aqui é plotada e variável Infravermelho (ABI)\n",
        "        map1 = ax.imshow(imagem, vmin=vmin_ir, vmax=vmax_ir, cmap=cpt_convert_ir, extent=[lonmin, lonmax, latmin, latmax],\n",
        "                        levels=plot.arange(vmin_ir, vmax_ir, 1.0))\n",
        "\n",
        "        #---------------------------------------------#\n",
        "        #              plota flashes GLM (15min)\n",
        "        #---------------------------------------------#\n",
        "\n",
        "         # Leitura do arquivo GLM\n",
        "\n",
        "        #Caso queiramos verificar os flashes GLM que ocorreram 15min após o minuto do ABI atual,\n",
        "        #quando formos trabalhar com o modelo para previsão de descragas elétricas\n",
        "        #glm_15min = xr.open_dataset(f'/content/drive/MyDrive/MestradoCAP/DADOS/glm/nc/2019/1/S11635949_{glm_nc_15min}.nc') \n",
        "        \n",
        "        #Caso queiramos verificar os flashes GLM que ocorreram no mesmo minuto do ABI atual.\n",
        "        '''\n",
        "        glm_15min = xr.open_dataset(f'/content/drive/MyDrive/MestradoCAP/DADOS/glm/nc/2019/1/{glm_nc}')\n",
        "        df = glm_15min.to_dataframe().reset_index().dropna()\n",
        "        ax.scatter(df['lon'].values, df['lat'].values, transform=ccrs.PlateCarree(), marker=\"X\",alpha=1,s=5, color='fuchsia')  \n",
        "        \n",
        "        \n",
        "        qtd_flash_GLM_atual = df['flash'].sum()\n",
        "        qtd_flash_GLM_atual = '{:f}'.format(qtd_flash_GLM_atual)\n",
        "        '''\n",
        "        #qtd_flash_GLM_atual = int(qtd_flash_GLM_atual)\n",
        "\n",
        "        \n",
        "        # salva figura\n",
        "        plt.axis(\"off\")\n",
        "        #fig.save(f'{path_fig_abi_glm}{conta_plot}_g16_abi_glm_{year}{month}{day}_{hour}{minute}.png', dpi=300, bbox_inches='tight')\n",
        "        fig.save(f'{path_outputGerais}{conta_plot}_g16_abi_{year}{month}{day}_{hour}{minute}.png', dpi=300, bbox_inches='tight')\n",
        "        \n",
        "        print(conta_plot,' :Imagem gerada e salva com sucesso. Qtd Flash:',qtd_flash_GLM_atual,' Temp. Média:',mean_temperature_ABI)\n",
        "        print(conta_plot,' - ',abi_nc_res,' :Imagem gerada e salva com sucesso. Temp. Média:',mean_temperature_ABI)\n",
        "\n",
        "        # exibe a figura na tela\n",
        "        #plt.axis(\"off\")\n",
        "        plt.grid(False)\n",
        "        plot.show()\n",
        "  #Aqui podemos limitar o número de imagens que queremos gerar/salavar\n",
        "  if(conta_plot == 1):\n",
        "    break"
      ]
    }
  ],
  "metadata": {
    "colab": {
      "name": "FINAL -  GOES16_GLM_e_IR_DataBase_for_CNN_Lourenço.ipynb",
      "provenance": []
    },
    "kernelspec": {
      "display_name": "Python 3",
      "name": "python3"
    },
    "language_info": {
      "name": "python"
    }
  },
  "nbformat": 4,
  "nbformat_minor": 0
}