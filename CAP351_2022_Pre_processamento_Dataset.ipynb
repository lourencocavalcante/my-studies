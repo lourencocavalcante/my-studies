{
  "cells": [
    {
      "cell_type": "markdown",
      "metadata": {
        "id": "view-in-github",
        "colab_type": "text"
      },
      "source": [
        "<a href=\"https://colab.research.google.com/github/lourencocavalcante/my-studies/blob/main/CAP351_2022_Pre_processamento_Dataset.ipynb\" target=\"_parent\"><img src=\"https://colab.research.google.com/assets/colab-badge.svg\" alt=\"Open In Colab\"/></a>"
      ]
    },
    {
      "cell_type": "markdown",
      "metadata": {
        "id": "OCGrfcaNk9Ju"
      },
      "source": [
        "[<img src=\"https://github.com/lourencocavalcante/LogosINPE/blob/main/logoinpe.png?raw=true\" width = 500 align=\"left\">](https://www.gov.br/inpe/pt-br)\n",
        "\n",
        "[<img src=\"https://github.com/lourencocavalcante/LogosINPE/blob/main/LogoCAP.png?raw=true\" width = 300 align=\"right\">](http://www.inpe.br/posgraduacao/cap/)"
      ]
    },
    {
      "cell_type": "markdown",
      "metadata": {
        "id": "ect6m7UiI28E"
      },
      "source": [
        "# <span style=\"color:#336699\">Uma análise exploratória de dados meteorologicos: Investigando valores não realísticos e a correlação de atributos do disdrômetro RD80 e do radiômetro de microondas MP3000A</span>\n",
        "<hr style=\"border:2px solid #0077b9;\">\n",
        "\n",
        "<br/>\n",
        "\n",
        "<div style=\"text-align: center;font-size: 110%;\">\n",
        "    <b>CAP-394 – Introdução à Ciência de Dados</b>\n",
        "    <br/>\n",
        "    <b>Docentes:</b> Dr. Rafael Duarte Coelho dos Santos e Dr. Gilberto Ribeiro de Queiroz\n",
        "    <br/><br/>\n",
        "    <b>Discente:</b> Lourenço José Cavalcante Neto\n",
        "    <br/>\n",
        "    <b>E-mail:</b> <a href=\"mailto:lourenco.cavalcante@ifto.edu.b\">lourenco.cavalcante@ifto.edu.br</a>\n",
        "\n",
        "</div>\n",
        "\n",
        "<br/>\n",
        "\n",
        "<div style=\"text-align: justify;  margin-left: 20%; margin-right: 20%;\">\n",
        "<b>Objetivo: </b> O principal objetivo deste caderno notebook é apresentar o Pré-processamento e análise básica de dados meteorológicos, considerando a aquisição, extração e inserção no ambiente de execução, manutenção, armazenamento, limpeza, processamento, preparação e arquitetura dos dados.\n",
        "</div>"
      ]
    },
    {
      "cell_type": "markdown",
      "metadata": {
        "id": "nFcD5Gx3Vuyz"
      },
      "source": [
        "Este notebook também pode ser visualizado no meu diretório de materiais e atividades da disciplina **CAP-394** no **Github**,  [Clicando aqui](https://github.com/lourencocavalcante/Introduction-to-Data-Science.git)."
      ]
    },
    {
      "cell_type": "markdown",
      "source": [
        "# **Pré-processamento de dados**"
      ],
      "metadata": {
        "id": "66PyRnagA772"
      }
    },
    {
      "cell_type": "markdown",
      "metadata": {
        "id": "PaLLw5FefATd"
      },
      "source": [
        "## **Conhecendo a base de dados**\n",
        "\n",
        "Inicialmente iremos conhecer melhor a nossa base de dados e, na sequência iremos\n",
        "montar uma ***baseline***.\n",
        "\n"
      ]
    },
    {
      "cell_type": "markdown",
      "metadata": {
        "id": "7Okfq4RbVmXD"
      },
      "source": [
        "## **Dataset**\n",
        "\n",
        "Os dados meteorológicos são oriundos de dois equipamentos (**Radiômetro de Microondas \"MP3000A\"** e o **Disdrômetro \"RD80\"**), ambos instalados próximo à torre ATTO, em um sítio chamado Campina, na região Amazônica. O MP3000A mede diversas variáveis ambiente, entre elas a radiância no espectro de onda do microonda em diversos canais e estimativas de parâmetros de nuvens. Já o RD80 mede a distribuição das gotas de chuva que chegam à superfície.\n",
        "\n",
        "Os dados compreendem o período de 17 de março de 2020 a 07 julho 2022."
      ]
    },
    {
      "cell_type": "markdown",
      "metadata": {
        "id": "-IUoRbDBTZZj"
      },
      "source": [
        "## **Importação de módulos e bibliotecas**\n",
        "São várias as bibliotecas que podem ser utilizadas para realizar o pré-processamento de dados. Entre elas podemos destacar a biblioteca **Pandas**. Trata-se de uma biblioteca para leitura, manipulação e análise de dados tabulados. Essa biblioteca oferece estruturas de dados e operações para manipular conjuntos massivos de tabelas numéricas e séries temporais de forma otimizada. No python, por convensão, as bibliotecas são importadas conforme podemos ver na célula abaixo:"
      ]
    },
    {
      "cell_type": "code",
      "execution_count": null,
      "metadata": {
        "id": "HR79xHB6ULVt"
      },
      "outputs": [],
      "source": [
        "import pandas as pd\n",
        "import numpy as np\n",
        "import seaborn as sns\n",
        "import matplotlib.pyplot as plt\n",
        "from matplotlib.pyplot import figure\n",
        "import math\n",
        "import calendar\n",
        "import datetime"
      ]
    },
    {
      "cell_type": "markdown",
      "metadata": {
        "id": "BwRSFhwpcAkb"
      },
      "source": [
        "## **Obtendo os arquivos de dados**"
      ]
    },
    {
      "cell_type": "code",
      "execution_count": null,
      "metadata": {
        "colab": {
          "base_uri": "https://localhost:8080/"
        },
        "id": "o5eAC57TcOF9",
        "outputId": "18a35bfd-e439-44b6-e4bc-fed1c903fcea"
      },
      "outputs": [
        {
          "output_type": "stream",
          "name": "stdout",
          "text": [
            "/usr/local/lib/python3.7/dist-packages/gdown/cli.py:131: FutureWarning: Option `--id` was deprecated in version 4.3.1 and will be removed in 5.0. You don't need to pass it anymore to use a file ID.\n",
            "  category=FutureWarning,\n",
            "Downloading...\n",
            "From: https://drive.google.com/uc?id=1DflICrG3vlewOXnLYrsEqhK0WFn2Bz0U\n",
            "To: /content/JWD_campina_report_RZLwcDmDtNdrop_b2.1_report.txt\n",
            "100% 147M/147M [00:00<00:00, 292MB/s]\n"
          ]
        }
      ],
      "source": [
        "#Vamos baixar os dados do Google Drive para o Notebook\n",
        "\n",
        "!gdown --id 1DflICrG3vlewOXnLYrsEqhK0WFn2Bz0U #Down. WD_campina_report_RZLwcDmDtNdrop_b2.1_report\n",
        "\n"
      ]
    },
    {
      "cell_type": "code",
      "source": [
        "#Vamos baixar os dados do Google Drive para o Notebook\n",
        "\n",
        "\n",
        "!gdown --id 1ieLK9gKot8DTiQGFEJk8i3i-W6jsSB96 #Down. WD_campina_report_RZLwcDmDtNdrop_b2.1_report-2"
      ],
      "metadata": {
        "colab": {
          "base_uri": "https://localhost:8080/"
        },
        "id": "-5-_kHdNcDLN",
        "outputId": "ba6193d7-97b9-457b-b16b-5965abd9fe5c"
      },
      "execution_count": null,
      "outputs": [
        {
          "output_type": "stream",
          "name": "stdout",
          "text": [
            "/usr/local/lib/python3.7/dist-packages/gdown/cli.py:131: FutureWarning: Option `--id` was deprecated in version 4.3.1 and will be removed in 5.0. You don't need to pass it anymore to use a file ID.\n",
            "  category=FutureWarning,\n",
            "Downloading...\n",
            "From: https://drive.google.com/uc?id=1ieLK9gKot8DTiQGFEJk8i3i-W6jsSB96\n",
            "To: /content/JWD_campina_report_RZLwcDmDtNdrop_b2.1_report-2.txt\n",
            "100% 14.7M/14.7M [00:00<00:00, 69.0MB/s]\n"
          ]
        }
      ]
    },
    {
      "cell_type": "markdown",
      "metadata": {
        "id": "-8o27PICcTgz"
      },
      "source": [
        "Temos quatro tipos de arquivos:\n",
        "\n",
        "* **JWD_campina_report_RZLwcDmDtNdrop_b2.1_report.txt**: \n",
        "`Neste arquivo estão dados de medida da distribuição das gotas de chuva que chegam à superfície.`\n",
        "\n",
        "Com o objetivo de facilitar a leitura dos dados e torná-los **tidy**, primeiramente será necessário carregá-los como um **dataframe**. Vamos carregar os dados e criar os dataframes:"
      ]
    },
    {
      "cell_type": "code",
      "execution_count": null,
      "metadata": {
        "id": "dEKpBOUGdBaM"
      },
      "outputs": [],
      "source": [
        "#Abrindo os dados e criando os Dataframes\n",
        "df_rd80_joss = pd.read_table('/content/JWD_campina_report_RZLwcDmDtNdrop_b2.1_report.txt',header=None, delim_whitespace=True)\n",
        "\n",
        "#Abrindo os dados e criando os Dataframes\n",
        "df_rd80_joss_2 = pd.read_table('/content/JWD_campina_report_RZLwcDmDtNdrop_b2.1_report-2.txt',header=None, delim_whitespace=True)"
      ]
    },
    {
      "cell_type": "markdown",
      "metadata": {
        "id": "YX5hfsI4eQyr"
      },
      "source": [
        "Vamos criar uma lista contendo os Dataframes para que possamos manipulá-los a partir daqui."
      ]
    },
    {
      "cell_type": "code",
      "execution_count": null,
      "metadata": {
        "id": "WCjPBFC6eZSM"
      },
      "outputs": [],
      "source": [
        "list_dataframes = [df_rd80_joss, df_rd80_joss_2]"
      ]
    },
    {
      "cell_type": "code",
      "execution_count": null,
      "metadata": {
        "colab": {
          "base_uri": "https://localhost:8080/"
        },
        "id": "Gk3dDYL8fN3b",
        "outputId": "7d088b2f-3c21-43ca-9c8c-a05479b08c04"
      },
      "outputs": [
        {
          "output_type": "stream",
          "name": "stdout",
          "text": [
            "TAMANHO DO DATASET E QUANTIDADE DE ATRIBUTOS:\n",
            "\n",
            "Tamanho do dataset:  315420  - Quantidade de atributos:  31\n",
            "Tamanho do dataset:  31548  - Quantidade de atributos:  31\n"
          ]
        }
      ],
      "source": [
        "#Vamos verificar o tamanho dos Datasets e visualizar as suas colunas.\n",
        "print('TAMANHO DO DATASET E QUANTIDADE DE ATRIBUTOS:\\n')\n",
        "for item in list_dataframes:\n",
        "  print('Tamanho do dataset: ',item.shape[0], ' - Quantidade de atributos: ', item.shape[1])"
      ]
    },
    {
      "cell_type": "markdown",
      "metadata": {
        "id": "udRCfkvYfqJT"
      },
      "source": [
        "Agora vamos investigar mais algumas informações sobre nossos dados:"
      ]
    },
    {
      "cell_type": "code",
      "execution_count": null,
      "metadata": {
        "colab": {
          "base_uri": "https://localhost:8080/"
        },
        "id": "AdHwXElmfyjz",
        "outputId": "3bfe1a0e-8a70-4ae3-fa76-0cc8b100ba91"
      },
      "outputs": [
        {
          "output_type": "stream",
          "name": "stdout",
          "text": [
            "<class 'pandas.core.frame.DataFrame'>\n",
            "RangeIndex: 315420 entries, 0 to 315419\n",
            "Data columns (total 31 columns):\n",
            " #   Column  Non-Null Count   Dtype  \n",
            "---  ------  --------------   -----  \n",
            " 0   0       315420 non-null  float64\n",
            " 1   1       315420 non-null  float64\n",
            " 2   2       315420 non-null  float64\n",
            " 3   3       315420 non-null  float64\n",
            " 4   4       315420 non-null  float64\n",
            " 5   5       315420 non-null  float64\n",
            " 6   6       315420 non-null  float64\n",
            " 7   7       315420 non-null  float64\n",
            " 8   8       315420 non-null  float64\n",
            " 9   9       315420 non-null  float64\n",
            " 10  10      315420 non-null  float64\n",
            " 11  11      315420 non-null  float64\n",
            " 12  12      315420 non-null  float64\n",
            " 13  13      315420 non-null  float64\n",
            " 14  14      315420 non-null  float64\n",
            " 15  15      315420 non-null  float64\n",
            " 16  16      315420 non-null  float64\n",
            " 17  17      315420 non-null  float64\n",
            " 18  18      315420 non-null  float64\n",
            " 19  19      315420 non-null  float64\n",
            " 20  20      315420 non-null  float64\n",
            " 21  21      315420 non-null  float64\n",
            " 22  22      315420 non-null  float64\n",
            " 23  23      315420 non-null  float64\n",
            " 24  24      315420 non-null  float64\n",
            " 25  25      315420 non-null  float64\n",
            " 26  26      315420 non-null  float64\n",
            " 27  27      315420 non-null  float64\n",
            " 28  28      315420 non-null  float64\n",
            " 29  29      315420 non-null  float64\n",
            " 30  30      315420 non-null  float64\n",
            "dtypes: float64(31)\n",
            "memory usage: 74.6 MB\n",
            "None \n",
            "\n",
            "<class 'pandas.core.frame.DataFrame'>\n",
            "RangeIndex: 31548 entries, 0 to 31547\n",
            "Data columns (total 31 columns):\n",
            " #   Column  Non-Null Count  Dtype  \n",
            "---  ------  --------------  -----  \n",
            " 0   0       31548 non-null  float64\n",
            " 1   1       31548 non-null  float64\n",
            " 2   2       31548 non-null  float64\n",
            " 3   3       31548 non-null  float64\n",
            " 4   4       31548 non-null  float64\n",
            " 5   5       31548 non-null  float64\n",
            " 6   6       31548 non-null  float64\n",
            " 7   7       31548 non-null  float64\n",
            " 8   8       31548 non-null  float64\n",
            " 9   9       31548 non-null  float64\n",
            " 10  10      31548 non-null  float64\n",
            " 11  11      31548 non-null  float64\n",
            " 12  12      31548 non-null  float64\n",
            " 13  13      31548 non-null  float64\n",
            " 14  14      31548 non-null  float64\n",
            " 15  15      31548 non-null  float64\n",
            " 16  16      31548 non-null  float64\n",
            " 17  17      31548 non-null  float64\n",
            " 18  18      31548 non-null  float64\n",
            " 19  19      31548 non-null  float64\n",
            " 20  20      31548 non-null  float64\n",
            " 21  21      31548 non-null  float64\n",
            " 22  22      31548 non-null  float64\n",
            " 23  23      31548 non-null  float64\n",
            " 24  24      31548 non-null  float64\n",
            " 25  25      31548 non-null  float64\n",
            " 26  26      31548 non-null  float64\n",
            " 27  27      31548 non-null  float64\n",
            " 28  28      31548 non-null  float64\n",
            " 29  29      31548 non-null  float64\n",
            " 30  30      31548 non-null  float64\n",
            "dtypes: float64(31)\n",
            "memory usage: 7.5 MB\n",
            "None \n",
            "\n"
          ]
        }
      ],
      "source": [
        "for itemDtypes in list_dataframes:\n",
        "  print(itemDtypes.info(),'\\n')"
      ]
    },
    {
      "cell_type": "markdown",
      "metadata": {
        "id": "dtQzcuR4gJTN"
      },
      "source": [
        "Vamos visualizar as 3 primeiras e 3 últimas linhas de cada arquivo de dados"
      ]
    },
    {
      "cell_type": "code",
      "execution_count": null,
      "metadata": {
        "colab": {
          "base_uri": "https://localhost:8080/",
          "height": 311
        },
        "id": "damGIqqggOrD",
        "outputId": "aa56bc93-f4c9-4e82-ce17-cc9504b82478"
      },
      "outputs": [
        {
          "output_type": "execute_result",
          "data": {
            "text/plain": [
              "            0    1     2     3     4    5        6        7        8   \\\n",
              "0       2020.0  3.0  17.0  13.0  52.0  0.0  0.00000  0.00000  0.00000   \n",
              "1       2020.0  3.0  17.0  13.0  53.0  0.0  0.00000  0.00000  0.00000   \n",
              "2       2020.0  3.0  17.0  13.0  54.0  0.0  0.00000  0.00000  0.00000   \n",
              "315417  2022.0  6.0  29.0   9.0   7.0  0.0  0.00558  0.12418  0.00095   \n",
              "315418  2022.0  6.0  29.0   9.0   8.0  0.0  0.00497  0.10235  0.00088   \n",
              "315419  2022.0  6.0  29.0   9.0   9.0  0.0  0.00000  0.00000  0.00000   \n",
              "\n",
              "             9   ...   21   22   23   24   25   26   27   28   29   30  \n",
              "0       0.00000  ...  0.0  0.0  0.0  0.0  0.0  0.0  0.0  0.0  0.0  0.0  \n",
              "1       0.00000  ...  0.0  0.0  0.0  0.0  0.0  0.0  0.0  0.0  0.0  0.0  \n",
              "2       0.00000  ...  0.0  0.0  0.0  0.0  0.0  0.0  0.0  0.0  0.0  0.0  \n",
              "315417  0.40371  ...  0.0  0.0  0.0  0.0  0.0  0.0  0.0  0.0  0.0  0.0  \n",
              "315418  0.38777  ...  0.0  0.0  0.0  0.0  0.0  0.0  0.0  0.0  0.0  0.0  \n",
              "315419  0.00000  ...  0.0  0.0  0.0  0.0  0.0  0.0  0.0  0.0  0.0  0.0  \n",
              "\n",
              "[6 rows x 31 columns]"
            ],
            "text/html": [
              "\n",
              "  <div id=\"df-139e1214-f863-45e0-9191-8ba3747d3dc2\">\n",
              "    <div class=\"colab-df-container\">\n",
              "      <div>\n",
              "<style scoped>\n",
              "    .dataframe tbody tr th:only-of-type {\n",
              "        vertical-align: middle;\n",
              "    }\n",
              "\n",
              "    .dataframe tbody tr th {\n",
              "        vertical-align: top;\n",
              "    }\n",
              "\n",
              "    .dataframe thead th {\n",
              "        text-align: right;\n",
              "    }\n",
              "</style>\n",
              "<table border=\"1\" class=\"dataframe\">\n",
              "  <thead>\n",
              "    <tr style=\"text-align: right;\">\n",
              "      <th></th>\n",
              "      <th>0</th>\n",
              "      <th>1</th>\n",
              "      <th>2</th>\n",
              "      <th>3</th>\n",
              "      <th>4</th>\n",
              "      <th>5</th>\n",
              "      <th>6</th>\n",
              "      <th>7</th>\n",
              "      <th>8</th>\n",
              "      <th>9</th>\n",
              "      <th>...</th>\n",
              "      <th>21</th>\n",
              "      <th>22</th>\n",
              "      <th>23</th>\n",
              "      <th>24</th>\n",
              "      <th>25</th>\n",
              "      <th>26</th>\n",
              "      <th>27</th>\n",
              "      <th>28</th>\n",
              "      <th>29</th>\n",
              "      <th>30</th>\n",
              "    </tr>\n",
              "  </thead>\n",
              "  <tbody>\n",
              "    <tr>\n",
              "      <th>0</th>\n",
              "      <td>2020.0</td>\n",
              "      <td>3.0</td>\n",
              "      <td>17.0</td>\n",
              "      <td>13.0</td>\n",
              "      <td>52.0</td>\n",
              "      <td>0.0</td>\n",
              "      <td>0.00000</td>\n",
              "      <td>0.00000</td>\n",
              "      <td>0.00000</td>\n",
              "      <td>0.00000</td>\n",
              "      <td>...</td>\n",
              "      <td>0.0</td>\n",
              "      <td>0.0</td>\n",
              "      <td>0.0</td>\n",
              "      <td>0.0</td>\n",
              "      <td>0.0</td>\n",
              "      <td>0.0</td>\n",
              "      <td>0.0</td>\n",
              "      <td>0.0</td>\n",
              "      <td>0.0</td>\n",
              "      <td>0.0</td>\n",
              "    </tr>\n",
              "    <tr>\n",
              "      <th>1</th>\n",
              "      <td>2020.0</td>\n",
              "      <td>3.0</td>\n",
              "      <td>17.0</td>\n",
              "      <td>13.0</td>\n",
              "      <td>53.0</td>\n",
              "      <td>0.0</td>\n",
              "      <td>0.00000</td>\n",
              "      <td>0.00000</td>\n",
              "      <td>0.00000</td>\n",
              "      <td>0.00000</td>\n",
              "      <td>...</td>\n",
              "      <td>0.0</td>\n",
              "      <td>0.0</td>\n",
              "      <td>0.0</td>\n",
              "      <td>0.0</td>\n",
              "      <td>0.0</td>\n",
              "      <td>0.0</td>\n",
              "      <td>0.0</td>\n",
              "      <td>0.0</td>\n",
              "      <td>0.0</td>\n",
              "      <td>0.0</td>\n",
              "    </tr>\n",
              "    <tr>\n",
              "      <th>2</th>\n",
              "      <td>2020.0</td>\n",
              "      <td>3.0</td>\n",
              "      <td>17.0</td>\n",
              "      <td>13.0</td>\n",
              "      <td>54.0</td>\n",
              "      <td>0.0</td>\n",
              "      <td>0.00000</td>\n",
              "      <td>0.00000</td>\n",
              "      <td>0.00000</td>\n",
              "      <td>0.00000</td>\n",
              "      <td>...</td>\n",
              "      <td>0.0</td>\n",
              "      <td>0.0</td>\n",
              "      <td>0.0</td>\n",
              "      <td>0.0</td>\n",
              "      <td>0.0</td>\n",
              "      <td>0.0</td>\n",
              "      <td>0.0</td>\n",
              "      <td>0.0</td>\n",
              "      <td>0.0</td>\n",
              "      <td>0.0</td>\n",
              "    </tr>\n",
              "    <tr>\n",
              "      <th>315417</th>\n",
              "      <td>2022.0</td>\n",
              "      <td>6.0</td>\n",
              "      <td>29.0</td>\n",
              "      <td>9.0</td>\n",
              "      <td>7.0</td>\n",
              "      <td>0.0</td>\n",
              "      <td>0.00558</td>\n",
              "      <td>0.12418</td>\n",
              "      <td>0.00095</td>\n",
              "      <td>0.40371</td>\n",
              "      <td>...</td>\n",
              "      <td>0.0</td>\n",
              "      <td>0.0</td>\n",
              "      <td>0.0</td>\n",
              "      <td>0.0</td>\n",
              "      <td>0.0</td>\n",
              "      <td>0.0</td>\n",
              "      <td>0.0</td>\n",
              "      <td>0.0</td>\n",
              "      <td>0.0</td>\n",
              "      <td>0.0</td>\n",
              "    </tr>\n",
              "    <tr>\n",
              "      <th>315418</th>\n",
              "      <td>2022.0</td>\n",
              "      <td>6.0</td>\n",
              "      <td>29.0</td>\n",
              "      <td>9.0</td>\n",
              "      <td>8.0</td>\n",
              "      <td>0.0</td>\n",
              "      <td>0.00497</td>\n",
              "      <td>0.10235</td>\n",
              "      <td>0.00088</td>\n",
              "      <td>0.38777</td>\n",
              "      <td>...</td>\n",
              "      <td>0.0</td>\n",
              "      <td>0.0</td>\n",
              "      <td>0.0</td>\n",
              "      <td>0.0</td>\n",
              "      <td>0.0</td>\n",
              "      <td>0.0</td>\n",
              "      <td>0.0</td>\n",
              "      <td>0.0</td>\n",
              "      <td>0.0</td>\n",
              "      <td>0.0</td>\n",
              "    </tr>\n",
              "    <tr>\n",
              "      <th>315419</th>\n",
              "      <td>2022.0</td>\n",
              "      <td>6.0</td>\n",
              "      <td>29.0</td>\n",
              "      <td>9.0</td>\n",
              "      <td>9.0</td>\n",
              "      <td>0.0</td>\n",
              "      <td>0.00000</td>\n",
              "      <td>0.00000</td>\n",
              "      <td>0.00000</td>\n",
              "      <td>0.00000</td>\n",
              "      <td>...</td>\n",
              "      <td>0.0</td>\n",
              "      <td>0.0</td>\n",
              "      <td>0.0</td>\n",
              "      <td>0.0</td>\n",
              "      <td>0.0</td>\n",
              "      <td>0.0</td>\n",
              "      <td>0.0</td>\n",
              "      <td>0.0</td>\n",
              "      <td>0.0</td>\n",
              "      <td>0.0</td>\n",
              "    </tr>\n",
              "  </tbody>\n",
              "</table>\n",
              "<p>6 rows × 31 columns</p>\n",
              "</div>\n",
              "      <button class=\"colab-df-convert\" onclick=\"convertToInteractive('df-139e1214-f863-45e0-9191-8ba3747d3dc2')\"\n",
              "              title=\"Convert this dataframe to an interactive table.\"\n",
              "              style=\"display:none;\">\n",
              "        \n",
              "  <svg xmlns=\"http://www.w3.org/2000/svg\" height=\"24px\"viewBox=\"0 0 24 24\"\n",
              "       width=\"24px\">\n",
              "    <path d=\"M0 0h24v24H0V0z\" fill=\"none\"/>\n",
              "    <path d=\"M18.56 5.44l.94 2.06.94-2.06 2.06-.94-2.06-.94-.94-2.06-.94 2.06-2.06.94zm-11 1L8.5 8.5l.94-2.06 2.06-.94-2.06-.94L8.5 2.5l-.94 2.06-2.06.94zm10 10l.94 2.06.94-2.06 2.06-.94-2.06-.94-.94-2.06-.94 2.06-2.06.94z\"/><path d=\"M17.41 7.96l-1.37-1.37c-.4-.4-.92-.59-1.43-.59-.52 0-1.04.2-1.43.59L10.3 9.45l-7.72 7.72c-.78.78-.78 2.05 0 2.83L4 21.41c.39.39.9.59 1.41.59.51 0 1.02-.2 1.41-.59l7.78-7.78 2.81-2.81c.8-.78.8-2.07 0-2.86zM5.41 20L4 18.59l7.72-7.72 1.47 1.35L5.41 20z\"/>\n",
              "  </svg>\n",
              "      </button>\n",
              "      \n",
              "  <style>\n",
              "    .colab-df-container {\n",
              "      display:flex;\n",
              "      flex-wrap:wrap;\n",
              "      gap: 12px;\n",
              "    }\n",
              "\n",
              "    .colab-df-convert {\n",
              "      background-color: #E8F0FE;\n",
              "      border: none;\n",
              "      border-radius: 50%;\n",
              "      cursor: pointer;\n",
              "      display: none;\n",
              "      fill: #1967D2;\n",
              "      height: 32px;\n",
              "      padding: 0 0 0 0;\n",
              "      width: 32px;\n",
              "    }\n",
              "\n",
              "    .colab-df-convert:hover {\n",
              "      background-color: #E2EBFA;\n",
              "      box-shadow: 0px 1px 2px rgba(60, 64, 67, 0.3), 0px 1px 3px 1px rgba(60, 64, 67, 0.15);\n",
              "      fill: #174EA6;\n",
              "    }\n",
              "\n",
              "    [theme=dark] .colab-df-convert {\n",
              "      background-color: #3B4455;\n",
              "      fill: #D2E3FC;\n",
              "    }\n",
              "\n",
              "    [theme=dark] .colab-df-convert:hover {\n",
              "      background-color: #434B5C;\n",
              "      box-shadow: 0px 1px 3px 1px rgba(0, 0, 0, 0.15);\n",
              "      filter: drop-shadow(0px 1px 2px rgba(0, 0, 0, 0.3));\n",
              "      fill: #FFFFFF;\n",
              "    }\n",
              "  </style>\n",
              "\n",
              "      <script>\n",
              "        const buttonEl =\n",
              "          document.querySelector('#df-139e1214-f863-45e0-9191-8ba3747d3dc2 button.colab-df-convert');\n",
              "        buttonEl.style.display =\n",
              "          google.colab.kernel.accessAllowed ? 'block' : 'none';\n",
              "\n",
              "        async function convertToInteractive(key) {\n",
              "          const element = document.querySelector('#df-139e1214-f863-45e0-9191-8ba3747d3dc2');\n",
              "          const dataTable =\n",
              "            await google.colab.kernel.invokeFunction('convertToInteractive',\n",
              "                                                     [key], {});\n",
              "          if (!dataTable) return;\n",
              "\n",
              "          const docLinkHtml = 'Like what you see? Visit the ' +\n",
              "            '<a target=\"_blank\" href=https://colab.research.google.com/notebooks/data_table.ipynb>data table notebook</a>'\n",
              "            + ' to learn more about interactive tables.';\n",
              "          element.innerHTML = '';\n",
              "          dataTable['output_type'] = 'display_data';\n",
              "          await google.colab.output.renderOutput(dataTable, element);\n",
              "          const docLink = document.createElement('div');\n",
              "          docLink.innerHTML = docLinkHtml;\n",
              "          element.appendChild(docLink);\n",
              "        }\n",
              "      </script>\n",
              "    </div>\n",
              "  </div>\n",
              "  "
            ]
          },
          "metadata": {},
          "execution_count": 18
        }
      ],
      "source": [
        "#Visualização das primeiras 3 linhas e últimas 3 linhas\n",
        "df_rd80_joss.head(n=3).append(df_rd80_joss.tail(n=3))"
      ]
    },
    {
      "cell_type": "code",
      "source": [
        "#Visualização das primeiras 3 linhas e últimas 3 linhas\n",
        "df_rd80_joss_2.head(n=3).append(df_rd80_joss_2.tail(n=3))"
      ],
      "metadata": {
        "colab": {
          "base_uri": "https://localhost:8080/",
          "height": 267
        },
        "id": "Fw31zH3vd0s0",
        "outputId": "3be4e0e9-6e51-466d-a9b3-af60992d96c8"
      },
      "execution_count": null,
      "outputs": [
        {
          "output_type": "execute_result",
          "data": {
            "text/plain": [
              "           0    1     2     3     4    5    6    7    8    9   ...   21   22  \\\n",
              "0      2022.0  8.0   8.0  20.0  10.0  0.0  0.0  0.0  0.0  0.0  ...  0.0  0.0   \n",
              "1      2022.0  8.0   8.0  20.0  11.0  0.0  0.0  0.0  0.0  0.0  ...  0.0  0.0   \n",
              "2      2022.0  8.0   8.0  20.0  12.0  0.0  0.0  0.0  0.0  0.0  ...  0.0  0.0   \n",
              "31545  2022.0  8.0  30.0  22.0  22.0  0.0  0.0  0.0  0.0  0.0  ...  0.0  0.0   \n",
              "31546  2022.0  8.0  30.0  22.0  23.0  0.0  0.0  0.0  0.0  0.0  ...  0.0  0.0   \n",
              "31547  2022.0  8.0  30.0  22.0  24.0  0.0  0.0  0.0  0.0  0.0  ...  0.0  0.0   \n",
              "\n",
              "        23   24   25   26   27   28   29   30  \n",
              "0      0.0  0.0  0.0  0.0  0.0  0.0  0.0  0.0  \n",
              "1      0.0  0.0  0.0  0.0  0.0  0.0  0.0  0.0  \n",
              "2      0.0  0.0  0.0  0.0  0.0  0.0  0.0  0.0  \n",
              "31545  0.0  0.0  0.0  0.0  0.0  0.0  0.0  0.0  \n",
              "31546  0.0  0.0  0.0  0.0  0.0  0.0  0.0  0.0  \n",
              "31547  0.0  0.0  0.0  0.0  0.0  0.0  0.0  0.0  \n",
              "\n",
              "[6 rows x 31 columns]"
            ],
            "text/html": [
              "\n",
              "  <div id=\"df-67d135c6-bd0a-49ad-b693-a77e4be8f5e0\">\n",
              "    <div class=\"colab-df-container\">\n",
              "      <div>\n",
              "<style scoped>\n",
              "    .dataframe tbody tr th:only-of-type {\n",
              "        vertical-align: middle;\n",
              "    }\n",
              "\n",
              "    .dataframe tbody tr th {\n",
              "        vertical-align: top;\n",
              "    }\n",
              "\n",
              "    .dataframe thead th {\n",
              "        text-align: right;\n",
              "    }\n",
              "</style>\n",
              "<table border=\"1\" class=\"dataframe\">\n",
              "  <thead>\n",
              "    <tr style=\"text-align: right;\">\n",
              "      <th></th>\n",
              "      <th>0</th>\n",
              "      <th>1</th>\n",
              "      <th>2</th>\n",
              "      <th>3</th>\n",
              "      <th>4</th>\n",
              "      <th>5</th>\n",
              "      <th>6</th>\n",
              "      <th>7</th>\n",
              "      <th>8</th>\n",
              "      <th>9</th>\n",
              "      <th>...</th>\n",
              "      <th>21</th>\n",
              "      <th>22</th>\n",
              "      <th>23</th>\n",
              "      <th>24</th>\n",
              "      <th>25</th>\n",
              "      <th>26</th>\n",
              "      <th>27</th>\n",
              "      <th>28</th>\n",
              "      <th>29</th>\n",
              "      <th>30</th>\n",
              "    </tr>\n",
              "  </thead>\n",
              "  <tbody>\n",
              "    <tr>\n",
              "      <th>0</th>\n",
              "      <td>2022.0</td>\n",
              "      <td>8.0</td>\n",
              "      <td>8.0</td>\n",
              "      <td>20.0</td>\n",
              "      <td>10.0</td>\n",
              "      <td>0.0</td>\n",
              "      <td>0.0</td>\n",
              "      <td>0.0</td>\n",
              "      <td>0.0</td>\n",
              "      <td>0.0</td>\n",
              "      <td>...</td>\n",
              "      <td>0.0</td>\n",
              "      <td>0.0</td>\n",
              "      <td>0.0</td>\n",
              "      <td>0.0</td>\n",
              "      <td>0.0</td>\n",
              "      <td>0.0</td>\n",
              "      <td>0.0</td>\n",
              "      <td>0.0</td>\n",
              "      <td>0.0</td>\n",
              "      <td>0.0</td>\n",
              "    </tr>\n",
              "    <tr>\n",
              "      <th>1</th>\n",
              "      <td>2022.0</td>\n",
              "      <td>8.0</td>\n",
              "      <td>8.0</td>\n",
              "      <td>20.0</td>\n",
              "      <td>11.0</td>\n",
              "      <td>0.0</td>\n",
              "      <td>0.0</td>\n",
              "      <td>0.0</td>\n",
              "      <td>0.0</td>\n",
              "      <td>0.0</td>\n",
              "      <td>...</td>\n",
              "      <td>0.0</td>\n",
              "      <td>0.0</td>\n",
              "      <td>0.0</td>\n",
              "      <td>0.0</td>\n",
              "      <td>0.0</td>\n",
              "      <td>0.0</td>\n",
              "      <td>0.0</td>\n",
              "      <td>0.0</td>\n",
              "      <td>0.0</td>\n",
              "      <td>0.0</td>\n",
              "    </tr>\n",
              "    <tr>\n",
              "      <th>2</th>\n",
              "      <td>2022.0</td>\n",
              "      <td>8.0</td>\n",
              "      <td>8.0</td>\n",
              "      <td>20.0</td>\n",
              "      <td>12.0</td>\n",
              "      <td>0.0</td>\n",
              "      <td>0.0</td>\n",
              "      <td>0.0</td>\n",
              "      <td>0.0</td>\n",
              "      <td>0.0</td>\n",
              "      <td>...</td>\n",
              "      <td>0.0</td>\n",
              "      <td>0.0</td>\n",
              "      <td>0.0</td>\n",
              "      <td>0.0</td>\n",
              "      <td>0.0</td>\n",
              "      <td>0.0</td>\n",
              "      <td>0.0</td>\n",
              "      <td>0.0</td>\n",
              "      <td>0.0</td>\n",
              "      <td>0.0</td>\n",
              "    </tr>\n",
              "    <tr>\n",
              "      <th>31545</th>\n",
              "      <td>2022.0</td>\n",
              "      <td>8.0</td>\n",
              "      <td>30.0</td>\n",
              "      <td>22.0</td>\n",
              "      <td>22.0</td>\n",
              "      <td>0.0</td>\n",
              "      <td>0.0</td>\n",
              "      <td>0.0</td>\n",
              "      <td>0.0</td>\n",
              "      <td>0.0</td>\n",
              "      <td>...</td>\n",
              "      <td>0.0</td>\n",
              "      <td>0.0</td>\n",
              "      <td>0.0</td>\n",
              "      <td>0.0</td>\n",
              "      <td>0.0</td>\n",
              "      <td>0.0</td>\n",
              "      <td>0.0</td>\n",
              "      <td>0.0</td>\n",
              "      <td>0.0</td>\n",
              "      <td>0.0</td>\n",
              "    </tr>\n",
              "    <tr>\n",
              "      <th>31546</th>\n",
              "      <td>2022.0</td>\n",
              "      <td>8.0</td>\n",
              "      <td>30.0</td>\n",
              "      <td>22.0</td>\n",
              "      <td>23.0</td>\n",
              "      <td>0.0</td>\n",
              "      <td>0.0</td>\n",
              "      <td>0.0</td>\n",
              "      <td>0.0</td>\n",
              "      <td>0.0</td>\n",
              "      <td>...</td>\n",
              "      <td>0.0</td>\n",
              "      <td>0.0</td>\n",
              "      <td>0.0</td>\n",
              "      <td>0.0</td>\n",
              "      <td>0.0</td>\n",
              "      <td>0.0</td>\n",
              "      <td>0.0</td>\n",
              "      <td>0.0</td>\n",
              "      <td>0.0</td>\n",
              "      <td>0.0</td>\n",
              "    </tr>\n",
              "    <tr>\n",
              "      <th>31547</th>\n",
              "      <td>2022.0</td>\n",
              "      <td>8.0</td>\n",
              "      <td>30.0</td>\n",
              "      <td>22.0</td>\n",
              "      <td>24.0</td>\n",
              "      <td>0.0</td>\n",
              "      <td>0.0</td>\n",
              "      <td>0.0</td>\n",
              "      <td>0.0</td>\n",
              "      <td>0.0</td>\n",
              "      <td>...</td>\n",
              "      <td>0.0</td>\n",
              "      <td>0.0</td>\n",
              "      <td>0.0</td>\n",
              "      <td>0.0</td>\n",
              "      <td>0.0</td>\n",
              "      <td>0.0</td>\n",
              "      <td>0.0</td>\n",
              "      <td>0.0</td>\n",
              "      <td>0.0</td>\n",
              "      <td>0.0</td>\n",
              "    </tr>\n",
              "  </tbody>\n",
              "</table>\n",
              "<p>6 rows × 31 columns</p>\n",
              "</div>\n",
              "      <button class=\"colab-df-convert\" onclick=\"convertToInteractive('df-67d135c6-bd0a-49ad-b693-a77e4be8f5e0')\"\n",
              "              title=\"Convert this dataframe to an interactive table.\"\n",
              "              style=\"display:none;\">\n",
              "        \n",
              "  <svg xmlns=\"http://www.w3.org/2000/svg\" height=\"24px\"viewBox=\"0 0 24 24\"\n",
              "       width=\"24px\">\n",
              "    <path d=\"M0 0h24v24H0V0z\" fill=\"none\"/>\n",
              "    <path d=\"M18.56 5.44l.94 2.06.94-2.06 2.06-.94-2.06-.94-.94-2.06-.94 2.06-2.06.94zm-11 1L8.5 8.5l.94-2.06 2.06-.94-2.06-.94L8.5 2.5l-.94 2.06-2.06.94zm10 10l.94 2.06.94-2.06 2.06-.94-2.06-.94-.94-2.06-.94 2.06-2.06.94z\"/><path d=\"M17.41 7.96l-1.37-1.37c-.4-.4-.92-.59-1.43-.59-.52 0-1.04.2-1.43.59L10.3 9.45l-7.72 7.72c-.78.78-.78 2.05 0 2.83L4 21.41c.39.39.9.59 1.41.59.51 0 1.02-.2 1.41-.59l7.78-7.78 2.81-2.81c.8-.78.8-2.07 0-2.86zM5.41 20L4 18.59l7.72-7.72 1.47 1.35L5.41 20z\"/>\n",
              "  </svg>\n",
              "      </button>\n",
              "      \n",
              "  <style>\n",
              "    .colab-df-container {\n",
              "      display:flex;\n",
              "      flex-wrap:wrap;\n",
              "      gap: 12px;\n",
              "    }\n",
              "\n",
              "    .colab-df-convert {\n",
              "      background-color: #E8F0FE;\n",
              "      border: none;\n",
              "      border-radius: 50%;\n",
              "      cursor: pointer;\n",
              "      display: none;\n",
              "      fill: #1967D2;\n",
              "      height: 32px;\n",
              "      padding: 0 0 0 0;\n",
              "      width: 32px;\n",
              "    }\n",
              "\n",
              "    .colab-df-convert:hover {\n",
              "      background-color: #E2EBFA;\n",
              "      box-shadow: 0px 1px 2px rgba(60, 64, 67, 0.3), 0px 1px 3px 1px rgba(60, 64, 67, 0.15);\n",
              "      fill: #174EA6;\n",
              "    }\n",
              "\n",
              "    [theme=dark] .colab-df-convert {\n",
              "      background-color: #3B4455;\n",
              "      fill: #D2E3FC;\n",
              "    }\n",
              "\n",
              "    [theme=dark] .colab-df-convert:hover {\n",
              "      background-color: #434B5C;\n",
              "      box-shadow: 0px 1px 3px 1px rgba(0, 0, 0, 0.15);\n",
              "      filter: drop-shadow(0px 1px 2px rgba(0, 0, 0, 0.3));\n",
              "      fill: #FFFFFF;\n",
              "    }\n",
              "  </style>\n",
              "\n",
              "      <script>\n",
              "        const buttonEl =\n",
              "          document.querySelector('#df-67d135c6-bd0a-49ad-b693-a77e4be8f5e0 button.colab-df-convert');\n",
              "        buttonEl.style.display =\n",
              "          google.colab.kernel.accessAllowed ? 'block' : 'none';\n",
              "\n",
              "        async function convertToInteractive(key) {\n",
              "          const element = document.querySelector('#df-67d135c6-bd0a-49ad-b693-a77e4be8f5e0');\n",
              "          const dataTable =\n",
              "            await google.colab.kernel.invokeFunction('convertToInteractive',\n",
              "                                                     [key], {});\n",
              "          if (!dataTable) return;\n",
              "\n",
              "          const docLinkHtml = 'Like what you see? Visit the ' +\n",
              "            '<a target=\"_blank\" href=https://colab.research.google.com/notebooks/data_table.ipynb>data table notebook</a>'\n",
              "            + ' to learn more about interactive tables.';\n",
              "          element.innerHTML = '';\n",
              "          dataTable['output_type'] = 'display_data';\n",
              "          await google.colab.output.renderOutput(dataTable, element);\n",
              "          const docLink = document.createElement('div');\n",
              "          docLink.innerHTML = docLinkHtml;\n",
              "          element.appendChild(docLink);\n",
              "        }\n",
              "      </script>\n",
              "    </div>\n",
              "  </div>\n",
              "  "
            ]
          },
          "metadata": {},
          "execution_count": 19
        }
      ]
    },
    {
      "cell_type": "markdown",
      "metadata": {
        "id": "hDumsiE8hND0"
      },
      "source": [
        "Como vimos, a colunas de dados não vieram com seus nomes. Vamos resolver isso adicionando nome para as colunas dos dados do instrumento RD80 e do MP3000A, uma vez que sabemos o que cada coluna representa, de acordo com as especificações recebidas juntamente com os dados."
      ]
    },
    {
      "cell_type": "code",
      "execution_count": null,
      "metadata": {
        "id": "PyUbG9wxhUoz"
      },
      "outputs": [],
      "source": [
        "#Vamos adicionar os títulos das colunas:\n",
        "df_rd80_joss.columns = ['Ano', 'Mes', 'dia', 'H', 'M', 'S','Rain_Intensity_mm_h', 'radar_reflectivity_1_mm6m3','Liquid_watercontent_g_m3',\n",
        "'Mean_weight_diameter_mm', 'Time_integration_s', 'N_D', 'N_D', 'N_D', 'N_D', 'N_D', 'N_D', 'N_D', 'N_D', 'N_D', 'N_D', 'N_D', 'N_D', 'N_D', 'N_D', 'N_D', 'N_D', 'N_D', 'N_D', 'N_D', 'N_D']\n",
        "\n",
        "\n",
        "df_rd80_joss_2.columns = ['Ano', 'Mes', 'dia', 'H', 'M', 'S','Rain_Intensity_mm_h', 'radar_reflectivity_1_mm6m3','Liquid_watercontent_g_m3',\n",
        "'Mean_weight_diameter_mm', 'Time_integration_s', 'N_D', 'N_D', 'N_D', 'N_D', 'N_D', 'N_D', 'N_D', 'N_D', 'N_D', 'N_D', 'N_D', 'N_D', 'N_D', 'N_D', 'N_D', 'N_D', 'N_D', 'N_D', 'N_D', 'N_D']\n"
      ]
    },
    {
      "cell_type": "markdown",
      "metadata": {
        "id": "QLtnH_5ehkTb"
      },
      "source": [
        "Aqui adicionamos a coluna Datetime para cada um dos Dataframes, com os dados de data e hora. Primeiramente vamos converter o tipo dos dados de data e hora para (int), para que possamos manipulá-los na criação da coluna Datetime, e em seguida adicionaremos a coluna Datetime."
      ]
    },
    {
      "cell_type": "code",
      "execution_count": null,
      "metadata": {
        "id": "Fl8I9qeqhnRN"
      },
      "outputs": [],
      "source": [
        "#Modificanto o tipo de dado para (int)\n",
        "df_rd80_joss[['Ano', 'Mes', 'dia', 'H', 'M', 'S']] = df_rd80_joss[['Ano', 'Mes', 'dia', 'H', 'M', 'S']].astype(int)\n",
        "df_rd80_joss_2[['Ano', 'Mes', 'dia', 'H', 'M', 'S']] = df_rd80_joss_2[['Ano', 'Mes', 'dia', 'H', 'M', 'S']].astype(int)"
      ]
    },
    {
      "cell_type": "markdown",
      "metadata": {
        "id": "9fZWtcQMhrKz"
      },
      "source": [
        "Adicionando a coluna Datetime aos Dataframes."
      ]
    },
    {
      "cell_type": "code",
      "execution_count": null,
      "metadata": {
        "id": "RzZCno1vhuhb"
      },
      "outputs": [],
      "source": [
        "#Adiciona a coluna Datetime ao Dataframe com os dados do RD80 (Joss)\n",
        "df_rd80_joss['Datetime'] = df_rd80_joss[['Ano', 'Mes', 'dia', 'H', 'M', 'S']].apply(lambda row:\n",
        "                    datetime.datetime(year=row['Ano'], month=row['Mes'],day=row['dia'], hour=row['H'], minute=row[\"M\"], second=row[\"S\"]),axis=1)\n",
        "\n",
        "#Caso queiramos definir a coluna 'Datetime' como Índice\n",
        "#df_rd80_joss = df_rd80_joss.set_index('Datetime')\n",
        "\n",
        "#Adiciona a coluna Datetime ao Dataframe com os dados do RD80 (Joss)\n",
        "df_rd80_joss_2['Datetime'] = df_rd80_joss_2[['Ano', 'Mes', 'dia', 'H', 'M', 'S']].apply(lambda row:\n",
        "                    datetime.datetime(year=row['Ano'], month=row['Mes'],day=row['dia'], hour=row['H'], minute=row[\"M\"], second=row[\"S\"]),axis=1)\n",
        "\n",
        "#Caso queiramos definir a coluna 'Datetime' como Índice\n",
        "#df_rd80_joss = df_rd80_joss.set_index('Datetime')"
      ]
    },
    {
      "cell_type": "code",
      "source": [
        "df_rd80_joss.columns"
      ],
      "metadata": {
        "colab": {
          "base_uri": "https://localhost:8080/"
        },
        "id": "wfaF088RelMR",
        "outputId": "bf6d2396-6495-459f-d658-d2fd513f846e"
      },
      "execution_count": null,
      "outputs": [
        {
          "output_type": "execute_result",
          "data": {
            "text/plain": [
              "Index(['Ano', 'Mes', 'dia', 'H', 'M', 'S', 'Rain_Intensity_mm_h',\n",
              "       'radar_reflectivity_1_mm6m3', 'Liquid_watercontent_g_m3',\n",
              "       'Mean_weight_diameter_mm', 'Time_integration_s', 'N_D', 'N_D', 'N_D',\n",
              "       'N_D', 'N_D', 'N_D', 'N_D', 'N_D', 'N_D', 'N_D', 'N_D', 'N_D', 'N_D',\n",
              "       'N_D', 'N_D', 'N_D', 'N_D', 'N_D', 'N_D', 'N_D', 'Datetime'],\n",
              "      dtype='object')"
            ]
          },
          "metadata": {},
          "execution_count": 24
        }
      ]
    },
    {
      "cell_type": "code",
      "source": [
        "df_rd80_joss_2.columns"
      ],
      "metadata": {
        "colab": {
          "base_uri": "https://localhost:8080/"
        },
        "id": "UtjDNcD6efcx",
        "outputId": "b4e55714-6f91-4ed3-fe08-6971489d6a31"
      },
      "execution_count": null,
      "outputs": [
        {
          "output_type": "execute_result",
          "data": {
            "text/plain": [
              "Index(['Ano', 'Mes', 'dia', 'H', 'M', 'S', 'Rain_Intensity_mm_h',\n",
              "       'radar_reflectivity_1_mm6m3', 'Liquid_watercontent_g_m3',\n",
              "       'Mean_weight_diameter_mm', 'Time_integration_s', 'N_D', 'N_D', 'N_D',\n",
              "       'N_D', 'N_D', 'N_D', 'N_D', 'N_D', 'N_D', 'N_D', 'N_D', 'N_D', 'N_D',\n",
              "       'N_D', 'N_D', 'N_D', 'N_D', 'N_D', 'N_D', 'N_D', 'Datetime'],\n",
              "      dtype='object')"
            ]
          },
          "metadata": {},
          "execution_count": 23
        }
      ]
    },
    {
      "cell_type": "markdown",
      "metadata": {
        "id": "YO3H5KpukbBu"
      },
      "source": [
        "Após os ajustes anteriores, podemos finalizar esta etapa removendo as colunas nas quais não iremos utilizar a partir daqui."
      ]
    },
    {
      "cell_type": "code",
      "execution_count": null,
      "metadata": {
        "id": "OVXPzDLckjnu"
      },
      "outputs": [],
      "source": [
        "#Vamos remover as colunas que não iremos utilizar\n",
        "\n",
        "df_rd80_joss = df_rd80_joss.drop(columns=['Mes', 'dia', 'Ano', 'H', 'M', 'S','N_D', 'N_D', 'N_D', 'N_D', 'N_D', 'N_D', 'N_D',\n",
        "       'N_D', 'N_D', 'N_D', 'N_D', 'N_D', 'N_D', 'N_D', 'N_D', 'N_D', 'N_D',\n",
        "       'N_D', 'N_D', 'N_D'])\n",
        "\n",
        "df_rd80_joss_2 = df_rd80_joss_2.drop(columns=['Mes', 'dia', 'Ano', 'H', 'M', 'S','N_D', 'N_D', 'N_D', 'N_D', 'N_D', 'N_D', 'N_D',\n",
        "       'N_D', 'N_D', 'N_D', 'N_D', 'N_D', 'N_D', 'N_D', 'N_D', 'N_D', 'N_D',\n",
        "       'N_D', 'N_D', 'N_D'])\n"
      ]
    },
    {
      "cell_type": "markdown",
      "metadata": {
        "id": "-pkxjgCLlu_U"
      },
      "source": [
        "Agora vamos juntar os dados do mp3000A em um único Dataframe, utilizando a dunção **merge** do **pandas**."
      ]
    },
    {
      "cell_type": "code",
      "execution_count": null,
      "metadata": {
        "id": "ZrA61a52l6-E"
      },
      "outputs": [],
      "source": [
        "df_RD80_FINAL = pd.merge(df_rd80_joss,df_rd80_joss_2, how='outer', on = [ 'Datetime','Rain_Intensity_mm_h',\n",
        "       'radar_reflectivity_1_mm6m3', 'Liquid_watercontent_g_m3',\n",
        "       'Mean_weight_diameter_mm', 'Time_integration_s'])"
      ]
    },
    {
      "cell_type": "code",
      "source": [
        "df_RD80_FINAL.info()"
      ],
      "metadata": {
        "colab": {
          "base_uri": "https://localhost:8080/"
        },
        "id": "4WcvPwL3fMm7",
        "outputId": "f9c50535-7e85-4753-ea6a-a74cf76a6365"
      },
      "execution_count": null,
      "outputs": [
        {
          "output_type": "stream",
          "name": "stdout",
          "text": [
            "<class 'pandas.core.frame.DataFrame'>\n",
            "Int64Index: 346968 entries, 0 to 346967\n",
            "Data columns (total 6 columns):\n",
            " #   Column                      Non-Null Count   Dtype         \n",
            "---  ------                      --------------   -----         \n",
            " 0   Rain_Intensity_mm_h         346968 non-null  float64       \n",
            " 1   radar_reflectivity_1_mm6m3  346968 non-null  float64       \n",
            " 2   Liquid_watercontent_g_m3    346968 non-null  float64       \n",
            " 3   Mean_weight_diameter_mm     346968 non-null  float64       \n",
            " 4   Time_integration_s          346968 non-null  float64       \n",
            " 5   Datetime                    346968 non-null  datetime64[ns]\n",
            "dtypes: datetime64[ns](1), float64(5)\n",
            "memory usage: 18.5 MB\n"
          ]
        }
      ]
    },
    {
      "cell_type": "markdown",
      "source": [
        "Após juntar os Dataframes, vamos ver o novo tamanho do nosso dataset e quantidade de atributos."
      ],
      "metadata": {
        "id": "PMZj6E8FT2si"
      }
    },
    {
      "cell_type": "code",
      "source": [
        "#Tamanho do Dataset\n",
        "print('TAMANHO DO DATASET E QUANTIDADE DE ATRIBUTOS:\\n')\n",
        "\n",
        "print('Tamanho do dataset: ',df_RD80_FINAL.shape[0], ' - Quantidade de atributos: ', df_RD80_FINAL.shape[1])"
      ],
      "metadata": {
        "colab": {
          "base_uri": "https://localhost:8080/"
        },
        "id": "5hvZFPipPL_t",
        "outputId": "6ae0cfb8-fb7f-43ed-81d9-5bbfc1c88043"
      },
      "execution_count": null,
      "outputs": [
        {
          "output_type": "stream",
          "name": "stdout",
          "text": [
            "TAMANHO DO DATASET E QUANTIDADE DE ATRIBUTOS:\n",
            "\n",
            "Tamanho do dataset:  346968  - Quantidade de atributos:  6\n"
          ]
        }
      ]
    },
    {
      "cell_type": "markdown",
      "source": [
        "Iremos criar um baseline. Uma baseline é importante para ter marcos no projeto. A baseline que iremos criar é por **categoria**, ou seja, se a chuva foi fraca, moderada,forte, muito forte ou se não choveu, tomando como base os dados da medida da distribuição das gotas de chuva que chegam à superfície. tomando como referência o atributo **Rain_Intensity_mm_h** do **RD80**, as regras serão:\n",
        "\n",
        "* Chuva fraca: 0.1-2.5mm/h;\n",
        "* Chuva moderada: >2.5 - 10mm/h;\n",
        "* Chuva forte: >10 - 50mm/h;\n",
        "* Chuva muito forte: >50mm/h\n",
        "* Não choveu: 0mm/h"
      ],
      "metadata": {
        "id": "fJ4bTDXREhZu"
      }
    },
    {
      "cell_type": "markdown",
      "metadata": {
        "id": "jX5A-kkc1BI1"
      },
      "source": [
        "Mas antes disso, precisamos aplicar uma pequena normalização. Vamos olhar os dados da coluna Rain_Intensity_mm_h, do Dataframe **df_rd80_joss** e, onde o valor for menor que **0.1** nós iremos substituir por **0 (zero)**. Além disso, também será realizada uma busca por valores nulos (NaN) nos nossos dados e, a correção será também a troca por 0 (zero)."
      ]
    },
    {
      "cell_type": "code",
      "execution_count": null,
      "metadata": {
        "id": "3EGUGRFS1OJM",
        "colab": {
          "base_uri": "https://localhost:8080/"
        },
        "outputId": "20ec3322-400b-4ddf-fc26-2663434c2c73"
      },
      "outputs": [
        {
          "output_type": "stream",
          "name": "stderr",
          "text": [
            "/usr/local/lib/python3.7/dist-packages/ipykernel_launcher.py:1: SettingWithCopyWarning: \n",
            "A value is trying to be set on a copy of a slice from a DataFrame\n",
            "\n",
            "See the caveats in the documentation: https://pandas.pydata.org/pandas-docs/stable/user_guide/indexing.html#returning-a-view-versus-a-copy\n",
            "  \"\"\"Entry point for launching an IPython kernel.\n"
          ]
        }
      ],
      "source": [
        "df_RD80_FINAL['Rain_Intensity_mm_h'][df_RD80_FINAL['Rain_Intensity_mm_h'] < 0.1] = 0"
      ]
    },
    {
      "cell_type": "code",
      "source": [
        "#Verificando e contando os valores Nulos (NaN)\n",
        "df_RD80_FINAL.isna().sum()"
      ],
      "metadata": {
        "colab": {
          "base_uri": "https://localhost:8080/"
        },
        "id": "GDLFIdMUduad",
        "outputId": "b9b52d63-0c97-4fe8-b9d6-97c5e72f584c"
      },
      "execution_count": null,
      "outputs": [
        {
          "output_type": "execute_result",
          "data": {
            "text/plain": [
              "Rain_Intensity_mm_h           0\n",
              "radar_reflectivity_1_mm6m3    0\n",
              "Liquid_watercontent_g_m3      0\n",
              "Mean_weight_diameter_mm       0\n",
              "Time_integration_s            0\n",
              "Datetime                      0\n",
              "Light_Rain                    0\n",
              "Moderate_Rain                 0\n",
              "Heavy_Rain                    0\n",
              "Very_Heavy_Rain               0\n",
              "Without_Rain                  0\n",
              "Class_Rain_id                 0\n",
              "Class_Rain                    0\n",
              "Date                          0\n",
              "Year                          0\n",
              "Month                         0\n",
              "Day_of_week                   0\n",
              "dtype: int64"
            ]
          },
          "metadata": {},
          "execution_count": 46
        }
      ]
    },
    {
      "cell_type": "code",
      "source": [
        "#Verificando e contando os valores Nulos (NaN)\n",
        "df_RD80_FINAL.isna().sum()"
      ],
      "metadata": {
        "colab": {
          "base_uri": "https://localhost:8080/"
        },
        "id": "pV3pLIATnOF-",
        "outputId": "48c6bc7f-5065-400e-cc06-7daf6f2e3ddf"
      },
      "execution_count": null,
      "outputs": [
        {
          "output_type": "execute_result",
          "data": {
            "text/plain": [
              "Rain_Intensity_mm_h           0\n",
              "radar_reflectivity_1_mm6m3    0\n",
              "Liquid_watercontent_g_m3      0\n",
              "Mean_weight_diameter_mm       0\n",
              "Time_integration_s            0\n",
              "Datetime                      0\n",
              "Light_Rain                    0\n",
              "Moderate_Rain                 0\n",
              "Heavy_Rain                    0\n",
              "Very_Heavy_Rain               0\n",
              "Without_Rain                  0\n",
              "Class_Rain_id                 0\n",
              "Class_Rain                    0\n",
              "Date                          0\n",
              "Year                          0\n",
              "Month                         0\n",
              "Day_of_week                   0\n",
              "dtype: int64"
            ]
          },
          "metadata": {},
          "execution_count": 47
        }
      ]
    },
    {
      "cell_type": "code",
      "source": [
        "#Substituindo valores Nulos por 0 (zero)\n",
        "df_RD80_FINAL.fillna(value = 0,  inplace = True) "
      ],
      "metadata": {
        "id": "6bD5XyZKnLjG",
        "colab": {
          "base_uri": "https://localhost:8080/",
          "height": 329
        },
        "outputId": "e2a2c343-36b7-4a52-a475-3bbd92af8d37"
      },
      "execution_count": null,
      "outputs": [
        {
          "output_type": "error",
          "ename": "ValueError",
          "evalue": "ignored",
          "traceback": [
            "\u001b[0;31m---------------------------------------------------------------------------\u001b[0m",
            "\u001b[0;31mValueError\u001b[0m                                Traceback (most recent call last)",
            "\u001b[0;32m<ipython-input-48-a7082553fee4>\u001b[0m in \u001b[0;36m<module>\u001b[0;34m\u001b[0m\n\u001b[1;32m      1\u001b[0m \u001b[0;31m#Substituindo valores Nulos por 0 (zero)\u001b[0m\u001b[0;34m\u001b[0m\u001b[0;34m\u001b[0m\u001b[0;34m\u001b[0m\u001b[0m\n\u001b[0;32m----> 2\u001b[0;31m \u001b[0mdf_RD80_FINAL\u001b[0m\u001b[0;34m.\u001b[0m\u001b[0mfillna\u001b[0m\u001b[0;34m(\u001b[0m\u001b[0mvalue\u001b[0m \u001b[0;34m=\u001b[0m \u001b[0;36m0\u001b[0m\u001b[0;34m,\u001b[0m  \u001b[0minplace\u001b[0m \u001b[0;34m=\u001b[0m \u001b[0;32mTrue\u001b[0m\u001b[0;34m)\u001b[0m\u001b[0;34m\u001b[0m\u001b[0;34m\u001b[0m\u001b[0m\n\u001b[0m",
            "\u001b[0;32m/usr/local/lib/python3.7/dist-packages/pandas/util/_decorators.py\u001b[0m in \u001b[0;36mwrapper\u001b[0;34m(*args, **kwargs)\u001b[0m\n\u001b[1;32m    309\u001b[0m                     \u001b[0mstacklevel\u001b[0m\u001b[0;34m=\u001b[0m\u001b[0mstacklevel\u001b[0m\u001b[0;34m,\u001b[0m\u001b[0;34m\u001b[0m\u001b[0;34m\u001b[0m\u001b[0m\n\u001b[1;32m    310\u001b[0m                 )\n\u001b[0;32m--> 311\u001b[0;31m             \u001b[0;32mreturn\u001b[0m \u001b[0mfunc\u001b[0m\u001b[0;34m(\u001b[0m\u001b[0;34m*\u001b[0m\u001b[0margs\u001b[0m\u001b[0;34m,\u001b[0m \u001b[0;34m**\u001b[0m\u001b[0mkwargs\u001b[0m\u001b[0;34m)\u001b[0m\u001b[0;34m\u001b[0m\u001b[0;34m\u001b[0m\u001b[0m\n\u001b[0m\u001b[1;32m    312\u001b[0m \u001b[0;34m\u001b[0m\u001b[0m\n\u001b[1;32m    313\u001b[0m         \u001b[0;32mreturn\u001b[0m \u001b[0mwrapper\u001b[0m\u001b[0;34m\u001b[0m\u001b[0;34m\u001b[0m\u001b[0m\n",
            "\u001b[0;32m/usr/local/lib/python3.7/dist-packages/pandas/core/frame.py\u001b[0m in \u001b[0;36mfillna\u001b[0;34m(self, value, method, axis, inplace, limit, downcast)\u001b[0m\n\u001b[1;32m   5180\u001b[0m             \u001b[0minplace\u001b[0m\u001b[0;34m=\u001b[0m\u001b[0minplace\u001b[0m\u001b[0;34m,\u001b[0m\u001b[0;34m\u001b[0m\u001b[0;34m\u001b[0m\u001b[0m\n\u001b[1;32m   5181\u001b[0m             \u001b[0mlimit\u001b[0m\u001b[0;34m=\u001b[0m\u001b[0mlimit\u001b[0m\u001b[0;34m,\u001b[0m\u001b[0;34m\u001b[0m\u001b[0;34m\u001b[0m\u001b[0m\n\u001b[0;32m-> 5182\u001b[0;31m             \u001b[0mdowncast\u001b[0m\u001b[0;34m=\u001b[0m\u001b[0mdowncast\u001b[0m\u001b[0;34m,\u001b[0m\u001b[0;34m\u001b[0m\u001b[0;34m\u001b[0m\u001b[0m\n\u001b[0m\u001b[1;32m   5183\u001b[0m         )\n\u001b[1;32m   5184\u001b[0m \u001b[0;34m\u001b[0m\u001b[0m\n",
            "\u001b[0;32m/usr/local/lib/python3.7/dist-packages/pandas/core/generic.py\u001b[0m in \u001b[0;36mfillna\u001b[0;34m(self, value, method, axis, inplace, limit, downcast)\u001b[0m\n\u001b[1;32m   6381\u001b[0m             \u001b[0;32melif\u001b[0m \u001b[0;32mnot\u001b[0m \u001b[0mis_list_like\u001b[0m\u001b[0;34m(\u001b[0m\u001b[0mvalue\u001b[0m\u001b[0;34m)\u001b[0m\u001b[0;34m:\u001b[0m\u001b[0;34m\u001b[0m\u001b[0;34m\u001b[0m\u001b[0m\n\u001b[1;32m   6382\u001b[0m                 new_data = self._mgr.fillna(\n\u001b[0;32m-> 6383\u001b[0;31m                     \u001b[0mvalue\u001b[0m\u001b[0;34m=\u001b[0m\u001b[0mvalue\u001b[0m\u001b[0;34m,\u001b[0m \u001b[0mlimit\u001b[0m\u001b[0;34m=\u001b[0m\u001b[0mlimit\u001b[0m\u001b[0;34m,\u001b[0m \u001b[0minplace\u001b[0m\u001b[0;34m=\u001b[0m\u001b[0minplace\u001b[0m\u001b[0;34m,\u001b[0m \u001b[0mdowncast\u001b[0m\u001b[0;34m=\u001b[0m\u001b[0mdowncast\u001b[0m\u001b[0;34m\u001b[0m\u001b[0;34m\u001b[0m\u001b[0m\n\u001b[0m\u001b[1;32m   6384\u001b[0m                 )\n\u001b[1;32m   6385\u001b[0m             \u001b[0;32melif\u001b[0m \u001b[0misinstance\u001b[0m\u001b[0;34m(\u001b[0m\u001b[0mvalue\u001b[0m\u001b[0;34m,\u001b[0m \u001b[0mABCDataFrame\u001b[0m\u001b[0;34m)\u001b[0m \u001b[0;32mand\u001b[0m \u001b[0mself\u001b[0m\u001b[0;34m.\u001b[0m\u001b[0mndim\u001b[0m \u001b[0;34m==\u001b[0m \u001b[0;36m2\u001b[0m\u001b[0;34m:\u001b[0m\u001b[0;34m\u001b[0m\u001b[0;34m\u001b[0m\u001b[0m\n",
            "\u001b[0;32m/usr/local/lib/python3.7/dist-packages/pandas/core/internals/managers.py\u001b[0m in \u001b[0;36mfillna\u001b[0;34m(self, value, limit, inplace, downcast)\u001b[0m\n\u001b[1;32m    409\u001b[0m     \u001b[0;32mdef\u001b[0m \u001b[0mfillna\u001b[0m\u001b[0;34m(\u001b[0m\u001b[0mself\u001b[0m\u001b[0;34m:\u001b[0m \u001b[0mT\u001b[0m\u001b[0;34m,\u001b[0m \u001b[0mvalue\u001b[0m\u001b[0;34m,\u001b[0m \u001b[0mlimit\u001b[0m\u001b[0;34m,\u001b[0m \u001b[0minplace\u001b[0m\u001b[0;34m:\u001b[0m \u001b[0mbool\u001b[0m\u001b[0;34m,\u001b[0m \u001b[0mdowncast\u001b[0m\u001b[0;34m)\u001b[0m \u001b[0;34m->\u001b[0m \u001b[0mT\u001b[0m\u001b[0;34m:\u001b[0m\u001b[0;34m\u001b[0m\u001b[0;34m\u001b[0m\u001b[0m\n\u001b[1;32m    410\u001b[0m         return self.apply(\n\u001b[0;32m--> 411\u001b[0;31m             \u001b[0;34m\"fillna\"\u001b[0m\u001b[0;34m,\u001b[0m \u001b[0mvalue\u001b[0m\u001b[0;34m=\u001b[0m\u001b[0mvalue\u001b[0m\u001b[0;34m,\u001b[0m \u001b[0mlimit\u001b[0m\u001b[0;34m=\u001b[0m\u001b[0mlimit\u001b[0m\u001b[0;34m,\u001b[0m \u001b[0minplace\u001b[0m\u001b[0;34m=\u001b[0m\u001b[0minplace\u001b[0m\u001b[0;34m,\u001b[0m \u001b[0mdowncast\u001b[0m\u001b[0;34m=\u001b[0m\u001b[0mdowncast\u001b[0m\u001b[0;34m\u001b[0m\u001b[0;34m\u001b[0m\u001b[0m\n\u001b[0m\u001b[1;32m    412\u001b[0m         )\n\u001b[1;32m    413\u001b[0m \u001b[0;34m\u001b[0m\u001b[0m\n",
            "\u001b[0;32m/usr/local/lib/python3.7/dist-packages/pandas/core/internals/managers.py\u001b[0m in \u001b[0;36mapply\u001b[0;34m(self, f, align_keys, ignore_failures, **kwargs)\u001b[0m\n\u001b[1;32m    325\u001b[0m                     \u001b[0mapplied\u001b[0m \u001b[0;34m=\u001b[0m \u001b[0mb\u001b[0m\u001b[0;34m.\u001b[0m\u001b[0mapply\u001b[0m\u001b[0;34m(\u001b[0m\u001b[0mf\u001b[0m\u001b[0;34m,\u001b[0m \u001b[0;34m**\u001b[0m\u001b[0mkwargs\u001b[0m\u001b[0;34m)\u001b[0m\u001b[0;34m\u001b[0m\u001b[0;34m\u001b[0m\u001b[0m\n\u001b[1;32m    326\u001b[0m                 \u001b[0;32melse\u001b[0m\u001b[0;34m:\u001b[0m\u001b[0;34m\u001b[0m\u001b[0;34m\u001b[0m\u001b[0m\n\u001b[0;32m--> 327\u001b[0;31m                     \u001b[0mapplied\u001b[0m \u001b[0;34m=\u001b[0m \u001b[0mgetattr\u001b[0m\u001b[0;34m(\u001b[0m\u001b[0mb\u001b[0m\u001b[0;34m,\u001b[0m \u001b[0mf\u001b[0m\u001b[0;34m)\u001b[0m\u001b[0;34m(\u001b[0m\u001b[0;34m**\u001b[0m\u001b[0mkwargs\u001b[0m\u001b[0;34m)\u001b[0m\u001b[0;34m\u001b[0m\u001b[0;34m\u001b[0m\u001b[0m\n\u001b[0m\u001b[1;32m    328\u001b[0m             \u001b[0;32mexcept\u001b[0m \u001b[0;34m(\u001b[0m\u001b[0mTypeError\u001b[0m\u001b[0;34m,\u001b[0m \u001b[0mNotImplementedError\u001b[0m\u001b[0;34m)\u001b[0m\u001b[0;34m:\u001b[0m\u001b[0;34m\u001b[0m\u001b[0;34m\u001b[0m\u001b[0m\n\u001b[1;32m    329\u001b[0m                 \u001b[0;32mif\u001b[0m \u001b[0;32mnot\u001b[0m \u001b[0mignore_failures\u001b[0m\u001b[0;34m:\u001b[0m\u001b[0;34m\u001b[0m\u001b[0;34m\u001b[0m\u001b[0m\n",
            "\u001b[0;32m/usr/local/lib/python3.7/dist-packages/pandas/core/internals/blocks.py\u001b[0m in \u001b[0;36mfillna\u001b[0;34m(self, value, limit, inplace, downcast)\u001b[0m\n\u001b[1;32m   1570\u001b[0m         \u001b[0mself\u001b[0m\u001b[0;34m,\u001b[0m \u001b[0mvalue\u001b[0m\u001b[0;34m,\u001b[0m \u001b[0mlimit\u001b[0m\u001b[0;34m=\u001b[0m\u001b[0;32mNone\u001b[0m\u001b[0;34m,\u001b[0m \u001b[0minplace\u001b[0m\u001b[0;34m:\u001b[0m \u001b[0mbool\u001b[0m \u001b[0;34m=\u001b[0m \u001b[0;32mFalse\u001b[0m\u001b[0;34m,\u001b[0m \u001b[0mdowncast\u001b[0m\u001b[0;34m=\u001b[0m\u001b[0;32mNone\u001b[0m\u001b[0;34m\u001b[0m\u001b[0;34m\u001b[0m\u001b[0m\n\u001b[1;32m   1571\u001b[0m     ) -> list[Block]:\n\u001b[0;32m-> 1572\u001b[0;31m         \u001b[0mvalues\u001b[0m \u001b[0;34m=\u001b[0m \u001b[0mself\u001b[0m\u001b[0;34m.\u001b[0m\u001b[0mvalues\u001b[0m\u001b[0;34m.\u001b[0m\u001b[0mfillna\u001b[0m\u001b[0;34m(\u001b[0m\u001b[0mvalue\u001b[0m\u001b[0;34m=\u001b[0m\u001b[0mvalue\u001b[0m\u001b[0;34m,\u001b[0m \u001b[0mlimit\u001b[0m\u001b[0;34m=\u001b[0m\u001b[0mlimit\u001b[0m\u001b[0;34m)\u001b[0m\u001b[0;34m\u001b[0m\u001b[0;34m\u001b[0m\u001b[0m\n\u001b[0m\u001b[1;32m   1573\u001b[0m         \u001b[0;32mreturn\u001b[0m \u001b[0;34m[\u001b[0m\u001b[0mself\u001b[0m\u001b[0;34m.\u001b[0m\u001b[0mmake_block_same_class\u001b[0m\u001b[0;34m(\u001b[0m\u001b[0mvalues\u001b[0m\u001b[0;34m=\u001b[0m\u001b[0mvalues\u001b[0m\u001b[0;34m)\u001b[0m\u001b[0;34m]\u001b[0m\u001b[0;34m\u001b[0m\u001b[0;34m\u001b[0m\u001b[0m\n\u001b[1;32m   1574\u001b[0m \u001b[0;34m\u001b[0m\u001b[0m\n",
            "\u001b[0;32m/usr/local/lib/python3.7/dist-packages/pandas/core/arrays/_mixins.py\u001b[0m in \u001b[0;36mfillna\u001b[0;34m(self, value, method, limit)\u001b[0m\n\u001b[1;32m    244\u001b[0m             \u001b[0;31m# We validate the fill_value even if there is nothing to fill\u001b[0m\u001b[0;34m\u001b[0m\u001b[0;34m\u001b[0m\u001b[0;34m\u001b[0m\u001b[0m\n\u001b[1;32m    245\u001b[0m             \u001b[0;32mif\u001b[0m \u001b[0mvalue\u001b[0m \u001b[0;32mis\u001b[0m \u001b[0;32mnot\u001b[0m \u001b[0;32mNone\u001b[0m\u001b[0;34m:\u001b[0m\u001b[0;34m\u001b[0m\u001b[0;34m\u001b[0m\u001b[0m\n\u001b[0;32m--> 246\u001b[0;31m                 \u001b[0mself\u001b[0m\u001b[0;34m.\u001b[0m\u001b[0m_validate_setitem_value\u001b[0m\u001b[0;34m(\u001b[0m\u001b[0mvalue\u001b[0m\u001b[0;34m)\u001b[0m\u001b[0;34m\u001b[0m\u001b[0;34m\u001b[0m\u001b[0m\n\u001b[0m\u001b[1;32m    247\u001b[0m \u001b[0;34m\u001b[0m\u001b[0m\n\u001b[1;32m    248\u001b[0m             \u001b[0mnew_values\u001b[0m \u001b[0;34m=\u001b[0m \u001b[0mself\u001b[0m\u001b[0;34m.\u001b[0m\u001b[0mcopy\u001b[0m\u001b[0;34m(\u001b[0m\u001b[0;34m)\u001b[0m\u001b[0;34m\u001b[0m\u001b[0;34m\u001b[0m\u001b[0m\n",
            "\u001b[0;32m/usr/local/lib/python3.7/dist-packages/pandas/core/arrays/categorical.py\u001b[0m in \u001b[0;36m_validate_setitem_value\u001b[0;34m(self, value)\u001b[0m\n\u001b[1;32m   2043\u001b[0m         \u001b[0;32mif\u001b[0m \u001b[0mlen\u001b[0m\u001b[0;34m(\u001b[0m\u001b[0mto_add\u001b[0m\u001b[0;34m)\u001b[0m \u001b[0;32mand\u001b[0m \u001b[0;32mnot\u001b[0m \u001b[0misna\u001b[0m\u001b[0;34m(\u001b[0m\u001b[0mto_add\u001b[0m\u001b[0;34m)\u001b[0m\u001b[0;34m.\u001b[0m\u001b[0mall\u001b[0m\u001b[0;34m(\u001b[0m\u001b[0;34m)\u001b[0m\u001b[0;34m:\u001b[0m\u001b[0;34m\u001b[0m\u001b[0;34m\u001b[0m\u001b[0m\n\u001b[1;32m   2044\u001b[0m             raise ValueError(\n\u001b[0;32m-> 2045\u001b[0;31m                 \u001b[0;34m\"Cannot setitem on a Categorical with a new \"\u001b[0m\u001b[0;34m\u001b[0m\u001b[0;34m\u001b[0m\u001b[0m\n\u001b[0m\u001b[1;32m   2046\u001b[0m                 \u001b[0;34m\"category, set the categories first\"\u001b[0m\u001b[0;34m\u001b[0m\u001b[0;34m\u001b[0m\u001b[0m\n\u001b[1;32m   2047\u001b[0m             )\n",
            "\u001b[0;31mValueError\u001b[0m: Cannot setitem on a Categorical with a new category, set the categories first"
          ]
        }
      ]
    },
    {
      "cell_type": "markdown",
      "source": [
        "Vamos verificar se os ajustes nos valores NaN ocorreram corretamente."
      ],
      "metadata": {
        "id": "qxDrkycX64uv"
      }
    },
    {
      "cell_type": "code",
      "source": [
        "#Verificando valores Nulos (NaN)\n",
        "df_RD80_FINAL.isna().sum()"
      ],
      "metadata": {
        "id": "HmjKzQs763LL",
        "outputId": "305d905e-dee0-4f1b-8871-e3b881ca6026",
        "colab": {
          "base_uri": "https://localhost:8080/"
        }
      },
      "execution_count": null,
      "outputs": [
        {
          "output_type": "execute_result",
          "data": {
            "text/plain": [
              "Rain_Intensity_mm_h           0\n",
              "radar_reflectivity_1_mm6m3    0\n",
              "Liquid_watercontent_g_m3      0\n",
              "Mean_weight_diameter_mm       0\n",
              "Time_integration_s            0\n",
              "Datetime                      0\n",
              "dtype: int64"
            ]
          },
          "metadata": {},
          "execution_count": 37
        }
      ]
    },
    {
      "cell_type": "markdown",
      "metadata": {
        "id": "FJJLQbteAWMP"
      },
      "source": [
        "Agora sim iremos adicionar as colunas para classificação da intensidade de chuva (mm/h) ao Dataframe **df_rd80_joss**."
      ]
    },
    {
      "cell_type": "code",
      "execution_count": null,
      "metadata": {
        "id": "c-g5nOsxuebc"
      },
      "outputs": [],
      "source": [
        "#Add as colunas referente à intensidade da chuva. \n",
        "df_RD80_FINAL=df_RD80_FINAL.assign(Light_Rain=0, Moderate_Rain=0, Heavy_Rain=0, Very_Heavy_Rain=0, Without_Rain=0, Class_Rain_id=0,Class_Rain='Não choveu')\n",
        "convert_dict = {'Light_Rain': int,'Moderate_Rain': int,'Heavy_Rain': int,'Very_Heavy_Rain': int,\n",
        "                'Without_Rain': int,'Class_Rain_id': int, 'Class_Rain':str}  \n",
        "  \n",
        "df_RD80_FINAL = df_RD80_FINAL.astype(convert_dict)"
      ]
    },
    {
      "cell_type": "code",
      "execution_count": null,
      "metadata": {
        "id": "r8byl1Yjv8WM"
      },
      "outputs": [],
      "source": [
        "for index, row in df_RD80_FINAL.iterrows():\n",
        "\n",
        "    if (row['Rain_Intensity_mm_h'] >= 0.1) and (row['Rain_Intensity_mm_h'] <= 2.5):\n",
        "      df_RD80_FINAL.loc[index,'Light_Rain'] = 1\n",
        "      df_RD80_FINAL.loc[index,'Class_Rain'] = 'Chuva fraca'\n",
        "      df_RD80_FINAL.loc[index,'Class_Rain_id'] = 1\n",
        "    elif(row['Rain_Intensity_mm_h']  > 2.5) and (row['Rain_Intensity_mm_h']  <= 10):\n",
        "      df_RD80_FINAL.loc[index,'Moderate_Rain'] = 1\n",
        "      df_RD80_FINAL.loc[index,'Class_Rain'] = 'Chuva moderada'\n",
        "      df_RD80_FINAL.loc[index,'Class_Rain_id'] = 2\n",
        "    elif (row['Rain_Intensity_mm_h']  > 10) and (row['Rain_Intensity_mm_h']  <= 50):\n",
        "      df_RD80_FINAL.loc[index,'Heavy_Rain'] = 1\n",
        "      df_RD80_FINAL.loc[index,'Class_Rain'] = 'Chuva forte'\n",
        "      df_RD80_FINAL.loc[index,'Class_Rain_id'] = 3\n",
        "    elif (row['Rain_Intensity_mm_h']  > 50):\n",
        "      df_RD80_FINAL.loc[index,'Very_Heavy_Rain'] = 1\n",
        "      df_RD80_FINAL.loc[index,'Class_Rain'] = 'Chuva muito forte'\n",
        "      df_RD80_FINAL.loc[index,'Class_Rain_id'] = 4\n",
        "    else:\n",
        "      df_RD80_FINAL.loc[index,'Without_Rain'] = 1\n",
        "      df_RD80_FINAL.loc[index,'Class_Rain'] = 'Não choveu'\n",
        "      df_RD80_FINAL.loc[index,'Class_Rain_id'] = 0"
      ]
    },
    {
      "cell_type": "markdown",
      "metadata": {
        "id": "Pz97EICa7w0-"
      },
      "source": [
        "Vamos ajustar os dados referente ao Datetime, adicionando novas colunas, para que possamos manipular durante os filtros na EDA."
      ]
    },
    {
      "cell_type": "code",
      "execution_count": null,
      "metadata": {
        "id": "ikfs1peW7zK2"
      },
      "outputs": [],
      "source": [
        "\n",
        "#Vamos converter o \"Datetime\" em um objeto datetime para que seja mais fácil realizar outras manipulações\n",
        "df_RD80_FINAL['Datetime'] = df_RD80_FINAL.Datetime.astype('datetime64')\n",
        "\n",
        "# Criar uma coluna data\n",
        "df_RD80_FINAL['Date'] = df_RD80_FINAL['Datetime'].dt.date\n",
        "\n",
        "# Criar uma coluna ano\n",
        "df_RD80_FINAL['Year'] = df_RD80_FINAL['Datetime'].dt.year\n",
        "\n",
        "# Criar uma coluna mês\n",
        "df_RD80_FINAL['Month'] = df_RD80_FINAL['Datetime'].dt.month\n",
        "df_RD80_FINAL['Month'] = df_RD80_FINAL['Month'].apply(lambda x: calendar.month_abbr[x])"
      ]
    },
    {
      "cell_type": "code",
      "execution_count": null,
      "metadata": {
        "id": "NuM82GUf8Js-"
      },
      "outputs": [],
      "source": [
        "# Ordenando a coluna do mês do ano\n",
        "df_RD80_FINAL['Month'] = pd.Categorical(df_RD80_FINAL['Month'], \n",
        "                                  categories= ['Jan','Feb','Mar','Apr','May','Jun', 'Jul',\n",
        "                                              'Aug','Sep','Oct','Nov','Dec'],\n",
        "                                                ordered = True)"
      ]
    },
    {
      "cell_type": "code",
      "execution_count": null,
      "metadata": {
        "id": "83T1Fccy8QFe"
      },
      "outputs": [],
      "source": [
        "\n",
        "# Criando uma coluna de dia da semana\n",
        "\n",
        "df_RD80_FINAL['Day_of_week'] = [d.day_name() for d in df_RD80_FINAL['Datetime']]"
      ]
    },
    {
      "cell_type": "code",
      "execution_count": null,
      "metadata": {
        "id": "YGTkKQ4M8aLN"
      },
      "outputs": [],
      "source": [
        "# Ordenando a coluna do dia da semana\n",
        "df_RD80_FINAL['Day_of_week'] = pd.Categorical(df_RD80_FINAL['Day_of_week'], \n",
        "                                  categories= ['Monday','Tuesday','Wednesday','Thursday','Friday','Saturday', 'Sunday'],\n",
        "                                                ordered = True)"
      ]
    },
    {
      "cell_type": "code",
      "execution_count": null,
      "metadata": {
        "id": "mQhC6yFy8eze"
      },
      "outputs": [],
      "source": [
        "# Criando a coluna hora do dia\n",
        "df_RD80_FINAL['Time'] = [d.time() for d in df_RD80_FINAL['Datetime']]"
      ]
    },
    {
      "cell_type": "code",
      "execution_count": null,
      "metadata": {
        "id": "aC-hz03k8j19"
      },
      "outputs": [],
      "source": [
        "# Dividindo a coluna hora do dia em diferentes sessões em um dia\n",
        "\n",
        "df_RD80_FINAL=df_RD80_FINAL.assign(session=pd.cut(df_RD80_FINAL.Datetime.dt.hour,\n",
        "                              [0,6,12,18,23],\n",
        "                              labels=['Night','Morning','Afternoon','Evening'],\n",
        "                              include_lowest=True))"
      ]
    },
    {
      "cell_type": "markdown",
      "source": [
        "Vamos reordenar as colunas dos Dataframes"
      ],
      "metadata": {
        "id": "aiOpWB9qYBCQ"
      }
    },
    {
      "cell_type": "code",
      "source": [
        "df_RD80_FINAL.columns"
      ],
      "metadata": {
        "colab": {
          "base_uri": "https://localhost:8080/"
        },
        "id": "h7Ku21Lrl_IQ",
        "outputId": "58067bc9-2b1e-4136-8591-9915c3569f7e"
      },
      "execution_count": null,
      "outputs": [
        {
          "output_type": "execute_result",
          "data": {
            "text/plain": [
              "Index(['Rain_Intensity_mm_h', 'radar_reflectivity_1_mm6m3',\n",
              "       'Liquid_watercontent_g_m3', 'Mean_weight_diameter_mm',\n",
              "       'Time_integration_s', 'Datetime', 'Light_Rain', 'Moderate_Rain',\n",
              "       'Heavy_Rain', 'Very_Heavy_Rain', 'Without_Rain', 'Class_Rain_id',\n",
              "       'Class_Rain', 'Date', 'Year', 'Month', 'Day_of_week', 'Time',\n",
              "       'session'],\n",
              "      dtype='object')"
            ]
          },
          "metadata": {},
          "execution_count": 57
        }
      ]
    },
    {
      "cell_type": "code",
      "source": [
        "df_RD80_FINAL = df_RD80_FINAL.reindex(columns=['Datetime', 'Date', 'Year', 'Month', 'Day_of_week', 'Time','Rain_Intensity_mm_h', 'radar_reflectivity_1_mm6m3',\n",
        "       'Liquid_watercontent_g_m3', 'Mean_weight_diameter_mm',\n",
        "       'Time_integration_s', 'Light_Rain', 'Moderate_Rain',\n",
        "       'Heavy_Rain', 'Very_Heavy_Rain', 'Without_Rain', 'Class_Rain_id',\n",
        "       'Class_Rain'])"
      ],
      "metadata": {
        "id": "ky_YlHa6X6yM"
      },
      "execution_count": null,
      "outputs": []
    },
    {
      "cell_type": "markdown",
      "source": [
        "Vamos visualizar novamente as colunas dos Dataframes para verificar se elas forma reordenadas corretamente."
      ],
      "metadata": {
        "id": "ZMk3v_IKxq6G"
      }
    },
    {
      "cell_type": "code",
      "source": [
        "df_RD80_FINAL.columns"
      ],
      "metadata": {
        "colab": {
          "base_uri": "https://localhost:8080/"
        },
        "id": "3TD8eGQoxnT3",
        "outputId": "24be53b5-c5e5-4e73-d3f3-3e2a7a6bfd9f"
      },
      "execution_count": null,
      "outputs": [
        {
          "output_type": "execute_result",
          "data": {
            "text/plain": [
              "Index(['Datetime', 'Date', 'Year', 'Month', 'Day_of_week', 'Time',\n",
              "       'Rain_Intensity_mm_h', 'radar_reflectivity_1_mm6m3',\n",
              "       'Liquid_watercontent_g_m3', 'Mean_weight_diameter_mm',\n",
              "       'Time_integration_s', 'Light_Rain', 'Moderate_Rain', 'Heavy_Rain',\n",
              "       'Very_Heavy_Rain', 'Without_Rain', 'Class_Rain_id', 'Class_Rain'],\n",
              "      dtype='object')"
            ]
          },
          "metadata": {},
          "execution_count": 61
        }
      ]
    },
    {
      "cell_type": "markdown",
      "source": [
        "Agora vamos garantir de que os nossos dataframes estarão corretamente classificados eem ordem crescente. Vamos usar a função \"**sort_values()**\" do **Pandas**, tomando como referência a coluna \"**Datetime**\"."
      ],
      "metadata": {
        "id": "tWyUoyFXyYe7"
      }
    },
    {
      "cell_type": "code",
      "source": [
        "df_RD80_FINAL = df_RD80_FINAL.sort_values(by=['Datetime'])"
      ],
      "metadata": {
        "id": "0y9deOWbdSqc"
      },
      "execution_count": null,
      "outputs": []
    },
    {
      "cell_type": "markdown",
      "source": [
        "**Visualização final dos dados**"
      ],
      "metadata": {
        "id": "Lq_0eo2r0OgW"
      }
    },
    {
      "cell_type": "code",
      "source": [
        "#Vamos visualizar as primeiras 2 e últimas 2 linhas dos dados\n",
        "df_RD80_FINAL.loc[df_RD80_FINAL['Month'] == 'Jul'].head(n=20).append(df_RD80_FINAL.loc[df_RD80_FINAL['Rain_Intensity_mm_h'] > 0].tail(n=2))"
      ],
      "metadata": {
        "colab": {
          "base_uri": "https://localhost:8080/",
          "height": 1000
        },
        "id": "6L8bFs1obobl",
        "outputId": "5c2cc228-49fe-461f-8b2c-cb67bbdd7125"
      },
      "execution_count": null,
      "outputs": [
        {
          "output_type": "execute_result",
          "data": {
            "text/plain": [
              "                  Datetime        Date  Year Month Day_of_week      Time  \\\n",
              "1635   2020-07-28 13:23:00  2020-07-28  2020   Jul     Tuesday  13:23:00   \n",
              "1636   2020-07-28 13:24:00  2020-07-28  2020   Jul     Tuesday  13:24:00   \n",
              "1637   2020-07-28 13:25:00  2020-07-28  2020   Jul     Tuesday  13:25:00   \n",
              "1638   2020-07-28 13:26:00  2020-07-28  2020   Jul     Tuesday  13:26:00   \n",
              "1639   2020-07-28 13:27:00  2020-07-28  2020   Jul     Tuesday  13:27:00   \n",
              "1640   2020-07-28 13:28:00  2020-07-28  2020   Jul     Tuesday  13:28:00   \n",
              "1641   2020-07-28 13:29:00  2020-07-28  2020   Jul     Tuesday  13:29:00   \n",
              "1642   2020-07-28 13:30:00  2020-07-28  2020   Jul     Tuesday  13:30:00   \n",
              "1643   2020-07-28 13:31:00  2020-07-28  2020   Jul     Tuesday  13:31:00   \n",
              "1644   2020-07-28 13:32:00  2020-07-28  2020   Jul     Tuesday  13:32:00   \n",
              "1645   2020-07-28 13:33:00  2020-07-28  2020   Jul     Tuesday  13:33:00   \n",
              "1646   2020-07-28 13:34:00  2020-07-28  2020   Jul     Tuesday  13:34:00   \n",
              "1647   2020-07-28 13:35:00  2020-07-28  2020   Jul     Tuesday  13:35:00   \n",
              "1648   2020-07-28 13:36:00  2020-07-28  2020   Jul     Tuesday  13:36:00   \n",
              "1649   2020-07-28 13:37:00  2020-07-28  2020   Jul     Tuesday  13:37:00   \n",
              "1650   2020-07-28 13:38:00  2020-07-28  2020   Jul     Tuesday  13:38:00   \n",
              "1651   2020-07-28 13:39:00  2020-07-28  2020   Jul     Tuesday  13:39:00   \n",
              "1652   2020-07-28 13:40:00  2020-07-28  2020   Jul     Tuesday  13:40:00   \n",
              "1653   2020-07-28 13:41:00  2020-07-28  2020   Jul     Tuesday  13:41:00   \n",
              "1654   2020-07-28 13:42:00  2020-07-28  2020   Jul     Tuesday  13:42:00   \n",
              "343975 2022-08-28 20:32:00  2022-08-28  2022   Aug      Sunday  20:32:00   \n",
              "343977 2022-08-28 20:34:00  2022-08-28  2022   Aug      Sunday  20:34:00   \n",
              "\n",
              "        Rain_Intensity_mm_h  radar_reflectivity_1_mm6m3  \\\n",
              "1635                0.00000                     0.00000   \n",
              "1636                0.00000                     0.00000   \n",
              "1637                0.00000                     0.00000   \n",
              "1638                0.00000                     0.00000   \n",
              "1639                0.00000                     0.00000   \n",
              "1640                0.00000                     0.00000   \n",
              "1641                0.00000                     0.00000   \n",
              "1642                0.00000                     0.00000   \n",
              "1643                0.00000                     0.00000   \n",
              "1644                0.00000                     0.00000   \n",
              "1645                0.00000                     0.00000   \n",
              "1646                0.00000                     0.00000   \n",
              "1647                0.00000                     0.00000   \n",
              "1648                0.00000                     0.00000   \n",
              "1649                0.00000                     0.00000   \n",
              "1650                0.00000                     0.00000   \n",
              "1651                0.00000                     0.00000   \n",
              "1652                0.00000                     0.00000   \n",
              "1653                0.00000                     0.00000   \n",
              "1654                0.00000                     0.00000   \n",
              "343975              0.12736                    24.43753   \n",
              "343977              0.14538                    35.30966   \n",
              "\n",
              "        Liquid_watercontent_g_m3  Mean_weight_diameter_mm  Time_integration_s  \\\n",
              "1635                     0.00000                  0.00000                60.0   \n",
              "1636                     0.00000                  0.00000                60.0   \n",
              "1637                     0.00000                  0.00000                60.0   \n",
              "1638                     0.00000                  0.00000                60.0   \n",
              "1639                     0.00000                  0.00000                60.0   \n",
              "1640                     0.00000                  0.00000                60.0   \n",
              "1641                     0.00000                  0.00000                60.0   \n",
              "1642                     0.00000                  0.00000                60.0   \n",
              "1643                     0.00000                  0.00000                60.0   \n",
              "1644                     0.00000                  0.00000                60.0   \n",
              "1645                     0.00000                  0.00000                60.0   \n",
              "1646                     0.00000                  0.00000                60.0   \n",
              "1647                     0.00000                  0.00000                60.0   \n",
              "1648                     0.00000                  0.00000                60.0   \n",
              "1649                     0.00000                  0.00000                60.0   \n",
              "1650                     0.00000                  0.00000                60.0   \n",
              "1651                     0.00000                  0.00000                60.0   \n",
              "1652                     0.00000                  0.00000                60.0   \n",
              "1653                     0.00000                  0.00000                60.0   \n",
              "1654                     0.00000                  0.00000                60.0   \n",
              "343975                   0.00836                  1.09353                60.0   \n",
              "343977                   0.00945                  1.13412                60.0   \n",
              "\n",
              "        Light_Rain  Moderate_Rain  Heavy_Rain  Very_Heavy_Rain  Without_Rain  \\\n",
              "1635             0              0           0                0             1   \n",
              "1636             0              0           0                0             1   \n",
              "1637             0              0           0                0             1   \n",
              "1638             0              0           0                0             1   \n",
              "1639             0              0           0                0             1   \n",
              "1640             0              0           0                0             1   \n",
              "1641             0              0           0                0             1   \n",
              "1642             0              0           0                0             1   \n",
              "1643             0              0           0                0             1   \n",
              "1644             0              0           0                0             1   \n",
              "1645             0              0           0                0             1   \n",
              "1646             0              0           0                0             1   \n",
              "1647             0              0           0                0             1   \n",
              "1648             0              0           0                0             1   \n",
              "1649             0              0           0                0             1   \n",
              "1650             0              0           0                0             1   \n",
              "1651             0              0           0                0             1   \n",
              "1652             0              0           0                0             1   \n",
              "1653             0              0           0                0             1   \n",
              "1654             0              0           0                0             1   \n",
              "343975           1              0           0                0             0   \n",
              "343977           1              0           0                0             0   \n",
              "\n",
              "        Class_Rain_id   Class_Rain  \n",
              "1635                0   Não choveu  \n",
              "1636                0   Não choveu  \n",
              "1637                0   Não choveu  \n",
              "1638                0   Não choveu  \n",
              "1639                0   Não choveu  \n",
              "1640                0   Não choveu  \n",
              "1641                0   Não choveu  \n",
              "1642                0   Não choveu  \n",
              "1643                0   Não choveu  \n",
              "1644                0   Não choveu  \n",
              "1645                0   Não choveu  \n",
              "1646                0   Não choveu  \n",
              "1647                0   Não choveu  \n",
              "1648                0   Não choveu  \n",
              "1649                0   Não choveu  \n",
              "1650                0   Não choveu  \n",
              "1651                0   Não choveu  \n",
              "1652                0   Não choveu  \n",
              "1653                0   Não choveu  \n",
              "1654                0   Não choveu  \n",
              "343975              1  Chuva fraca  \n",
              "343977              1  Chuva fraca  "
            ],
            "text/html": [
              "\n",
              "  <div id=\"df-1786c831-9665-405f-95a4-f77f5514c284\">\n",
              "    <div class=\"colab-df-container\">\n",
              "      <div>\n",
              "<style scoped>\n",
              "    .dataframe tbody tr th:only-of-type {\n",
              "        vertical-align: middle;\n",
              "    }\n",
              "\n",
              "    .dataframe tbody tr th {\n",
              "        vertical-align: top;\n",
              "    }\n",
              "\n",
              "    .dataframe thead th {\n",
              "        text-align: right;\n",
              "    }\n",
              "</style>\n",
              "<table border=\"1\" class=\"dataframe\">\n",
              "  <thead>\n",
              "    <tr style=\"text-align: right;\">\n",
              "      <th></th>\n",
              "      <th>Datetime</th>\n",
              "      <th>Date</th>\n",
              "      <th>Year</th>\n",
              "      <th>Month</th>\n",
              "      <th>Day_of_week</th>\n",
              "      <th>Time</th>\n",
              "      <th>Rain_Intensity_mm_h</th>\n",
              "      <th>radar_reflectivity_1_mm6m3</th>\n",
              "      <th>Liquid_watercontent_g_m3</th>\n",
              "      <th>Mean_weight_diameter_mm</th>\n",
              "      <th>Time_integration_s</th>\n",
              "      <th>Light_Rain</th>\n",
              "      <th>Moderate_Rain</th>\n",
              "      <th>Heavy_Rain</th>\n",
              "      <th>Very_Heavy_Rain</th>\n",
              "      <th>Without_Rain</th>\n",
              "      <th>Class_Rain_id</th>\n",
              "      <th>Class_Rain</th>\n",
              "    </tr>\n",
              "  </thead>\n",
              "  <tbody>\n",
              "    <tr>\n",
              "      <th>1635</th>\n",
              "      <td>2020-07-28 13:23:00</td>\n",
              "      <td>2020-07-28</td>\n",
              "      <td>2020</td>\n",
              "      <td>Jul</td>\n",
              "      <td>Tuesday</td>\n",
              "      <td>13:23:00</td>\n",
              "      <td>0.00000</td>\n",
              "      <td>0.00000</td>\n",
              "      <td>0.00000</td>\n",
              "      <td>0.00000</td>\n",
              "      <td>60.0</td>\n",
              "      <td>0</td>\n",
              "      <td>0</td>\n",
              "      <td>0</td>\n",
              "      <td>0</td>\n",
              "      <td>1</td>\n",
              "      <td>0</td>\n",
              "      <td>Não choveu</td>\n",
              "    </tr>\n",
              "    <tr>\n",
              "      <th>1636</th>\n",
              "      <td>2020-07-28 13:24:00</td>\n",
              "      <td>2020-07-28</td>\n",
              "      <td>2020</td>\n",
              "      <td>Jul</td>\n",
              "      <td>Tuesday</td>\n",
              "      <td>13:24:00</td>\n",
              "      <td>0.00000</td>\n",
              "      <td>0.00000</td>\n",
              "      <td>0.00000</td>\n",
              "      <td>0.00000</td>\n",
              "      <td>60.0</td>\n",
              "      <td>0</td>\n",
              "      <td>0</td>\n",
              "      <td>0</td>\n",
              "      <td>0</td>\n",
              "      <td>1</td>\n",
              "      <td>0</td>\n",
              "      <td>Não choveu</td>\n",
              "    </tr>\n",
              "    <tr>\n",
              "      <th>1637</th>\n",
              "      <td>2020-07-28 13:25:00</td>\n",
              "      <td>2020-07-28</td>\n",
              "      <td>2020</td>\n",
              "      <td>Jul</td>\n",
              "      <td>Tuesday</td>\n",
              "      <td>13:25:00</td>\n",
              "      <td>0.00000</td>\n",
              "      <td>0.00000</td>\n",
              "      <td>0.00000</td>\n",
              "      <td>0.00000</td>\n",
              "      <td>60.0</td>\n",
              "      <td>0</td>\n",
              "      <td>0</td>\n",
              "      <td>0</td>\n",
              "      <td>0</td>\n",
              "      <td>1</td>\n",
              "      <td>0</td>\n",
              "      <td>Não choveu</td>\n",
              "    </tr>\n",
              "    <tr>\n",
              "      <th>1638</th>\n",
              "      <td>2020-07-28 13:26:00</td>\n",
              "      <td>2020-07-28</td>\n",
              "      <td>2020</td>\n",
              "      <td>Jul</td>\n",
              "      <td>Tuesday</td>\n",
              "      <td>13:26:00</td>\n",
              "      <td>0.00000</td>\n",
              "      <td>0.00000</td>\n",
              "      <td>0.00000</td>\n",
              "      <td>0.00000</td>\n",
              "      <td>60.0</td>\n",
              "      <td>0</td>\n",
              "      <td>0</td>\n",
              "      <td>0</td>\n",
              "      <td>0</td>\n",
              "      <td>1</td>\n",
              "      <td>0</td>\n",
              "      <td>Não choveu</td>\n",
              "    </tr>\n",
              "    <tr>\n",
              "      <th>1639</th>\n",
              "      <td>2020-07-28 13:27:00</td>\n",
              "      <td>2020-07-28</td>\n",
              "      <td>2020</td>\n",
              "      <td>Jul</td>\n",
              "      <td>Tuesday</td>\n",
              "      <td>13:27:00</td>\n",
              "      <td>0.00000</td>\n",
              "      <td>0.00000</td>\n",
              "      <td>0.00000</td>\n",
              "      <td>0.00000</td>\n",
              "      <td>60.0</td>\n",
              "      <td>0</td>\n",
              "      <td>0</td>\n",
              "      <td>0</td>\n",
              "      <td>0</td>\n",
              "      <td>1</td>\n",
              "      <td>0</td>\n",
              "      <td>Não choveu</td>\n",
              "    </tr>\n",
              "    <tr>\n",
              "      <th>1640</th>\n",
              "      <td>2020-07-28 13:28:00</td>\n",
              "      <td>2020-07-28</td>\n",
              "      <td>2020</td>\n",
              "      <td>Jul</td>\n",
              "      <td>Tuesday</td>\n",
              "      <td>13:28:00</td>\n",
              "      <td>0.00000</td>\n",
              "      <td>0.00000</td>\n",
              "      <td>0.00000</td>\n",
              "      <td>0.00000</td>\n",
              "      <td>60.0</td>\n",
              "      <td>0</td>\n",
              "      <td>0</td>\n",
              "      <td>0</td>\n",
              "      <td>0</td>\n",
              "      <td>1</td>\n",
              "      <td>0</td>\n",
              "      <td>Não choveu</td>\n",
              "    </tr>\n",
              "    <tr>\n",
              "      <th>1641</th>\n",
              "      <td>2020-07-28 13:29:00</td>\n",
              "      <td>2020-07-28</td>\n",
              "      <td>2020</td>\n",
              "      <td>Jul</td>\n",
              "      <td>Tuesday</td>\n",
              "      <td>13:29:00</td>\n",
              "      <td>0.00000</td>\n",
              "      <td>0.00000</td>\n",
              "      <td>0.00000</td>\n",
              "      <td>0.00000</td>\n",
              "      <td>60.0</td>\n",
              "      <td>0</td>\n",
              "      <td>0</td>\n",
              "      <td>0</td>\n",
              "      <td>0</td>\n",
              "      <td>1</td>\n",
              "      <td>0</td>\n",
              "      <td>Não choveu</td>\n",
              "    </tr>\n",
              "    <tr>\n",
              "      <th>1642</th>\n",
              "      <td>2020-07-28 13:30:00</td>\n",
              "      <td>2020-07-28</td>\n",
              "      <td>2020</td>\n",
              "      <td>Jul</td>\n",
              "      <td>Tuesday</td>\n",
              "      <td>13:30:00</td>\n",
              "      <td>0.00000</td>\n",
              "      <td>0.00000</td>\n",
              "      <td>0.00000</td>\n",
              "      <td>0.00000</td>\n",
              "      <td>60.0</td>\n",
              "      <td>0</td>\n",
              "      <td>0</td>\n",
              "      <td>0</td>\n",
              "      <td>0</td>\n",
              "      <td>1</td>\n",
              "      <td>0</td>\n",
              "      <td>Não choveu</td>\n",
              "    </tr>\n",
              "    <tr>\n",
              "      <th>1643</th>\n",
              "      <td>2020-07-28 13:31:00</td>\n",
              "      <td>2020-07-28</td>\n",
              "      <td>2020</td>\n",
              "      <td>Jul</td>\n",
              "      <td>Tuesday</td>\n",
              "      <td>13:31:00</td>\n",
              "      <td>0.00000</td>\n",
              "      <td>0.00000</td>\n",
              "      <td>0.00000</td>\n",
              "      <td>0.00000</td>\n",
              "      <td>60.0</td>\n",
              "      <td>0</td>\n",
              "      <td>0</td>\n",
              "      <td>0</td>\n",
              "      <td>0</td>\n",
              "      <td>1</td>\n",
              "      <td>0</td>\n",
              "      <td>Não choveu</td>\n",
              "    </tr>\n",
              "    <tr>\n",
              "      <th>1644</th>\n",
              "      <td>2020-07-28 13:32:00</td>\n",
              "      <td>2020-07-28</td>\n",
              "      <td>2020</td>\n",
              "      <td>Jul</td>\n",
              "      <td>Tuesday</td>\n",
              "      <td>13:32:00</td>\n",
              "      <td>0.00000</td>\n",
              "      <td>0.00000</td>\n",
              "      <td>0.00000</td>\n",
              "      <td>0.00000</td>\n",
              "      <td>60.0</td>\n",
              "      <td>0</td>\n",
              "      <td>0</td>\n",
              "      <td>0</td>\n",
              "      <td>0</td>\n",
              "      <td>1</td>\n",
              "      <td>0</td>\n",
              "      <td>Não choveu</td>\n",
              "    </tr>\n",
              "    <tr>\n",
              "      <th>1645</th>\n",
              "      <td>2020-07-28 13:33:00</td>\n",
              "      <td>2020-07-28</td>\n",
              "      <td>2020</td>\n",
              "      <td>Jul</td>\n",
              "      <td>Tuesday</td>\n",
              "      <td>13:33:00</td>\n",
              "      <td>0.00000</td>\n",
              "      <td>0.00000</td>\n",
              "      <td>0.00000</td>\n",
              "      <td>0.00000</td>\n",
              "      <td>60.0</td>\n",
              "      <td>0</td>\n",
              "      <td>0</td>\n",
              "      <td>0</td>\n",
              "      <td>0</td>\n",
              "      <td>1</td>\n",
              "      <td>0</td>\n",
              "      <td>Não choveu</td>\n",
              "    </tr>\n",
              "    <tr>\n",
              "      <th>1646</th>\n",
              "      <td>2020-07-28 13:34:00</td>\n",
              "      <td>2020-07-28</td>\n",
              "      <td>2020</td>\n",
              "      <td>Jul</td>\n",
              "      <td>Tuesday</td>\n",
              "      <td>13:34:00</td>\n",
              "      <td>0.00000</td>\n",
              "      <td>0.00000</td>\n",
              "      <td>0.00000</td>\n",
              "      <td>0.00000</td>\n",
              "      <td>60.0</td>\n",
              "      <td>0</td>\n",
              "      <td>0</td>\n",
              "      <td>0</td>\n",
              "      <td>0</td>\n",
              "      <td>1</td>\n",
              "      <td>0</td>\n",
              "      <td>Não choveu</td>\n",
              "    </tr>\n",
              "    <tr>\n",
              "      <th>1647</th>\n",
              "      <td>2020-07-28 13:35:00</td>\n",
              "      <td>2020-07-28</td>\n",
              "      <td>2020</td>\n",
              "      <td>Jul</td>\n",
              "      <td>Tuesday</td>\n",
              "      <td>13:35:00</td>\n",
              "      <td>0.00000</td>\n",
              "      <td>0.00000</td>\n",
              "      <td>0.00000</td>\n",
              "      <td>0.00000</td>\n",
              "      <td>60.0</td>\n",
              "      <td>0</td>\n",
              "      <td>0</td>\n",
              "      <td>0</td>\n",
              "      <td>0</td>\n",
              "      <td>1</td>\n",
              "      <td>0</td>\n",
              "      <td>Não choveu</td>\n",
              "    </tr>\n",
              "    <tr>\n",
              "      <th>1648</th>\n",
              "      <td>2020-07-28 13:36:00</td>\n",
              "      <td>2020-07-28</td>\n",
              "      <td>2020</td>\n",
              "      <td>Jul</td>\n",
              "      <td>Tuesday</td>\n",
              "      <td>13:36:00</td>\n",
              "      <td>0.00000</td>\n",
              "      <td>0.00000</td>\n",
              "      <td>0.00000</td>\n",
              "      <td>0.00000</td>\n",
              "      <td>60.0</td>\n",
              "      <td>0</td>\n",
              "      <td>0</td>\n",
              "      <td>0</td>\n",
              "      <td>0</td>\n",
              "      <td>1</td>\n",
              "      <td>0</td>\n",
              "      <td>Não choveu</td>\n",
              "    </tr>\n",
              "    <tr>\n",
              "      <th>1649</th>\n",
              "      <td>2020-07-28 13:37:00</td>\n",
              "      <td>2020-07-28</td>\n",
              "      <td>2020</td>\n",
              "      <td>Jul</td>\n",
              "      <td>Tuesday</td>\n",
              "      <td>13:37:00</td>\n",
              "      <td>0.00000</td>\n",
              "      <td>0.00000</td>\n",
              "      <td>0.00000</td>\n",
              "      <td>0.00000</td>\n",
              "      <td>60.0</td>\n",
              "      <td>0</td>\n",
              "      <td>0</td>\n",
              "      <td>0</td>\n",
              "      <td>0</td>\n",
              "      <td>1</td>\n",
              "      <td>0</td>\n",
              "      <td>Não choveu</td>\n",
              "    </tr>\n",
              "    <tr>\n",
              "      <th>1650</th>\n",
              "      <td>2020-07-28 13:38:00</td>\n",
              "      <td>2020-07-28</td>\n",
              "      <td>2020</td>\n",
              "      <td>Jul</td>\n",
              "      <td>Tuesday</td>\n",
              "      <td>13:38:00</td>\n",
              "      <td>0.00000</td>\n",
              "      <td>0.00000</td>\n",
              "      <td>0.00000</td>\n",
              "      <td>0.00000</td>\n",
              "      <td>60.0</td>\n",
              "      <td>0</td>\n",
              "      <td>0</td>\n",
              "      <td>0</td>\n",
              "      <td>0</td>\n",
              "      <td>1</td>\n",
              "      <td>0</td>\n",
              "      <td>Não choveu</td>\n",
              "    </tr>\n",
              "    <tr>\n",
              "      <th>1651</th>\n",
              "      <td>2020-07-28 13:39:00</td>\n",
              "      <td>2020-07-28</td>\n",
              "      <td>2020</td>\n",
              "      <td>Jul</td>\n",
              "      <td>Tuesday</td>\n",
              "      <td>13:39:00</td>\n",
              "      <td>0.00000</td>\n",
              "      <td>0.00000</td>\n",
              "      <td>0.00000</td>\n",
              "      <td>0.00000</td>\n",
              "      <td>60.0</td>\n",
              "      <td>0</td>\n",
              "      <td>0</td>\n",
              "      <td>0</td>\n",
              "      <td>0</td>\n",
              "      <td>1</td>\n",
              "      <td>0</td>\n",
              "      <td>Não choveu</td>\n",
              "    </tr>\n",
              "    <tr>\n",
              "      <th>1652</th>\n",
              "      <td>2020-07-28 13:40:00</td>\n",
              "      <td>2020-07-28</td>\n",
              "      <td>2020</td>\n",
              "      <td>Jul</td>\n",
              "      <td>Tuesday</td>\n",
              "      <td>13:40:00</td>\n",
              "      <td>0.00000</td>\n",
              "      <td>0.00000</td>\n",
              "      <td>0.00000</td>\n",
              "      <td>0.00000</td>\n",
              "      <td>60.0</td>\n",
              "      <td>0</td>\n",
              "      <td>0</td>\n",
              "      <td>0</td>\n",
              "      <td>0</td>\n",
              "      <td>1</td>\n",
              "      <td>0</td>\n",
              "      <td>Não choveu</td>\n",
              "    </tr>\n",
              "    <tr>\n",
              "      <th>1653</th>\n",
              "      <td>2020-07-28 13:41:00</td>\n",
              "      <td>2020-07-28</td>\n",
              "      <td>2020</td>\n",
              "      <td>Jul</td>\n",
              "      <td>Tuesday</td>\n",
              "      <td>13:41:00</td>\n",
              "      <td>0.00000</td>\n",
              "      <td>0.00000</td>\n",
              "      <td>0.00000</td>\n",
              "      <td>0.00000</td>\n",
              "      <td>60.0</td>\n",
              "      <td>0</td>\n",
              "      <td>0</td>\n",
              "      <td>0</td>\n",
              "      <td>0</td>\n",
              "      <td>1</td>\n",
              "      <td>0</td>\n",
              "      <td>Não choveu</td>\n",
              "    </tr>\n",
              "    <tr>\n",
              "      <th>1654</th>\n",
              "      <td>2020-07-28 13:42:00</td>\n",
              "      <td>2020-07-28</td>\n",
              "      <td>2020</td>\n",
              "      <td>Jul</td>\n",
              "      <td>Tuesday</td>\n",
              "      <td>13:42:00</td>\n",
              "      <td>0.00000</td>\n",
              "      <td>0.00000</td>\n",
              "      <td>0.00000</td>\n",
              "      <td>0.00000</td>\n",
              "      <td>60.0</td>\n",
              "      <td>0</td>\n",
              "      <td>0</td>\n",
              "      <td>0</td>\n",
              "      <td>0</td>\n",
              "      <td>1</td>\n",
              "      <td>0</td>\n",
              "      <td>Não choveu</td>\n",
              "    </tr>\n",
              "    <tr>\n",
              "      <th>343975</th>\n",
              "      <td>2022-08-28 20:32:00</td>\n",
              "      <td>2022-08-28</td>\n",
              "      <td>2022</td>\n",
              "      <td>Aug</td>\n",
              "      <td>Sunday</td>\n",
              "      <td>20:32:00</td>\n",
              "      <td>0.12736</td>\n",
              "      <td>24.43753</td>\n",
              "      <td>0.00836</td>\n",
              "      <td>1.09353</td>\n",
              "      <td>60.0</td>\n",
              "      <td>1</td>\n",
              "      <td>0</td>\n",
              "      <td>0</td>\n",
              "      <td>0</td>\n",
              "      <td>0</td>\n",
              "      <td>1</td>\n",
              "      <td>Chuva fraca</td>\n",
              "    </tr>\n",
              "    <tr>\n",
              "      <th>343977</th>\n",
              "      <td>2022-08-28 20:34:00</td>\n",
              "      <td>2022-08-28</td>\n",
              "      <td>2022</td>\n",
              "      <td>Aug</td>\n",
              "      <td>Sunday</td>\n",
              "      <td>20:34:00</td>\n",
              "      <td>0.14538</td>\n",
              "      <td>35.30966</td>\n",
              "      <td>0.00945</td>\n",
              "      <td>1.13412</td>\n",
              "      <td>60.0</td>\n",
              "      <td>1</td>\n",
              "      <td>0</td>\n",
              "      <td>0</td>\n",
              "      <td>0</td>\n",
              "      <td>0</td>\n",
              "      <td>1</td>\n",
              "      <td>Chuva fraca</td>\n",
              "    </tr>\n",
              "  </tbody>\n",
              "</table>\n",
              "</div>\n",
              "      <button class=\"colab-df-convert\" onclick=\"convertToInteractive('df-1786c831-9665-405f-95a4-f77f5514c284')\"\n",
              "              title=\"Convert this dataframe to an interactive table.\"\n",
              "              style=\"display:none;\">\n",
              "        \n",
              "  <svg xmlns=\"http://www.w3.org/2000/svg\" height=\"24px\"viewBox=\"0 0 24 24\"\n",
              "       width=\"24px\">\n",
              "    <path d=\"M0 0h24v24H0V0z\" fill=\"none\"/>\n",
              "    <path d=\"M18.56 5.44l.94 2.06.94-2.06 2.06-.94-2.06-.94-.94-2.06-.94 2.06-2.06.94zm-11 1L8.5 8.5l.94-2.06 2.06-.94-2.06-.94L8.5 2.5l-.94 2.06-2.06.94zm10 10l.94 2.06.94-2.06 2.06-.94-2.06-.94-.94-2.06-.94 2.06-2.06.94z\"/><path d=\"M17.41 7.96l-1.37-1.37c-.4-.4-.92-.59-1.43-.59-.52 0-1.04.2-1.43.59L10.3 9.45l-7.72 7.72c-.78.78-.78 2.05 0 2.83L4 21.41c.39.39.9.59 1.41.59.51 0 1.02-.2 1.41-.59l7.78-7.78 2.81-2.81c.8-.78.8-2.07 0-2.86zM5.41 20L4 18.59l7.72-7.72 1.47 1.35L5.41 20z\"/>\n",
              "  </svg>\n",
              "      </button>\n",
              "      \n",
              "  <style>\n",
              "    .colab-df-container {\n",
              "      display:flex;\n",
              "      flex-wrap:wrap;\n",
              "      gap: 12px;\n",
              "    }\n",
              "\n",
              "    .colab-df-convert {\n",
              "      background-color: #E8F0FE;\n",
              "      border: none;\n",
              "      border-radius: 50%;\n",
              "      cursor: pointer;\n",
              "      display: none;\n",
              "      fill: #1967D2;\n",
              "      height: 32px;\n",
              "      padding: 0 0 0 0;\n",
              "      width: 32px;\n",
              "    }\n",
              "\n",
              "    .colab-df-convert:hover {\n",
              "      background-color: #E2EBFA;\n",
              "      box-shadow: 0px 1px 2px rgba(60, 64, 67, 0.3), 0px 1px 3px 1px rgba(60, 64, 67, 0.15);\n",
              "      fill: #174EA6;\n",
              "    }\n",
              "\n",
              "    [theme=dark] .colab-df-convert {\n",
              "      background-color: #3B4455;\n",
              "      fill: #D2E3FC;\n",
              "    }\n",
              "\n",
              "    [theme=dark] .colab-df-convert:hover {\n",
              "      background-color: #434B5C;\n",
              "      box-shadow: 0px 1px 3px 1px rgba(0, 0, 0, 0.15);\n",
              "      filter: drop-shadow(0px 1px 2px rgba(0, 0, 0, 0.3));\n",
              "      fill: #FFFFFF;\n",
              "    }\n",
              "  </style>\n",
              "\n",
              "      <script>\n",
              "        const buttonEl =\n",
              "          document.querySelector('#df-1786c831-9665-405f-95a4-f77f5514c284 button.colab-df-convert');\n",
              "        buttonEl.style.display =\n",
              "          google.colab.kernel.accessAllowed ? 'block' : 'none';\n",
              "\n",
              "        async function convertToInteractive(key) {\n",
              "          const element = document.querySelector('#df-1786c831-9665-405f-95a4-f77f5514c284');\n",
              "          const dataTable =\n",
              "            await google.colab.kernel.invokeFunction('convertToInteractive',\n",
              "                                                     [key], {});\n",
              "          if (!dataTable) return;\n",
              "\n",
              "          const docLinkHtml = 'Like what you see? Visit the ' +\n",
              "            '<a target=\"_blank\" href=https://colab.research.google.com/notebooks/data_table.ipynb>data table notebook</a>'\n",
              "            + ' to learn more about interactive tables.';\n",
              "          element.innerHTML = '';\n",
              "          dataTable['output_type'] = 'display_data';\n",
              "          await google.colab.output.renderOutput(dataTable, element);\n",
              "          const docLink = document.createElement('div');\n",
              "          docLink.innerHTML = docLinkHtml;\n",
              "          element.appendChild(docLink);\n",
              "        }\n",
              "      </script>\n",
              "    </div>\n",
              "  </div>\n",
              "  "
            ]
          },
          "metadata": {},
          "execution_count": 65
        }
      ]
    },
    {
      "cell_type": "markdown",
      "metadata": {
        "id": "N_9gIK4P86ml"
      },
      "source": [
        "Visualização das estatísticas descritivas."
      ]
    },
    {
      "cell_type": "code",
      "execution_count": null,
      "metadata": {
        "colab": {
          "base_uri": "https://localhost:8080/",
          "height": 364
        },
        "id": "ebiAVbTd89Y9",
        "outputId": "4f44cfdf-b2f1-427d-f023-e67a17e6fda9"
      },
      "outputs": [
        {
          "output_type": "execute_result",
          "data": {
            "text/plain": [
              "                Year  Rain_Intensity_mm_h  radar_reflectivity_1_mm6m3  \\\n",
              "count  346968.000000        346968.000000               346968.000000   \n",
              "mean     2021.710181             0.341667                  285.441908   \n",
              "std         0.499927             3.271783                 4534.597174   \n",
              "min      2020.000000             0.000000                    0.000000   \n",
              "25%      2021.000000             0.000000                    0.000000   \n",
              "50%      2022.000000             0.000000                    0.000000   \n",
              "75%      2022.000000             0.000000                    0.000000   \n",
              "max      2022.000000           128.895370               550486.250000   \n",
              "\n",
              "       Liquid_watercontent_g_m3  Mean_weight_diameter_mm  Time_integration_s  \\\n",
              "count             346968.000000            346968.000000            346968.0   \n",
              "mean                   0.016702                 0.105823                60.0   \n",
              "std                    0.140959                 0.344134                 0.0   \n",
              "min                    0.000000                 0.000000                60.0   \n",
              "25%                    0.000000                 0.000000                60.0   \n",
              "50%                    0.000000                 0.000000                60.0   \n",
              "75%                    0.000000                 0.000000                60.0   \n",
              "max                    4.893830                 5.361310                60.0   \n",
              "\n",
              "          Light_Rain  Moderate_Rain     Heavy_Rain  Very_Heavy_Rain  \\\n",
              "count  346968.000000  346968.000000  346968.000000    346968.000000   \n",
              "mean        0.045212       0.012817       0.007211         0.001225   \n",
              "std         0.207768       0.112483       0.084611         0.034977   \n",
              "min         0.000000       0.000000       0.000000         0.000000   \n",
              "25%         0.000000       0.000000       0.000000         0.000000   \n",
              "50%         0.000000       0.000000       0.000000         0.000000   \n",
              "75%         0.000000       0.000000       0.000000         0.000000   \n",
              "max         1.000000       1.000000       1.000000         1.000000   \n",
              "\n",
              "        Without_Rain  Class_Rain_id  \n",
              "count  346968.000000  346968.000000  \n",
              "mean        0.933536       0.097378  \n",
              "std         0.249092       0.414119  \n",
              "min         0.000000       0.000000  \n",
              "25%         1.000000       0.000000  \n",
              "50%         1.000000       0.000000  \n",
              "75%         1.000000       0.000000  \n",
              "max         1.000000       4.000000  "
            ],
            "text/html": [
              "\n",
              "  <div id=\"df-3f231cfa-7124-4951-b1a4-d35075a2e422\">\n",
              "    <div class=\"colab-df-container\">\n",
              "      <div>\n",
              "<style scoped>\n",
              "    .dataframe tbody tr th:only-of-type {\n",
              "        vertical-align: middle;\n",
              "    }\n",
              "\n",
              "    .dataframe tbody tr th {\n",
              "        vertical-align: top;\n",
              "    }\n",
              "\n",
              "    .dataframe thead th {\n",
              "        text-align: right;\n",
              "    }\n",
              "</style>\n",
              "<table border=\"1\" class=\"dataframe\">\n",
              "  <thead>\n",
              "    <tr style=\"text-align: right;\">\n",
              "      <th></th>\n",
              "      <th>Year</th>\n",
              "      <th>Rain_Intensity_mm_h</th>\n",
              "      <th>radar_reflectivity_1_mm6m3</th>\n",
              "      <th>Liquid_watercontent_g_m3</th>\n",
              "      <th>Mean_weight_diameter_mm</th>\n",
              "      <th>Time_integration_s</th>\n",
              "      <th>Light_Rain</th>\n",
              "      <th>Moderate_Rain</th>\n",
              "      <th>Heavy_Rain</th>\n",
              "      <th>Very_Heavy_Rain</th>\n",
              "      <th>Without_Rain</th>\n",
              "      <th>Class_Rain_id</th>\n",
              "    </tr>\n",
              "  </thead>\n",
              "  <tbody>\n",
              "    <tr>\n",
              "      <th>count</th>\n",
              "      <td>346968.000000</td>\n",
              "      <td>346968.000000</td>\n",
              "      <td>346968.000000</td>\n",
              "      <td>346968.000000</td>\n",
              "      <td>346968.000000</td>\n",
              "      <td>346968.0</td>\n",
              "      <td>346968.000000</td>\n",
              "      <td>346968.000000</td>\n",
              "      <td>346968.000000</td>\n",
              "      <td>346968.000000</td>\n",
              "      <td>346968.000000</td>\n",
              "      <td>346968.000000</td>\n",
              "    </tr>\n",
              "    <tr>\n",
              "      <th>mean</th>\n",
              "      <td>2021.710181</td>\n",
              "      <td>0.341667</td>\n",
              "      <td>285.441908</td>\n",
              "      <td>0.016702</td>\n",
              "      <td>0.105823</td>\n",
              "      <td>60.0</td>\n",
              "      <td>0.045212</td>\n",
              "      <td>0.012817</td>\n",
              "      <td>0.007211</td>\n",
              "      <td>0.001225</td>\n",
              "      <td>0.933536</td>\n",
              "      <td>0.097378</td>\n",
              "    </tr>\n",
              "    <tr>\n",
              "      <th>std</th>\n",
              "      <td>0.499927</td>\n",
              "      <td>3.271783</td>\n",
              "      <td>4534.597174</td>\n",
              "      <td>0.140959</td>\n",
              "      <td>0.344134</td>\n",
              "      <td>0.0</td>\n",
              "      <td>0.207768</td>\n",
              "      <td>0.112483</td>\n",
              "      <td>0.084611</td>\n",
              "      <td>0.034977</td>\n",
              "      <td>0.249092</td>\n",
              "      <td>0.414119</td>\n",
              "    </tr>\n",
              "    <tr>\n",
              "      <th>min</th>\n",
              "      <td>2020.000000</td>\n",
              "      <td>0.000000</td>\n",
              "      <td>0.000000</td>\n",
              "      <td>0.000000</td>\n",
              "      <td>0.000000</td>\n",
              "      <td>60.0</td>\n",
              "      <td>0.000000</td>\n",
              "      <td>0.000000</td>\n",
              "      <td>0.000000</td>\n",
              "      <td>0.000000</td>\n",
              "      <td>0.000000</td>\n",
              "      <td>0.000000</td>\n",
              "    </tr>\n",
              "    <tr>\n",
              "      <th>25%</th>\n",
              "      <td>2021.000000</td>\n",
              "      <td>0.000000</td>\n",
              "      <td>0.000000</td>\n",
              "      <td>0.000000</td>\n",
              "      <td>0.000000</td>\n",
              "      <td>60.0</td>\n",
              "      <td>0.000000</td>\n",
              "      <td>0.000000</td>\n",
              "      <td>0.000000</td>\n",
              "      <td>0.000000</td>\n",
              "      <td>1.000000</td>\n",
              "      <td>0.000000</td>\n",
              "    </tr>\n",
              "    <tr>\n",
              "      <th>50%</th>\n",
              "      <td>2022.000000</td>\n",
              "      <td>0.000000</td>\n",
              "      <td>0.000000</td>\n",
              "      <td>0.000000</td>\n",
              "      <td>0.000000</td>\n",
              "      <td>60.0</td>\n",
              "      <td>0.000000</td>\n",
              "      <td>0.000000</td>\n",
              "      <td>0.000000</td>\n",
              "      <td>0.000000</td>\n",
              "      <td>1.000000</td>\n",
              "      <td>0.000000</td>\n",
              "    </tr>\n",
              "    <tr>\n",
              "      <th>75%</th>\n",
              "      <td>2022.000000</td>\n",
              "      <td>0.000000</td>\n",
              "      <td>0.000000</td>\n",
              "      <td>0.000000</td>\n",
              "      <td>0.000000</td>\n",
              "      <td>60.0</td>\n",
              "      <td>0.000000</td>\n",
              "      <td>0.000000</td>\n",
              "      <td>0.000000</td>\n",
              "      <td>0.000000</td>\n",
              "      <td>1.000000</td>\n",
              "      <td>0.000000</td>\n",
              "    </tr>\n",
              "    <tr>\n",
              "      <th>max</th>\n",
              "      <td>2022.000000</td>\n",
              "      <td>128.895370</td>\n",
              "      <td>550486.250000</td>\n",
              "      <td>4.893830</td>\n",
              "      <td>5.361310</td>\n",
              "      <td>60.0</td>\n",
              "      <td>1.000000</td>\n",
              "      <td>1.000000</td>\n",
              "      <td>1.000000</td>\n",
              "      <td>1.000000</td>\n",
              "      <td>1.000000</td>\n",
              "      <td>4.000000</td>\n",
              "    </tr>\n",
              "  </tbody>\n",
              "</table>\n",
              "</div>\n",
              "      <button class=\"colab-df-convert\" onclick=\"convertToInteractive('df-3f231cfa-7124-4951-b1a4-d35075a2e422')\"\n",
              "              title=\"Convert this dataframe to an interactive table.\"\n",
              "              style=\"display:none;\">\n",
              "        \n",
              "  <svg xmlns=\"http://www.w3.org/2000/svg\" height=\"24px\"viewBox=\"0 0 24 24\"\n",
              "       width=\"24px\">\n",
              "    <path d=\"M0 0h24v24H0V0z\" fill=\"none\"/>\n",
              "    <path d=\"M18.56 5.44l.94 2.06.94-2.06 2.06-.94-2.06-.94-.94-2.06-.94 2.06-2.06.94zm-11 1L8.5 8.5l.94-2.06 2.06-.94-2.06-.94L8.5 2.5l-.94 2.06-2.06.94zm10 10l.94 2.06.94-2.06 2.06-.94-2.06-.94-.94-2.06-.94 2.06-2.06.94z\"/><path d=\"M17.41 7.96l-1.37-1.37c-.4-.4-.92-.59-1.43-.59-.52 0-1.04.2-1.43.59L10.3 9.45l-7.72 7.72c-.78.78-.78 2.05 0 2.83L4 21.41c.39.39.9.59 1.41.59.51 0 1.02-.2 1.41-.59l7.78-7.78 2.81-2.81c.8-.78.8-2.07 0-2.86zM5.41 20L4 18.59l7.72-7.72 1.47 1.35L5.41 20z\"/>\n",
              "  </svg>\n",
              "      </button>\n",
              "      \n",
              "  <style>\n",
              "    .colab-df-container {\n",
              "      display:flex;\n",
              "      flex-wrap:wrap;\n",
              "      gap: 12px;\n",
              "    }\n",
              "\n",
              "    .colab-df-convert {\n",
              "      background-color: #E8F0FE;\n",
              "      border: none;\n",
              "      border-radius: 50%;\n",
              "      cursor: pointer;\n",
              "      display: none;\n",
              "      fill: #1967D2;\n",
              "      height: 32px;\n",
              "      padding: 0 0 0 0;\n",
              "      width: 32px;\n",
              "    }\n",
              "\n",
              "    .colab-df-convert:hover {\n",
              "      background-color: #E2EBFA;\n",
              "      box-shadow: 0px 1px 2px rgba(60, 64, 67, 0.3), 0px 1px 3px 1px rgba(60, 64, 67, 0.15);\n",
              "      fill: #174EA6;\n",
              "    }\n",
              "\n",
              "    [theme=dark] .colab-df-convert {\n",
              "      background-color: #3B4455;\n",
              "      fill: #D2E3FC;\n",
              "    }\n",
              "\n",
              "    [theme=dark] .colab-df-convert:hover {\n",
              "      background-color: #434B5C;\n",
              "      box-shadow: 0px 1px 3px 1px rgba(0, 0, 0, 0.15);\n",
              "      filter: drop-shadow(0px 1px 2px rgba(0, 0, 0, 0.3));\n",
              "      fill: #FFFFFF;\n",
              "    }\n",
              "  </style>\n",
              "\n",
              "      <script>\n",
              "        const buttonEl =\n",
              "          document.querySelector('#df-3f231cfa-7124-4951-b1a4-d35075a2e422 button.colab-df-convert');\n",
              "        buttonEl.style.display =\n",
              "          google.colab.kernel.accessAllowed ? 'block' : 'none';\n",
              "\n",
              "        async function convertToInteractive(key) {\n",
              "          const element = document.querySelector('#df-3f231cfa-7124-4951-b1a4-d35075a2e422');\n",
              "          const dataTable =\n",
              "            await google.colab.kernel.invokeFunction('convertToInteractive',\n",
              "                                                     [key], {});\n",
              "          if (!dataTable) return;\n",
              "\n",
              "          const docLinkHtml = 'Like what you see? Visit the ' +\n",
              "            '<a target=\"_blank\" href=https://colab.research.google.com/notebooks/data_table.ipynb>data table notebook</a>'\n",
              "            + ' to learn more about interactive tables.';\n",
              "          element.innerHTML = '';\n",
              "          dataTable['output_type'] = 'display_data';\n",
              "          await google.colab.output.renderOutput(dataTable, element);\n",
              "          const docLink = document.createElement('div');\n",
              "          docLink.innerHTML = docLinkHtml;\n",
              "          element.appendChild(docLink);\n",
              "        }\n",
              "      </script>\n",
              "    </div>\n",
              "  </div>\n",
              "  "
            ]
          },
          "metadata": {},
          "execution_count": 66
        }
      ],
      "source": [
        "#Visualização das estatísticas descritivas\n",
        "df_RD80_FINAL.describe()"
      ]
    },
    {
      "cell_type": "markdown",
      "source": [
        "Após todos os ajustes anteriores, finalmente podemos exportar/salvar nossos Dataframes para o formato CSV, afim de usá-los na próxima etapa deste trabalho: **Exploratory Data Analysis (EDA)**."
      ],
      "metadata": {
        "id": "6FvlLOegzFng"
      }
    },
    {
      "cell_type": "code",
      "source": [
        "#Salvando/Exportando os Dataframes para o formato CSV\n",
        "df_RD80_FINAL.to_csv('./df_RD80_FINAL.csv')"
      ],
      "metadata": {
        "id": "ojisLEFwQI-Z"
      },
      "execution_count": null,
      "outputs": []
    },
    {
      "cell_type": "markdown",
      "metadata": {
        "id": "33jPwgUyd9iL"
      },
      "source": [
        "# **Referências**\n",
        "\n",
        "BRUCE, A.; BRUCE, P. Estatística Prática para Cientistas de Dados. [S.l.]: Alta Books, 2019. ISBN 9788550810805.\n",
        "\n",
        "COX, V. Exploratory Data Analysis. In: Translating Statistics to Make Decisions. [S.l.]: Apress, Berkeley, CA, 2017. ISBN 978-1-4842-2256-0.\n",
        "\n",
        "ESCOVEDO, T.; KOSHIYAMA, A. Introdução a Data Science: Algoritmos de Machine\n",
        "Learning e métodos de análise. [S.l.]: Casa do Código, 2020. ISBN 9788572540551.\n",
        "\n",
        "IGUAL, L. et al. Introduction to Data Science: A Python Approach to Concepts, Techniques and Applications. [S.l.]: Springer International Publishing, 2017. (Undergraduate Topics in Computer Science). ISBN 9783319500171.\n",
        "\n",
        "ROSE, T.; CREWELL, S.; LÖHNERT, U.; SIMMER, C. A network suitable microwave radiometer for operational monitoring of the cloudy atmosphere, Atmos. Res., 75, 183–200, 2005.\n",
        "\n",
        "Tukey, John (1977). Exploratory Data Analysis. Addison-Wesley Publishing Company.\n",
        "\n",
        "https://cienciadedadosuff.github.io/cursos/notebooks/caderno-3.html"
      ]
    }
  ],
  "metadata": {
    "accelerator": "GPU",
    "colab": {
      "provenance": [],
      "machine_shape": "hm",
      "include_colab_link": true
    },
    "gpuClass": "standard",
    "kernelspec": {
      "display_name": "Python 3",
      "name": "python3"
    },
    "language_info": {
      "name": "python"
    }
  },
  "nbformat": 4,
  "nbformat_minor": 0
}