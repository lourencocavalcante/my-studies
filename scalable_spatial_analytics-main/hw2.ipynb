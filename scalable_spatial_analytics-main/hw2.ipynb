{
 "cells": [
  {
   "cell_type": "markdown",
   "metadata": {},
   "source": [
    "# Assignment 2\n",
    "Talia Arauzo\n",
    "<br>CE 263N"
   ]
  },
  {
   "cell_type": "markdown",
   "metadata": {},
   "source": [
    "# Part I"
   ]
  },
  {
   "cell_type": "markdown",
   "metadata": {},
   "source": [
    "### Import Data"
   ]
  },
  {
   "cell_type": "markdown",
   "metadata": {},
   "source": [
    "Import necessary <b>packages</b>"
   ]
  },
  {
   "cell_type": "code",
   "execution_count": 1,
   "metadata": {},
   "outputs": [],
   "source": [
    "import skmob\n",
    "import geopandas as gpd\n",
    "import pandas as pd\n",
    "import numpy as np"
   ]
  },
  {
   "cell_type": "markdown",
   "metadata": {},
   "source": [
    "Load provided <b>nodes file</b>"
   ]
  },
  {
   "cell_type": "code",
   "execution_count": 211,
   "metadata": {},
   "outputs": [],
   "source": [
    "nodes = pd.read_csv(\"data/THE_NODES.txt\", sep = \" \", header = None, names = [\"tile_id\", \"population\", \"latitude\", \"longitude\", \"intra_trips\"], dtype = \"object\")\n",
    "nodes = nodes.astype({\"population\": \"int64\"})"
   ]
  },
  {
   "cell_type": "markdown",
   "metadata": {},
   "source": [
    "Load provided <b>links file</b>"
   ]
  },
  {
   "cell_type": "code",
   "execution_count": 3,
   "metadata": {},
   "outputs": [],
   "source": [
    "links = pd.read_csv(\"data/THE_LINKS.txt\", sep = \" \", header = None, names = [\"origin\", \"destination\", \"distance\", \"flow\"], dtype = \"object\")\n",
    "links = links.astype({\"flow\": \"int64\"})"
   ]
  },
  {
   "cell_type": "markdown",
   "metadata": {},
   "source": [
    "Create <b>tessellation</b> GeoDataFrame"
   ]
  },
  {
   "cell_type": "code",
   "execution_count": 4,
   "metadata": {},
   "outputs": [],
   "source": [
    "# usa_tract_geo = gpd.GeoDataFrame.from_file(\"USA_county_ACS15_Pop_2.json\")\n",
    "# tessellation = nodes[[\"tile_id\", \"population\"]].merge(usa_tract_geo.drop(columns = [\"population\"]), how = \"left\", on = \"tile_id\")\n",
    "tessellation = gpd.GeoDataFrame(nodes[[\"tile_id\", \"population\"]], geometry = gpd.points_from_xy(nodes.longitude, nodes.latitude, crs = \"EPSG:4326\"))\n",
    "# Remove tile_id 15005 since no inter-unit flows\n",
    "tessellation = tessellation[tessellation[\"tile_id\"] != \"15005\"]"
   ]
  },
  {
   "cell_type": "markdown",
   "metadata": {},
   "source": [
    "Create <b>flows</b> DataFrame from links DataFrame"
   ]
  },
  {
   "cell_type": "code",
   "execution_count": 5,
   "metadata": {
    "scrolled": false
   },
   "outputs": [],
   "source": [
    "flows = links[[\"flow\", \"origin\", \"destination\"]]\n",
    "# Choose origins & destinations that are in the tessellation\n",
    "flows = flows[flows.origin.isin(tessellation.tile_id) & flows.destination.isin(tessellation.tile_id)]\n",
    "# Exclude intra-unit flows\n",
    "flows = flows[flows.origin != flows.destination]\n",
    "# Remove tile_id 15005 since no inter-unit flows\n",
    "flows = flows[flows[\"destination\"] != \"15005\"]"
   ]
  },
  {
   "cell_type": "markdown",
   "metadata": {},
   "source": [
    "Create <b>FlowDataFrame</b> from links and tessellation"
   ]
  },
  {
   "cell_type": "code",
   "execution_count": 6,
   "metadata": {
    "scrolled": false
   },
   "outputs": [],
   "source": [
    "fdf = skmob.FlowDataFrame(flows, tessellation = tessellation, tile_id = \"tile_id\")"
   ]
  },
  {
   "cell_type": "markdown",
   "metadata": {},
   "source": [
    "### 1. Read the data and report total out-flows and in-flows of the entire data set."
   ]
  },
  {
   "cell_type": "markdown",
   "metadata": {},
   "source": [
    "Import necessary packages"
   ]
  },
  {
   "cell_type": "code",
   "execution_count": 7,
   "metadata": {},
   "outputs": [],
   "source": [
    "from skmob.utils import utils, constants"
   ]
  },
  {
   "cell_type": "markdown",
   "metadata": {},
   "source": [
    "Total outflows in dataset"
   ]
  },
  {
   "cell_type": "code",
   "execution_count": 8,
   "metadata": {
    "scrolled": true
   },
   "outputs": [
    {
     "name": "stdout",
     "output_type": "stream",
     "text": [
      "total outflows:  34116775\n"
     ]
    }
   ],
   "source": [
    "tot_outflows = fdf.groupby(by='origin')['flow'].sum().fillna(0).values\n",
    "tessellation[constants.TOT_OUTFLOW] = tot_outflows\n",
    "print(\"total outflows: \", sum(tot_outflows))"
   ]
  },
  {
   "cell_type": "markdown",
   "metadata": {},
   "source": [
    "Total inflows in dataset"
   ]
  },
  {
   "cell_type": "code",
   "execution_count": 9,
   "metadata": {},
   "outputs": [
    {
     "name": "stdout",
     "output_type": "stream",
     "text": [
      "total inflows:  34116775\n"
     ]
    }
   ],
   "source": [
    "tot_inflows = fdf.groupby(by='destination')['flow'].sum().fillna(0).values\n",
    "tessellation[\"tot_inflow\"] = tot_inflows\n",
    "print(\"total inflows: \", sum(tot_inflows))"
   ]
  },
  {
   "cell_type": "markdown",
   "metadata": {},
   "source": [
    "### 2. What is the population in the set of counties (P)?"
   ]
  },
  {
   "cell_type": "code",
   "execution_count": 10,
   "metadata": {
    "scrolled": true
   },
   "outputs": [
    {
     "name": "stdout",
     "output_type": "stream",
     "text": [
      "total population:  281421759\n"
     ]
    }
   ],
   "source": [
    "print(\"total population: \", sum(tessellation[\"population\"]))"
   ]
  },
  {
   "cell_type": "markdown",
   "metadata": {},
   "source": [
    "### 3. What is the ratio between total out-flows and (P), why is it not close to 1?"
   ]
  },
  {
   "cell_type": "code",
   "execution_count": 11,
   "metadata": {},
   "outputs": [
    {
     "name": "stdout",
     "output_type": "stream",
     "text": [
      "ratio between total outflows and population:  0.12123005385663871\n"
     ]
    }
   ],
   "source": [
    "outflows_to_pop = sum(tot_outflows) / sum(tessellation[\"population\"])\n",
    "print(\"ratio between total outflows and population: \", outflows_to_pop)"
   ]
  },
  {
   "cell_type": "markdown",
   "metadata": {},
   "source": [
    "### 4. Singly Constrained GM: Fit the data with an out-flow singly constrained gravity model with exponential decaying function. Report the parameters of the model and show the scatter plot of data vs model."
   ]
  },
  {
   "cell_type": "markdown",
   "metadata": {},
   "source": [
    "Import necessary packages"
   ]
  },
  {
   "cell_type": "code",
   "execution_count": 17,
   "metadata": {},
   "outputs": [],
   "source": [
    "from skmob.models import Gravity"
   ]
  },
  {
   "cell_type": "markdown",
   "metadata": {},
   "source": [
    "Initialize out-flow singly constrained gravity model"
   ]
  },
  {
   "cell_type": "code",
   "execution_count": 18,
   "metadata": {},
   "outputs": [],
   "source": [
    "# Article parameters (beta = 0.3 * <S> ** -0.17)\n",
    "gravity_singly = Gravity(name = \"Gravity model\", deterrence_func_type = \"exponential\", \n",
    "                         deterrence_func_args = [0.3 * (2596.8 ** -0.17)], origin_exp = 1.0, \n",
    "                         destination_exp = 1.0, gravity_type = \"singly constrained\")"
   ]
  },
  {
   "cell_type": "markdown",
   "metadata": {},
   "source": [
    "Generate flows using singly constrained gravity model"
   ]
  },
  {
   "cell_type": "code",
   "execution_count": 19,
   "metadata": {},
   "outputs": [
    {
     "name": "stderr",
     "output_type": "stream",
     "text": [
      "100%|██████████| 3140/3140 [00:13<00:00, 240.24it/s]\n"
     ]
    }
   ],
   "source": [
    "np.random.seed(0)\n",
    "fdf_g = gravity_singly.generate(tessellation, tile_id_column = 'tile_id', tot_outflows_column = 'tot_outflow', \n",
    "                                relevance_column = 'population', out_format = 'flows')"
   ]
  },
  {
   "cell_type": "markdown",
   "metadata": {},
   "source": [
    "Scatter plot of data vs. model for gravity model"
   ]
  },
  {
   "cell_type": "code",
   "execution_count": 20,
   "metadata": {},
   "outputs": [
    {
     "data": {
      "image/png": "[encoded data removed]",
      "text/plain": [
       "<Figure size 432x288 with 1 Axes>"
      ]
     },
     "metadata": {
      "needs_background": "light"
     },
     "output_type": "display_data"
    }
   ],
   "source": [
    "import matplotlib.pyplot as plt\n",
    "# Actual and model flows for gravity model\n",
    "g = fdf.merge(fdf_g, on=['origin', 'destination'])[['flow_x', 'flow_y']].values\n",
    "# Plot actual vs model flows\n",
    "plt.plot(g[:,0], g[:,1], '*', label = 'Singly Constrained Gravity')\n",
    "# Plot line x=y\n",
    "x = np.logspace(0, np.log10(np.max(g)))\n",
    "plt.plot(x, x, '--k')\n",
    "# Plot attributes\n",
    "plt.xlabel('Empirical flow')\n",
    "plt.ylabel('Model flow')\n",
    "plt.legend(loc = 'upper left')\n",
    "plt.loglog();\n",
    "plt.show()"
   ]
  },
  {
   "cell_type": "markdown",
   "metadata": {},
   "source": [
    "### 6. Radiation Model: Fit the data with the Radiation model. Show the scatter plot of data vs model"
   ]
  },
  {
   "cell_type": "markdown",
   "metadata": {},
   "source": [
    "Import necessary packages"
   ]
  },
  {
   "cell_type": "code",
   "execution_count": 12,
   "metadata": {},
   "outputs": [],
   "source": [
    "from skmob.models import Radiation"
   ]
  },
  {
   "cell_type": "markdown",
   "metadata": {},
   "source": [
    "Initialize radiation model"
   ]
  },
  {
   "cell_type": "code",
   "execution_count": 13,
   "metadata": {},
   "outputs": [],
   "source": [
    "radiation = Radiation()"
   ]
  },
  {
   "cell_type": "markdown",
   "metadata": {},
   "source": [
    "Generate flows using radiation model"
   ]
  },
  {
   "cell_type": "code",
   "execution_count": 14,
   "metadata": {
    "scrolled": true
   },
   "outputs": [
    {
     "name": "stderr",
     "output_type": "stream",
     "text": [
      "100%|██████████| 3140/3140 [01:25<00:00, 36.93it/s]\n"
     ]
    }
   ],
   "source": [
    "np.random.seed(0)\n",
    "fdf_r = radiation.generate(tessellation, tile_id_column = 'tile_id',  tot_outflows_column = 'tot_outflow', \n",
    "                           relevance_column = 'population', out_format = 'flows_sample')"
   ]
  },
  {
   "cell_type": "markdown",
   "metadata": {},
   "source": [
    "Scatter plot of data vs. model for radiation model"
   ]
  },
  {
   "cell_type": "code",
   "execution_count": 24,
   "metadata": {},
   "outputs": [
    {
     "data": {
      "image/png": "[encoded data removed]",
      "text/plain": [
       "<Figure size 432x288 with 1 Axes>"
      ]
     },
     "metadata": {
      "needs_background": "light"
     },
     "output_type": "display_data"
    }
   ],
   "source": [
    "# Actual and model flows for radiation model\n",
    "r = fdf.merge(fdf_r, on=['origin', 'destination'])[['flow_x', 'flow_y']].values\n",
    "# Plot actual vs model flows\n",
    "plt.plot(r[:,0], r[:,1], '*', label = 'Radiation')\n",
    "# Plot line x=y\n",
    "x = np.logspace(0, np.log10(np.max(r)))\n",
    "plt.plot(x, x, '--k')\n",
    "# Plot attributes\n",
    "plt.xlabel('Empirical flow')\n",
    "plt.ylabel('Model flow')\n",
    "plt.legend(loc = 'upper left')\n",
    "plt.loglog();\n",
    "plt.show()"
   ]
  },
  {
   "cell_type": "markdown",
   "metadata": {},
   "source": [
    "### 7. For the results of 4 and 6, report the CPC, the root mean square error, the R2 and the maximum error of each model."
   ]
  },
  {
   "cell_type": "markdown",
   "metadata": {},
   "source": [
    "Import necessary packages"
   ]
  },
  {
   "cell_type": "code",
   "execution_count": 25,
   "metadata": {},
   "outputs": [],
   "source": [
    "from skmob.measures.evaluation import rmse, r_squared, max_error"
   ]
  },
  {
   "cell_type": "markdown",
   "metadata": {},
   "source": [
    "Function for outputting requested metrics"
   ]
  },
  {
   "cell_type": "code",
   "execution_count": 26,
   "metadata": {},
   "outputs": [],
   "source": [
    "def metrics(model, model_name):\n",
    "    \n",
    "    def cpc(values1, values2):\n",
    "        return 2.0 * np.sum(np.minimum(values1, values2)) / (np.sum(values1) + np.sum(values2))\n",
    "    \n",
    "    # Names and functions of requested metrics\n",
    "    metrics = [cpc, rmse, r_squared, max_error]\n",
    "    names = ['common_part_of_commuters', 'rmse', 'r_squared', 'max_error']\n",
    "    \n",
    "    # Output metrics\n",
    "    print(model_name)\n",
    "    for i, metric in enumerate(metrics):\n",
    "        m = metric(model[:, 0], model[:, 1])\n",
    "        print(\"%s:   %s \" % (names[i], np.round(m,5)))"
   ]
  },
  {
   "cell_type": "markdown",
   "metadata": {},
   "source": [
    "Metrics for the singly constrained gravity model"
   ]
  },
  {
   "cell_type": "code",
   "execution_count": 27,
   "metadata": {},
   "outputs": [
    {
     "name": "stdout",
     "output_type": "stream",
     "text": [
      "Singly Constrained Gravity Model\n",
      "common_part_of_commuters:   0.4487 \n",
      "rmse:   3923.3146 \n",
      "r_squared:   0.35335 \n",
      "max_error:   288795 \n"
     ]
    }
   ],
   "source": [
    "metrics(g, \"Singly Constrained Gravity Model\")"
   ]
  },
  {
   "cell_type": "markdown",
   "metadata": {},
   "source": [
    "Metrics for the radiation model"
   ]
  },
  {
   "cell_type": "code",
   "execution_count": 28,
   "metadata": {},
   "outputs": [
    {
     "name": "stdout",
     "output_type": "stream",
     "text": [
      "Radiation Model\n",
      "common_part_of_commuters:   0.6372 \n",
      "rmse:   2251.23313 \n",
      "r_squared:   0.54967 \n",
      "max_error:   279995 \n"
     ]
    }
   ],
   "source": [
    "metrics(r, \"Radiation Model\")"
   ]
  },
  {
   "cell_type": "markdown",
   "metadata": {},
   "source": [
    "# Part II"
   ]
  },
  {
   "cell_type": "markdown",
   "metadata": {},
   "source": [
    "Import necessary packages"
   ]
  },
  {
   "cell_type": "code",
   "execution_count": 15,
   "metadata": {},
   "outputs": [],
   "source": [
    "import networkx as nx\n",
    "import geopy.distance"
   ]
  },
  {
   "cell_type": "markdown",
   "metadata": {},
   "source": [
    "Function for building undirected weighted graphs from data sets"
   ]
  },
  {
   "cell_type": "code",
   "execution_count": 27,
   "metadata": {},
   "outputs": [],
   "source": [
    "def makeNetworkFromFiles(fedges, nodes, flow_i):\n",
    "\n",
    "    # Create network graph\n",
    "    G = nx.Graph()\n",
    "    # Nodes\n",
    "    fn = nodes.transpose()\n",
    "    # Number of attributes\n",
    "    n_attr = len(fn.index.values)\n",
    "    # Attributes\n",
    "    attr = fn.index.values\n",
    "    \n",
    "    # Add nodes to graph\n",
    "    for n in fn.columns:\n",
    "        attr_node = dict(list(zip(attr, fn[n].values)))\n",
    "        G.add_node(n,attr_dic = attr_node)\n",
    "        \n",
    "    # Links\n",
    "    fl = fedges\n",
    "    fl.columns = list(map(str.lower, fl.columns))\n",
    "    \n",
    "    # Add (inter-flow) links to graph\n",
    "    for L in fl.index.values:\n",
    "        o_n = fl['origin'][L]\n",
    "        d_n = fl['destination'][L]\n",
    "        # If inter-flow\n",
    "        if o_n != d_n:\n",
    "            G.add_edge(fl['origin'][L],fl['destination'][L],weight=int(fl[flow_i][L]))\n",
    "          \n",
    "    # Set graph as largest connected component      \n",
    "    G = G.subgraph(sorted(nx.connected_components(G), key=len, reverse=True)[0])\n",
    "\n",
    "    return G"
   ]
  },
  {
   "cell_type": "markdown",
   "metadata": {},
   "source": [
    "Adjust nodes file to have \"tile_id\" as the index"
   ]
  },
  {
   "cell_type": "code",
   "execution_count": 212,
   "metadata": {
    "scrolled": true
   },
   "outputs": [],
   "source": [
    "nodes[\"tile_id\"] = nodes[\"tile_id\"].astype(str)\n",
    "nodes = nodes.set_index(\"tile_id\")"
   ]
  },
  {
   "cell_type": "markdown",
   "metadata": {},
   "source": [
    "Dataframe with actual and radiation model flows"
   ]
  },
  {
   "cell_type": "code",
   "execution_count": 29,
   "metadata": {},
   "outputs": [],
   "source": [
    "network_flows = fdf.merge(fdf_r, on=['origin', 'destination']).rename(columns = {\"flow_x\": \"actual_flows\", \"flow_y\": \"radiation_flows\"})"
   ]
  },
  {
   "cell_type": "markdown",
   "metadata": {},
   "source": [
    "Function for removing elemnts from a list if they equal a certain value"
   ]
  },
  {
   "cell_type": "code",
   "execution_count": 30,
   "metadata": {},
   "outputs": [],
   "source": [
    "def remove_values_from_list(the_list, val):\n",
    "    return [value for value in the_list if value != val]"
   ]
  },
  {
   "cell_type": "markdown",
   "metadata": {},
   "source": [
    "Create ntworks and determine network degrees"
   ]
  },
  {
   "cell_type": "code",
   "execution_count": 31,
   "metadata": {},
   "outputs": [],
   "source": [
    "# Create networks\n",
    "g_actual = makeNetworkFromFiles(network_flows, nodes, 'actual_flows')\n",
    "g_radiation = makeNetworkFromFiles(network_flows, nodes, 'radiation_flows')\n",
    "\n",
    "# Non-zero degrees for each network\n",
    "degrees_actual = remove_values_from_list(list(dict(g_actual.degree()).values()),0)\n",
    "degrees_radiation = remove_values_from_list(list(dict(g_radiation.degree()).values()),0)\n",
    "\n",
    "# Non-zero weighted degrees for each network\n",
    "w_degrees_actual=remove_values_from_list(list(dict(g_actual.degree(weight  = 'weight')).values()),0)\n",
    "w_degrees_radiation=remove_values_from_list(list(dict(g_radiation.degree(weight  = 'weight')).values()),0)"
   ]
  },
  {
   "cell_type": "markdown",
   "metadata": {},
   "source": [
    "### 1. For both the data and model, calculate the degree distributions of degree strengths or weighted degree."
   ]
  },
  {
   "cell_type": "markdown",
   "metadata": {},
   "source": [
    "Import necessary packages"
   ]
  },
  {
   "cell_type": "code",
   "execution_count": 32,
   "metadata": {},
   "outputs": [],
   "source": [
    "import matplotlib.pyplot as plt\n",
    "%matplotlib inline"
   ]
  },
  {
   "cell_type": "code",
   "execution_count": 218,
   "metadata": {},
   "outputs": [
    {
     "data": {
      "image/png": "[encoded data removed]",
      "text/plain": [
       "<Figure size 648x504 with 1 Axes>"
      ]
     },
     "metadata": {
      "needs_background": "light"
     },
     "output_type": "display_data"
    }
   ],
   "source": [
    "fig, ax = plt.subplots()\n",
    "fig.set_size_inches((9, 7))\n",
    "\n",
    "n_bins = 20\n",
    " \n",
    "out_logBins = np.logspace(np.log10(min(w_degrees_actual)), np.log10(max(w_degrees_actual)),num=n_bins)\n",
    "out_logBinDensity, out_binedges = np.histogram(w_degrees_actual, bins=out_logBins, density=True)\n",
    "\n",
    "in_logBins = np.logspace(np.log10(min(w_degrees_radiation)), np.log10(max(w_degrees_radiation)),num=n_bins)\n",
    "in_logBinDensity, in_binedges = np.histogram(w_degrees_radiation, bins=in_logBins, density=True)\n",
    "\n",
    "ax.loglog(out_logBins[:-1],out_logBinDensity,'o', color = \"salmon\", markersize=10,label=r'$s_{actual}$')\n",
    "ax.loglog(in_logBins[:-1],in_logBinDensity,'s', color = \"plum\", markersize=10,label=r'$s_{radiation}$')\n",
    "ax.legend(fontsize=30)\n",
    "\n",
    "ax.set_xlabel('$strength, s$',fontsize=40)\n",
    "ax.set_ylabel('$P(s)$',fontsize=40);"
   ]
  },
  {
   "cell_type": "markdown",
   "metadata": {},
   "source": [
    "### 2. Compare values of the two networks respect to: minimum/maximum degree, average degree, standard deviation of the average degree, average clustering coefficient, average shortest path"
   ]
  },
  {
   "cell_type": "markdown",
   "metadata": {},
   "source": [
    "Function for outputting characteristics of networks"
   ]
  },
  {
   "cell_type": "code",
   "execution_count": 223,
   "metadata": {},
   "outputs": [],
   "source": [
    "def characteristics(degrees, network, name):\n",
    "    print(\"---------\", name, \"Network---------\")\n",
    "    print(\"Minimum Degree: \", min(degrees))\n",
    "    print(\"Maximum Degree: \", max(degrees))\n",
    "    print(\"Average Degree: \", np.mean(degrees))\n",
    "    print(\"Standard Deviation of Degrees: \", np.std(degrees))\n",
    "    print(\"Average Clustering Coefficient: \", nx.average_clustering(network, weight = \"weight\"))\n",
    "    print(\"Average Shortest Path Length: \", nx.average_shortest_path_length(network, weight = \"weight\"))"
   ]
  },
  {
   "cell_type": "markdown",
   "metadata": {},
   "source": [
    "Characteristics of the network"
   ]
  },
  {
   "cell_type": "code",
   "execution_count": 224,
   "metadata": {},
   "outputs": [
    {
     "name": "stdout",
     "output_type": "stream",
     "text": [
      "---------  Network---------\n",
      "Minimum Degree:  1\n",
      "Maximum Degree:  762\n",
      "Average Degree:  44.336942675159236\n",
      "Standard Deviation of Degrees:  51.3753376936526\n",
      "Average Clustering Coefficient:  8.905942813691634e-05\n",
      "Average Shortest Path Length:  10.965155847028244\n"
     ]
    }
   ],
   "source": [
    "characteristics(degrees_actual, g_actual, name = \"\")"
   ]
  },
  {
   "cell_type": "markdown",
   "metadata": {},
   "source": [
    "Characteristics of the weighted network for the actual data"
   ]
  },
  {
   "cell_type": "code",
   "execution_count": 40,
   "metadata": {
    "scrolled": false
   },
   "outputs": [
    {
     "name": "stdout",
     "output_type": "stream",
     "text": [
      "---------Weighted Actual Network---------\n",
      "Minimum Degree:  12\n",
      "Maximum Degree:  651790\n",
      "Average Degree:  11108.517834394905\n",
      "Standard Deviation of Degrees:  33918.04130778616\n",
      "Average Clustering Coefficient:  8.905942813691634e-05\n",
      "Average Shortest Path Length:  10.965155847028244\n"
     ]
    }
   ],
   "source": [
    "characteristics(w_degrees_actual, g_actual, \"Weighted Actual\")"
   ]
  },
  {
   "cell_type": "markdown",
   "metadata": {},
   "source": [
    "Characteristics of the weighted network for the radiation model"
   ]
  },
  {
   "cell_type": "code",
   "execution_count": 41,
   "metadata": {},
   "outputs": [
    {
     "name": "stdout",
     "output_type": "stream",
     "text": [
      "---------Weighted Radiation Network---------\n",
      "Minimum Degree:  3\n",
      "Maximum Degree:  540394\n",
      "Average Degree:  10581.822929936307\n",
      "Standard Deviation of Degrees:  29030.162256072028\n",
      "Average Clustering Coefficient:  8.959369476487066e-05\n",
      "Average Shortest Path Length:  3.9429206834908275\n"
     ]
    }
   ],
   "source": [
    "characteristics(w_degrees_radiation, g_radiation, \"Weighted Radiation\")"
   ]
  },
  {
   "cell_type": "markdown",
   "metadata": {},
   "source": [
    "### 5. Plot a power law function for the degree distribution: P(k) = C k^-gamma fixing K_min like in the commuting US network, and selecting gamma > 1 of your choice that K_max is close to the data"
   ]
  },
  {
   "cell_type": "markdown",
   "metadata": {},
   "source": [
    "Import necessary packages"
   ]
  },
  {
   "cell_type": "code",
   "execution_count": 198,
   "metadata": {},
   "outputs": [],
   "source": [
    "import powerlaw"
   ]
  },
  {
   "cell_type": "markdown",
   "metadata": {},
   "source": [
    "Power law function variables"
   ]
  },
  {
   "cell_type": "code",
   "execution_count": 188,
   "metadata": {},
   "outputs": [],
   "source": [
    "k_min = 12\n",
    "N = g_actual.number_of_nodes()\n",
    "gamma = 1.7385393\n",
    "C = (gamma - 1) * (k_min ** (gamma - 1))"
   ]
  },
  {
   "cell_type": "markdown",
   "metadata": {},
   "source": [
    "Check k_max ≈ 651,790"
   ]
  },
  {
   "cell_type": "code",
   "execution_count": 189,
   "metadata": {},
   "outputs": [
    {
     "data": {
      "text/plain": [
       "651790.7810130437"
      ]
     },
     "execution_count": 189,
     "metadata": {},
     "output_type": "execute_result"
    }
   ],
   "source": [
    "k_max = k_min * (N ** (1/(gamma - 1)))\n",
    "k_max"
   ]
  },
  {
   "cell_type": "markdown",
   "metadata": {},
   "source": [
    "Calculate power law function $P(k) = Ck^{-\\gamma}$"
   ]
  },
  {
   "cell_type": "code",
   "execution_count": 191,
   "metadata": {},
   "outputs": [],
   "source": [
    "w_k_list = list(dict(g_actual.degree(weight  = 'weight')).values())\n",
    "w_k = np.array(w_k_list)\n",
    "P = C * (w_k ** (-1 * gamma))"
   ]
  },
  {
   "cell_type": "markdown",
   "metadata": {},
   "source": [
    "Plot weighted degree distribution with power law function"
   ]
  },
  {
   "cell_type": "code",
   "execution_count": 210,
   "metadata": {},
   "outputs": [
    {
     "data": {
      "image/png": "[encoded data removed]",
      "text/plain": [
       "<Figure size 720x504 with 1 Axes>"
      ]
     },
     "metadata": {
      "needs_background": "light"
     },
     "output_type": "display_data"
    }
   ],
   "source": [
    "plt.figure(figsize = (10,7))\n",
    "plt.loglog(w_k, P, color = \"c\", label = \"Power Law Fit\")\n",
    "powerlaw.plot_pdf(w_degrees_actual, color = \"m\", marker= 'o', label='Raw Data')\n",
    "plt.ylabel('$P(k)$', fontsize = 40)\n",
    "plt.xlabel('$degree, k$', fontsize = 40)\n",
    "plt.legend(loc = 'best', fontsize = 30);"
   ]
  },
  {
   "cell_type": "code",
   "execution_count": null,
   "metadata": {},
   "outputs": [],
   "source": []
  }
 ],
 "metadata": {
  "kernelspec": {
   "display_name": "Python 3",
   "language": "python",
   "name": "python3"
  },
  "language_info": {
   "codemirror_mode": {
    "name": "ipython",
    "version": 3
   },
   "file_extension": ".py",
   "mimetype": "text/x-python",
   "name": "python",
   "nbconvert_exporter": "python",
   "pygments_lexer": "ipython3",
   "version": "3.8.2"
  }
 },
 "nbformat": 4,
 "nbformat_minor": 4
}
