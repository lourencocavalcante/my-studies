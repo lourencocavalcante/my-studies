{
 "cells": [
  {
   "cell_type": "markdown",
   "metadata": {},
   "source": [
    "# <span style=\"color:#336699\">Introduction to Data Science - CAP 394 [<img src=\"./img/icone_cap394.svg\" alt=\"CAP394 - Introduction to Data Science\" style=\"height:120px;\" align=\"right\">](http://www.lac.inpe.br/~rafael.santos/cap394.html)</span>\n",
    "\n",
    "\n",
    "<hr style=\"border:2px solid #0077b9;\">\n",
    "\n",
    "   \n",
    "<h1> <p align=\"right\"> Exploratory Analysis of Meteorological Radar Dataset </p> </h1>\n",
    "   \n",
    "<p align='center'> Project for course  Introduction to Data Science - CAP 394</p>\n",
    "\n",
    "#### Instructors: \n",
    "* Dr. Gilberto Queiroz \n",
    "* Dr. Rafael Santos\n",
    "\n",
    "#### Student: \n",
    "* Helvecio Leal Neto\n",
    "\n",
    "\n",
    "\n",
    "## Schedule\n",
    "     - [x] Data reading\n",
    "     - [x] Data visualization\n",
    "     - [x] Preprocessing\n",
    "     - [x] Cluster detection algorithm\n",
    "     - [x] Relational Directions\n",
    "     - [x] Create Data Functions\n",
    "     - [x] Visualization Radar image\n",
    "     - [x] Statistics and Results\n",
    "     - [ ] Final analysis and project elaboration"
   ]
  },
  {
   "cell_type": "markdown",
   "metadata": {},
   "source": [
    "### Index\n",
    "\n",
    "  [About](#about) <br></br>\n",
    "  [The Data](#the_data)<br></br>\n",
    "  [Reading Data](#reading_data)<br></br>\n",
    "  \n",
    " <hr style=\"border:1px solid #0077b9;\">"
   ]
  },
  {
   "cell_type": "markdown",
   "metadata": {},
   "source": [
    "<a id='about'></a>\n",
    "## About\n",
    "\n",
    "<p align=\"justify\"> <br>\n",
    "This work is part of the suite of applications for the Introduction to Data Science (CAP-394) course offered by the National Institute for Space Research.\n",
    "\n",
    "The purpose of this paper is to perform an exploratory analysis of radar data, gathering raw data, processing it and understanding the dynamics of cloud location from its center of mass, as well as counting the number of clusters per period.\n",
    "At the end of the exploratory process it will be possible to estimate the behavior of the clouds and relate their geographical location as well as correlate average precipitation rates per hour.\n",
    "\n",
    "<hr style=\"border:1px solid #0077b9;\">"
   ]
  },
  {
   "cell_type": "markdown",
   "metadata": {},
   "source": [
    "<a id='the_data'></a>\n",
    "## The Data\n",
    "\n",
    "<p align=\"justify\"><br>\n",
    "The data analyzed in this example consists of NC (NetCDF4) files. Each file corresponds to Rain Rate measurements collected by the Amazon Protection System (SIPAM) radar during the GoAmazon experiment periods, starting from January 2014 to December 2015, such files contain data on 12-minute time intervals. The dataset provides rain data over 2.5km from S-Band Radar located in lat: -3.148556, lon: -59.992000. Data dimensionality consists of a two-dimensional (241x241) matrix containing rain rate values, the Radar Radius range is approximately 240 km, covering an area of 1,500 km² over the state of Amazonas (Brazil).\n",
    "<p align=\"justify\"><br>\n",
    "Overview:\n",
    "\n",
    "\"S-band radar volumes from Manaus, Brazil were shared by SIPAM for the time period beginning in January 2014 to December 2015 partially coinciding with the GOAmazon field campaign. The corrected radar reflectivity from each volume were interpolated to a fixed grid and the rainfall products were generated. A single Z-R relation (Z=174.8R^1.56) was created using 2014 wet-season impact disdrometer data and applied to the 2.5 km SIPAM Manaus S-Band CAPPI data to generate rain rates for each radar volume. This is version 2.0a of the dataset, which benefits from improved quality control procedures to remove non-meteorological data. \" Schumacher</p>\n",
    "\n",
    "\n",
    "https://www.arm.gov/research/campaigns/amf2014goamazon <br>\n",
    "\n",
    "* Courtney Schumacher\tS-band Radar - Rain Rates\n",
    "\n",
    "<img src=\"img/SIPAM.png\" align=\"center\" alt=\"Drawing\" style=\"width: 600px;\">\n",
    "\n",
    "\n",
    "[Figure 01: REDEMET - Radar Manaus](https://www.redemet.aer.mil.br/?i=produtos&p=radares-meteorologicos)\n",
    "<hr style=\"border:1px solid #0077b9;\">"
   ]
  },
  {
   "cell_type": "code",
   "execution_count": 1,
   "metadata": {
    "ExecuteTime": {
     "end_time": "2019-09-27T18:02:08.156603Z",
     "start_time": "2019-09-27T18:02:07.336335Z"
    }
   },
   "outputs": [],
   "source": [
    "import os\n",
    "import xarray as xr\n",
    "import numpy as np\n",
    "import pandas as pd\n",
    "from sklearn.cluster import MeanShift, estimate_bandwidth\n",
    "from shapely.geometry import Polygon\n",
    "from shapely.geometry import Point\n",
    "import geopandas as gpd\n",
    "import matplotlib.pyplot as plt"
   ]
  },
  {
   "cell_type": "markdown",
   "metadata": {},
   "source": [
    "#### DEFINE VARIABLES"
   ]
  },
  {
   "cell_type": "code",
   "execution_count": 2,
   "metadata": {
    "ExecuteTime": {
     "end_time": "2019-09-27T18:02:08.727130Z",
     "start_time": "2019-09-27T18:02:08.722692Z"
    }
   },
   "outputs": [],
   "source": [
    "PATH = 'data/radar/'\n",
    "DAY = sorted(os.listdir(PATH))[0]"
   ]
  },
  {
   "cell_type": "markdown",
   "metadata": {},
   "source": [
    "#### READ FIRST FILES TO LOAD GLOBAL VARIABLES"
   ]
  },
  {
   "cell_type": "code",
   "execution_count": 3,
   "metadata": {
    "ExecuteTime": {
     "end_time": "2019-09-27T18:02:09.139631Z",
     "start_time": "2019-09-27T18:02:09.076938Z"
    }
   },
   "outputs": [],
   "source": [
    "first_file = PATH+str(DAY)+'/'+str(sorted(os.listdir(PATH+str(DAY)))[0])\n",
    "try:\n",
    "    xds = xr.open_dataset(first_file)   \n",
    "except Exception as e:\n",
    "    print('File not found')\n",
    "    \n",
    "RUNIT = xds.rain_rate.units\n",
    "RKM = xds.rain_rate.height_km\n",
    "LON = xds.lon0.data                 ### Coordinate Longitude Matrix\n",
    "LAT = xds.lat0.data                 ### Corrdinate Latitude Matrix\n",
    "X0 = xds.x0                         ### Matrix of points\n",
    "Y0 = xds.y0\n",
    "RADAR = (np.median(LON),np.median(LAT))"
   ]
  },
  {
   "cell_type": "markdown",
   "metadata": {},
   "source": [
    "#### READ TIMES"
   ]
  },
  {
   "cell_type": "code",
   "execution_count": 4,
   "metadata": {
    "ExecuteTime": {
     "end_time": "2019-09-27T18:02:09.425396Z",
     "start_time": "2019-09-27T18:02:09.412062Z"
    }
   },
   "outputs": [],
   "source": [
    "def read_data(date):\n",
    "    \n",
    "    path = 'data/radar/'\n",
    "    dataset = []\n",
    "    interval = len(os.listdir(path+str(date)))    \n",
    "    \n",
    "    # Original grid dimensions\n",
    "    nx = 241\n",
    "    ny = 241\n",
    "\n",
    "    # Define container\n",
    "    frames = np.zeros( (interval, nx, ny ) )    \n",
    "    \n",
    "    for i in range(interval):\n",
    "        d = str(path)+str(date)+'/'\n",
    "        file = (sorted(os.listdir(path+str(date)))[i])\n",
    "        xds = xr.open_dataset(d+file)\n",
    "        rr = xds.rain_rate\n",
    "        frames[i] =  rr\n",
    "            \n",
    "    return frames"
   ]
  },
  {
   "cell_type": "code",
   "execution_count": 5,
   "metadata": {
    "ExecuteTime": {
     "end_time": "2019-09-27T18:02:10.817087Z",
     "start_time": "2019-09-27T18:02:09.574396Z"
    }
   },
   "outputs": [
    {
     "data": {
      "image/png": "[encoded data removed]",
      "text/plain": [
       "<Figure size 576x288 with 1 Axes>"
      ]
     },
     "metadata": {
      "needs_background": "light"
     },
     "output_type": "display_data"
    }
   ],
   "source": [
    "DAY = 20140301\n",
    "figtime = 0\n",
    "frames = read_data(DAY)\n",
    "\n",
    "filename = sorted(os.listdir(PATH+str(DAY)))[figtime]\n",
    "plt.figure(figsize=(8,4))\n",
    "plt.title(filename)\n",
    "plt.scatter(LON,LAT,frames[figtime])\n",
    "plt.show();"
   ]
  },
  {
   "cell_type": "code",
   "execution_count": 6,
   "metadata": {
    "ExecuteTime": {
     "end_time": "2019-09-27T18:02:10.821590Z",
     "start_time": "2019-09-27T18:02:10.818231Z"
    }
   },
   "outputs": [],
   "source": [
    "def pre_processing_rain(time):\n",
    "    np.warnings.filterwarnings('ignore')\n",
    "    \n",
    "    ## thereshold value to track  21.8\n",
    "    threshold = 9.96\n",
    "    \n",
    "    rs =  (np.where(time != np.nan) and np.where(time > threshold))\n",
    "    rs = np.asanyarray(rs)\n",
    "    pe = pd.DataFrame({'x1':rs[0],'y1':rs[1]})\n",
    "    \n",
    "    rain = []\n",
    "    \n",
    "    for i,row in pe.iterrows():\n",
    "        rain.append(time[row.x1][row.y1])\n",
    "    \n",
    "    pe['rain'] = rain\n",
    "    \n",
    "    return pe"
   ]
  },
  {
   "cell_type": "code",
   "execution_count": 9,
   "metadata": {
    "ExecuteTime": {
     "end_time": "2019-09-27T18:02:11.681251Z",
     "start_time": "2019-09-27T18:02:11.677703Z"
    }
   },
   "outputs": [],
   "source": [
    "# def clusterization(lim):\n",
    "#     te = lim.copy()\n",
    "    \n",
    "#     if len(te) < 2:\n",
    "#         return None\n",
    "    \n",
    "#     best_bdt = estimate_bandwidth(te, quantile=0.05, n_samples=None, random_state=0, n_jobs=None)\n",
    "#     ms,bdt = 0,0\n",
    "#     while (ms <= best_bdt):\n",
    "#         ms = estimate_bandwidth(te, quantile=bdt, n_samples=None, random_state=0, n_jobs=None)\n",
    "#         print(ms)\n",
    "#         bdt += 0.01\n",
    "        \n",
    "#     bandwidth = ms\n",
    "    \n",
    "#     return te"
   ]
  },
  {
   "cell_type": "code",
   "execution_count": 7,
   "metadata": {
    "ExecuteTime": {
     "end_time": "2019-09-27T18:02:10.931529Z",
     "start_time": "2019-09-27T18:02:10.822833Z"
    }
   },
   "outputs": [],
   "source": [
    "def pre_processing(time1):\n",
    "    np.warnings.filterwarnings('ignore')\n",
    "    \n",
    "    ## thereshold value to track\n",
    "    threshold = 21.8\n",
    "    \n",
    "    rs =  (np.where(time1 != np.nan) and np.where(time1 > threshold))\n",
    "    rs = np.asanyarray(rs)\n",
    "    pe = pd.DataFrame({'x1':rs[0],'y1':rs[1]})\n",
    "    return pe"
   ]
  },
  {
   "cell_type": "code",
   "execution_count": 37,
   "metadata": {
    "ExecuteTime": {
     "end_time": "2019-09-27T18:22:17.869327Z",
     "start_time": "2019-09-27T18:22:17.224988Z"
    }
   },
   "outputs": [
    {
     "data": {
      "text/html": [
       "<div>\n",
       "<style scoped>\n",
       "    .dataframe tbody tr th:only-of-type {\n",
       "        vertical-align: middle;\n",
       "    }\n",
       "\n",
       "    .dataframe tbody tr th {\n",
       "        vertical-align: top;\n",
       "    }\n",
       "\n",
       "    .dataframe thead th {\n",
       "        text-align: right;\n",
       "    }\n",
       "</style>\n",
       "<table border=\"1\" class=\"dataframe\">\n",
       "  <thead>\n",
       "    <tr style=\"text-align: right;\">\n",
       "      <th></th>\n",
       "      <th>x1</th>\n",
       "      <th>y1</th>\n",
       "    </tr>\n",
       "  </thead>\n",
       "  <tbody>\n",
       "    <tr>\n",
       "      <td>0</td>\n",
       "      <td>174</td>\n",
       "      <td>94</td>\n",
       "    </tr>\n",
       "    <tr>\n",
       "      <td>1</td>\n",
       "      <td>174</td>\n",
       "      <td>95</td>\n",
       "    </tr>\n",
       "    <tr>\n",
       "      <td>2</td>\n",
       "      <td>174</td>\n",
       "      <td>96</td>\n",
       "    </tr>\n",
       "    <tr>\n",
       "      <td>3</td>\n",
       "      <td>175</td>\n",
       "      <td>91</td>\n",
       "    </tr>\n",
       "    <tr>\n",
       "      <td>4</td>\n",
       "      <td>175</td>\n",
       "      <td>92</td>\n",
       "    </tr>\n",
       "  </tbody>\n",
       "</table>\n",
       "</div>"
      ],
      "text/plain": [
       "    x1  y1\n",
       "0  174  94\n",
       "1  174  95\n",
       "2  174  96\n",
       "3  175  91\n",
       "4  175  92"
      ]
     },
     "execution_count": 37,
     "metadata": {},
     "output_type": "execute_result"
    }
   ],
   "source": [
    "DAY = 20140324\n",
    "figtime = 15\n",
    "frames = read_data(DAY)\n",
    "pre_processing(frames[15]).head()"
   ]
  },
  {
   "cell_type": "code",
   "execution_count": 10,
   "metadata": {
    "ExecuteTime": {
     "end_time": "2019-09-27T18:02:11.841204Z",
     "start_time": "2019-09-27T18:02:11.682351Z"
    }
   },
   "outputs": [],
   "source": [
    "def clusterization(time):\n",
    "    te = time\n",
    "    \n",
    "    if len(te) < 2:\n",
    "        return None\n",
    "    \n",
    "    bandwidth = estimate_bandwidth(te, quantile=0.03, n_samples=None, random_state=0, n_jobs=None)\n",
    "\n",
    "    if bandwidth > 0:\n",
    "        print('band_maior')\n",
    "        ms = MeanShift(bandwidth=bandwidth, bin_seeding=True, cluster_all=True, min_bin_freq=1,\n",
    "        n_jobs=None, seeds=None)\n",
    "        \n",
    "    else:\n",
    "        print('band_menor')\n",
    "        bandwidth = estimate_bandwidth(te, quantile=0.5, n_samples=None, random_state=0, n_jobs=None)\n",
    "        ms = MeanShift(bandwidth=bandwidth, bin_seeding=True, cluster_all=True, min_bin_freq=1,\n",
    "        n_jobs=None, seeds=None)\n",
    "    \n",
    "    ms.fit(te)\n",
    "    labels = ms.labels_\n",
    "    cluster_centers = ms.cluster_centers_\n",
    "    n_clusters_ = len(np.unique(labels))\n",
    "    te['cluster']=labels\n",
    "\n",
    "    return te"
   ]
  },
  {
   "cell_type": "code",
   "execution_count": 38,
   "metadata": {
    "ExecuteTime": {
     "end_time": "2019-09-27T18:50:12.579594Z",
     "start_time": "2019-09-27T18:50:11.927986Z"
    }
   },
   "outputs": [
    {
     "name": "stdout",
     "output_type": "stream",
     "text": [
      "band_menor\n"
     ]
    },
    {
     "data": {
      "text/html": [
       "<div>\n",
       "<style scoped>\n",
       "    .dataframe tbody tr th:only-of-type {\n",
       "        vertical-align: middle;\n",
       "    }\n",
       "\n",
       "    .dataframe tbody tr th {\n",
       "        vertical-align: top;\n",
       "    }\n",
       "\n",
       "    .dataframe thead th {\n",
       "        text-align: right;\n",
       "    }\n",
       "</style>\n",
       "<table border=\"1\" class=\"dataframe\">\n",
       "  <thead>\n",
       "    <tr style=\"text-align: right;\">\n",
       "      <th></th>\n",
       "      <th>x1</th>\n",
       "      <th>y1</th>\n",
       "      <th>cluster</th>\n",
       "    </tr>\n",
       "  </thead>\n",
       "  <tbody>\n",
       "    <tr>\n",
       "      <td>0</td>\n",
       "      <td>159</td>\n",
       "      <td>130</td>\n",
       "      <td>0</td>\n",
       "    </tr>\n",
       "    <tr>\n",
       "      <td>1</td>\n",
       "      <td>161</td>\n",
       "      <td>130</td>\n",
       "      <td>0</td>\n",
       "    </tr>\n",
       "    <tr>\n",
       "      <td>2</td>\n",
       "      <td>162</td>\n",
       "      <td>127</td>\n",
       "      <td>0</td>\n",
       "    </tr>\n",
       "    <tr>\n",
       "      <td>3</td>\n",
       "      <td>162</td>\n",
       "      <td>128</td>\n",
       "      <td>0</td>\n",
       "    </tr>\n",
       "    <tr>\n",
       "      <td>4</td>\n",
       "      <td>162</td>\n",
       "      <td>129</td>\n",
       "      <td>0</td>\n",
       "    </tr>\n",
       "    <tr>\n",
       "      <td>5</td>\n",
       "      <td>162</td>\n",
       "      <td>130</td>\n",
       "      <td>0</td>\n",
       "    </tr>\n",
       "    <tr>\n",
       "      <td>6</td>\n",
       "      <td>163</td>\n",
       "      <td>126</td>\n",
       "      <td>0</td>\n",
       "    </tr>\n",
       "    <tr>\n",
       "      <td>7</td>\n",
       "      <td>163</td>\n",
       "      <td>127</td>\n",
       "      <td>0</td>\n",
       "    </tr>\n",
       "    <tr>\n",
       "      <td>8</td>\n",
       "      <td>163</td>\n",
       "      <td>128</td>\n",
       "      <td>0</td>\n",
       "    </tr>\n",
       "    <tr>\n",
       "      <td>9</td>\n",
       "      <td>163</td>\n",
       "      <td>129</td>\n",
       "      <td>0</td>\n",
       "    </tr>\n",
       "    <tr>\n",
       "      <td>10</td>\n",
       "      <td>163</td>\n",
       "      <td>130</td>\n",
       "      <td>0</td>\n",
       "    </tr>\n",
       "    <tr>\n",
       "      <td>11</td>\n",
       "      <td>164</td>\n",
       "      <td>129</td>\n",
       "      <td>0</td>\n",
       "    </tr>\n",
       "    <tr>\n",
       "      <td>12</td>\n",
       "      <td>164</td>\n",
       "      <td>130</td>\n",
       "      <td>0</td>\n",
       "    </tr>\n",
       "    <tr>\n",
       "      <td>13</td>\n",
       "      <td>164</td>\n",
       "      <td>131</td>\n",
       "      <td>0</td>\n",
       "    </tr>\n",
       "    <tr>\n",
       "      <td>14</td>\n",
       "      <td>166</td>\n",
       "      <td>127</td>\n",
       "      <td>0</td>\n",
       "    </tr>\n",
       "    <tr>\n",
       "      <td>15</td>\n",
       "      <td>166</td>\n",
       "      <td>128</td>\n",
       "      <td>0</td>\n",
       "    </tr>\n",
       "    <tr>\n",
       "      <td>16</td>\n",
       "      <td>166</td>\n",
       "      <td>129</td>\n",
       "      <td>0</td>\n",
       "    </tr>\n",
       "    <tr>\n",
       "      <td>17</td>\n",
       "      <td>167</td>\n",
       "      <td>128</td>\n",
       "      <td>0</td>\n",
       "    </tr>\n",
       "    <tr>\n",
       "      <td>18</td>\n",
       "      <td>167</td>\n",
       "      <td>129</td>\n",
       "      <td>0</td>\n",
       "    </tr>\n",
       "    <tr>\n",
       "      <td>19</td>\n",
       "      <td>167</td>\n",
       "      <td>130</td>\n",
       "      <td>0</td>\n",
       "    </tr>\n",
       "    <tr>\n",
       "      <td>20</td>\n",
       "      <td>171</td>\n",
       "      <td>119</td>\n",
       "      <td>0</td>\n",
       "    </tr>\n",
       "    <tr>\n",
       "      <td>21</td>\n",
       "      <td>171</td>\n",
       "      <td>120</td>\n",
       "      <td>0</td>\n",
       "    </tr>\n",
       "    <tr>\n",
       "      <td>22</td>\n",
       "      <td>171</td>\n",
       "      <td>121</td>\n",
       "      <td>0</td>\n",
       "    </tr>\n",
       "    <tr>\n",
       "      <td>23</td>\n",
       "      <td>172</td>\n",
       "      <td>119</td>\n",
       "      <td>0</td>\n",
       "    </tr>\n",
       "    <tr>\n",
       "      <td>24</td>\n",
       "      <td>172</td>\n",
       "      <td>120</td>\n",
       "      <td>0</td>\n",
       "    </tr>\n",
       "    <tr>\n",
       "      <td>25</td>\n",
       "      <td>172</td>\n",
       "      <td>121</td>\n",
       "      <td>0</td>\n",
       "    </tr>\n",
       "    <tr>\n",
       "      <td>26</td>\n",
       "      <td>172</td>\n",
       "      <td>122</td>\n",
       "      <td>0</td>\n",
       "    </tr>\n",
       "    <tr>\n",
       "      <td>27</td>\n",
       "      <td>173</td>\n",
       "      <td>120</td>\n",
       "      <td>0</td>\n",
       "    </tr>\n",
       "    <tr>\n",
       "      <td>28</td>\n",
       "      <td>173</td>\n",
       "      <td>121</td>\n",
       "      <td>0</td>\n",
       "    </tr>\n",
       "    <tr>\n",
       "      <td>29</td>\n",
       "      <td>177</td>\n",
       "      <td>116</td>\n",
       "      <td>0</td>\n",
       "    </tr>\n",
       "    <tr>\n",
       "      <td>30</td>\n",
       "      <td>178</td>\n",
       "      <td>115</td>\n",
       "      <td>0</td>\n",
       "    </tr>\n",
       "    <tr>\n",
       "      <td>31</td>\n",
       "      <td>178</td>\n",
       "      <td>116</td>\n",
       "      <td>0</td>\n",
       "    </tr>\n",
       "    <tr>\n",
       "      <td>32</td>\n",
       "      <td>178</td>\n",
       "      <td>117</td>\n",
       "      <td>0</td>\n",
       "    </tr>\n",
       "    <tr>\n",
       "      <td>33</td>\n",
       "      <td>178</td>\n",
       "      <td>118</td>\n",
       "      <td>0</td>\n",
       "    </tr>\n",
       "    <tr>\n",
       "      <td>34</td>\n",
       "      <td>179</td>\n",
       "      <td>116</td>\n",
       "      <td>0</td>\n",
       "    </tr>\n",
       "    <tr>\n",
       "      <td>35</td>\n",
       "      <td>179</td>\n",
       "      <td>117</td>\n",
       "      <td>0</td>\n",
       "    </tr>\n",
       "    <tr>\n",
       "      <td>36</td>\n",
       "      <td>179</td>\n",
       "      <td>118</td>\n",
       "      <td>0</td>\n",
       "    </tr>\n",
       "    <tr>\n",
       "      <td>37</td>\n",
       "      <td>188</td>\n",
       "      <td>92</td>\n",
       "      <td>1</td>\n",
       "    </tr>\n",
       "    <tr>\n",
       "      <td>38</td>\n",
       "      <td>188</td>\n",
       "      <td>93</td>\n",
       "      <td>1</td>\n",
       "    </tr>\n",
       "    <tr>\n",
       "      <td>39</td>\n",
       "      <td>189</td>\n",
       "      <td>94</td>\n",
       "      <td>1</td>\n",
       "    </tr>\n",
       "    <tr>\n",
       "      <td>40</td>\n",
       "      <td>189</td>\n",
       "      <td>95</td>\n",
       "      <td>1</td>\n",
       "    </tr>\n",
       "    <tr>\n",
       "      <td>41</td>\n",
       "      <td>193</td>\n",
       "      <td>101</td>\n",
       "      <td>1</td>\n",
       "    </tr>\n",
       "    <tr>\n",
       "      <td>42</td>\n",
       "      <td>193</td>\n",
       "      <td>102</td>\n",
       "      <td>1</td>\n",
       "    </tr>\n",
       "    <tr>\n",
       "      <td>43</td>\n",
       "      <td>193</td>\n",
       "      <td>103</td>\n",
       "      <td>1</td>\n",
       "    </tr>\n",
       "  </tbody>\n",
       "</table>\n",
       "</div>"
      ],
      "text/plain": [
       "     x1   y1  cluster\n",
       "0   159  130        0\n",
       "1   161  130        0\n",
       "2   162  127        0\n",
       "3   162  128        0\n",
       "4   162  129        0\n",
       "5   162  130        0\n",
       "6   163  126        0\n",
       "7   163  127        0\n",
       "8   163  128        0\n",
       "9   163  129        0\n",
       "10  163  130        0\n",
       "11  164  129        0\n",
       "12  164  130        0\n",
       "13  164  131        0\n",
       "14  166  127        0\n",
       "15  166  128        0\n",
       "16  166  129        0\n",
       "17  167  128        0\n",
       "18  167  129        0\n",
       "19  167  130        0\n",
       "20  171  119        0\n",
       "21  171  120        0\n",
       "22  171  121        0\n",
       "23  172  119        0\n",
       "24  172  120        0\n",
       "25  172  121        0\n",
       "26  172  122        0\n",
       "27  173  120        0\n",
       "28  173  121        0\n",
       "29  177  116        0\n",
       "30  178  115        0\n",
       "31  178  116        0\n",
       "32  178  117        0\n",
       "33  178  118        0\n",
       "34  179  116        0\n",
       "35  179  117        0\n",
       "36  179  118        0\n",
       "37  188   92        1\n",
       "38  188   93        1\n",
       "39  189   94        1\n",
       "40  189   95        1\n",
       "41  193  101        1\n",
       "42  193  102        1\n",
       "43  193  103        1"
      ]
     },
     "execution_count": 38,
     "metadata": {},
     "output_type": "execute_result"
    }
   ],
   "source": [
    "day = 20140324\n",
    "time = 1\n",
    "frames = read_data(day)\n",
    "frameTime = pre_processing(frames[time])\n",
    "clusters = clusterization(frameTime)\n",
    "frameTime"
   ]
  },
  {
   "cell_type": "code",
   "execution_count": 12,
   "metadata": {
    "ExecuteTime": {
     "end_time": "2019-09-27T18:02:12.586886Z",
     "start_time": "2019-09-27T18:02:12.581333Z"
    }
   },
   "outputs": [],
   "source": [
    "def tRelation(p,q):\n",
    "\n",
    "    north_west       =  p[1] <  q[1] and  p[0] >  q[0] \n",
    "    restricted_north =  p[1] == q[1] and  p[0] >  q[0]\n",
    "    north_east       =  p[1] >  q[1] and  p[0] >  q[0]\n",
    "    restricted_west  =  p[1] <  q[1] and  p[0] == q[0]\n",
    "    same_position    =  p[1] == q[1] and  p[0] == q[0]\n",
    "    restricted_east  =  p[1] >  q[1] and  p[0] == q[0]\n",
    "    south_west       =  p[1] <  q[1] and  p[0] <  q[0]\n",
    "    restricted_south =  p[1] == q[1] and  p[0] <  q[0] \n",
    "    south_est        =  p[1] >  q[1] and  p[0] <  q[0]\n",
    "\n",
    "    if north_west == True:\n",
    "        return ('NW')\n",
    "    if restricted_north == True:\n",
    "        return ('RN')\n",
    "    if north_east == True:\n",
    "        return ('NE')\n",
    "    if restricted_west == True:\n",
    "        return ('RW')\n",
    "    if same_position == True:\n",
    "        return('SP')\n",
    "    if restricted_east == True:\n",
    "        return ('RE')\n",
    "    if south_west == True:\n",
    "        return ('SW')\n",
    "    if restricted_south == True:\n",
    "        return ('RS')\n",
    "    if south_est == True:\n",
    "        return ('SE')"
   ]
  },
  {
   "cell_type": "code",
   "execution_count": 13,
   "metadata": {
    "ExecuteTime": {
     "end_time": "2019-09-27T18:02:12.710911Z",
     "start_time": "2019-09-27T18:02:12.587975Z"
    }
   },
   "outputs": [],
   "source": [
    "def create_data(day,time,frames,clusters):\n",
    "    \n",
    "    if isinstance(clusters,pd.DataFrame):\n",
    "    \n",
    "        data = pd.DataFrame(columns=['DATETIME', 'N_CLUSTER','ID_CLUST','LON','LAT','R_FALL','DBZ'])\n",
    "\n",
    "        ##Static Radar Coordinates Value for Topological relation\n",
    "        radar = (-3.148556, -59.992000)\n",
    "\n",
    "        # get values datetime\n",
    "        dtime = xr.open_dataset(str(PATH)+str(day)+'/'+str(sorted(os.listdir(PATH+str(day)))[time])).start_time.values\n",
    "\n",
    "        lat = (LAT[clusters['x1'],clusters['y1']])\n",
    "        lon = (LON[clusters['x1'],clusters['y1']])\n",
    "\n",
    "        # get values from RAIN_FALL\n",
    "        rfall = (frames[clusters['x1'],clusters['y1']])\n",
    "\n",
    "        rlation = []\n",
    "        # Calculate relation\n",
    "        for i,row in clusters.iterrows():\n",
    "            r = tRelation((lat[i],lon[i]),radar)\n",
    "            rlation.append(r)\n",
    "\n",
    "        data['LON'] = lon\n",
    "        data['LAT'] = lat\n",
    "\n",
    "        data['N_CLUSTER'] = len(clusters['cluster'].unique())\n",
    "        data['ID_CLUST'] = clusters['cluster']\n",
    "        data['X1'] = clusters['x1']\n",
    "        data['Y1'] = clusters['y1']\n",
    "        data['R_FALL'] = rfall\n",
    "        data['T_RELATION'] = rlation\n",
    "        data['DBZ'] = 10 * np.log10(200*data['R_FALL']**1.6)\n",
    "        data['DATETIME'] = pd.to_datetime(dtime)\n",
    "\n",
    "        data = data.set_index('DATETIME')\n",
    "\n",
    "        # get 5 largest values from DBZ\n",
    "        largest = 3\n",
    "        cdata = pd.DataFrame()\n",
    "        for i in range(data['N_CLUSTER'].max()):\n",
    "            ct = data.loc[data['ID_CLUST'] == i]\n",
    "            if ct.ID_CLUST.count() >= largest:\n",
    "                cdata = cdata.append(ct)\n",
    "\n",
    "        cdata['N_CLUSTER'] = len(cdata['ID_CLUST'].unique())\n",
    "        cdata['ID_CLUST'] = cdata['ID_CLUST'].astype(int)\n",
    "\n",
    "        del data,dtime,lat,lon,rfall,largest,ct\n",
    "    else:\n",
    "        return None\n",
    "    \n",
    "    return cdata"
   ]
  },
  {
   "cell_type": "code",
   "execution_count": 14,
   "metadata": {
    "ExecuteTime": {
     "end_time": "2019-09-27T18:02:13.548589Z",
     "start_time": "2019-09-27T18:02:12.715564Z"
    }
   },
   "outputs": [
    {
     "name": "stdout",
     "output_type": "stream",
     "text": [
      "band_menor\n"
     ]
    },
    {
     "data": {
      "text/html": [
       "<div>\n",
       "<style scoped>\n",
       "    .dataframe tbody tr th:only-of-type {\n",
       "        vertical-align: middle;\n",
       "    }\n",
       "\n",
       "    .dataframe tbody tr th {\n",
       "        vertical-align: top;\n",
       "    }\n",
       "\n",
       "    .dataframe thead th {\n",
       "        text-align: right;\n",
       "    }\n",
       "</style>\n",
       "<table border=\"1\" class=\"dataframe\">\n",
       "  <thead>\n",
       "    <tr style=\"text-align: right;\">\n",
       "      <th></th>\n",
       "      <th>N_CLUSTER</th>\n",
       "      <th>ID_CLUST</th>\n",
       "      <th>LON</th>\n",
       "      <th>LAT</th>\n",
       "      <th>R_FALL</th>\n",
       "      <th>DBZ</th>\n",
       "      <th>X1</th>\n",
       "      <th>Y1</th>\n",
       "      <th>T_RELATION</th>\n",
       "    </tr>\n",
       "    <tr>\n",
       "      <th>DATETIME</th>\n",
       "      <th></th>\n",
       "      <th></th>\n",
       "      <th></th>\n",
       "      <th></th>\n",
       "      <th></th>\n",
       "      <th></th>\n",
       "      <th></th>\n",
       "      <th></th>\n",
       "      <th></th>\n",
       "    </tr>\n",
       "  </thead>\n",
       "  <tbody>\n",
       "    <tr>\n",
       "      <td>2014-03-24 03:11:44</td>\n",
       "      <td>1</td>\n",
       "      <td>0</td>\n",
       "      <td>-60.459438</td>\n",
       "      <td>-2.179026</td>\n",
       "      <td>29.217001</td>\n",
       "      <td>46.460470</td>\n",
       "      <td>174</td>\n",
       "      <td>94</td>\n",
       "      <td>NW</td>\n",
       "    </tr>\n",
       "    <tr>\n",
       "      <td>2014-03-24 03:11:44</td>\n",
       "      <td>1</td>\n",
       "      <td>0</td>\n",
       "      <td>-60.441463</td>\n",
       "      <td>-2.179033</td>\n",
       "      <td>21.842146</td>\n",
       "      <td>44.439025</td>\n",
       "      <td>174</td>\n",
       "      <td>95</td>\n",
       "      <td>NW</td>\n",
       "    </tr>\n",
       "    <tr>\n",
       "      <td>2014-03-24 03:11:44</td>\n",
       "      <td>1</td>\n",
       "      <td>0</td>\n",
       "      <td>-60.423485</td>\n",
       "      <td>-2.179039</td>\n",
       "      <td>26.895578</td>\n",
       "      <td>45.885194</td>\n",
       "      <td>174</td>\n",
       "      <td>96</td>\n",
       "      <td>NW</td>\n",
       "    </tr>\n",
       "    <tr>\n",
       "      <td>2014-03-24 03:11:44</td>\n",
       "      <td>1</td>\n",
       "      <td>0</td>\n",
       "      <td>-60.513367</td>\n",
       "      <td>-2.161037</td>\n",
       "      <td>37.738522</td>\n",
       "      <td>48.238858</td>\n",
       "      <td>175</td>\n",
       "      <td>91</td>\n",
       "      <td>NW</td>\n",
       "    </tr>\n",
       "    <tr>\n",
       "      <td>2014-03-24 03:11:44</td>\n",
       "      <td>1</td>\n",
       "      <td>0</td>\n",
       "      <td>-60.495392</td>\n",
       "      <td>-2.161045</td>\n",
       "      <td>41.890873</td>\n",
       "      <td>48.964211</td>\n",
       "      <td>175</td>\n",
       "      <td>92</td>\n",
       "      <td>NW</td>\n",
       "    </tr>\n",
       "  </tbody>\n",
       "</table>\n",
       "</div>"
      ],
      "text/plain": [
       "                     N_CLUSTER  ID_CLUST        LON       LAT     R_FALL  \\\n",
       "DATETIME                                                                   \n",
       "2014-03-24 03:11:44          1         0 -60.459438 -2.179026  29.217001   \n",
       "2014-03-24 03:11:44          1         0 -60.441463 -2.179033  21.842146   \n",
       "2014-03-24 03:11:44          1         0 -60.423485 -2.179039  26.895578   \n",
       "2014-03-24 03:11:44          1         0 -60.513367 -2.161037  37.738522   \n",
       "2014-03-24 03:11:44          1         0 -60.495392 -2.161045  41.890873   \n",
       "\n",
       "                           DBZ   X1  Y1 T_RELATION  \n",
       "DATETIME                                            \n",
       "2014-03-24 03:11:44  46.460470  174  94         NW  \n",
       "2014-03-24 03:11:44  44.439025  174  95         NW  \n",
       "2014-03-24 03:11:44  45.885194  174  96         NW  \n",
       "2014-03-24 03:11:44  48.238858  175  91         NW  \n",
       "2014-03-24 03:11:44  48.964211  175  92         NW  "
      ]
     },
     "execution_count": 14,
     "metadata": {},
     "output_type": "execute_result"
    }
   ],
   "source": [
    "day = 20140324\n",
    "time = 15\n",
    "frames = read_data(day)\n",
    "clusters = clusterization(pre_processing(frames[time]))\n",
    "data = create_data(day,time,frames[time],clusters)\n",
    "data.head()"
   ]
  },
  {
   "cell_type": "code",
   "execution_count": 15,
   "metadata": {
    "ExecuteTime": {
     "end_time": "2019-09-27T18:02:13.555382Z",
     "start_time": "2019-09-27T18:02:13.550152Z"
    }
   },
   "outputs": [],
   "source": [
    "def create_geopoints(data,create_shp):\n",
    "    \n",
    "    cdata = data.copy()\n",
    "\n",
    "    cdata['GEOM'] = list(zip(cdata.LON,data.LAT))\n",
    "    cdata.GEOM = cdata.GEOM.apply(Point)\n",
    "\n",
    "    gdata = gpd.GeoDataFrame(cdata, geometry='GEOM')\n",
    "    gdata.crs = {'init' :'epsg:4326'}\n",
    "    \n",
    "    if create_shp == 1:\n",
    "        dirname = gdata.index[0].isoformat()[:-9]\n",
    "        dirname = dirname.replace('-','')\n",
    "        timer = gdata.index[0].isoformat()[11:]\n",
    "        timer = timer.replace(':','')\n",
    "        if not os.path.exists('shapefiles/points/'+ str(dirname)):\n",
    "            try:\n",
    "                os.makedirs('shapefiles/points/'+ str(dirname), 0o700)\n",
    "            except OSError as e:\n",
    "                if e.errno != errno.EEXIST:\n",
    "                    raise\n",
    "        gdata.to_file('shapefiles/points/'+ str(dirname) +'/sbmn_rain_rates_points_'+(dirname)+'_'+str(timer)+'.shp')\n",
    "    return gdata"
   ]
  },
  {
   "cell_type": "code",
   "execution_count": 16,
   "metadata": {
    "ExecuteTime": {
     "end_time": "2019-09-27T18:02:13.731697Z",
     "start_time": "2019-09-27T18:02:13.556787Z"
    }
   },
   "outputs": [
    {
     "data": {
      "text/html": [
       "<div>\n",
       "<style scoped>\n",
       "    .dataframe tbody tr th:only-of-type {\n",
       "        vertical-align: middle;\n",
       "    }\n",
       "\n",
       "    .dataframe tbody tr th {\n",
       "        vertical-align: top;\n",
       "    }\n",
       "\n",
       "    .dataframe thead th {\n",
       "        text-align: right;\n",
       "    }\n",
       "</style>\n",
       "<table border=\"1\" class=\"dataframe\">\n",
       "  <thead>\n",
       "    <tr style=\"text-align: right;\">\n",
       "      <th></th>\n",
       "      <th>N_CLUSTER</th>\n",
       "      <th>ID_CLUST</th>\n",
       "      <th>LON</th>\n",
       "      <th>LAT</th>\n",
       "      <th>R_FALL</th>\n",
       "      <th>DBZ</th>\n",
       "      <th>X1</th>\n",
       "      <th>Y1</th>\n",
       "      <th>T_RELATION</th>\n",
       "      <th>GEOM</th>\n",
       "    </tr>\n",
       "    <tr>\n",
       "      <th>DATETIME</th>\n",
       "      <th></th>\n",
       "      <th></th>\n",
       "      <th></th>\n",
       "      <th></th>\n",
       "      <th></th>\n",
       "      <th></th>\n",
       "      <th></th>\n",
       "      <th></th>\n",
       "      <th></th>\n",
       "      <th></th>\n",
       "    </tr>\n",
       "  </thead>\n",
       "  <tbody>\n",
       "    <tr>\n",
       "      <td>2014-03-24 03:11:44</td>\n",
       "      <td>1</td>\n",
       "      <td>0</td>\n",
       "      <td>-60.459438</td>\n",
       "      <td>-2.179026</td>\n",
       "      <td>29.217001</td>\n",
       "      <td>46.460470</td>\n",
       "      <td>174</td>\n",
       "      <td>94</td>\n",
       "      <td>NW</td>\n",
       "      <td>POINT (-60.45943832397461 -2.179025650024414)</td>\n",
       "    </tr>\n",
       "    <tr>\n",
       "      <td>2014-03-24 03:11:44</td>\n",
       "      <td>1</td>\n",
       "      <td>0</td>\n",
       "      <td>-60.441463</td>\n",
       "      <td>-2.179033</td>\n",
       "      <td>21.842146</td>\n",
       "      <td>44.439025</td>\n",
       "      <td>174</td>\n",
       "      <td>95</td>\n",
       "      <td>NW</td>\n",
       "      <td>POINT (-60.44146347045898 -2.179032802581787)</td>\n",
       "    </tr>\n",
       "    <tr>\n",
       "      <td>2014-03-24 03:11:44</td>\n",
       "      <td>1</td>\n",
       "      <td>0</td>\n",
       "      <td>-60.423485</td>\n",
       "      <td>-2.179039</td>\n",
       "      <td>26.895578</td>\n",
       "      <td>45.885194</td>\n",
       "      <td>174</td>\n",
       "      <td>96</td>\n",
       "      <td>NW</td>\n",
       "      <td>POINT (-60.42348480224609 -2.179039478302002)</td>\n",
       "    </tr>\n",
       "    <tr>\n",
       "      <td>2014-03-24 03:11:44</td>\n",
       "      <td>1</td>\n",
       "      <td>0</td>\n",
       "      <td>-60.513367</td>\n",
       "      <td>-2.161037</td>\n",
       "      <td>37.738522</td>\n",
       "      <td>48.238858</td>\n",
       "      <td>175</td>\n",
       "      <td>91</td>\n",
       "      <td>NW</td>\n",
       "      <td>POINT (-60.51336669921875 -2.161036729812622)</td>\n",
       "    </tr>\n",
       "    <tr>\n",
       "      <td>2014-03-24 03:11:44</td>\n",
       "      <td>1</td>\n",
       "      <td>0</td>\n",
       "      <td>-60.495392</td>\n",
       "      <td>-2.161045</td>\n",
       "      <td>41.890873</td>\n",
       "      <td>48.964211</td>\n",
       "      <td>175</td>\n",
       "      <td>92</td>\n",
       "      <td>NW</td>\n",
       "      <td>POINT (-60.49539184570312 -2.161044597625732)</td>\n",
       "    </tr>\n",
       "  </tbody>\n",
       "</table>\n",
       "</div>"
      ],
      "text/plain": [
       "                     N_CLUSTER  ID_CLUST        LON       LAT     R_FALL  \\\n",
       "DATETIME                                                                   \n",
       "2014-03-24 03:11:44          1         0 -60.459438 -2.179026  29.217001   \n",
       "2014-03-24 03:11:44          1         0 -60.441463 -2.179033  21.842146   \n",
       "2014-03-24 03:11:44          1         0 -60.423485 -2.179039  26.895578   \n",
       "2014-03-24 03:11:44          1         0 -60.513367 -2.161037  37.738522   \n",
       "2014-03-24 03:11:44          1         0 -60.495392 -2.161045  41.890873   \n",
       "\n",
       "                           DBZ   X1  Y1 T_RELATION  \\\n",
       "DATETIME                                             \n",
       "2014-03-24 03:11:44  46.460470  174  94         NW   \n",
       "2014-03-24 03:11:44  44.439025  174  95         NW   \n",
       "2014-03-24 03:11:44  45.885194  174  96         NW   \n",
       "2014-03-24 03:11:44  48.238858  175  91         NW   \n",
       "2014-03-24 03:11:44  48.964211  175  92         NW   \n",
       "\n",
       "                                                              GEOM  \n",
       "DATETIME                                                            \n",
       "2014-03-24 03:11:44  POINT (-60.45943832397461 -2.179025650024414)  \n",
       "2014-03-24 03:11:44  POINT (-60.44146347045898 -2.179032802581787)  \n",
       "2014-03-24 03:11:44  POINT (-60.42348480224609 -2.179039478302002)  \n",
       "2014-03-24 03:11:44  POINT (-60.51336669921875 -2.161036729812622)  \n",
       "2014-03-24 03:11:44  POINT (-60.49539184570312 -2.161044597625732)  "
      ]
     },
     "execution_count": 16,
     "metadata": {},
     "output_type": "execute_result"
    }
   ],
   "source": [
    "g_points = create_geopoints(data,1)\n",
    "g_points.head()"
   ]
  },
  {
   "cell_type": "code",
   "execution_count": 17,
   "metadata": {
    "ExecuteTime": {
     "end_time": "2019-09-27T18:02:13.746467Z",
     "start_time": "2019-09-27T18:02:13.733092Z"
    },
    "code_folding": []
   },
   "outputs": [],
   "source": [
    "import heapq\n",
    "from shapely import wkt\n",
    "\n",
    "def poly_data(data,create_shp):\n",
    "    \n",
    "    cpdata = data.copy()\n",
    "\n",
    "    m_fall = []\n",
    "    m_dbz = []\n",
    "    mx_fall = []\n",
    "        \n",
    "    rrange = cpdata.ID_CLUST.unique()\n",
    "    \n",
    "    for i in rrange:\n",
    "\n",
    "        ctp = cpdata.loc[cpdata['ID_CLUST'] == i ]\n",
    "        tr3max = heapq.nlargest(3,ctp.R_FALL.values)\n",
    "        tr3dmax = heapq.nlargest(3,ctp.DBZ.values)\n",
    "        mx_fall.append(np.asanyarray(tr3max).max())\n",
    "        m_fall.append(np.asanyarray(tr3max).mean())\n",
    "        m_dbz.append(np.asanyarray(tr3dmax).max())\n",
    "\n",
    "        \n",
    "    datetime = cpdata.index[0]\n",
    "    \n",
    "    cpdata['geometry'] = list(zip(cpdata.LON,cpdata.LAT))\n",
    "    cpdata.geometry = cpdata.geometry.apply(Point)\n",
    "    cpdata['geometry'] = cpdata['geometry'].apply(lambda x: x.coords[0])\n",
    "    cpdata = cpdata.groupby('ID_CLUST')['geometry'].apply(lambda x: Polygon(x.tolist()))\n",
    "    cpdata = gpd.GeoDataFrame(cpdata, geometry = 'geometry')\n",
    "    cpdata.crs = {'init' :'epsg:4326'}\n",
    "    cpdata['ME_FALL'] = m_fall\n",
    "    cpdata['MAX_FALL'] = mx_fall\n",
    "    cpdata['DBZ'] = m_dbz\n",
    "\n",
    "    cpdata['DATETIME'] = pd.to_datetime(datetime)\n",
    "    cpdata['ID'] = cpdata.index\n",
    "    cpdata = cpdata.set_index('DATETIME')\n",
    "    cpdata.geometry = cpdata.exterior.convex_hull\n",
    "\n",
    "    if create_shp == 1:\n",
    "        dirname = cpdata.index[0].isoformat()[:-9]\n",
    "        dirname = dirname.replace('-','')\n",
    "        timer = cpdata.index[0].isoformat()[11:]\n",
    "        timer = timer.replace(':','')\n",
    "        if not os.path.exists('shapefiles/polygons/'+ str(dirname)):\n",
    "            try:\n",
    "                os.makedirs('shapefiles/polygons/'+ str(dirname), 0o700)\n",
    "            except OSError as e:\n",
    "                if e.errno != errno.EEXIST:\n",
    "                    raise\n",
    "        cpdata.to_file('shapefiles/polygons/'+ str(dirname) +'/sbmn_rain_rates_polygon_'+(dirname)+'_'+str(timer)+'.shp')          \n",
    "\n",
    "    return cpdata"
   ]
  },
  {
   "cell_type": "code",
   "execution_count": 18,
   "metadata": {
    "ExecuteTime": {
     "end_time": "2019-09-27T18:02:14.019017Z",
     "start_time": "2019-09-27T18:02:13.747783Z"
    }
   },
   "outputs": [
    {
     "data": {
      "text/plain": [
       "<matplotlib.axes._subplots.AxesSubplot at 0x7f51f9dc1a90>"
      ]
     },
     "execution_count": 18,
     "metadata": {},
     "output_type": "execute_result"
    },
    {
     "data": {
      "image/png": "[encoded data removed]",
      "text/plain": [
       "<Figure size 432x288 with 1 Axes>"
      ]
     },
     "metadata": {
      "needs_background": "light"
     },
     "output_type": "display_data"
    }
   ],
   "source": [
    "gdata = poly_data(data,1)\n",
    "gdata.plot()"
   ]
  },
  {
   "cell_type": "code",
   "execution_count": 19,
   "metadata": {
    "ExecuteTime": {
     "end_time": "2019-09-27T18:02:14.024799Z",
     "start_time": "2019-09-27T18:02:14.020891Z"
    }
   },
   "outputs": [],
   "source": [
    "def largest_3(cdata):\n",
    "    \n",
    "    lar_data = cdata\n",
    "    ldata = pd.DataFrame()\n",
    "    rrange = lar_data.ID_CLUST.unique()\n",
    "    for i in rrange:\n",
    "        ct = lar_data.loc[lar_data['ID_CLUST'] == i ]\n",
    "        tr3max = heapq.nlargest(3,ct.R_FALL)\n",
    "            \n",
    "        for j in range(3):\n",
    "            mm = lar_data.loc[lar_data.R_FALL == tr3max[j]]\n",
    "            ldata = ldata.append(mm)       \n",
    "    return ldata"
   ]
  },
  {
   "cell_type": "code",
   "execution_count": 20,
   "metadata": {
    "ExecuteTime": {
     "end_time": "2019-09-27T18:02:14.191441Z",
     "start_time": "2019-09-27T18:02:14.026290Z"
    }
   },
   "outputs": [
    {
     "data": {
      "text/html": [
       "<div>\n",
       "<style scoped>\n",
       "    .dataframe tbody tr th:only-of-type {\n",
       "        vertical-align: middle;\n",
       "    }\n",
       "\n",
       "    .dataframe tbody tr th {\n",
       "        vertical-align: top;\n",
       "    }\n",
       "\n",
       "    .dataframe thead th {\n",
       "        text-align: right;\n",
       "    }\n",
       "</style>\n",
       "<table border=\"1\" class=\"dataframe\">\n",
       "  <thead>\n",
       "    <tr style=\"text-align: right;\">\n",
       "      <th></th>\n",
       "      <th>geometry</th>\n",
       "      <th>ME_FALL</th>\n",
       "      <th>MAX_FALL</th>\n",
       "      <th>DBZ</th>\n",
       "      <th>ID</th>\n",
       "    </tr>\n",
       "    <tr>\n",
       "      <th>DATETIME</th>\n",
       "      <th></th>\n",
       "      <th></th>\n",
       "      <th></th>\n",
       "      <th></th>\n",
       "      <th></th>\n",
       "    </tr>\n",
       "  </thead>\n",
       "  <tbody>\n",
       "    <tr>\n",
       "      <td>2014-03-24 03:11:44</td>\n",
       "      <td>POLYGON ((-60.45942687988281 -2.14309334754943...</td>\n",
       "      <td>70.333282</td>\n",
       "      <td>75.181038</td>\n",
       "      <td>53.028033</td>\n",
       "      <td>0</td>\n",
       "    </tr>\n",
       "  </tbody>\n",
       "</table>\n",
       "</div>"
      ],
      "text/plain": [
       "                                                              geometry  \\\n",
       "DATETIME                                                                 \n",
       "2014-03-24 03:11:44  POLYGON ((-60.45942687988281 -2.14309334754943...   \n",
       "\n",
       "                       ME_FALL   MAX_FALL        DBZ  ID  \n",
       "DATETIME                                                  \n",
       "2014-03-24 03:11:44  70.333282  75.181038  53.028033   0  "
      ]
     },
     "execution_count": 20,
     "metadata": {},
     "output_type": "execute_result"
    }
   ],
   "source": [
    "poly_ = poly_data(largest_3(data),1)\n",
    "poly_"
   ]
  },
  {
   "cell_type": "code",
   "execution_count": 21,
   "metadata": {
    "ExecuteTime": {
     "end_time": "2019-09-27T18:02:14.257887Z",
     "start_time": "2019-09-27T18:02:14.193966Z"
    }
   },
   "outputs": [],
   "source": [
    "def poly_center(gdata, create_shp):\n",
    "    \n",
    "    pdata = gdata.copy()\n",
    "    pdata.geometry = pdata.geometry.exterior.convex_hull\n",
    "        \n",
    "    if create_shp == 1:\n",
    "        dirname = pdata.index[0].isoformat()[:-9]\n",
    "        dirname = dirname.replace('-','')\n",
    "        timer = pdata.index[0].isoformat()[11:]\n",
    "        timer = timer.replace(':','')\n",
    "        if not os.path.exists('shapefiles/poly_center/'+ str(dirname)):\n",
    "            try:\n",
    "                os.makedirs('shapefiles/poly_center/'+ str(dirname), 0o700)\n",
    "            except OSError as e:\n",
    "                if e.errno != errno.EEXIST:\n",
    "                    raise\n",
    "        pdata.to_file('shapefiles/poly_center/'+ str(dirname) +'/sbmn_rain_rates_center_polygon_'+(dirname)+'_'+str(timer)+'.shp')          \n",
    "    return pdata"
   ]
  },
  {
   "cell_type": "code",
   "execution_count": 22,
   "metadata": {
    "ExecuteTime": {
     "end_time": "2019-09-27T18:02:14.347340Z",
     "start_time": "2019-09-27T18:02:14.264225Z"
    }
   },
   "outputs": [
    {
     "data": {
      "text/html": [
       "<div>\n",
       "<style scoped>\n",
       "    .dataframe tbody tr th:only-of-type {\n",
       "        vertical-align: middle;\n",
       "    }\n",
       "\n",
       "    .dataframe tbody tr th {\n",
       "        vertical-align: top;\n",
       "    }\n",
       "\n",
       "    .dataframe thead th {\n",
       "        text-align: right;\n",
       "    }\n",
       "</style>\n",
       "<table border=\"1\" class=\"dataframe\">\n",
       "  <thead>\n",
       "    <tr style=\"text-align: right;\">\n",
       "      <th></th>\n",
       "      <th>geometry</th>\n",
       "      <th>ME_FALL</th>\n",
       "      <th>MAX_FALL</th>\n",
       "      <th>DBZ</th>\n",
       "      <th>ID</th>\n",
       "    </tr>\n",
       "    <tr>\n",
       "      <th>DATETIME</th>\n",
       "      <th></th>\n",
       "      <th></th>\n",
       "      <th></th>\n",
       "      <th></th>\n",
       "      <th></th>\n",
       "    </tr>\n",
       "  </thead>\n",
       "  <tbody>\n",
       "    <tr>\n",
       "      <td>2014-03-24 03:11:44</td>\n",
       "      <td>POLYGON ((-60.45942687988281 -2.14309334754943...</td>\n",
       "      <td>70.333282</td>\n",
       "      <td>75.181038</td>\n",
       "      <td>53.028033</td>\n",
       "      <td>0</td>\n",
       "    </tr>\n",
       "  </tbody>\n",
       "</table>\n",
       "</div>"
      ],
      "text/plain": [
       "                                                              geometry  \\\n",
       "DATETIME                                                                 \n",
       "2014-03-24 03:11:44  POLYGON ((-60.45942687988281 -2.14309334754943...   \n",
       "\n",
       "                       ME_FALL   MAX_FALL        DBZ  ID  \n",
       "DATETIME                                                  \n",
       "2014-03-24 03:11:44  70.333282  75.181038  53.028033   0  "
      ]
     },
     "execution_count": 22,
     "metadata": {},
     "output_type": "execute_result"
    }
   ],
   "source": [
    "poly_cent = poly_center(poly_,1)\n",
    "poly_cent"
   ]
  },
  {
   "cell_type": "code",
   "execution_count": 23,
   "metadata": {
    "ExecuteTime": {
     "end_time": "2019-09-27T18:02:14.424826Z",
     "start_time": "2019-09-27T18:02:14.349294Z"
    }
   },
   "outputs": [],
   "source": [
    "def geo_centroid_(cedata,create_shp):\n",
    "    \n",
    "    g_center = cedata.copy()\n",
    "    \n",
    "    g_center.geometry = g_center.geometry.centroid\n",
    "    if create_shp == 1:\n",
    "        dirname = g_center.index[0].isoformat()[:-9]\n",
    "        dirname = dirname.replace('-','')\n",
    "        timer = g_center.index[0].isoformat()[11:]\n",
    "        timer = timer.replace(':','')\n",
    "\n",
    "    \n",
    "        if not os.path.exists('shapefiles/centroid/'+ str(dirname)):\n",
    "            try:\n",
    "                    os.makedirs('shapefiles/centroid/'+ str(dirname), 0o700)\n",
    "            except OSError as e:\n",
    "                if e.errno != errno.EEXIST:\n",
    "                    raise\n",
    "        g_center.to_file('shapefiles/centroid/'+ str(dirname) +'/sbmn_rain_rates_'+(dirname)+'_'+str(timer)+'.shp')          \n",
    "    \n",
    "    return g_center"
   ]
  },
  {
   "cell_type": "code",
   "execution_count": 24,
   "metadata": {
    "ExecuteTime": {
     "end_time": "2019-09-27T18:02:14.563565Z",
     "start_time": "2019-09-27T18:02:14.430693Z"
    }
   },
   "outputs": [
    {
     "data": {
      "text/html": [
       "<div>\n",
       "<style scoped>\n",
       "    .dataframe tbody tr th:only-of-type {\n",
       "        vertical-align: middle;\n",
       "    }\n",
       "\n",
       "    .dataframe tbody tr th {\n",
       "        vertical-align: top;\n",
       "    }\n",
       "\n",
       "    .dataframe thead th {\n",
       "        text-align: right;\n",
       "    }\n",
       "</style>\n",
       "<table border=\"1\" class=\"dataframe\">\n",
       "  <thead>\n",
       "    <tr style=\"text-align: right;\">\n",
       "      <th></th>\n",
       "      <th>geometry</th>\n",
       "      <th>ME_FALL</th>\n",
       "      <th>MAX_FALL</th>\n",
       "      <th>DBZ</th>\n",
       "      <th>ID</th>\n",
       "    </tr>\n",
       "    <tr>\n",
       "      <th>DATETIME</th>\n",
       "      <th></th>\n",
       "      <th></th>\n",
       "      <th></th>\n",
       "      <th></th>\n",
       "      <th></th>\n",
       "    </tr>\n",
       "  </thead>\n",
       "  <tbody>\n",
       "    <tr>\n",
       "      <td>2014-03-24 03:11:44</td>\n",
       "      <td>POINT (-60.45343017578125 -2.131118377049764)</td>\n",
       "      <td>70.333282</td>\n",
       "      <td>75.181038</td>\n",
       "      <td>53.028033</td>\n",
       "      <td>0</td>\n",
       "    </tr>\n",
       "  </tbody>\n",
       "</table>\n",
       "</div>"
      ],
      "text/plain": [
       "                                                          geometry    ME_FALL  \\\n",
       "DATETIME                                                                        \n",
       "2014-03-24 03:11:44  POINT (-60.45343017578125 -2.131118377049764)  70.333282   \n",
       "\n",
       "                      MAX_FALL        DBZ  ID  \n",
       "DATETIME                                       \n",
       "2014-03-24 03:11:44  75.181038  53.028033   0  "
      ]
     },
     "execution_count": 24,
     "metadata": {},
     "output_type": "execute_result"
    }
   ],
   "source": [
    "geo_centroid_(poly_center(poly_data(largest_3(data),0),0),1)"
   ]
  },
  {
   "cell_type": "code",
   "execution_count": 25,
   "metadata": {
    "ExecuteTime": {
     "end_time": "2019-09-27T18:02:14.651001Z",
     "start_time": "2019-09-27T18:02:14.565247Z"
    }
   },
   "outputs": [],
   "source": [
    "def geo_centroid(cedata,data,create_shp):\n",
    "    \n",
    "    gcdata = data.copy()\n",
    "    gccdata = cedata.copy()\n",
    "\n",
    "    centroid = gpd.GeoDataFrame()  \n",
    "    rrange = gccdata.MAX_FALL.unique()\n",
    "    \n",
    "    lsdata = pd.DataFrame()\n",
    "    \n",
    "    for i in rrange:\n",
    "        cts = gcdata.loc[gcdata['R_FALL'] == i]\n",
    "        lsdata = lsdata.append(cts)\n",
    "        \n",
    "    geom = lsdata.apply(lambda x: Point([x['LON'],x['LAT']]),axis=1)\n",
    "    g_center = gpd.GeoDataFrame(lsdata, geometry=geom)\n",
    "    g_center.crs = {'init' :'epsg:4326'}\n",
    "    g_center['M_FALL'] = gccdata.ME_FALL\n",
    "\n",
    "    g_center.geometry = g_center.geometry.centroid\n",
    "    if create_shp == 1:\n",
    "        dirname = g_center.index[0].isoformat()[:-9]\n",
    "        dirname = dirname.replace('-','')\n",
    "        timer = g_center.index[0].isoformat()[11:]\n",
    "        timer = timer.replace(':','')\n",
    "\n",
    "    \n",
    "        if not os.path.exists('shapefiles/centroid/'+ str(dirname)):\n",
    "            try:\n",
    "                    os.makedirs('shapefiles/centroid/'+ str(dirname), 0o700)\n",
    "            except OSError as e:\n",
    "                if e.errno != errno.EEXIST:\n",
    "                    raise\n",
    "        g_center.to_file('shapefiles/centroid/'+ str(dirname) +'/sbmn_rain_rates_'+(dirname)+'_'+str(timer)+'.shp')          \n",
    "    \n",
    "    return g_center"
   ]
  },
  {
   "cell_type": "code",
   "execution_count": 26,
   "metadata": {
    "ExecuteTime": {
     "end_time": "2019-09-27T18:02:14.803010Z",
     "start_time": "2019-09-27T18:02:14.656476Z"
    }
   },
   "outputs": [
    {
     "data": {
      "text/html": [
       "<div>\n",
       "<style scoped>\n",
       "    .dataframe tbody tr th:only-of-type {\n",
       "        vertical-align: middle;\n",
       "    }\n",
       "\n",
       "    .dataframe tbody tr th {\n",
       "        vertical-align: top;\n",
       "    }\n",
       "\n",
       "    .dataframe thead th {\n",
       "        text-align: right;\n",
       "    }\n",
       "</style>\n",
       "<table border=\"1\" class=\"dataframe\">\n",
       "  <thead>\n",
       "    <tr style=\"text-align: right;\">\n",
       "      <th></th>\n",
       "      <th>N_CLUSTER</th>\n",
       "      <th>ID_CLUST</th>\n",
       "      <th>LON</th>\n",
       "      <th>LAT</th>\n",
       "      <th>R_FALL</th>\n",
       "      <th>DBZ</th>\n",
       "      <th>X1</th>\n",
       "      <th>Y1</th>\n",
       "      <th>T_RELATION</th>\n",
       "      <th>geometry</th>\n",
       "      <th>M_FALL</th>\n",
       "    </tr>\n",
       "    <tr>\n",
       "      <th>DATETIME</th>\n",
       "      <th></th>\n",
       "      <th></th>\n",
       "      <th></th>\n",
       "      <th></th>\n",
       "      <th></th>\n",
       "      <th></th>\n",
       "      <th></th>\n",
       "      <th></th>\n",
       "      <th></th>\n",
       "      <th></th>\n",
       "      <th></th>\n",
       "    </tr>\n",
       "  </thead>\n",
       "  <tbody>\n",
       "    <tr>\n",
       "      <td>2014-03-24 03:11:44</td>\n",
       "      <td>1</td>\n",
       "      <td>0</td>\n",
       "      <td>-60.459427</td>\n",
       "      <td>-2.143093</td>\n",
       "      <td>75.181038</td>\n",
       "      <td>53.028033</td>\n",
       "      <td>176</td>\n",
       "      <td>94</td>\n",
       "      <td>NW</td>\n",
       "      <td>POINT (-60.45942687988281 -2.143093347549438)</td>\n",
       "      <td>70.333282</td>\n",
       "    </tr>\n",
       "  </tbody>\n",
       "</table>\n",
       "</div>"
      ],
      "text/plain": [
       "                     N_CLUSTER  ID_CLUST        LON       LAT     R_FALL  \\\n",
       "DATETIME                                                                   \n",
       "2014-03-24 03:11:44          1         0 -60.459427 -2.143093  75.181038   \n",
       "\n",
       "                           DBZ   X1  Y1 T_RELATION  \\\n",
       "DATETIME                                             \n",
       "2014-03-24 03:11:44  53.028033  176  94         NW   \n",
       "\n",
       "                                                          geometry     M_FALL  \n",
       "DATETIME                                                                       \n",
       "2014-03-24 03:11:44  POINT (-60.45942687988281 -2.143093347549438)  70.333282  "
      ]
     },
     "execution_count": 26,
     "metadata": {},
     "output_type": "execute_result"
    }
   ],
   "source": [
    "geo_centroid(poly_center(poly_data(largest_3(data),0),0),data,1)"
   ]
  },
  {
   "cell_type": "markdown",
   "metadata": {},
   "source": [
    "### CREATE TIFF FILE"
   ]
  },
  {
   "cell_type": "code",
   "execution_count": 27,
   "metadata": {
    "ExecuteTime": {
     "end_time": "2019-09-27T18:02:14.875546Z",
     "start_time": "2019-09-27T18:02:14.804787Z"
    }
   },
   "outputs": [],
   "source": [
    "#!/usr/bin/env python\n",
    "from osgeo import gdal\n",
    "from osgeo import osr\n",
    "import numpy as np\n",
    "import os, sys\n",
    "\n",
    "def tiff_create(day,time,frames):\n",
    "    \n",
    "    tiff_name = sorted(os.listdir(PATH+str(day)))[time][:-3]\n",
    "    directory_name = 'tiff/'+str(day)+'/'\n",
    "\n",
    "    if not os.path.exists(directory_name):\n",
    "        os.makedirs(directory_name) \n",
    "\n",
    "    #  Initialize the Image Size\n",
    "    image_size = (241,241)\n",
    "\n",
    "    lat = [-5.348556,-0.948556]\n",
    "    lon = [-62.192,-57.7919999]\n",
    "\n",
    "    # set geotransform\n",
    "    nx = image_size[0]\n",
    "    ny = image_size[1]\n",
    "    xmin, ymin, xmax, ymax = [min(lon), max(lat), max(lon), min(lat)]\n",
    "    # xmin, ymin, xmax, ymax = [min(lon), min(lat), max(lon), max(lat)]\n",
    "    xres = (xmax - xmin) / float(nx)\n",
    "    yres = (ymax - ymin) / float(ny)\n",
    "    geotransform = (xmin, xres, 0, ymax, 0, -yres)\n",
    "\n",
    "    # create the 3-band raster file\n",
    "    dst_ds = gdal.GetDriverByName('GTiff').Create(directory_name+tiff_name+'.tiff', ny, nx, 1, gdal.GDT_Float64)\n",
    "\n",
    "    dst_ds.SetGeoTransform(geotransform)    # specify coords\n",
    "    srs = osr.SpatialReference()            # establish encoding\n",
    "    srs.ImportFromEPSG(4326)                # WGS84 lat/long\n",
    "    dst_ds.SetProjection(srs.ExportToWkt()) # export coords to file\n",
    "    dst_ds.GetRasterBand(1).WriteArray(frames[time])   # write a-band to the raster\n",
    "    dst_ds.FlushCache()                     # write to disk\n",
    "    dst_ds = None"
   ]
  },
  {
   "cell_type": "code",
   "execution_count": 28,
   "metadata": {
    "ExecuteTime": {
     "end_time": "2019-09-27T18:02:15.015340Z",
     "start_time": "2019-09-27T18:02:14.998212Z"
    }
   },
   "outputs": [],
   "source": [
    "tiff_create(20140324,15,frames)"
   ]
  },
  {
   "cell_type": "markdown",
   "metadata": {},
   "source": [
    "### PLOT"
   ]
  },
  {
   "cell_type": "code",
   "execution_count": 29,
   "metadata": {
    "ExecuteTime": {
     "end_time": "2019-09-27T18:02:15.905016Z",
     "start_time": "2019-09-27T18:02:15.840961Z"
    }
   },
   "outputs": [],
   "source": [
    "import georaster\n",
    "from mpl_toolkits.basemap import Basemap\n",
    "import matplotlib.colors as mcolors\n",
    "import cartopy as cartopy\n",
    "from matplotlib import cm, pyplot\n",
    "from matplotlib import markers"
   ]
  },
  {
   "cell_type": "code",
   "execution_count": 30,
   "metadata": {
    "ExecuteTime": {
     "end_time": "2019-09-27T18:02:16.687782Z",
     "start_time": "2019-09-27T18:02:16.670036Z"
    }
   },
   "outputs": [],
   "source": [
    "def plot(time,day,zoom):\n",
    "\n",
    "    frames = read_data(day)\n",
    "    clusters = clusterization(pre_processing(frames[time]))\n",
    "    data = create_data(day,time,frames[time],clusters)\n",
    "    \n",
    "    # Create Tiff\n",
    "    tiff_create(day,time,frames)\n",
    "    tiff_name = sorted(os.listdir(PATH+str(day)))[time][:-3]\n",
    "    \n",
    "    fpath = r\"tiff/\"+ str(day) + '/' + str(tiff_name) + \".tiff\"\n",
    "    my_image = georaster.SingleBandRaster(fpath, load_data=True)\n",
    "    \n",
    "    # Create Shapefile\n",
    "    geo_centroid(poly_center(poly_data(largest_3(data),0),0),data,1)\n",
    "    \n",
    "    dirname = data.index[0].isoformat()[:-9]\n",
    "    dirname = dirname.replace('-','')\n",
    "    timer = data.index[0].isoformat()[11:]\n",
    "    timer = timer.replace(':','')\n",
    "\n",
    "    shp_point_file = ('shapefiles/centroid/'+ str(dirname) +'/sbmn_rain_rates_'+(dirname)+'_'+str(timer))\n",
    "    \n",
    "    # grab limits of image's extent\n",
    "    minx, maxx, miny, maxy = my_image.extent\n",
    "\n",
    "    image = georaster.SingleBandRaster( fpath, \\\n",
    "                        load_data=(minx, maxx, miny, maxy), \\\n",
    "                        latlon=False)\n",
    "        \n",
    "    file = PATH+str(day)+'/'+str(sorted(os.listdir(PATH+str(day)))[time])\n",
    "    xds = xr.open_dataset(file)\n",
    "    date_time = xds.start_time.data\n",
    "    date_time = pd.to_datetime(date_time)\n",
    "\n",
    "    my_coords = [-3.148556, -59.992000]     ## RADAR T1 SIPAM COORDS\n",
    "    zoom_scale = zoom                        ## ZOOM SCALE\n",
    "\n",
    "    bbox = [my_coords[0]-zoom_scale,my_coords[0]+zoom_scale,\\\n",
    "             my_coords[1]-zoom_scale,my_coords[1]+zoom_scale]\n",
    "\n",
    "    fig, axes = plt.subplots(nrows=1,ncols=1,figsize=(10,10),dpi=100)\n",
    "    label = 'Rain fall mm/h'\n",
    "    title = 'SIPAM Manaus S-Band Radar :' + str(date_time)\n",
    "    \n",
    "    clevs = [0,1,2.5,5,10,20,30,40,50,60,70,80,90,100]\n",
    "\n",
    "    cmap_data = ['white','deepskyblue','dodgerblue','dodgerblue','dodgerblue','blue','chartreuse','limegreen','green','darkgreen','yellow',\n",
    "             'gold','orange','magenta','darkmagenta','darkmagenta']\n",
    "    \n",
    "#     clevs = [0.08,0.16,0.25,0.40,0.63,1,1.6,2.5,4,6.3,10,16,25,40,63,100,160]\n",
    "#     cmap_data = ['thistle','darkmagenta','mediumorchid','magenta','mediumblue','royalblue','darkcyan','seagreen','chartreuse','lawngreen','greenyellow','yellow','khaki','goldenrod','darkorange','red','firebrick']\n",
    "\n",
    "    cmap = mcolors.ListedColormap(cmap_data, 'precipitation')\n",
    "    norm = mcolors.BoundaryNorm(clevs, cmap.N)\n",
    "    ax = axes\n",
    "\n",
    "    m = Basemap(projection='merc',llcrnrlat=bbox[0],urcrnrlat=bbox[1],\\\n",
    "                    llcrnrlon=bbox[2],urcrnrlon=bbox[3],lat_ts=10,resolution='i')\n",
    "    \n",
    "    b = m.readshapefile(shp_point_file, 'centroids')\n",
    "    c = m.readshapefile('./shapefiles/municipios/AM_Mun97_region', 'municipios', linewidth=0.1)\n",
    "    d = m.readshapefile('./shapefiles/hidro/lineaire_1km', 'hidrografia',color='peru', linewidth=1)\n",
    "\n",
    "    ## SIPAM RADAR\n",
    "    xm, ym = m(my_coords[1],my_coords[0])\n",
    "    radar = m.plot(xm,ym, marker='o',color='k', label='RADAR')\n",
    "\n",
    "    f = m.plot(0,0, marker='v',color='red', label='Centroids '+str(b[0]), markersize=8)\n",
    "\n",
    "    ## PRECIPTACAO\n",
    "    xi, yi = m(LON, LAT)\n",
    "    levels = np.arange(0,100,1)\n",
    "    clevels = np.arange(40,100,50)\n",
    "    cs = m.contourf(xi,yi,image.r,levels=levels, cmap = cmap, norm=norm, ax=ax)\n",
    "    cs2 = m.contour(xi,yi,image.r,levels=clevels,  ax=ax, size = 20)\n",
    "    \n",
    "    arrowprops = dict(facecolor='red', arrowstyle=\"fancy\",\n",
    "                            ec=\"none\",\n",
    "                            connectionstyle=\"angle3,angleA=0,angleB=-90\")\n",
    "    \n",
    "    for info, s in zip(m.centroids, m.centroids):    \n",
    "        ax.annotate(' ', xy=(info[0],info[1]), xytext=(info[0],info[1]),\n",
    "            arrowprops=arrowprops, size=25, color='k')\n",
    "\n",
    "    # # # # Add Grid Lines\n",
    "    m.drawparallels(np.arange(bbox[0],bbox[1],(bbox[1]-bbox[0])/5),labels=[1,0,0,0],rotation=45, linewidth=0.0, size=(10))\n",
    "    m.drawmeridians(np.arange(bbox[2],bbox[3],(bbox[3]-bbox[2])/5),labels=[0,0,0,1],rotation=45, linewidth=0.0, size=(10))\n",
    "    m.drawmapboundary(fill_color='lightgrey')\n",
    "\n",
    "    # # # # Add Colorbar\n",
    "    cbar = m.colorbar(cs, size='5%',pad=\"2%\")\n",
    "    cbar.set_label(label)\n",
    "\n",
    "    # # # # # Add Title\n",
    "    plt.title(title)\n",
    "    plt.legend()\n",
    "    plt.ylabel('Latitude', labelpad=40, fontsize=15)\n",
    "    plt.xlabel('Longitude', labelpad=60, fontsize=15)\n",
    "\n",
    "    plt.savefig('radar_image/'+ sorted(os.listdir(PATH+str(day)))[time]+'.png')\n",
    "\n",
    "    plt.show()"
   ]
  },
  {
   "cell_type": "code",
   "execution_count": 31,
   "metadata": {
    "ExecuteTime": {
     "end_time": "2019-09-27T18:02:22.000509Z",
     "start_time": "2019-09-27T18:02:19.780917Z"
    }
   },
   "outputs": [
    {
     "name": "stdout",
     "output_type": "stream",
     "text": [
      "band_menor\n"
     ]
    },
    {
     "data": {
      "image/png": "[encoded data removed]",
      "text/plain": [
       "<Figure size 1000x1000 with 2 Axes>"
      ]
     },
     "metadata": {
      "needs_background": "light"
     },
     "output_type": "display_data"
    }
   ],
   "source": [
    "day = 20140324\n",
    "plot(15,day,2)"
   ]
  },
  {
   "cell_type": "code",
   "execution_count": 42,
   "metadata": {
    "ExecuteTime": {
     "end_time": "2019-09-27T19:05:27.938910Z",
     "start_time": "2019-09-27T19:05:25.798870Z"
    }
   },
   "outputs": [
    {
     "name": "stdout",
     "output_type": "stream",
     "text": [
      "band_menor\n"
     ]
    },
    {
     "data": {
      "image/png": "[encoded data removed]",
      "text/plain": [
       "<Figure size 1000x1000 with 2 Axes>"
      ]
     },
     "metadata": {
      "needs_background": "light"
     },
     "output_type": "display_data"
    }
   ],
   "source": [
    "day = 20140324\n",
    "plot(69,day,0.5)"
   ]
  },
  {
   "cell_type": "code",
   "execution_count": null,
   "metadata": {},
   "outputs": [],
   "source": []
  }
 ],
 "metadata": {
  "kernelspec": {
   "display_name": "Python 3",
   "language": "python",
   "name": "python3"
  },
  "language_info": {
   "codemirror_mode": {
    "name": "ipython",
    "version": 3
   },
   "file_extension": ".py",
   "mimetype": "text/x-python",
   "name": "python",
   "nbconvert_exporter": "python",
   "pygments_lexer": "ipython3",
   "version": "3.6.7"
  },
  "toc": {
   "base_numbering": 1,
   "nav_menu": {},
   "number_sections": true,
   "sideBar": true,
   "skip_h1_title": false,
   "title_cell": "Table of Contents",
   "title_sidebar": "Contents",
   "toc_cell": false,
   "toc_position": {},
   "toc_section_display": true,
   "toc_window_display": false
  }
 },
 "nbformat": 4,
 "nbformat_minor": 2
}
