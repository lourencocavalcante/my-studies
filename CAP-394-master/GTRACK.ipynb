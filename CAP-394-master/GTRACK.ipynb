{
 "cells": [
  {
   "cell_type": "code",
   "execution_count": 7,
   "metadata": {
    "ExecuteTime": {
     "end_time": "2019-09-25T16:23:08.573268Z",
     "start_time": "2019-09-25T16:23:08.570412Z"
    }
   },
   "outputs": [],
   "source": [
    "def mask(time):   \n",
    "    s = np.zeros((241, 241))\n",
    "    for x in range(241):\n",
    "        for y in range(241):\n",
    "            if np.isnan(time[x][y]) != False:\n",
    "                s[x][y] = np.nan\n",
    "    return s"
   ]
  },
  {
   "cell_type": "code",
   "execution_count": 8,
   "metadata": {
    "ExecuteTime": {
     "end_time": "2019-09-25T16:23:16.588959Z",
     "start_time": "2019-09-25T16:23:16.585714Z"
    }
   },
   "outputs": [],
   "source": [
    "from sklearn.cluster import DBSCAN\n",
    "from sklearn import metrics\n",
    "from sklearn.preprocessing import StandardScaler\n",
    "\n",
    "def dbscan(time):\n",
    "    \n",
    "    X = time\n",
    "\n",
    "    scaler = StandardScaler()\n",
    "    X_scaled = scaler.fit_transform(X)\n",
    "    \n",
    "    # cluster the data into five clusters\n",
    "    dbscan = DBSCAN(eps=0.3, min_samples=10).fit(X_scaled)\n",
    "#     clusters = dbscan.fit_predict(X_scaled)\n",
    "    labels = dbscan.labels_\n",
    "    \n",
    "    time['cluster'] = labels\n",
    "    time = time[(time['cluster'] >= 0)]\n",
    "    \n",
    "    return time"
   ]
  },
  {
   "cell_type": "code",
   "execution_count": 9,
   "metadata": {
    "ExecuteTime": {
     "end_time": "2019-09-25T16:23:25.030106Z",
     "start_time": "2019-09-25T16:23:25.023548Z"
    }
   },
   "outputs": [],
   "source": [
    "def pre_processing(time):\n",
    "    np.warnings.filterwarnings('ignore')\n",
    "    \n",
    "    ## thereshold value to track  21.8\n",
    "    threshold = 9.96\n",
    "    \n",
    "    rs =  (np.where(time != np.nan) and np.where(time > threshold))\n",
    "    rs = np.asanyarray(rs)\n",
    "    pe = pd.DataFrame({'x1':rs[0],'y1':rs[1]})\n",
    "    \n",
    "    rain = []\n",
    "    \n",
    "    for i,row in pe.iterrows():\n",
    "        rain.append(time[row.x1][row.y1])\n",
    "    \n",
    "    pe['rain'] = rain\n",
    "    \n",
    "    return pe"
   ]
  },
  {
   "cell_type": "code",
   "execution_count": 10,
   "metadata": {
    "ExecuteTime": {
     "end_time": "2019-09-25T16:23:37.213811Z",
     "start_time": "2019-09-25T16:23:37.209714Z"
    }
   },
   "outputs": [],
   "source": [
    "def clusterization(time):\n",
    "    te = time\n",
    "    \n",
    "    if len(te) < 2:\n",
    "        return None\n",
    "    \n",
    "    bandwidth = estimate_bandwidth(te, quantile=0.05, n_samples=None, random_state=0, n_jobs=None)\n",
    "    \n",
    "    print(bandwidth)\n",
    "\n",
    "    if bandwidth > 0:\n",
    "        ms = MeanShift(bandwidth=bandwidth, bin_seeding=True, cluster_all=True, min_bin_freq=1,\n",
    "        n_jobs=None, seeds=None)\n",
    "\n",
    "    ms.fit(te)\n",
    "    labels = ms.labels_\n",
    "    cluster_centers = ms.cluster_centers_\n",
    "    n_clusters_ = len(np.unique(labels))\n",
    "    te['cluster']=labels\n",
    "\n",
    "#     clust = pd.DataFrame()\n",
    "    \n",
    "#     for i in range(n_clusters_):\n",
    "#         c2 = te.loc[te['cluster'] == i]\n",
    "\n",
    "#         c3 = ms2(c2[['x1','y1']])\n",
    "# #         c3.sort_values(by=['time2'], ascending=True)\n",
    "#         clust = clust.append(c3)\n",
    "    \n",
    "#     clust['time1'] = te['cluster']\n",
    "#     clust = clust.reset_index(drop=True)\n",
    "#     clust.sort_values(by=['time1', 'time2'], inplace=True)\n",
    "\n",
    "#     clust['cluster'] = clust.time1.astype(str) + clust.time2.astype(str)\n",
    "#     clust['cluster'].astype(int)\n",
    "    \n",
    "    return te"
   ]
  },
  {
   "cell_type": "code",
   "execution_count": 11,
   "metadata": {
    "ExecuteTime": {
     "end_time": "2019-09-25T16:23:47.597349Z",
     "start_time": "2019-09-25T16:23:47.594076Z"
    }
   },
   "outputs": [],
   "source": [
    "def ms2(time2):\n",
    "    bandwidth = estimate_bandwidth(time2, quantile=0.5, n_samples=None)\n",
    "    \n",
    "    ms = MeanShift(bandwidth=5, bin_seeding=True, cluster_all=True, min_bin_freq=1,\n",
    "    n_jobs=None, seeds=None)\n",
    "\n",
    "    ms.fit(time2)\n",
    "    labels = ms.labels_\n",
    "    cluster_centers = ms.cluster_centers_\n",
    "    n_clusters_ = len(np.unique(labels))\n",
    "    time2['time2']=labels\n",
    "\n",
    "    return time2"
   ]
  },
  {
   "cell_type": "code",
   "execution_count": 12,
   "metadata": {
    "ExecuteTime": {
     "end_time": "2019-09-25T16:23:58.110903Z",
     "start_time": "2019-09-25T16:23:58.106542Z"
    }
   },
   "outputs": [],
   "source": [
    "def defineNewLabels(df):\n",
    "    def copy(ls):\n",
    "        return np.array([l for l in ls])\n",
    "\n",
    "    maxi = df['time1'].max()\n",
    "    label = 0\n",
    "    labels = []\n",
    "    it = 0\n",
    "    for index in range(maxi+1):\n",
    "        times = df[df['time1'] == index]\n",
    "        t1 = times['time1'].values\n",
    "        t2 = times['time2'].values\n",
    "        aux = copy(t1)-it\n",
    "        start = 0\n",
    "\n",
    "        inc = 0\n",
    "        temp = set()\n",
    "        for x in range(len(t2)):\n",
    "            if start != t2[x]:\n",
    "                label += 1\n",
    "                start += 1\n",
    "            labels.append(label)\n",
    "        label += 1\n",
    "        it += 1\n",
    "    labels\n",
    "\n",
    "    df['cluster'] = labels\n",
    "    df\n",
    "    return df"
   ]
  },
  {
   "cell_type": "code",
   "execution_count": null,
   "metadata": {},
   "outputs": [],
   "source": []
  }
 ],
 "metadata": {
  "kernelspec": {
   "display_name": "Python 3",
   "language": "python",
   "name": "python3"
  },
  "language_info": {
   "codemirror_mode": {
    "name": "ipython",
    "version": 3
   },
   "file_extension": ".py",
   "mimetype": "text/x-python",
   "name": "python",
   "nbconvert_exporter": "python",
   "pygments_lexer": "ipython3",
   "version": "3.6.7"
  },
  "toc": {
   "base_numbering": 1,
   "nav_menu": {},
   "number_sections": true,
   "sideBar": true,
   "skip_h1_title": false,
   "title_cell": "Table of Contents",
   "title_sidebar": "Contents",
   "toc_cell": false,
   "toc_position": {},
   "toc_section_display": true,
   "toc_window_display": false
  }
 },
 "nbformat": 4,
 "nbformat_minor": 2
}
