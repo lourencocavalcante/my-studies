{
 "cells": [
  {
   "cell_type": "code",
   "execution_count": 1,
   "id": "f1bc8520",
   "metadata": {},
   "outputs": [],
   "source": [
    "import lib.libGOES\n",
    "\n",
    "import datetime\n",
    "import netCDF4\n",
    "import numpy as np\n",
    "import matplotlib.pyplot as plt"
   ]
  },
  {
   "cell_type": "markdown",
   "id": "ef9d7e01",
   "metadata": {},
   "source": [
    "## Determinamos la fecha de inicio  y final del intervalo que vayamos a descargar.\n",
    "\n",
    "Escogeré el intervalo que corresponde de las 12 a la 1 de la tarde del 1 de enero del 2020 hora México centro <br>\n",
    "La fecha debe de ser ingresada en hora UTC por lo que corresponde a las horas de las 17:00 a las 18:00 del 1° de enero"
   ]
  },
  {
   "cell_type": "code",
   "execution_count": 2,
   "id": "95d3412f",
   "metadata": {},
   "outputs": [],
   "source": [
    "fecha_inicio = datetime.datetime(2020,1,1,17,0)\n",
    "fecha_final  = datetime.datetime(2020,1,1,18,0)"
   ]
  },
  {
   "cell_type": "markdown",
   "id": "ba2dcc25",
   "metadata": {},
   "source": [
    "## Elegimos nuestro producto\n",
    "\n",
    "Descargaremos el producto \"ABI-L1b-RadC\" que corresponde a los productos de  \"radiación\" (imágenes en las diferentes bandas) en el dominio de CONUS.<br>\n",
    "Para algunos productos es necesario especificar en que banda se requieren, en este caso descargaré la banda 3. <br>\n",
    "La lista con  productos adicionales se puede encontrar en https://docs.opendata.aws/noaa-goes16/cics-readme.html"
   ]
  },
  {
   "cell_type": "markdown",
   "id": "a0b0b046",
   "metadata": {},
   "source": [
    "## Descargamos todos los archivos existentes de nuestro producto seleccionado entre las fechas especificadas.\n",
    "\n",
    "Los archivos se descargaran en el directorio indicado por la variable \"output_path\", si no existe el directorio se creará uno automaticamente."
   ]
  },
  {
   "cell_type": "code",
   "execution_count": 3,
   "id": "fcb79caa",
   "metadata": {},
   "outputs": [
    {
     "name": "stdout",
     "output_type": "stream",
     "text": [
      "Archivo descargado : \n",
      "OR_ABI-L1b-RadC-M6C03_G16_s20200011701183_e20200011703556_c20200011704040.nc\n",
      "Descargados 1 de 12 \n",
      "\n",
      "Archivo descargado : \n",
      "OR_ABI-L1b-RadC-M6C03_G16_s20200011706183_e20200011708556_c20200011709060.nc\n",
      "Descargados 2 de 12 \n",
      "\n",
      "Archivo descargado : \n",
      "OR_ABI-L1b-RadC-M6C03_G16_s20200011711183_e20200011713556_c20200011714050.nc\n",
      "Descargados 3 de 12 \n",
      "\n",
      "Archivo descargado : \n",
      "OR_ABI-L1b-RadC-M6C03_G16_s20200011716183_e20200011718556_c20200011719035.nc\n",
      "Descargados 4 de 12 \n",
      "\n",
      "Archivo descargado : \n",
      "OR_ABI-L1b-RadC-M6C03_G16_s20200011721183_e20200011723556_c20200011724051.nc\n",
      "Descargados 5 de 12 \n",
      "\n",
      "Archivo descargado : \n",
      "OR_ABI-L1b-RadC-M6C03_G16_s20200011726183_e20200011728556_c20200011729027.nc\n",
      "Descargados 6 de 12 \n",
      "\n",
      "Archivo descargado : \n",
      "OR_ABI-L1b-RadC-M6C03_G16_s20200011731183_e20200011733556_c20200011734058.nc\n",
      "Descargados 7 de 12 \n",
      "\n",
      "Archivo descargado : \n",
      "OR_ABI-L1b-RadC-M6C03_G16_s20200011736183_e20200011738556_c20200011739036.nc\n",
      "Descargados 8 de 12 \n",
      "\n",
      "Archivo descargado : \n",
      "OR_ABI-L1b-RadC-M6C03_G16_s20200011741183_e20200011743556_c20200011744050.nc\n",
      "Descargados 9 de 12 \n",
      "\n",
      "Archivo descargado : \n",
      "OR_ABI-L1b-RadC-M6C03_G16_s20200011746183_e20200011748556_c20200011749056.nc\n",
      "Descargados 10 de 12 \n",
      "\n",
      "Archivo descargado : \n",
      "OR_ABI-L1b-RadC-M6C03_G16_s20200011751183_e20200011753556_c20200011754043.nc\n",
      "Descargados 11 de 12 \n",
      "\n",
      "Archivo descargado : \n",
      "OR_ABI-L1b-RadC-M6C03_G16_s20200011756183_e20200011758556_c20200011759048.nc\n",
      "Descargados 12 de 12 \n",
      "\n",
      "Descargar completa.\n"
     ]
    }
   ],
   "source": [
    "lib.libGOES.descargaIntervaloGOES16(producto        = \"ABI-L1b-RadC\",\n",
    "                                    datetime_inicio = fecha_inicio,\n",
    "                                    datetime_final  = fecha_final,\n",
    "                                    banda = 3 ,\n",
    "                                    output_path = \"NETCDF_DATA/\")"
   ]
  }
 ],
 "metadata": {
  "kernelspec": {
   "display_name": "Python 3",
   "language": "python",
   "name": "python3"
  },
  "language_info": {
   "codemirror_mode": {
    "name": "ipython",
    "version": 3
   },
   "file_extension": ".py",
   "mimetype": "text/x-python",
   "name": "python",
   "nbconvert_exporter": "python",
   "pygments_lexer": "ipython3",
   "version": "3.8.3"
  }
 },
 "nbformat": 4,
 "nbformat_minor": 5
}
