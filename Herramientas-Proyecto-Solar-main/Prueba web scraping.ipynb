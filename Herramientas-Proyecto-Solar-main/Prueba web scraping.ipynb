{
 "cells": [
  {
   "cell_type": "code",
   "execution_count": 1,
   "id": "30cdc7a5",
   "metadata": {},
   "outputs": [],
   "source": [
    "from bs4 import BeautifulSoup as BS\n",
    "import requests\n",
    "import re\n",
    "\n",
    "estación = \"IQUERETA30\"\n",
    "año      = 2020\n",
    "mes      = 12\n",
    "día      = 20\n",
    "\n",
    "día = str(día).zfill(2)\n",
    "mes = str(mes).zfill(2)\n",
    "url = f\"https://www.wunderground.com/dashboard/pws/{estación}/table/{año}-{mes}-{día}/{año}-{mes}-{día}/daily\"\n",
    "html  = requests.get(url).text\n",
    "soup  = BS(html,\"lxml\")"
   ]
  },
  {
   "cell_type": "code",
   "execution_count": 2,
   "id": "c22d3c2e",
   "metadata": {
    "scrolled": true
   },
   "outputs": [],
   "source": [
    "tabla    = soup.find_all(\"script\")[9]\n",
    "json_txt = re.findall(\">.+\",str(tabla))[0][1:-9]"
   ]
  },
  {
   "cell_type": "code",
   "execution_count": 3,
   "id": "5f963b40",
   "metadata": {},
   "outputs": [],
   "source": [
    "GHI = re.findall(\"solarRadiationHigh&q;:[0-9]+\\.*[0-9]*\",json_txt)\n",
    "GHI = [int(valor[22:]) for valor in GHI]\n",
    "\n",
    "UV = re.findall(\"uvHigh&q;:[0-9]+\\.*[0-9]*\",json_txt)\n",
    "UV = [float(valor[10:]) for valor in UV]"
   ]
  },
  {
   "cell_type": "code",
   "execution_count": 4,
   "id": "c15073c1",
   "metadata": {
    "scrolled": true
   },
   "outputs": [
    {
     "data": {
      "text/plain": [
       "[<matplotlib.lines.Line2D at 0x7f5d6a27bc10>]"
      ]
     },
     "execution_count": 4,
     "metadata": {},
     "output_type": "execute_result"
    },
    {
     "data": {
      "image/png": "[encoded data removed]",
      "text/plain": [
       "<Figure size 432x288 with 1 Axes>"
      ]
     },
     "metadata": {
      "needs_background": "light"
     },
     "output_type": "display_data"
    }
   ],
   "source": [
    "import matplotlib.pyplot as plt\n",
    "\n",
    "plt.plot(UV)"
   ]
  },
  {
   "cell_type": "code",
   "execution_count": 5,
   "id": "ac400a7e",
   "metadata": {},
   "outputs": [],
   "source": [
    "import lib.libWU as wu\n",
    "import numpy as np\n",
    "\n",
    "lista_dias = np.linspace(0,363,15)\n",
    "lista_dias = np.floor(lista_dias).astype(int)\n",
    "\n",
    "df = wu.descarga_lugar(estación=estación,año=año,lista_num_dias=lista_dias,latitud=20.66,longitud=-99.90)"
   ]
  },
  {
   "cell_type": "code",
   "execution_count": 18,
   "id": "cac75657",
   "metadata": {
    "scrolled": false
   },
   "outputs": [
    {
     "data": {
      "text/plain": [
       "[<matplotlib.lines.Line2D at 0x7f5d600d5340>]"
      ]
     },
     "execution_count": 18,
     "metadata": {},
     "output_type": "execute_result"
    },
    {
     "data": {
      "image/png": "[encoded data removed]",
      "text/plain": [
       "<Figure size 432x288 with 1 Axes>"
      ]
     },
     "metadata": {
      "needs_background": "light"
     },
     "output_type": "display_data"
    }
   ],
   "source": [
    "clear = df[\"Clearsky GHI\"].values[i*300:(i+1)*300]\n",
    "ghi   = df[\"GHI\"].values[i*300:(i+1)*300]\n",
    "\n",
    "\n",
    "plt.plot(clear)\n",
    "plt.plot(ghi)"
   ]
  },
  {
   "cell_type": "code",
   "execution_count": 7,
   "id": "7db37299",
   "metadata": {},
   "outputs": [
    {
     "data": {
      "text/html": [
       "<div>\n",
       "<style scoped>\n",
       "    .dataframe tbody tr th:only-of-type {\n",
       "        vertical-align: middle;\n",
       "    }\n",
       "\n",
       "    .dataframe tbody tr th {\n",
       "        vertical-align: top;\n",
       "    }\n",
       "\n",
       "    .dataframe thead th {\n",
       "        text-align: right;\n",
       "    }\n",
       "</style>\n",
       "<table border=\"1\" class=\"dataframe\">\n",
       "  <thead>\n",
       "    <tr style=\"text-align: right;\">\n",
       "      <th></th>\n",
       "      <th>Year</th>\n",
       "      <th>Month</th>\n",
       "      <th>Day</th>\n",
       "      <th>Hour</th>\n",
       "      <th>Minute</th>\n",
       "      <th>GHI</th>\n",
       "      <th>Clearsky GHI</th>\n",
       "      <th>Clearsky DNI</th>\n",
       "      <th>ClearSky DHI</th>\n",
       "      <th>UV</th>\n",
       "      <th>Clearsky DHI</th>\n",
       "    </tr>\n",
       "  </thead>\n",
       "  <tbody>\n",
       "    <tr>\n",
       "      <th>0</th>\n",
       "      <td>2020</td>\n",
       "      <td>1</td>\n",
       "      <td>1</td>\n",
       "      <td>6</td>\n",
       "      <td>0</td>\n",
       "      <td>0</td>\n",
       "      <td>0.0</td>\n",
       "      <td>0.0</td>\n",
       "      <td>NaN</td>\n",
       "      <td>0.0</td>\n",
       "      <td>0.0</td>\n",
       "    </tr>\n",
       "    <tr>\n",
       "      <th>1</th>\n",
       "      <td>2020</td>\n",
       "      <td>1</td>\n",
       "      <td>1</td>\n",
       "      <td>6</td>\n",
       "      <td>10</td>\n",
       "      <td>0</td>\n",
       "      <td>0.0</td>\n",
       "      <td>0.0</td>\n",
       "      <td>NaN</td>\n",
       "      <td>0.0</td>\n",
       "      <td>0.0</td>\n",
       "    </tr>\n",
       "    <tr>\n",
       "      <th>2</th>\n",
       "      <td>2020</td>\n",
       "      <td>1</td>\n",
       "      <td>1</td>\n",
       "      <td>6</td>\n",
       "      <td>20</td>\n",
       "      <td>0</td>\n",
       "      <td>0.0</td>\n",
       "      <td>0.0</td>\n",
       "      <td>NaN</td>\n",
       "      <td>0.0</td>\n",
       "      <td>0.0</td>\n",
       "    </tr>\n",
       "    <tr>\n",
       "      <th>3</th>\n",
       "      <td>2020</td>\n",
       "      <td>1</td>\n",
       "      <td>1</td>\n",
       "      <td>6</td>\n",
       "      <td>30</td>\n",
       "      <td>0</td>\n",
       "      <td>0.0</td>\n",
       "      <td>0.0</td>\n",
       "      <td>NaN</td>\n",
       "      <td>0.0</td>\n",
       "      <td>0.0</td>\n",
       "    </tr>\n",
       "    <tr>\n",
       "      <th>4</th>\n",
       "      <td>2020</td>\n",
       "      <td>1</td>\n",
       "      <td>1</td>\n",
       "      <td>6</td>\n",
       "      <td>40</td>\n",
       "      <td>0</td>\n",
       "      <td>0.0</td>\n",
       "      <td>0.0</td>\n",
       "      <td>NaN</td>\n",
       "      <td>0.0</td>\n",
       "      <td>0.0</td>\n",
       "    </tr>\n",
       "    <tr>\n",
       "      <th>...</th>\n",
       "      <td>...</td>\n",
       "      <td>...</td>\n",
       "      <td>...</td>\n",
       "      <td>...</td>\n",
       "      <td>...</td>\n",
       "      <td>...</td>\n",
       "      <td>...</td>\n",
       "      <td>...</td>\n",
       "      <td>...</td>\n",
       "      <td>...</td>\n",
       "      <td>...</td>\n",
       "    </tr>\n",
       "    <tr>\n",
       "      <th>2048</th>\n",
       "      <td>2020</td>\n",
       "      <td>12</td>\n",
       "      <td>30</td>\n",
       "      <td>5</td>\n",
       "      <td>30</td>\n",
       "      <td>0</td>\n",
       "      <td>0.0</td>\n",
       "      <td>0.0</td>\n",
       "      <td>NaN</td>\n",
       "      <td>0.0</td>\n",
       "      <td>0.0</td>\n",
       "    </tr>\n",
       "    <tr>\n",
       "      <th>2049</th>\n",
       "      <td>2020</td>\n",
       "      <td>12</td>\n",
       "      <td>30</td>\n",
       "      <td>5</td>\n",
       "      <td>40</td>\n",
       "      <td>0</td>\n",
       "      <td>0.0</td>\n",
       "      <td>0.0</td>\n",
       "      <td>NaN</td>\n",
       "      <td>0.0</td>\n",
       "      <td>0.0</td>\n",
       "    </tr>\n",
       "    <tr>\n",
       "      <th>2050</th>\n",
       "      <td>2020</td>\n",
       "      <td>12</td>\n",
       "      <td>30</td>\n",
       "      <td>5</td>\n",
       "      <td>50</td>\n",
       "      <td>0</td>\n",
       "      <td>0.0</td>\n",
       "      <td>0.0</td>\n",
       "      <td>NaN</td>\n",
       "      <td>0.0</td>\n",
       "      <td>0.0</td>\n",
       "    </tr>\n",
       "    <tr>\n",
       "      <th>2051</th>\n",
       "      <td>2020</td>\n",
       "      <td>12</td>\n",
       "      <td>30</td>\n",
       "      <td>5</td>\n",
       "      <td>50</td>\n",
       "      <td>691</td>\n",
       "      <td>0.0</td>\n",
       "      <td>0.0</td>\n",
       "      <td>NaN</td>\n",
       "      <td>5.5</td>\n",
       "      <td>0.0</td>\n",
       "    </tr>\n",
       "    <tr>\n",
       "      <th>2052</th>\n",
       "      <td>2020</td>\n",
       "      <td>12</td>\n",
       "      <td>31</td>\n",
       "      <td>5</td>\n",
       "      <td>50</td>\n",
       "      <td>654</td>\n",
       "      <td>0.0</td>\n",
       "      <td>0.0</td>\n",
       "      <td>NaN</td>\n",
       "      <td>5.4</td>\n",
       "      <td>0.0</td>\n",
       "    </tr>\n",
       "  </tbody>\n",
       "</table>\n",
       "<p>2053 rows × 11 columns</p>\n",
       "</div>"
      ],
      "text/plain": [
       "      Year Month Day Hour Minute  GHI  Clearsky GHI  Clearsky DNI  \\\n",
       "0     2020     1   1    6      0    0           0.0           0.0   \n",
       "1     2020     1   1    6     10    0           0.0           0.0   \n",
       "2     2020     1   1    6     20    0           0.0           0.0   \n",
       "3     2020     1   1    6     30    0           0.0           0.0   \n",
       "4     2020     1   1    6     40    0           0.0           0.0   \n",
       "...    ...   ...  ..  ...    ...  ...           ...           ...   \n",
       "2048  2020    12  30    5     30    0           0.0           0.0   \n",
       "2049  2020    12  30    5     40    0           0.0           0.0   \n",
       "2050  2020    12  30    5     50    0           0.0           0.0   \n",
       "2051  2020    12  30    5     50  691           0.0           0.0   \n",
       "2052  2020    12  31    5     50  654           0.0           0.0   \n",
       "\n",
       "     ClearSky DHI   UV  Clearsky DHI  \n",
       "0             NaN  0.0           0.0  \n",
       "1             NaN  0.0           0.0  \n",
       "2             NaN  0.0           0.0  \n",
       "3             NaN  0.0           0.0  \n",
       "4             NaN  0.0           0.0  \n",
       "...           ...  ...           ...  \n",
       "2048          NaN  0.0           0.0  \n",
       "2049          NaN  0.0           0.0  \n",
       "2050          NaN  0.0           0.0  \n",
       "2051          NaN  5.5           0.0  \n",
       "2052          NaN  5.4           0.0  \n",
       "\n",
       "[2053 rows x 11 columns]"
      ]
     },
     "execution_count": 7,
     "metadata": {},
     "output_type": "execute_result"
    }
   ],
   "source": [
    "df"
   ]
  }
 ],
 "metadata": {
  "kernelspec": {
   "display_name": "Python 3 (ipykernel)",
   "language": "python",
   "name": "python3"
  },
  "language_info": {
   "codemirror_mode": {
    "name": "ipython",
    "version": 3
   },
   "file_extension": ".py",
   "mimetype": "text/x-python",
   "name": "python",
   "nbconvert_exporter": "python",
   "pygments_lexer": "ipython3",
   "version": "3.8.12"
  }
 },
 "nbformat": 4,
 "nbformat_minor": 5
}
