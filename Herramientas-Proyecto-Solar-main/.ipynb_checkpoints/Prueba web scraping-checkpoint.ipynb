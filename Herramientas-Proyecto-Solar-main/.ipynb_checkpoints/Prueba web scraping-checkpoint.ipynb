{
 "cells": [
  {
   "cell_type": "code",
   "execution_count": 1,
   "id": "03bd7925",
   "metadata": {},
   "outputs": [],
   "source": [
    "from bs4 import BeautifulSoup as BS\n",
    "import requests\n",
    "import re\n",
    "\n",
    "estación = \"ITEQUI1\"\n",
    "año      = 2020\n",
    "mes      = 12\n",
    "día      = 20\n",
    "\n",
    "día = str(día).zfill(2)\n",
    "mes = str(mes).zfill(2)\n",
    "url = f\"https://www.wunderground.com/dashboard/pws/{estación}/table/{año}-{mes}-{día}/{año}-{mes}-{día}/daily\"\n",
    "html  = requests.get(url).text\n",
    "soup  = BS(html,\"lxml\")"
   ]
  },
  {
   "cell_type": "code",
   "execution_count": 2,
   "id": "98bd40f1",
   "metadata": {
    "scrolled": true
   },
   "outputs": [],
   "source": [
    "tabla    = soup.find_all(\"script\")[9]\n",
    "json_txt = re.findall(\">.+\",str(tabla))[0][1:-9]"
   ]
  },
  {
   "cell_type": "code",
   "execution_count": 3,
   "id": "933384e3",
   "metadata": {},
   "outputs": [],
   "source": [
    "GHI = re.findall(\"solarRadiationHigh&q;:[0-9]+\\.*[0-9]*\",json_txt)\n",
    "GHI = [int(valor[22:]) for valor in GHI]\n",
    "\n",
    "UV = re.findall(\"uvHigh&q;:[0-9]+\\.*[0-9]*\",json_txt)\n",
    "UV = [float(valor[10:]) for valor in UV]"
   ]
  },
  {
   "cell_type": "code",
   "execution_count": 4,
   "id": "5ce587f1",
   "metadata": {
    "scrolled": true
   },
   "outputs": [
    {
     "data": {
      "text/plain": [
       "[<matplotlib.lines.Line2D at 0x7f0e3b6e1be0>]"
      ]
     },
     "execution_count": 4,
     "metadata": {},
     "output_type": "execute_result"
    },
    {
     "data": {
      "image/png": "[encoded data removed]",
      "text/plain": [
       "<Figure size 432x288 with 1 Axes>"
      ]
     },
     "metadata": {
      "needs_background": "light"
     },
     "output_type": "display_data"
    }
   ],
   "source": [
    "import matplotlib.pyplot as plt\n",
    "\n",
    "plt.plot(UV)"
   ]
  },
  {
   "cell_type": "code",
   "execution_count": 5,
   "id": "fd857fa8",
   "metadata": {},
   "outputs": [
    {
     "name": "stdout",
     "output_type": "stream",
     "text": [
      "https://www.wunderground.com/dashboard/pws/ITEQUI1/table/2020-01-1/2020-01-1/daily\n",
      "Error en la obtención de los datos:\n",
      "No hay datos por descargar en este día...\n",
      "https://www.wunderground.com/dashboard/pws/ITEQUI1/table/2020-03-13/2020-03-13/daily\n",
      "Error en la obtención de los datos:\n",
      "No hay datos por descargar en este día...\n",
      "https://www.wunderground.com/dashboard/pws/ITEQUI1/table/2020-05-25/2020-05-25/daily\n",
      "Error en la obtención de los datos:\n",
      "No hay datos por descargar en este día...\n",
      "https://www.wunderground.com/dashboard/pws/ITEQUI1/table/2020-08-5/2020-08-5/daily\n",
      "Error en la obtención de los datos:\n",
      "No hay datos por descargar en este día...\n"
     ]
    }
   ],
   "source": [
    "import lib.libWU as wu\n",
    "import numpy as np\n",
    "\n",
    "lista_dias = np.linspace(0,363,15)\n",
    "lista_dias = np.floor(lista_dias).astype(int)\n",
    "\n",
    "df = wu.descarga_lugar(estación=estación,año=año,lista_num_dias=lista_dias,latitud=20,longitud=-100)"
   ]
  },
  {
   "cell_type": "code",
   "execution_count": 6,
   "id": "fd9965e7",
   "metadata": {
    "scrolled": false
   },
   "outputs": [
    {
     "data": {
      "text/plain": [
       "<AxesSubplot:>"
      ]
     },
     "execution_count": 6,
     "metadata": {},
     "output_type": "execute_result"
    },
    {
     "data": {
      "image/png": "[encoded data removed]",
      "text/plain": [
       "<Figure size 432x288 with 1 Axes>"
      ]
     },
     "metadata": {
      "needs_background": "light"
     },
     "output_type": "display_data"
    }
   ],
   "source": [
    "df[\"Clearsky GHI\"].plot()"
   ]
  },
  {
   "cell_type": "code",
   "execution_count": 7,
   "id": "4afe1cc6",
   "metadata": {},
   "outputs": [
    {
     "data": {
      "text/html": [
       "<div>\n",
       "<style scoped>\n",
       "    .dataframe tbody tr th:only-of-type {\n",
       "        vertical-align: middle;\n",
       "    }\n",
       "\n",
       "    .dataframe tbody tr th {\n",
       "        vertical-align: top;\n",
       "    }\n",
       "\n",
       "    .dataframe thead th {\n",
       "        text-align: right;\n",
       "    }\n",
       "</style>\n",
       "<table border=\"1\" class=\"dataframe\">\n",
       "  <thead>\n",
       "    <tr style=\"text-align: right;\">\n",
       "      <th></th>\n",
       "      <th>Year</th>\n",
       "      <th>Month</th>\n",
       "      <th>Day</th>\n",
       "      <th>Hour</th>\n",
       "      <th>Minute</th>\n",
       "      <th>GHI</th>\n",
       "      <th>Clearsky GHI</th>\n",
       "      <th>Clearsky DNI</th>\n",
       "      <th>ClearSky DHI</th>\n",
       "      <th>UV</th>\n",
       "      <th>Clearsky DHI</th>\n",
       "    </tr>\n",
       "  </thead>\n",
       "  <tbody>\n",
       "    <tr>\n",
       "      <th>0</th>\n",
       "      <td>2020</td>\n",
       "      <td>10</td>\n",
       "      <td>17</td>\n",
       "      <td>5</td>\n",
       "      <td>0</td>\n",
       "      <td>0</td>\n",
       "      <td>0.0</td>\n",
       "      <td>0.0</td>\n",
       "      <td>NaN</td>\n",
       "      <td>0.0</td>\n",
       "      <td>0.0</td>\n",
       "    </tr>\n",
       "    <tr>\n",
       "      <th>1</th>\n",
       "      <td>2020</td>\n",
       "      <td>10</td>\n",
       "      <td>17</td>\n",
       "      <td>5</td>\n",
       "      <td>15</td>\n",
       "      <td>0</td>\n",
       "      <td>0.0</td>\n",
       "      <td>0.0</td>\n",
       "      <td>NaN</td>\n",
       "      <td>0.0</td>\n",
       "      <td>0.0</td>\n",
       "    </tr>\n",
       "    <tr>\n",
       "      <th>2</th>\n",
       "      <td>2020</td>\n",
       "      <td>10</td>\n",
       "      <td>17</td>\n",
       "      <td>5</td>\n",
       "      <td>30</td>\n",
       "      <td>0</td>\n",
       "      <td>0.0</td>\n",
       "      <td>0.0</td>\n",
       "      <td>NaN</td>\n",
       "      <td>0.0</td>\n",
       "      <td>0.0</td>\n",
       "    </tr>\n",
       "    <tr>\n",
       "      <th>3</th>\n",
       "      <td>2020</td>\n",
       "      <td>10</td>\n",
       "      <td>17</td>\n",
       "      <td>5</td>\n",
       "      <td>45</td>\n",
       "      <td>0</td>\n",
       "      <td>0.0</td>\n",
       "      <td>0.0</td>\n",
       "      <td>NaN</td>\n",
       "      <td>0.0</td>\n",
       "      <td>0.0</td>\n",
       "    </tr>\n",
       "    <tr>\n",
       "      <th>4</th>\n",
       "      <td>2020</td>\n",
       "      <td>10</td>\n",
       "      <td>17</td>\n",
       "      <td>6</td>\n",
       "      <td>0</td>\n",
       "      <td>0</td>\n",
       "      <td>0.0</td>\n",
       "      <td>0.0</td>\n",
       "      <td>NaN</td>\n",
       "      <td>0.0</td>\n",
       "      <td>0.0</td>\n",
       "    </tr>\n",
       "    <tr>\n",
       "      <th>...</th>\n",
       "      <td>...</td>\n",
       "      <td>...</td>\n",
       "      <td>...</td>\n",
       "      <td>...</td>\n",
       "      <td>...</td>\n",
       "      <td>...</td>\n",
       "      <td>...</td>\n",
       "      <td>...</td>\n",
       "      <td>...</td>\n",
       "      <td>...</td>\n",
       "      <td>...</td>\n",
       "    </tr>\n",
       "    <tr>\n",
       "      <th>190</th>\n",
       "      <td>2020</td>\n",
       "      <td>12</td>\n",
       "      <td>30</td>\n",
       "      <td>5</td>\n",
       "      <td>15</td>\n",
       "      <td>772</td>\n",
       "      <td>0.0</td>\n",
       "      <td>0.0</td>\n",
       "      <td>NaN</td>\n",
       "      <td>7.4</td>\n",
       "      <td>0.0</td>\n",
       "    </tr>\n",
       "    <tr>\n",
       "      <th>191</th>\n",
       "      <td>2020</td>\n",
       "      <td>12</td>\n",
       "      <td>30</td>\n",
       "      <td>5</td>\n",
       "      <td>30</td>\n",
       "      <td>772</td>\n",
       "      <td>0.0</td>\n",
       "      <td>0.0</td>\n",
       "      <td>NaN</td>\n",
       "      <td>7.4</td>\n",
       "      <td>0.0</td>\n",
       "    </tr>\n",
       "    <tr>\n",
       "      <th>192</th>\n",
       "      <td>2020</td>\n",
       "      <td>12</td>\n",
       "      <td>30</td>\n",
       "      <td>5</td>\n",
       "      <td>45</td>\n",
       "      <td>772</td>\n",
       "      <td>0.0</td>\n",
       "      <td>0.0</td>\n",
       "      <td>NaN</td>\n",
       "      <td>7.4</td>\n",
       "      <td>0.0</td>\n",
       "    </tr>\n",
       "    <tr>\n",
       "      <th>193</th>\n",
       "      <td>2020</td>\n",
       "      <td>12</td>\n",
       "      <td>30</td>\n",
       "      <td>5</td>\n",
       "      <td>45</td>\n",
       "      <td>772</td>\n",
       "      <td>0.0</td>\n",
       "      <td>0.0</td>\n",
       "      <td>NaN</td>\n",
       "      <td>7.4</td>\n",
       "      <td>0.0</td>\n",
       "    </tr>\n",
       "    <tr>\n",
       "      <th>194</th>\n",
       "      <td>2020</td>\n",
       "      <td>12</td>\n",
       "      <td>31</td>\n",
       "      <td>5</td>\n",
       "      <td>45</td>\n",
       "      <td>772</td>\n",
       "      <td>0.0</td>\n",
       "      <td>0.0</td>\n",
       "      <td>NaN</td>\n",
       "      <td>7.4</td>\n",
       "      <td>0.0</td>\n",
       "    </tr>\n",
       "  </tbody>\n",
       "</table>\n",
       "<p>195 rows × 11 columns</p>\n",
       "</div>"
      ],
      "text/plain": [
       "     Year Month Day Hour Minute  GHI  Clearsky GHI  Clearsky DNI ClearSky DHI  \\\n",
       "0    2020    10  17    5      0    0           0.0           0.0          NaN   \n",
       "1    2020    10  17    5     15    0           0.0           0.0          NaN   \n",
       "2    2020    10  17    5     30    0           0.0           0.0          NaN   \n",
       "3    2020    10  17    5     45    0           0.0           0.0          NaN   \n",
       "4    2020    10  17    6      0    0           0.0           0.0          NaN   \n",
       "..    ...   ...  ..  ...    ...  ...           ...           ...          ...   \n",
       "190  2020    12  30    5     15  772           0.0           0.0          NaN   \n",
       "191  2020    12  30    5     30  772           0.0           0.0          NaN   \n",
       "192  2020    12  30    5     45  772           0.0           0.0          NaN   \n",
       "193  2020    12  30    5     45  772           0.0           0.0          NaN   \n",
       "194  2020    12  31    5     45  772           0.0           0.0          NaN   \n",
       "\n",
       "      UV  Clearsky DHI  \n",
       "0    0.0           0.0  \n",
       "1    0.0           0.0  \n",
       "2    0.0           0.0  \n",
       "3    0.0           0.0  \n",
       "4    0.0           0.0  \n",
       "..   ...           ...  \n",
       "190  7.4           0.0  \n",
       "191  7.4           0.0  \n",
       "192  7.4           0.0  \n",
       "193  7.4           0.0  \n",
       "194  7.4           0.0  \n",
       "\n",
       "[195 rows x 11 columns]"
      ]
     },
     "execution_count": 7,
     "metadata": {},
     "output_type": "execute_result"
    }
   ],
   "source": [
    "df"
   ]
  }
 ],
 "metadata": {
  "kernelspec": {
   "display_name": "Python 3 (ipykernel)",
   "language": "python",
   "name": "python3"
  },
  "language_info": {
   "codemirror_mode": {
    "name": "ipython",
    "version": 3
   },
   "file_extension": ".py",
   "mimetype": "text/x-python",
   "name": "python",
   "nbconvert_exporter": "python",
   "pygments_lexer": "ipython3",
   "version": "3.8.12"
  }
 },
 "nbformat": 4,
 "nbformat_minor": 5
}
