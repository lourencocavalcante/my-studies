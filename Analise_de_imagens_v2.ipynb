{
  "cells": [
    {
      "cell_type": "markdown",
      "metadata": {
        "id": "view-in-github",
        "colab_type": "text"
      },
      "source": [
        "<a href=\"https://colab.research.google.com/github/lourencocavalcante/my-studies/blob/main/Analise_de_imagens_v2.ipynb\" target=\"_parent\"><img src=\"https://colab.research.google.com/assets/colab-badge.svg\" alt=\"Open In Colab\"/></a>"
      ]
    },
    {
      "cell_type": "code",
      "execution_count": null,
      "source": [
        "import numpy as np\n",
        "import matplotlib.pyplot as plt\n",
        "import natsort\n",
        "import cv2\n"
      ],
      "outputs": [],
      "metadata": {
        "id": "I19yyJxRQFPI"
      },
      "id": "I19yyJxRQFPI"
    },
    {
      "cell_type": "markdown",
      "source": [
        "### Lendo duas imagens com o OpenCV uma com o terreno em seu estado anterior, e outra\n",
        "### com o terreno no estado atual."
      ],
      "metadata": {
        "id": "9_pXRGG_QFPP"
      },
      "id": "9_pXRGG_QFPP"
    },
    {
      "cell_type": "code",
      "execution_count": null,
      "source": [
        "img_previous = cv2.imread('ortigueira_2018.jpg')"
      ],
      "outputs": [],
      "metadata": {
        "id": "Xl3Tj1jiQFPT"
      },
      "id": "Xl3Tj1jiQFPT"
    },
    {
      "cell_type": "code",
      "execution_count": null,
      "source": [
        "img_current = cv2.imread('ortigueira_2021.jpg')"
      ],
      "outputs": [],
      "metadata": {
        "id": "4RlPobefQFPU"
      },
      "id": "4RlPobefQFPU"
    },
    {
      "cell_type": "code",
      "execution_count": null,
      "source": [
        "img2_previous = img_previous.reshape((-1, 3))"
      ],
      "outputs": [],
      "metadata": {
        "id": "nvySddiIQFPV"
      },
      "id": "nvySddiIQFPV"
    },
    {
      "cell_type": "code",
      "execution_count": null,
      "source": [
        "img2_current = img_current.reshape((-1, 3))"
      ],
      "outputs": [],
      "metadata": {
        "id": "uhuXHzU0QFPW"
      },
      "id": "uhuXHzU0QFPW"
    },
    {
      "cell_type": "code",
      "execution_count": null,
      "source": [
        "img2_previous = np.float32(img2_previous)"
      ],
      "outputs": [],
      "metadata": {
        "id": "7ESFthdWQFPW"
      },
      "id": "7ESFthdWQFPW"
    },
    {
      "cell_type": "code",
      "execution_count": null,
      "source": [
        "img2_current = np.float32(img2_current)"
      ],
      "outputs": [],
      "metadata": {
        "id": "21yrwCaUQFPX"
      },
      "id": "21yrwCaUQFPX"
    },
    {
      "cell_type": "code",
      "execution_count": null,
      "source": [
        "criteria = (cv2.TERM_CRITERIA_EPS + cv2.TERM_CRITERIA_MAX_ITER, 10, 1.0)"
      ],
      "outputs": [],
      "metadata": {
        "id": "uBlVo3UkQFPY"
      },
      "id": "uBlVo3UkQFPY"
    },
    {
      "cell_type": "markdown",
      "source": [
        "### ------------------------------"
      ],
      "metadata": {
        "id": "mhTdXAMCQFPZ"
      },
      "id": "mhTdXAMCQFPZ"
    },
    {
      "cell_type": "markdown",
      "source": [
        "### usando dois clusters, 1 para áreas com floresta e outro para áreas sem floresta"
      ],
      "metadata": {
        "id": "SwlXMH8XQFPa"
      },
      "id": "SwlXMH8XQFPa"
    },
    {
      "cell_type": "code",
      "execution_count": null,
      "source": [
        "k = 2"
      ],
      "outputs": [],
      "metadata": {
        "id": "2IrpiNEoQFPb"
      },
      "id": "2IrpiNEoQFPb"
    },
    {
      "cell_type": "code",
      "execution_count": null,
      "source": [
        "attempts = 10"
      ],
      "outputs": [],
      "metadata": {
        "id": "FW63ei8vQFPb"
      },
      "id": "FW63ei8vQFPb"
    },
    {
      "cell_type": "markdown",
      "source": [
        "# Calculos da primeira imagem usando Kmeans"
      ],
      "metadata": {
        "id": "zlTMocjcQFPc"
      },
      "id": "zlTMocjcQFPc"
    },
    {
      "cell_type": "code",
      "execution_count": null,
      "source": [],
      "outputs": [],
      "metadata": {
        "id": "IWU7XcCIQFPc"
      },
      "id": "IWU7XcCIQFPc"
    },
    {
      "cell_type": "code",
      "execution_count": null,
      "source": [
        "ret_previous,label_previous,center_previous=cv2.kmeans(img2_previous,k,None,criteria,attempts,cv2.KMEANS_RANDOM_CENTERS)\n"
      ],
      "outputs": [],
      "metadata": {
        "id": "bBpsSWsdQFPd"
      },
      "id": "bBpsSWsdQFPd"
    },
    {
      "cell_type": "markdown",
      "source": [],
      "metadata": {
        "id": "7heCqROSQFPd"
      },
      "id": "7heCqROSQFPd"
    },
    {
      "cell_type": "markdown",
      "source": [
        "# Calculos da Segunda imagem, usando Kmeans"
      ],
      "metadata": {
        "id": "LJoDr8UcQFPd"
      },
      "id": "LJoDr8UcQFPd"
    },
    {
      "cell_type": "code",
      "execution_count": null,
      "source": [
        "ret_current,label_current,center_current=cv2.kmeans(img2_current,k,None,criteria,attempts,cv2.KMEANS_RANDOM_CENTERS)"
      ],
      "outputs": [],
      "metadata": {
        "id": "iMZERz2PQFPe"
      },
      "id": "iMZERz2PQFPe"
    },
    {
      "cell_type": "markdown",
      "source": [
        "### --------------------------"
      ],
      "metadata": {
        "id": "0mKgE--yQFPe"
      },
      "id": "0mKgE--yQFPe"
    },
    {
      "cell_type": "markdown",
      "source": [
        "### calculando a quantidade de membros em cada cluster"
      ],
      "metadata": {
        "id": "ilJS0_4AQFPe"
      },
      "id": "ilJS0_4AQFPe"
    },
    {
      "cell_type": "code",
      "execution_count": null,
      "source": [
        "unique, counts = np.unique(label_previous, return_counts=True)"
      ],
      "outputs": [],
      "metadata": {
        "id": "FfUMVJmfQFPf"
      },
      "id": "FfUMVJmfQFPf"
    },
    {
      "cell_type": "code",
      "execution_count": null,
      "source": [
        "florest_previous = dict(zip(unique, counts))"
      ],
      "outputs": [],
      "metadata": {
        "id": "4uDZ_6kuQFPf"
      },
      "id": "4uDZ_6kuQFPf"
    },
    {
      "cell_type": "code",
      "execution_count": null,
      "source": [
        "florest_previous[1]"
      ],
      "outputs": [
        {
          "output_type": "execute_result",
          "data": {
            "text/plain": [
              "685625"
            ]
          },
          "metadata": {},
          "execution_count": 67
        }
      ],
      "metadata": {
        "id": "Vs3Qfi27QFPg",
        "outputId": "587dd880-68cc-43ef-9808-027895d45828"
      },
      "id": "Vs3Qfi27QFPg"
    },
    {
      "cell_type": "code",
      "execution_count": null,
      "source": [
        "unique, counts = np.unique(label_current, return_counts=True)"
      ],
      "outputs": [],
      "metadata": {
        "id": "0t6zDfNJQFPh"
      },
      "id": "0t6zDfNJQFPh"
    },
    {
      "cell_type": "code",
      "execution_count": null,
      "source": [
        "florest_current = dict(zip(unique, counts))"
      ],
      "outputs": [],
      "metadata": {
        "id": "vTWKQgMfQFPi"
      },
      "id": "vTWKQgMfQFPi"
    },
    {
      "cell_type": "code",
      "execution_count": null,
      "source": [
        "florest_current[1]"
      ],
      "outputs": [
        {
          "output_type": "execute_result",
          "data": {
            "text/plain": [
              "543584"
            ]
          },
          "metadata": {},
          "execution_count": 80
        }
      ],
      "metadata": {
        "id": "6-zFGhpHQFPi",
        "outputId": "410125d2-8cd3-434a-d810-850ef6f52ea3"
      },
      "id": "6-zFGhpHQFPi"
    },
    {
      "cell_type": "markdown",
      "source": [
        "### Calcula a diferença entre quantidade de \"floresta\" na primeira imagem comparada com a segunda."
      ],
      "metadata": {
        "id": "IB9XRxPbQFPj"
      },
      "id": "IB9XRxPbQFPj"
    },
    {
      "cell_type": "code",
      "execution_count": null,
      "source": [
        "(florest_previous[1]/florest_current[1])*100 -100"
      ],
      "outputs": [
        {
          "output_type": "execute_result",
          "data": {
            "text/plain": [
              "26.13046005769118"
            ]
          },
          "metadata": {},
          "execution_count": 81
        }
      ],
      "metadata": {
        "id": "WKLyrImdQFPj",
        "outputId": "f1bcb183-6148-4be6-aa29-01265f9dba9f"
      },
      "id": "WKLyrImdQFPj"
    },
    {
      "cell_type": "markdown",
      "source": [
        "### ------------------------------"
      ],
      "metadata": {
        "id": "itIrkm5fQFPj"
      },
      "id": "itIrkm5fQFPj"
    },
    {
      "cell_type": "markdown",
      "source": [
        "### Salvando o resultado da primeira imagem."
      ],
      "metadata": {
        "id": "PCGPVUIIQFPk"
      },
      "id": "PCGPVUIIQFPk"
    },
    {
      "cell_type": "code",
      "execution_count": null,
      "source": [
        "center_previous = np.uint8(center_previous)"
      ],
      "outputs": [],
      "metadata": {
        "id": "DQLn8k-qQFPk"
      },
      "id": "DQLn8k-qQFPk"
    },
    {
      "cell_type": "code",
      "execution_count": null,
      "source": [
        "ret_previous = center_previous[label_previous.flatten()]"
      ],
      "outputs": [],
      "metadata": {
        "id": "9fsBcdjsQFPk"
      },
      "id": "9fsBcdjsQFPk"
    },
    {
      "cell_type": "code",
      "execution_count": null,
      "source": [
        "ret_previous2 = ret_previous.reshape((img_previous.shape))"
      ],
      "outputs": [],
      "metadata": {
        "id": "RjWcxx-nQFPk"
      },
      "id": "RjWcxx-nQFPk"
    },
    {
      "cell_type": "code",
      "execution_count": null,
      "source": [
        "cv2.imwrite('ortigueira_2018K.jpg', ret_previous2)"
      ],
      "outputs": [
        {
          "output_type": "execute_result",
          "data": {
            "text/plain": [
              "True"
            ]
          },
          "metadata": {},
          "execution_count": 75
        }
      ],
      "metadata": {
        "id": "UldcLvqEQFPk",
        "outputId": "b30913dd-6d51-4c85-9b20-adecc5ab05da"
      },
      "id": "UldcLvqEQFPk"
    },
    {
      "cell_type": "markdown",
      "source": [
        "### Salvando o resultado da segunda imagem."
      ],
      "metadata": {
        "id": "crPhR9IPQFPl"
      },
      "id": "crPhR9IPQFPl"
    },
    {
      "cell_type": "code",
      "execution_count": null,
      "source": [
        "center_current = np.uint8(center_current)"
      ],
      "outputs": [],
      "metadata": {
        "id": "P1ibigmIQFPl"
      },
      "id": "P1ibigmIQFPl"
    },
    {
      "cell_type": "code",
      "execution_count": null,
      "source": [
        "ret_current = center_current[label_current.flatten()]"
      ],
      "outputs": [],
      "metadata": {
        "id": "MgO50OMjQFPl"
      },
      "id": "MgO50OMjQFPl"
    },
    {
      "cell_type": "code",
      "execution_count": null,
      "source": [
        "ret_current2 = ret_current.reshape((img_current.shape))"
      ],
      "outputs": [],
      "metadata": {
        "id": "Q53SBsRtQFPl"
      },
      "id": "Q53SBsRtQFPl"
    },
    {
      "cell_type": "code",
      "execution_count": null,
      "source": [
        "cv2.imwrite('ortigueira_2021K.jpg', ret_current2)"
      ],
      "outputs": [
        {
          "output_type": "execute_result",
          "data": {
            "text/plain": [
              "True"
            ]
          },
          "metadata": {},
          "execution_count": 79
        }
      ],
      "metadata": {
        "id": "nA805VM4QFPl",
        "outputId": "a683c3ad-e78d-406a-9347-34f9ea11e6f4"
      },
      "id": "nA805VM4QFPl"
    },
    {
      "cell_type": "code",
      "execution_count": null,
      "source": [],
      "outputs": [],
      "metadata": {
        "id": "JudJhddsQFPm"
      },
      "id": "JudJhddsQFPm"
    },
    {
      "cell_type": "code",
      "execution_count": null,
      "source": [],
      "outputs": [],
      "metadata": {
        "id": "GTcMZgTNQFPm"
      },
      "id": "GTcMZgTNQFPm"
    },
    {
      "cell_type": "code",
      "execution_count": null,
      "source": [],
      "outputs": [],
      "metadata": {
        "id": "OvI6E8-JQFPm"
      },
      "id": "OvI6E8-JQFPm"
    }
  ],
  "metadata": {
    "kernelspec": {
      "display_name": "Python 3",
      "language": "python",
      "name": "python3"
    },
    "language_info": {
      "codemirror_mode": {
        "name": "ipython",
        "version": 3
      },
      "file_extension": ".py",
      "mimetype": "text/x-python",
      "name": "python",
      "nbconvert_exporter": "python",
      "pygments_lexer": "ipython3",
      "version": "3.7.9"
    },
    "colab": {
      "provenance": [],
      "include_colab_link": true
    }
  },
  "nbformat": 4,
  "nbformat_minor": 5
}