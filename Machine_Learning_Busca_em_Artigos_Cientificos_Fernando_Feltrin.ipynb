{
  "nbformat": 4,
  "nbformat_minor": 0,
  "metadata": {
    "colab": {
      "name": "Machine Learning - Busca em Artigos Cientificos - Fernando Feltrin.ipynb",
      "provenance": []
    },
    "kernelspec": {
      "name": "python3",
      "display_name": "Python 3"
    }
  },
  "cells": [
    {
      "cell_type": "code",
      "metadata": {
        "id": "hcbgZVWUGLaL"
      },
      "source": [
        "import numpy as np\n",
        "import zipfile\n",
        "import pandas as pd\n",
        "import glob\n",
        "import json\n",
        "import seaborn as sns\n",
        "import spacy\n",
        "import nltk\n",
        "from IPython.core.display import HTML\n",
        "from matplotlib import pyplot as plt\n"
      ],
      "execution_count": null,
      "outputs": []
    },
    {
      "cell_type": "code",
      "metadata": {
        "id": "kYxnwP90GTIR"
      },
      "source": [
        "!pip install scispacy\n"
      ],
      "execution_count": null,
      "outputs": []
    },
    {
      "cell_type": "code",
      "metadata": {
        "id": "P4RPjroOGTKY"
      },
      "source": [
        "import scispacy\r\n"
      ],
      "execution_count": null,
      "outputs": []
    },
    {
      "cell_type": "code",
      "metadata": {
        "id": "lxJA--zCGTMw"
      },
      "source": [
        "!pip install https://s3-us-west-2.amazonaws.com/ai2-s2-scispacy/releases/v0.2.4/en_core_sci_md-0.2.4.tar.gz\r\n"
      ],
      "execution_count": null,
      "outputs": []
    },
    {
      "cell_type": "code",
      "metadata": {
        "id": "yQymYcyeGTPQ"
      },
      "source": [
        "import en_core_sci_md\r\n"
      ],
      "execution_count": null,
      "outputs": []
    },
    {
      "cell_type": "code",
      "metadata": {
        "id": "0UlcD1s_GTRx"
      },
      "source": [
        "!python -m spacy download en\r\n"
      ],
      "execution_count": null,
      "outputs": []
    },
    {
      "cell_type": "code",
      "metadata": {
        "id": "uxG_B1KJGTT_"
      },
      "source": [
        "from google.colab import drive\n",
        "drive.mount('/content/gdrive')\n"
      ],
      "execution_count": null,
      "outputs": []
    },
    {
      "cell_type": "code",
      "metadata": {
        "id": "6GudSQzkGTWX"
      },
      "source": [
        "path = '/content/gdrive/My Drive/CORD-19-research-challenge.zip'\n",
        "zip_object = zipfile.ZipFile(file=path, mode = 'r')\n",
        "zip_object.extractall('./')\n",
        "zip_object.close()\n"
      ],
      "execution_count": null,
      "outputs": []
    },
    {
      "cell_type": "code",
      "metadata": {
        "id": "luQPZJd0Gguu"
      },
      "source": [
        "corona_features = {'paper_id': [],\n",
        "                   'title': [],\n",
        "                   'abstract': [],\n",
        "                   'text': []}\n",
        "                   "
      ],
      "execution_count": null,
      "outputs": []
    },
    {
      "cell_type": "code",
      "metadata": {
        "id": "PQ8dcL4FGgxO"
      },
      "source": [
        "type(corona_features)\r\n"
      ],
      "execution_count": null,
      "outputs": []
    },
    {
      "cell_type": "code",
      "metadata": {
        "id": "VWH_2jIQGgzs"
      },
      "source": [
        "corona_df = pd.DataFrame.from_dict(corona_features)\r\n"
      ],
      "execution_count": null,
      "outputs": []
    },
    {
      "cell_type": "code",
      "metadata": {
        "id": "sPO2cgqfGg2R"
      },
      "source": [
        "type(corona_df)\r\n"
      ],
      "execution_count": null,
      "outputs": []
    },
    {
      "cell_type": "code",
      "metadata": {
        "id": "9WZdqoJJGg4u"
      },
      "source": [
        "corona_df.head()\r\n"
      ],
      "execution_count": null,
      "outputs": []
    },
    {
      "cell_type": "code",
      "metadata": {
        "id": "D0QLJWIPGg7W"
      },
      "source": [
        "json_filenames = glob.glob(f'{\"./\"}//**/*.json', recursive = True)\r\n"
      ],
      "execution_count": null,
      "outputs": []
    },
    {
      "cell_type": "code",
      "metadata": {
        "id": "JBaf6fMBGg9-"
      },
      "source": [
        "print(json_filenames)\r\n"
      ],
      "execution_count": null,
      "outputs": []
    },
    {
      "cell_type": "code",
      "metadata": {
        "id": "yeJGQ8PbGv5P"
      },
      "source": [
        "len(json_filenames)\r\n"
      ],
      "execution_count": null,
      "outputs": []
    },
    {
      "cell_type": "code",
      "metadata": {
        "id": "QRLj97UBGv7t"
      },
      "source": [
        "def return_corona_df(json_filenames, df):\n",
        "  for file_name in json_filenames:\n",
        "    row = {'paper_id': None, 'title': None,\n",
        "           'abstract': None, 'text': None}\n",
        "    \n",
        "    with open(file_name) as json_data:\n",
        "      if file_name == './sample_data/anscombe.json':\n",
        "        continue\n",
        "\n",
        "      data = json.load(json_data)\n",
        "\n",
        "      row['paper_id'] = data['paper_id'].strip() # ' 345 ' -> '345'\n",
        "      row['title'] = data['metadata']['title'].strip()\n",
        "\n",
        "      abstract_list = [abstract['text'] for abstract in data['abstract']]\n",
        "      abstract = '\\n '.join(abstract_list)\n",
        "      row['abstract'] = abstract.strip()\n",
        "\n",
        "      text_list = [text['text'] for text in data['body_text']]\n",
        "      text = '\\n '.join(text_list)\n",
        "      row['text'] = text.strip()\n",
        "\n",
        "      df = df.append(row, ignore_index = True)\n",
        "  return df\n",
        "  "
      ],
      "execution_count": null,
      "outputs": []
    },
    {
      "cell_type": "code",
      "metadata": {
        "id": "uC43kL0BGv-P"
      },
      "source": [
        "corona_df = return_corona_df(json_filenames, corona_df)\r\n"
      ],
      "execution_count": null,
      "outputs": []
    },
    {
      "cell_type": "code",
      "metadata": {
        "id": "Rvg0q0KtGwAl"
      },
      "source": [
        "corona_df.shape\r\n"
      ],
      "execution_count": null,
      "outputs": []
    },
    {
      "cell_type": "code",
      "metadata": {
        "id": "BeXmkVaIGwC8"
      },
      "source": [
        "corona_df.head()\r\n"
      ],
      "execution_count": null,
      "outputs": []
    },
    {
      "cell_type": "code",
      "metadata": {
        "id": "uQHR_c8iGwFR"
      },
      "source": [
        "corona_df['text'][0]\r\n"
      ],
      "execution_count": null,
      "outputs": []
    },
    {
      "cell_type": "code",
      "metadata": {
        "id": "bMJDSXbdGwHh"
      },
      "source": [
        "len(corona_df['text'][0])\r\n"
      ],
      "execution_count": null,
      "outputs": []
    },
    {
      "cell_type": "code",
      "metadata": {
        "id": "GXUnfb_WGwJ1"
      },
      "source": [
        ""
      ],
      "execution_count": null,
      "outputs": []
    }
  ]
}