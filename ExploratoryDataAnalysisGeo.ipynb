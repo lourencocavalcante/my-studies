{
 "cells": [
  {
   "cell_type": "code",
   "execution_count": 24,
   "metadata": {
    "ExecuteTime": {
     "end_time": "2019-09-07T18:16:03.789167Z",
     "start_time": "2019-09-07T18:16:02.115631Z"
    }
   },
   "outputs": [
    {
     "data": {
      "text/html": [
       "        <script type=\"text/javascript\">\n",
       "        window.PlotlyConfig = {MathJaxConfig: 'local'};\n",
       "        if (window.MathJax) {MathJax.Hub.Config({SVG: {font: \"STIX-Web\"}});}\n",
       "        if (typeof require !== 'undefined') {\n",
       "        require.undef(\"plotly\");\n",
       "        requirejs.config({\n",
       "            paths: {\n",
       "                'plotly': ['https://cdn.plot.ly/plotly-latest.min']\n",
       "            }\n",
       "        });\n",
       "        require(['plotly'], function(Plotly) {\n",
       "            window._Plotly = Plotly;\n",
       "        });\n",
       "        }\n",
       "        </script>\n",
       "        "
      ]
     },
     "metadata": {},
     "output_type": "display_data"
    }
   ],
   "source": [
    "import os\n",
    "import numpy as np\n",
    "import pandas as pd\n",
    "from plotly.subplots import make_subplots\n",
    "import plotly.graph_objects as go\n",
    "from plotly import offline\n",
    "import plotly.io as pio\n",
    "import plotly.express as px\n",
    "from datetime import datetime, timedelta\n",
    "\n",
    "from plotly.offline import download_plotlyjs, init_notebook_mode, plot, iplot\n",
    "\n",
    "init_notebook_mode(connected=True)\n",
    "from shapely.geometry import  Point, MultiPoint\n",
    "import geopandas as gpd\n",
    "\n",
    "from shapely import wkt"
   ]
  },
  {
   "cell_type": "code",
   "execution_count": 2,
   "metadata": {
    "ExecuteTime": {
     "end_time": "2019-09-07T17:51:12.940375Z",
     "start_time": "2019-09-07T17:51:08.564556Z"
    }
   },
   "outputs": [
    {
     "name": "stdout",
     "output_type": "stream",
     "text": [
      "Total de registros: 53160\n",
      "Total de registros: 26218\n"
     ]
    },
    {
     "data": {
      "text/html": [
       "<div>\n",
       "<style scoped>\n",
       "    .dataframe tbody tr th:only-of-type {\n",
       "        vertical-align: middle;\n",
       "    }\n",
       "\n",
       "    .dataframe tbody tr th {\n",
       "        vertical-align: top;\n",
       "    }\n",
       "\n",
       "    .dataframe thead th {\n",
       "        text-align: right;\n",
       "    }\n",
       "</style>\n",
       "<table border=\"1\" class=\"dataframe\">\n",
       "  <thead>\n",
       "    <tr style=\"text-align: right;\">\n",
       "      <th></th>\n",
       "      <th>time</th>\n",
       "      <th>sysclass</th>\n",
       "      <th>lat</th>\n",
       "      <th>lon</th>\n",
       "      <th>dir</th>\n",
       "      <th>vel</th>\n",
       "      <th>size</th>\n",
       "      <th>ttyyyxx1</th>\n",
       "      <th>ttyyyxx2</th>\n",
       "      <th>ttyyyxx3</th>\n",
       "      <th>...</th>\n",
       "      <th>maxz</th>\n",
       "      <th>meanvil</th>\n",
       "      <th>ttvil</th>\n",
       "      <th>meanprec</th>\n",
       "      <th>maxprec</th>\n",
       "      <th>year</th>\n",
       "      <th>month</th>\n",
       "      <th>day</th>\n",
       "      <th>hour</th>\n",
       "      <th>minute</th>\n",
       "    </tr>\n",
       "  </thead>\n",
       "  <tbody>\n",
       "    <tr>\n",
       "      <th>12871</th>\n",
       "      <td>0.0</td>\n",
       "      <td>0.0</td>\n",
       "      <td>-2.75</td>\n",
       "      <td>-58.57</td>\n",
       "      <td>-999.0</td>\n",
       "      <td>0.0</td>\n",
       "      <td>13.0</td>\n",
       "      <td>0.0</td>\n",
       "      <td>0.0</td>\n",
       "      <td>0.0</td>\n",
       "      <td>...</td>\n",
       "      <td>22.28</td>\n",
       "      <td>0.18</td>\n",
       "      <td>2.31</td>\n",
       "      <td>0.97</td>\n",
       "      <td>1.18</td>\n",
       "      <td>2014</td>\n",
       "      <td>8</td>\n",
       "      <td>27</td>\n",
       "      <td>2</td>\n",
       "      <td>24</td>\n",
       "    </tr>\n",
       "    <tr>\n",
       "      <th>12872</th>\n",
       "      <td>0.2</td>\n",
       "      <td>1.0</td>\n",
       "      <td>-2.73</td>\n",
       "      <td>-58.57</td>\n",
       "      <td>0.0</td>\n",
       "      <td>11.1</td>\n",
       "      <td>30.0</td>\n",
       "      <td>0.0</td>\n",
       "      <td>0.0</td>\n",
       "      <td>0.0</td>\n",
       "      <td>...</td>\n",
       "      <td>28.17</td>\n",
       "      <td>0.30</td>\n",
       "      <td>9.10</td>\n",
       "      <td>1.80</td>\n",
       "      <td>4.16</td>\n",
       "      <td>2014</td>\n",
       "      <td>8</td>\n",
       "      <td>27</td>\n",
       "      <td>2</td>\n",
       "      <td>24</td>\n",
       "    </tr>\n",
       "    <tr>\n",
       "      <th>12873</th>\n",
       "      <td>0.0</td>\n",
       "      <td>0.0</td>\n",
       "      <td>-2.73</td>\n",
       "      <td>-58.57</td>\n",
       "      <td>-999.0</td>\n",
       "      <td>0.0</td>\n",
       "      <td>21.0</td>\n",
       "      <td>0.0</td>\n",
       "      <td>0.0</td>\n",
       "      <td>0.0</td>\n",
       "      <td>...</td>\n",
       "      <td>23.01</td>\n",
       "      <td>0.18</td>\n",
       "      <td>3.76</td>\n",
       "      <td>1.02</td>\n",
       "      <td>1.32</td>\n",
       "      <td>2014</td>\n",
       "      <td>8</td>\n",
       "      <td>27</td>\n",
       "      <td>3</td>\n",
       "      <td>0</td>\n",
       "    </tr>\n",
       "    <tr>\n",
       "      <th>12874</th>\n",
       "      <td>0.2</td>\n",
       "      <td>1.0</td>\n",
       "      <td>-2.75</td>\n",
       "      <td>-58.57</td>\n",
       "      <td>180.0</td>\n",
       "      <td>11.1</td>\n",
       "      <td>13.0</td>\n",
       "      <td>0.0</td>\n",
       "      <td>0.0</td>\n",
       "      <td>0.0</td>\n",
       "      <td>...</td>\n",
       "      <td>22.28</td>\n",
       "      <td>0.18</td>\n",
       "      <td>2.28</td>\n",
       "      <td>0.97</td>\n",
       "      <td>1.09</td>\n",
       "      <td>2014</td>\n",
       "      <td>8</td>\n",
       "      <td>27</td>\n",
       "      <td>3</td>\n",
       "      <td>0</td>\n",
       "    </tr>\n",
       "    <tr>\n",
       "      <th>12875</th>\n",
       "      <td>0.0</td>\n",
       "      <td>0.0</td>\n",
       "      <td>-1.71</td>\n",
       "      <td>-59.63</td>\n",
       "      <td>-999.0</td>\n",
       "      <td>0.0</td>\n",
       "      <td>12.0</td>\n",
       "      <td>0.0</td>\n",
       "      <td>0.0</td>\n",
       "      <td>0.0</td>\n",
       "      <td>...</td>\n",
       "      <td>21.46</td>\n",
       "      <td>0.16</td>\n",
       "      <td>1.96</td>\n",
       "      <td>0.92</td>\n",
       "      <td>0.97</td>\n",
       "      <td>2014</td>\n",
       "      <td>8</td>\n",
       "      <td>27</td>\n",
       "      <td>3</td>\n",
       "      <td>48</td>\n",
       "    </tr>\n",
       "  </tbody>\n",
       "</table>\n",
       "<p>5 rows × 26 columns</p>\n",
       "</div>"
      ],
      "text/plain": [
       "       time  sysclass   lat    lon    dir   vel  size  ttyyyxx1  ttyyyxx2  \\\n",
       "12871   0.0       0.0 -2.75 -58.57 -999.0   0.0  13.0       0.0       0.0   \n",
       "12872   0.2       1.0 -2.73 -58.57    0.0  11.1  30.0       0.0       0.0   \n",
       "12873   0.0       0.0 -2.73 -58.57 -999.0   0.0  21.0       0.0       0.0   \n",
       "12874   0.2       1.0 -2.75 -58.57  180.0  11.1  13.0       0.0       0.0   \n",
       "12875   0.0       0.0 -1.71 -59.63 -999.0   0.0  12.0       0.0       0.0   \n",
       "\n",
       "       ttyyyxx3  ...   maxz  meanvil  ttvil  meanprec  maxprec  year  month  \\\n",
       "12871       0.0  ...  22.28     0.18   2.31      0.97     1.18  2014      8   \n",
       "12872       0.0  ...  28.17     0.30   9.10      1.80     4.16  2014      8   \n",
       "12873       0.0  ...  23.01     0.18   3.76      1.02     1.32  2014      8   \n",
       "12874       0.0  ...  22.28     0.18   2.28      0.97     1.09  2014      8   \n",
       "12875       0.0  ...  21.46     0.16   1.96      0.92     0.97  2014      8   \n",
       "\n",
       "       day  hour  minute  \n",
       "12871   27     2      24  \n",
       "12872   27     2      24  \n",
       "12873   27     3       0  \n",
       "12874   27     3       0  \n",
       "12875   27     3      48  \n",
       "\n",
       "[5 rows x 26 columns]"
      ]
     },
     "execution_count": 2,
     "metadata": {},
     "output_type": "execute_result"
    }
   ],
   "source": [
    "files = ['august.csv', 'september.csv', 'october.csv'] \n",
    "PATH ='../data/private/csv/fam/'\n",
    "\n",
    "df = [pd.read_csv(os.path.join(PATH, file)) \n",
    "      for file in files]\n",
    "\n",
    "df = pd.concat(df, sort=False)\n",
    "print('Total de registros: %s'%df['month'].count())\n",
    "\n",
    "query = '(month == 8 and day >= 27) or (month == 9) or (month == 10 and day <= 7)'\n",
    "df = df.query(query)\n",
    "print('Total de registros: %s'%df['month'].count())\n",
    "\n",
    "df.head()"
   ]
  },
  {
   "cell_type": "code",
   "execution_count": 27,
   "metadata": {
    "ExecuteTime": {
     "end_time": "2019-09-07T18:18:18.202743Z",
     "start_time": "2019-09-07T18:18:18.189806Z"
    }
   },
   "outputs": [
    {
     "data": {
      "text/html": [
       "<div>\n",
       "<style scoped>\n",
       "    .dataframe tbody tr th:only-of-type {\n",
       "        vertical-align: middle;\n",
       "    }\n",
       "\n",
       "    .dataframe tbody tr th {\n",
       "        vertical-align: top;\n",
       "    }\n",
       "\n",
       "    .dataframe thead th {\n",
       "        text-align: right;\n",
       "    }\n",
       "</style>\n",
       "<table border=\"1\" class=\"dataframe\">\n",
       "  <thead>\n",
       "    <tr style=\"text-align: right;\">\n",
       "      <th></th>\n",
       "      <th>lon</th>\n",
       "      <th>lat</th>\n",
       "      <th>ttyyyxx3</th>\n",
       "      <th>riverfrac</th>\n",
       "      <th>convfrac</th>\n",
       "      <th>strafrac</th>\n",
       "      <th>meanz</th>\n",
       "      <th>maxz</th>\n",
       "      <th>meanvil</th>\n",
       "      <th>ttvil</th>\n",
       "      <th>meanprec</th>\n",
       "      <th>maxprec</th>\n",
       "    </tr>\n",
       "  </thead>\n",
       "  <tbody>\n",
       "    <tr>\n",
       "      <th>12871</th>\n",
       "      <td>-58.57</td>\n",
       "      <td>-2.75</td>\n",
       "      <td>0.0</td>\n",
       "      <td>0.0</td>\n",
       "      <td>0.00</td>\n",
       "      <td>100.00</td>\n",
       "      <td>21.46</td>\n",
       "      <td>22.28</td>\n",
       "      <td>0.18</td>\n",
       "      <td>2.31</td>\n",
       "      <td>0.97</td>\n",
       "      <td>1.18</td>\n",
       "    </tr>\n",
       "    <tr>\n",
       "      <th>12872</th>\n",
       "      <td>-58.57</td>\n",
       "      <td>-2.73</td>\n",
       "      <td>0.0</td>\n",
       "      <td>0.0</td>\n",
       "      <td>13.33</td>\n",
       "      <td>86.67</td>\n",
       "      <td>24.83</td>\n",
       "      <td>28.17</td>\n",
       "      <td>0.30</td>\n",
       "      <td>9.10</td>\n",
       "      <td>1.80</td>\n",
       "      <td>4.16</td>\n",
       "    </tr>\n",
       "    <tr>\n",
       "      <th>12873</th>\n",
       "      <td>-58.57</td>\n",
       "      <td>-2.73</td>\n",
       "      <td>0.0</td>\n",
       "      <td>0.0</td>\n",
       "      <td>0.00</td>\n",
       "      <td>100.00</td>\n",
       "      <td>21.46</td>\n",
       "      <td>23.01</td>\n",
       "      <td>0.18</td>\n",
       "      <td>3.76</td>\n",
       "      <td>1.02</td>\n",
       "      <td>1.32</td>\n",
       "    </tr>\n",
       "    <tr>\n",
       "      <th>12874</th>\n",
       "      <td>-58.57</td>\n",
       "      <td>-2.75</td>\n",
       "      <td>0.0</td>\n",
       "      <td>0.0</td>\n",
       "      <td>0.00</td>\n",
       "      <td>100.00</td>\n",
       "      <td>21.46</td>\n",
       "      <td>22.28</td>\n",
       "      <td>0.18</td>\n",
       "      <td>2.28</td>\n",
       "      <td>0.97</td>\n",
       "      <td>1.09</td>\n",
       "    </tr>\n",
       "    <tr>\n",
       "      <th>12875</th>\n",
       "      <td>-59.63</td>\n",
       "      <td>-1.71</td>\n",
       "      <td>0.0</td>\n",
       "      <td>75.0</td>\n",
       "      <td>0.00</td>\n",
       "      <td>100.00</td>\n",
       "      <td>20.53</td>\n",
       "      <td>21.46</td>\n",
       "      <td>0.16</td>\n",
       "      <td>1.96</td>\n",
       "      <td>0.92</td>\n",
       "      <td>0.97</td>\n",
       "    </tr>\n",
       "  </tbody>\n",
       "</table>\n",
       "</div>"
      ],
      "text/plain": [
       "         lon   lat  ttyyyxx3  riverfrac  convfrac  strafrac  meanz   maxz  \\\n",
       "12871 -58.57 -2.75       0.0        0.0      0.00    100.00  21.46  22.28   \n",
       "12872 -58.57 -2.73       0.0        0.0     13.33     86.67  24.83  28.17   \n",
       "12873 -58.57 -2.73       0.0        0.0      0.00    100.00  21.46  23.01   \n",
       "12874 -58.57 -2.75       0.0        0.0      0.00    100.00  21.46  22.28   \n",
       "12875 -59.63 -1.71       0.0       75.0      0.00    100.00  20.53  21.46   \n",
       "\n",
       "       meanvil  ttvil  meanprec  maxprec  \n",
       "12871     0.18   2.31      0.97     1.18  \n",
       "12872     0.30   9.10      1.80     4.16  \n",
       "12873     0.18   3.76      1.02     1.32  \n",
       "12874     0.18   2.28      0.97     1.09  \n",
       "12875     0.16   1.96      0.92     0.97  "
      ]
     },
     "execution_count": 27,
     "metadata": {},
     "output_type": "execute_result"
    }
   ],
   "source": [
    "columns = ['lon', 'lat', 'ttyyyxx3', 'riverfrac', 'convfrac',\n",
    "       'strafrac', 'meanz', 'maxz', 'meanvil', 'ttvil', 'meanprec', 'maxprec'\n",
    "]\n",
    "\n",
    "df_ = df[columns]\n",
    "# df_ = df_[df_['ttyyyxx3'] > 0]\n",
    "df_.head()"
   ]
  },
  {
   "cell_type": "code",
   "execution_count": 28,
   "metadata": {
    "ExecuteTime": {
     "end_time": "2019-09-07T18:18:26.939059Z",
     "start_time": "2019-09-07T18:18:26.899879Z"
    }
   },
   "outputs": [
    {
     "data": {
      "text/html": [
       "<div>\n",
       "<style scoped>\n",
       "    .dataframe tbody tr th:only-of-type {\n",
       "        vertical-align: middle;\n",
       "    }\n",
       "\n",
       "    .dataframe tbody tr th {\n",
       "        vertical-align: top;\n",
       "    }\n",
       "\n",
       "    .dataframe thead th {\n",
       "        text-align: right;\n",
       "    }\n",
       "</style>\n",
       "<table border=\"1\" class=\"dataframe\">\n",
       "  <thead>\n",
       "    <tr style=\"text-align: right;\">\n",
       "      <th></th>\n",
       "      <th></th>\n",
       "      <th>ttyyyxx3</th>\n",
       "      <th>maxz</th>\n",
       "      <th>ttvil</th>\n",
       "    </tr>\n",
       "    <tr>\n",
       "      <th>lon</th>\n",
       "      <th>lat</th>\n",
       "      <th></th>\n",
       "      <th></th>\n",
       "      <th></th>\n",
       "    </tr>\n",
       "  </thead>\n",
       "  <tbody>\n",
       "    <tr>\n",
       "      <th rowspan=\"5\" valign=\"top\">-61.59</th>\n",
       "      <th>-3.21</th>\n",
       "      <td>24.0</td>\n",
       "      <td>31.51</td>\n",
       "      <td>8.93</td>\n",
       "    </tr>\n",
       "    <tr>\n",
       "      <th>-3.19</th>\n",
       "      <td>0.0</td>\n",
       "      <td>63.63</td>\n",
       "      <td>27.72</td>\n",
       "    </tr>\n",
       "    <tr>\n",
       "      <th>-3.17</th>\n",
       "      <td>0.0</td>\n",
       "      <td>31.72</td>\n",
       "      <td>6.86</td>\n",
       "    </tr>\n",
       "    <tr>\n",
       "      <th>-3.15</th>\n",
       "      <td>0.0</td>\n",
       "      <td>35.23</td>\n",
       "      <td>22.57</td>\n",
       "    </tr>\n",
       "    <tr>\n",
       "      <th>-3.13</th>\n",
       "      <td>0.0</td>\n",
       "      <td>26.28</td>\n",
       "      <td>8.79</td>\n",
       "    </tr>\n",
       "  </tbody>\n",
       "</table>\n",
       "</div>"
      ],
      "text/plain": [
       "              ttyyyxx3   maxz  ttvil\n",
       "lon    lat                          \n",
       "-61.59 -3.21      24.0  31.51   8.93\n",
       "       -3.19       0.0  63.63  27.72\n",
       "       -3.17       0.0  31.72   6.86\n",
       "       -3.15       0.0  35.23  22.57\n",
       "       -3.13       0.0  26.28   8.79"
      ]
     },
     "execution_count": 28,
     "metadata": {},
     "output_type": "execute_result"
    }
   ],
   "source": [
    "grouped = df_.groupby(['lon', 'lat']).agg({'ttyyyxx3': 'sum', 'maxz': 'sum', 'ttvil': 'sum'})\n",
    "grouped.head()"
   ]
  },
  {
   "cell_type": "code",
   "execution_count": 41,
   "metadata": {
    "ExecuteTime": {
     "end_time": "2019-09-07T18:23:56.196132Z",
     "start_time": "2019-09-07T18:23:55.252012Z"
    }
   },
   "outputs": [],
   "source": [
    "points = {\n",
    "    'ttyyyxx3': [],\n",
    "    'maxz': [],\n",
    "    'ttvil': [],\n",
    "    'geometry': []\n",
    "}\n",
    "for i, row in grouped.iterrows():\n",
    "    x, y = i[0], i[1]\n",
    "    point = Point(x, y)\n",
    "    points['geometry'].append(point)\n",
    "    points['ttyyyxx3'].append(int(row['ttyyyxx3']))\n",
    "    points['maxz'].append(row['maxz'])\n",
    "    points['ttvil'].append(row['ttvil'])   "
   ]
  },
  {
   "cell_type": "code",
   "execution_count": 47,
   "metadata": {
    "ExecuteTime": {
     "end_time": "2019-09-07T18:26:21.713622Z",
     "start_time": "2019-09-07T18:26:20.517921Z"
    }
   },
   "outputs": [],
   "source": [
    "if not os.path.exists('points'):\n",
    "    os.makedirs('points')\n",
    "gdf = gpd.GeoDataFrame(points)\n",
    "gdf.crs = {'init' :'epsg:4326'}\n",
    "gdf.to_file('points/lightnings.shp')"
   ]
  },
  {
   "cell_type": "code",
   "execution_count": 51,
   "metadata": {
    "ExecuteTime": {
     "end_time": "2019-09-07T21:52:10.106523Z",
     "start_time": "2019-09-07T21:52:10.081924Z"
    }
   },
   "outputs": [
    {
     "data": {
      "text/html": [
       "<div>\n",
       "<style scoped>\n",
       "    .dataframe tbody tr th:only-of-type {\n",
       "        vertical-align: middle;\n",
       "    }\n",
       "\n",
       "    .dataframe tbody tr th {\n",
       "        vertical-align: top;\n",
       "    }\n",
       "\n",
       "    .dataframe thead th {\n",
       "        text-align: right;\n",
       "    }\n",
       "</style>\n",
       "<table border=\"1\" class=\"dataframe\">\n",
       "  <thead>\n",
       "    <tr style=\"text-align: right;\">\n",
       "      <th></th>\n",
       "      <th>ttyyyxx3</th>\n",
       "      <th>maxz</th>\n",
       "      <th>ttvil</th>\n",
       "      <th>geometry</th>\n",
       "    </tr>\n",
       "  </thead>\n",
       "  <tbody>\n",
       "    <tr>\n",
       "      <th>0</th>\n",
       "      <td>24</td>\n",
       "      <td>31.51</td>\n",
       "      <td>8.93</td>\n",
       "      <td>POINT (-61.59 -3.21)</td>\n",
       "    </tr>\n",
       "    <tr>\n",
       "      <th>1</th>\n",
       "      <td>0</td>\n",
       "      <td>63.63</td>\n",
       "      <td>27.72</td>\n",
       "      <td>POINT (-61.59 -3.19)</td>\n",
       "    </tr>\n",
       "    <tr>\n",
       "      <th>2</th>\n",
       "      <td>0</td>\n",
       "      <td>31.72</td>\n",
       "      <td>6.86</td>\n",
       "      <td>POINT (-61.59 -3.17)</td>\n",
       "    </tr>\n",
       "    <tr>\n",
       "      <th>3</th>\n",
       "      <td>0</td>\n",
       "      <td>35.23</td>\n",
       "      <td>22.57</td>\n",
       "      <td>POINT (-61.59 -3.15)</td>\n",
       "    </tr>\n",
       "    <tr>\n",
       "      <th>4</th>\n",
       "      <td>0</td>\n",
       "      <td>26.28</td>\n",
       "      <td>8.79</td>\n",
       "      <td>POINT (-61.59 -3.13)</td>\n",
       "    </tr>\n",
       "  </tbody>\n",
       "</table>\n",
       "</div>"
      ],
      "text/plain": [
       "   ttyyyxx3   maxz  ttvil              geometry\n",
       "0        24  31.51   8.93  POINT (-61.59 -3.21)\n",
       "1         0  63.63  27.72  POINT (-61.59 -3.19)\n",
       "2         0  31.72   6.86  POINT (-61.59 -3.17)\n",
       "3         0  35.23  22.57  POINT (-61.59 -3.15)\n",
       "4         0  26.28   8.79  POINT (-61.59 -3.13)"
      ]
     },
     "execution_count": 51,
     "metadata": {},
     "output_type": "execute_result"
    }
   ],
   "source": [
    "gdf.head()"
   ]
  },
  {
   "cell_type": "code",
   "execution_count": 49,
   "metadata": {
    "ExecuteTime": {
     "end_time": "2019-09-07T21:51:16.498173Z",
     "start_time": "2019-09-07T21:51:16.352646Z"
    }
   },
   "outputs": [
    {
     "data": {
      "text/html": [
       "<div>\n",
       "<style scoped>\n",
       "    .dataframe tbody tr th:only-of-type {\n",
       "        vertical-align: middle;\n",
       "    }\n",
       "\n",
       "    .dataframe tbody tr th {\n",
       "        vertical-align: top;\n",
       "    }\n",
       "\n",
       "    .dataframe thead th {\n",
       "        text-align: right;\n",
       "    }\n",
       "</style>\n",
       "<table border=\"1\" class=\"dataframe\">\n",
       "  <thead>\n",
       "    <tr style=\"text-align: right;\">\n",
       "      <th></th>\n",
       "      <th>CODMUN6</th>\n",
       "      <th>MUNIC_PIO</th>\n",
       "      <th>SEM_ACENTO</th>\n",
       "      <th>MUNIC_PI0</th>\n",
       "      <th>UF</th>\n",
       "      <th>UF_IBGE</th>\n",
       "      <th>REGI_O</th>\n",
       "      <th>MESO_IBGE</th>\n",
       "      <th>MESO_IBG0</th>\n",
       "      <th>MICRO_IBGE</th>\n",
       "      <th>MICRO_IB0</th>\n",
       "      <th>MESO_IBG1</th>\n",
       "      <th>MICRO_IB1</th>\n",
       "      <th>AREA_97</th>\n",
       "      <th>SEDE</th>\n",
       "      <th>SEDE0</th>\n",
       "      <th>N91</th>\n",
       "      <th>N96</th>\n",
       "      <th>CODCOMP</th>\n",
       "      <th>geometry</th>\n",
       "    </tr>\n",
       "  </thead>\n",
       "  <tbody>\n",
       "    <tr>\n",
       "      <th>0</th>\n",
       "      <td>130020</td>\n",
       "      <td>ATALAIA DO NORTE</td>\n",
       "      <td>ATALAIA DO NORTE</td>\n",
       "      <td>1300201</td>\n",
       "      <td>AM</td>\n",
       "      <td>13</td>\n",
       "      <td>N</td>\n",
       "      <td>SUDOESTE AMAZONENSE</td>\n",
       "      <td>02</td>\n",
       "      <td>ALTO SOLIMOES</td>\n",
       "      <td>003</td>\n",
       "      <td>1302</td>\n",
       "      <td>130203</td>\n",
       "      <td>76355.390</td>\n",
       "      <td>-70.192</td>\n",
       "      <td>-4.372</td>\n",
       "      <td>8224.0</td>\n",
       "      <td>8108.0</td>\n",
       "      <td>130200300201</td>\n",
       "      <td>POLYGON ((-73.800781 -7.111809, -73.7995899999...</td>\n",
       "    </tr>\n",
       "    <tr>\n",
       "      <th>1</th>\n",
       "      <td>130165</td>\n",
       "      <td>GUAJARÁ</td>\n",
       "      <td>GUAJARA</td>\n",
       "      <td>1301654</td>\n",
       "      <td>AM</td>\n",
       "      <td>13</td>\n",
       "      <td>N</td>\n",
       "      <td>SUDOESTE AMAZONENSE</td>\n",
       "      <td>02</td>\n",
       "      <td>JURUA</td>\n",
       "      <td>004</td>\n",
       "      <td>1302</td>\n",
       "      <td>130204</td>\n",
       "      <td>8945.517</td>\n",
       "      <td>-72.584</td>\n",
       "      <td>-7.546</td>\n",
       "      <td>11714.0</td>\n",
       "      <td>10944.0</td>\n",
       "      <td>130200401654</td>\n",
       "      <td>POLYGON ((-73.741705 -7.143248, -73.740475 -7....</td>\n",
       "    </tr>\n",
       "    <tr>\n",
       "      <th>2</th>\n",
       "      <td>130180</td>\n",
       "      <td>IPIXUNA</td>\n",
       "      <td>IPIXUNA</td>\n",
       "      <td>1301803</td>\n",
       "      <td>AM</td>\n",
       "      <td>13</td>\n",
       "      <td>N</td>\n",
       "      <td>SUDOESTE AMAZONENSE</td>\n",
       "      <td>02</td>\n",
       "      <td>JURUA</td>\n",
       "      <td>004</td>\n",
       "      <td>1302</td>\n",
       "      <td>130204</td>\n",
       "      <td>13572.800</td>\n",
       "      <td>-71.695</td>\n",
       "      <td>-7.051</td>\n",
       "      <td>9837.0</td>\n",
       "      <td>11120.0</td>\n",
       "      <td>130200401803</td>\n",
       "      <td>POLYGON ((-72.18244799999999 -7.577473, -72.18...</td>\n",
       "    </tr>\n",
       "    <tr>\n",
       "      <th>3</th>\n",
       "      <td>130140</td>\n",
       "      <td>EIRUNEPÉ</td>\n",
       "      <td>EIRUNEPE</td>\n",
       "      <td>1301407</td>\n",
       "      <td>AM</td>\n",
       "      <td>13</td>\n",
       "      <td>N</td>\n",
       "      <td>SUDOESTE AMAZONENSE</td>\n",
       "      <td>02</td>\n",
       "      <td>JURUA</td>\n",
       "      <td>004</td>\n",
       "      <td>1302</td>\n",
       "      <td>130204</td>\n",
       "      <td>15878.120</td>\n",
       "      <td>-69.874</td>\n",
       "      <td>-6.660</td>\n",
       "      <td>21552.0</td>\n",
       "      <td>25776.0</td>\n",
       "      <td>130200401407</td>\n",
       "      <td>POLYGON ((-71.50966699999999 -7.880687, -71.50...</td>\n",
       "    </tr>\n",
       "    <tr>\n",
       "      <th>4</th>\n",
       "      <td>130060</td>\n",
       "      <td>BENJAMIN CONSTANT</td>\n",
       "      <td>BENJAMIN CONSTANT</td>\n",
       "      <td>1300607</td>\n",
       "      <td>AM</td>\n",
       "      <td>13</td>\n",
       "      <td>N</td>\n",
       "      <td>SUDOESTE AMAZONENSE</td>\n",
       "      <td>02</td>\n",
       "      <td>ALTO SOLIMOES</td>\n",
       "      <td>003</td>\n",
       "      <td>1302</td>\n",
       "      <td>130203</td>\n",
       "      <td>8704.716</td>\n",
       "      <td>-70.031</td>\n",
       "      <td>-4.383</td>\n",
       "      <td>19951.0</td>\n",
       "      <td>23633.0</td>\n",
       "      <td>130200300607</td>\n",
       "      <td>POLYGON ((-71.34350499999999 -6.680839, -71.34...</td>\n",
       "    </tr>\n",
       "  </tbody>\n",
       "</table>\n",
       "</div>"
      ],
      "text/plain": [
       "  CODMUN6          MUNIC_PIO         SEM_ACENTO MUNIC_PI0  UF UF_IBGE REGI_O  \\\n",
       "0  130020   ATALAIA DO NORTE   ATALAIA DO NORTE   1300201  AM      13      N   \n",
       "1  130165            GUAJARÁ            GUAJARA   1301654  AM      13      N   \n",
       "2  130180            IPIXUNA            IPIXUNA   1301803  AM      13      N   \n",
       "3  130140           EIRUNEPÉ           EIRUNEPE   1301407  AM      13      N   \n",
       "4  130060  BENJAMIN CONSTANT  BENJAMIN CONSTANT   1300607  AM      13      N   \n",
       "\n",
       "             MESO_IBGE MESO_IBG0     MICRO_IBGE MICRO_IB0 MESO_IBG1 MICRO_IB1  \\\n",
       "0  SUDOESTE AMAZONENSE        02  ALTO SOLIMOES       003      1302    130203   \n",
       "1  SUDOESTE AMAZONENSE        02          JURUA       004      1302    130204   \n",
       "2  SUDOESTE AMAZONENSE        02          JURUA       004      1302    130204   \n",
       "3  SUDOESTE AMAZONENSE        02          JURUA       004      1302    130204   \n",
       "4  SUDOESTE AMAZONENSE        02  ALTO SOLIMOES       003      1302    130203   \n",
       "\n",
       "     AREA_97    SEDE  SEDE0      N91      N96       CODCOMP  \\\n",
       "0  76355.390 -70.192 -4.372   8224.0   8108.0  130200300201   \n",
       "1   8945.517 -72.584 -7.546  11714.0  10944.0  130200401654   \n",
       "2  13572.800 -71.695 -7.051   9837.0  11120.0  130200401803   \n",
       "3  15878.120 -69.874 -6.660  21552.0  25776.0  130200401407   \n",
       "4   8704.716 -70.031 -4.383  19951.0  23633.0  130200300607   \n",
       "\n",
       "                                            geometry  \n",
       "0  POLYGON ((-73.800781 -7.111809, -73.7995899999...  \n",
       "1  POLYGON ((-73.741705 -7.143248, -73.740475 -7....  \n",
       "2  POLYGON ((-72.18244799999999 -7.577473, -72.18...  \n",
       "3  POLYGON ((-71.50966699999999 -7.880687, -71.50...  \n",
       "4  POLYGON ((-71.34350499999999 -6.680839, -71.34...  "
      ]
     },
     "execution_count": 49,
     "metadata": {},
     "output_type": "execute_result"
    }
   ],
   "source": [
    "am = gpd.read_file('../data/geodata/amazonas.shp')\n",
    "am.head()"
   ]
  },
  {
   "cell_type": "code",
   "execution_count": 53,
   "metadata": {
    "ExecuteTime": {
     "end_time": "2019-09-07T21:53:24.701094Z",
     "start_time": "2019-09-07T21:53:24.677351Z"
    }
   },
   "outputs": [
    {
     "data": {
      "text/html": [
       "<div>\n",
       "<style scoped>\n",
       "    .dataframe tbody tr th:only-of-type {\n",
       "        vertical-align: middle;\n",
       "    }\n",
       "\n",
       "    .dataframe tbody tr th {\n",
       "        vertical-align: top;\n",
       "    }\n",
       "\n",
       "    .dataframe thead th {\n",
       "        text-align: right;\n",
       "    }\n",
       "</style>\n",
       "<table border=\"1\" class=\"dataframe\">\n",
       "  <thead>\n",
       "    <tr style=\"text-align: right;\">\n",
       "      <th></th>\n",
       "      <th>ttyyyxx3</th>\n",
       "      <th>maxz</th>\n",
       "      <th>ttvil</th>\n",
       "      <th>geometry</th>\n",
       "    </tr>\n",
       "  </thead>\n",
       "  <tbody>\n",
       "    <tr>\n",
       "      <th>0</th>\n",
       "      <td>24</td>\n",
       "      <td>31.51</td>\n",
       "      <td>8.93</td>\n",
       "      <td>POINT (-61.59 -3.21)</td>\n",
       "    </tr>\n",
       "    <tr>\n",
       "      <th>12</th>\n",
       "      <td>2</td>\n",
       "      <td>46.80</td>\n",
       "      <td>61.68</td>\n",
       "      <td>POINT (-61.57 -3.37)</td>\n",
       "    </tr>\n",
       "    <tr>\n",
       "      <th>15</th>\n",
       "      <td>4</td>\n",
       "      <td>70.82</td>\n",
       "      <td>67.79</td>\n",
       "      <td>POINT (-61.57 -3.29)</td>\n",
       "    </tr>\n",
       "    <tr>\n",
       "      <th>22</th>\n",
       "      <td>1</td>\n",
       "      <td>108.04</td>\n",
       "      <td>88.63</td>\n",
       "      <td>POINT (-61.57 -3.09)</td>\n",
       "    </tr>\n",
       "    <tr>\n",
       "      <th>34</th>\n",
       "      <td>1</td>\n",
       "      <td>66.45</td>\n",
       "      <td>44.61</td>\n",
       "      <td>POINT (-61.55 -3.33)</td>\n",
       "    </tr>\n",
       "  </tbody>\n",
       "</table>\n",
       "</div>"
      ],
      "text/plain": [
       "    ttyyyxx3    maxz  ttvil              geometry\n",
       "0         24   31.51   8.93  POINT (-61.59 -3.21)\n",
       "12         2   46.80  61.68  POINT (-61.57 -3.37)\n",
       "15         4   70.82  67.79  POINT (-61.57 -3.29)\n",
       "22         1  108.04  88.63  POINT (-61.57 -3.09)\n",
       "34         1   66.45  44.61  POINT (-61.55 -3.33)"
      ]
     },
     "execution_count": 53,
     "metadata": {},
     "output_type": "execute_result"
    }
   ],
   "source": [
    "gdf_ = gdf[gdf['ttyyyxx3'] > 0]\n",
    "gdf_.head()"
   ]
  },
  {
   "cell_type": "code",
   "execution_count": 140,
   "metadata": {
    "ExecuteTime": {
     "end_time": "2019-09-08T00:46:17.421816Z",
     "start_time": "2019-09-08T00:46:03.640052Z"
    }
   },
   "outputs": [],
   "source": [
    "statistics = {}\n",
    "svil = {}\n",
    "maxz = {}\n",
    "for i, row in gdf_.iterrows():\n",
    "    point = row['geometry']\n",
    "    total = row['ttyyyxx3']\n",
    "#     total2 = row['ttvil']\n",
    "#     total3 = row['maxz']\n",
    "    \n",
    "    for i, city in am.iterrows():\n",
    "        city_name = city['MUNIC_PIO']\n",
    "        city_geom = city['geometry'] \n",
    "        if city_geom.contains(point):\n",
    "            if not statistics.get(city_name):\n",
    "                statistics[city_name] = 0\n",
    "#                 svil[city_name] = 0\n",
    "#                 maxz[city_name] = 0\n",
    "            statistics[city_name] += total\n",
    "#             svil[city_name] += total2\n",
    "#             maxz[city_name] += total3\n",
    "            break"
   ]
  },
  {
   "cell_type": "code",
   "execution_count": 68,
   "metadata": {
    "ExecuteTime": {
     "end_time": "2019-09-07T22:11:01.100808Z",
     "start_time": "2019-09-07T22:11:01.092641Z"
    }
   },
   "outputs": [],
   "source": [
    "def find(l, v):\n",
    "    for i, x in enumerate(l):\n",
    "        if v == x:\n",
    "            return True, i\n",
    "    return False, 0"
   ]
  },
  {
   "cell_type": "code",
   "execution_count": 139,
   "metadata": {
    "ExecuteTime": {
     "end_time": "2019-09-08T00:45:47.091017Z",
     "start_time": "2019-09-08T00:45:47.079568Z"
    }
   },
   "outputs": [],
   "source": [
    "labels = list(statistics.keys())\n",
    "values = list(statistics.values())\n",
    "# labels2 = list(svil.keys())\n",
    "# values2 = list(svil.values())\n",
    "# labels3 = list(maxz.keys())\n",
    "# values3 = list(maxz.values())\n",
    "\n",
    "lightnings = []\n",
    "# vil = []\n",
    "# maxz = []\n",
    "for i, row in am.iterrows():\n",
    "    city_name = row['MUNIC_PIO']\n",
    "    found = False\n",
    "    contains, index = 0, 0\n",
    "    for label in labels:\n",
    "        contains, index = find(labels, city_name)\n",
    "        if contains:\n",
    "            found = True\n",
    "            break\n",
    "    if found:    \n",
    "        lightnings.append(values[index])\n",
    "    else:\n",
    "        lightnings.append(0)\n",
    "        \n",
    "am['lightnings'] = lightnings"
   ]
  },
  {
   "cell_type": "code",
   "execution_count": 83,
   "metadata": {
    "ExecuteTime": {
     "end_time": "2019-09-07T22:20:50.600438Z",
     "start_time": "2019-09-07T22:20:50.376193Z"
    }
   },
   "outputs": [
    {
     "data": {
      "text/html": [
       "<div>\n",
       "<style scoped>\n",
       "    .dataframe tbody tr th:only-of-type {\n",
       "        vertical-align: middle;\n",
       "    }\n",
       "\n",
       "    .dataframe tbody tr th {\n",
       "        vertical-align: top;\n",
       "    }\n",
       "\n",
       "    .dataframe thead th {\n",
       "        text-align: right;\n",
       "    }\n",
       "</style>\n",
       "<table border=\"1\" class=\"dataframe\">\n",
       "  <thead>\n",
       "    <tr style=\"text-align: right;\">\n",
       "      <th></th>\n",
       "      <th>CODMUN6</th>\n",
       "      <th>MUNIC_PIO</th>\n",
       "      <th>SEM_ACENTO</th>\n",
       "      <th>MUNIC_PI0</th>\n",
       "      <th>UF</th>\n",
       "      <th>UF_IBGE</th>\n",
       "      <th>REGI_O</th>\n",
       "      <th>MESO_IBGE</th>\n",
       "      <th>MESO_IBG0</th>\n",
       "      <th>MICRO_IBGE</th>\n",
       "      <th>...</th>\n",
       "      <th>MESO_IBG1</th>\n",
       "      <th>MICRO_IB1</th>\n",
       "      <th>AREA_97</th>\n",
       "      <th>SEDE</th>\n",
       "      <th>SEDE0</th>\n",
       "      <th>N91</th>\n",
       "      <th>N96</th>\n",
       "      <th>CODCOMP</th>\n",
       "      <th>geometry</th>\n",
       "      <th>lightnings</th>\n",
       "    </tr>\n",
       "  </thead>\n",
       "  <tbody>\n",
       "    <tr>\n",
       "      <th>27</th>\n",
       "      <td>130320</td>\n",
       "      <td>NOVO AIRÃO</td>\n",
       "      <td>NOVO AIRAO</td>\n",
       "      <td>1303205</td>\n",
       "      <td>AM</td>\n",
       "      <td>13</td>\n",
       "      <td>N</td>\n",
       "      <td>NORTE AMAZONENSE</td>\n",
       "      <td>01</td>\n",
       "      <td>RIO NEGRO</td>\n",
       "      <td>...</td>\n",
       "      <td>1301</td>\n",
       "      <td>130101</td>\n",
       "      <td>37771.740</td>\n",
       "      <td>-60.944</td>\n",
       "      <td>-2.621</td>\n",
       "      <td>15279.0</td>\n",
       "      <td>14576.0</td>\n",
       "      <td>130100103205</td>\n",
       "      <td>POLYGON ((-63.957748 -2.445123, -63.955813 -2....</td>\n",
       "      <td>7720</td>\n",
       "    </tr>\n",
       "    <tr>\n",
       "      <th>29</th>\n",
       "      <td>130010</td>\n",
       "      <td>ANORI</td>\n",
       "      <td>ANORI</td>\n",
       "      <td>1300102</td>\n",
       "      <td>AM</td>\n",
       "      <td>13</td>\n",
       "      <td>N</td>\n",
       "      <td>CENTRO AMAZONENSE</td>\n",
       "      <td>03</td>\n",
       "      <td>COARI</td>\n",
       "      <td>...</td>\n",
       "      <td>1303</td>\n",
       "      <td>130306</td>\n",
       "      <td>6246.968</td>\n",
       "      <td>-61.644</td>\n",
       "      <td>-3.773</td>\n",
       "      <td>8723.0</td>\n",
       "      <td>10211.0</td>\n",
       "      <td>130300600102</td>\n",
       "      <td>POLYGON ((-62.992051 -4.523313, -62.989618 -4....</td>\n",
       "      <td>2</td>\n",
       "    </tr>\n",
       "    <tr>\n",
       "      <th>30</th>\n",
       "      <td>130063</td>\n",
       "      <td>BERURI</td>\n",
       "      <td>BERURI</td>\n",
       "      <td>1300631</td>\n",
       "      <td>AM</td>\n",
       "      <td>13</td>\n",
       "      <td>N</td>\n",
       "      <td>CENTRO AMAZONENSE</td>\n",
       "      <td>03</td>\n",
       "      <td>COARI</td>\n",
       "      <td>...</td>\n",
       "      <td>1303</td>\n",
       "      <td>130306</td>\n",
       "      <td>17250.370</td>\n",
       "      <td>-61.373</td>\n",
       "      <td>-3.898</td>\n",
       "      <td>7650.0</td>\n",
       "      <td>9050.0</td>\n",
       "      <td>130300600631</td>\n",
       "      <td>POLYGON ((-62.829671 -4.676299, -62.820848 -4....</td>\n",
       "      <td>3023</td>\n",
       "    </tr>\n",
       "    <tr>\n",
       "      <th>32</th>\n",
       "      <td>130083</td>\n",
       "      <td>CAAPIRANGA</td>\n",
       "      <td>CAAPIRANGA</td>\n",
       "      <td>1300839</td>\n",
       "      <td>AM</td>\n",
       "      <td>13</td>\n",
       "      <td>N</td>\n",
       "      <td>CENTRO AMAZONENSE</td>\n",
       "      <td>03</td>\n",
       "      <td>COARI</td>\n",
       "      <td>...</td>\n",
       "      <td>1303</td>\n",
       "      <td>130306</td>\n",
       "      <td>9456.584</td>\n",
       "      <td>-61.209</td>\n",
       "      <td>-3.328</td>\n",
       "      <td>7171.0</td>\n",
       "      <td>6489.0</td>\n",
       "      <td>130300600839</td>\n",
       "      <td>POLYGON ((-62.582298 -3.106742, -62.57379 -3.1...</td>\n",
       "      <td>2850</td>\n",
       "    </tr>\n",
       "    <tr>\n",
       "      <th>33</th>\n",
       "      <td>130008</td>\n",
       "      <td>ANAMÃ</td>\n",
       "      <td>ANAMA</td>\n",
       "      <td>1300086</td>\n",
       "      <td>AM</td>\n",
       "      <td>13</td>\n",
       "      <td>N</td>\n",
       "      <td>CENTRO AMAZONENSE</td>\n",
       "      <td>03</td>\n",
       "      <td>COARI</td>\n",
       "      <td>...</td>\n",
       "      <td>1303</td>\n",
       "      <td>130306</td>\n",
       "      <td>2453.976</td>\n",
       "      <td>-61.404</td>\n",
       "      <td>-3.580</td>\n",
       "      <td>6198.0</td>\n",
       "      <td>6957.0</td>\n",
       "      <td>130300600086</td>\n",
       "      <td>POLYGON ((-62.08746 -3.278741, -62.077387 -3.2...</td>\n",
       "      <td>400</td>\n",
       "    </tr>\n",
       "    <tr>\n",
       "      <th>35</th>\n",
       "      <td>130250</td>\n",
       "      <td>MANACAPURU</td>\n",
       "      <td>MANACAPURU</td>\n",
       "      <td>1302504</td>\n",
       "      <td>AM</td>\n",
       "      <td>13</td>\n",
       "      <td>N</td>\n",
       "      <td>CENTRO AMAZONENSE</td>\n",
       "      <td>03</td>\n",
       "      <td>MANAUS</td>\n",
       "      <td>...</td>\n",
       "      <td>1303</td>\n",
       "      <td>130307</td>\n",
       "      <td>7335.415</td>\n",
       "      <td>-60.621</td>\n",
       "      <td>-3.300</td>\n",
       "      <td>58777.0</td>\n",
       "      <td>65577.0</td>\n",
       "      <td>130300702504</td>\n",
       "      <td>POLYGON ((-61.483107 -2.787378, -61.479513 -2....</td>\n",
       "      <td>6471</td>\n",
       "    </tr>\n",
       "    <tr>\n",
       "      <th>36</th>\n",
       "      <td>130080</td>\n",
       "      <td>BORBA</td>\n",
       "      <td>BORBA</td>\n",
       "      <td>1300805</td>\n",
       "      <td>AM</td>\n",
       "      <td>13</td>\n",
       "      <td>N</td>\n",
       "      <td>SUL AMAZONENSE</td>\n",
       "      <td>04</td>\n",
       "      <td>MADEIRA</td>\n",
       "      <td>...</td>\n",
       "      <td>1304</td>\n",
       "      <td>130413</td>\n",
       "      <td>44258.820</td>\n",
       "      <td>-59.594</td>\n",
       "      <td>-4.388</td>\n",
       "      <td>16502.0</td>\n",
       "      <td>23673.0</td>\n",
       "      <td>130401300805</td>\n",
       "      <td>POLYGON ((-61.294029 -4.712134, -61.289445 -4....</td>\n",
       "      <td>7441</td>\n",
       "    </tr>\n",
       "    <tr>\n",
       "      <th>37</th>\n",
       "      <td>130255</td>\n",
       "      <td>MANAQUIRI</td>\n",
       "      <td>MANAQUIRI</td>\n",
       "      <td>1302553</td>\n",
       "      <td>AM</td>\n",
       "      <td>13</td>\n",
       "      <td>N</td>\n",
       "      <td>CENTRO AMAZONENSE</td>\n",
       "      <td>03</td>\n",
       "      <td>MANAUS</td>\n",
       "      <td>...</td>\n",
       "      <td>1303</td>\n",
       "      <td>130307</td>\n",
       "      <td>3967.589</td>\n",
       "      <td>-60.459</td>\n",
       "      <td>-3.428</td>\n",
       "      <td>10670.0</td>\n",
       "      <td>17311.0</td>\n",
       "      <td>130300702553</td>\n",
       "      <td>POLYGON ((-61.129962 -3.947296, -61.128518 -3....</td>\n",
       "      <td>9056</td>\n",
       "    </tr>\n",
       "    <tr>\n",
       "      <th>38</th>\n",
       "      <td>130185</td>\n",
       "      <td>IRANDUBA</td>\n",
       "      <td>IRANDUBA</td>\n",
       "      <td>1301852</td>\n",
       "      <td>AM</td>\n",
       "      <td>13</td>\n",
       "      <td>N</td>\n",
       "      <td>CENTRO AMAZONENSE</td>\n",
       "      <td>03</td>\n",
       "      <td>MANAUS</td>\n",
       "      <td>...</td>\n",
       "      <td>1303</td>\n",
       "      <td>130307</td>\n",
       "      <td>2203.848</td>\n",
       "      <td>-60.186</td>\n",
       "      <td>-3.285</td>\n",
       "      <td>19855.0</td>\n",
       "      <td>26612.0</td>\n",
       "      <td>130300701852</td>\n",
       "      <td>POLYGON ((-60.98489 -2.885696, -60.983405 -2.8...</td>\n",
       "      <td>581</td>\n",
       "    </tr>\n",
       "    <tr>\n",
       "      <th>39</th>\n",
       "      <td>130353</td>\n",
       "      <td>PRESIDENTE FIGUEIREDO</td>\n",
       "      <td>PRESIDENTE FIGUEIREDO</td>\n",
       "      <td>1303536</td>\n",
       "      <td>AM</td>\n",
       "      <td>13</td>\n",
       "      <td>N</td>\n",
       "      <td>CENTRO AMAZONENSE</td>\n",
       "      <td>03</td>\n",
       "      <td>RIO PRETO DA EVA</td>\n",
       "      <td>...</td>\n",
       "      <td>1303</td>\n",
       "      <td>130308</td>\n",
       "      <td>25420.870</td>\n",
       "      <td>-60.025</td>\n",
       "      <td>-2.034</td>\n",
       "      <td>7783.0</td>\n",
       "      <td>10180.0</td>\n",
       "      <td>130300803536</td>\n",
       "      <td>POLYGON ((-60.963847 -1.309869, -60.963841 -1....</td>\n",
       "      <td>10758</td>\n",
       "    </tr>\n",
       "    <tr>\n",
       "      <th>40</th>\n",
       "      <td>130260</td>\n",
       "      <td>MANAUS</td>\n",
       "      <td>MANAUS</td>\n",
       "      <td>1302603</td>\n",
       "      <td>AM</td>\n",
       "      <td>13</td>\n",
       "      <td>N</td>\n",
       "      <td>CENTRO AMAZONENSE</td>\n",
       "      <td>03</td>\n",
       "      <td>MANAUS</td>\n",
       "      <td>...</td>\n",
       "      <td>1303</td>\n",
       "      <td>130307</td>\n",
       "      <td>11407.710</td>\n",
       "      <td>-60.025</td>\n",
       "      <td>-3.102</td>\n",
       "      <td>1078277.0</td>\n",
       "      <td>1157357.0</td>\n",
       "      <td>130300702603</td>\n",
       "      <td>POLYGON ((-60.79289 -2.491113, -60.792624 -2.4...</td>\n",
       "      <td>10305</td>\n",
       "    </tr>\n",
       "    <tr>\n",
       "      <th>41</th>\n",
       "      <td>130110</td>\n",
       "      <td>CAREIRO</td>\n",
       "      <td>CAREIRO</td>\n",
       "      <td>1301100</td>\n",
       "      <td>AM</td>\n",
       "      <td>13</td>\n",
       "      <td>N</td>\n",
       "      <td>CENTRO AMAZONENSE</td>\n",
       "      <td>03</td>\n",
       "      <td>MANAUS</td>\n",
       "      <td>...</td>\n",
       "      <td>1303</td>\n",
       "      <td>130307</td>\n",
       "      <td>6097.372</td>\n",
       "      <td>-60.369</td>\n",
       "      <td>-3.768</td>\n",
       "      <td>34962.0</td>\n",
       "      <td>18872.0</td>\n",
       "      <td>130300701100</td>\n",
       "      <td>POLYGON ((-60.80293 -4.173834, -60.799919 -4.1...</td>\n",
       "      <td>12753</td>\n",
       "    </tr>\n",
       "    <tr>\n",
       "      <th>43</th>\n",
       "      <td>130030</td>\n",
       "      <td>AUTAZES</td>\n",
       "      <td>AUTAZES</td>\n",
       "      <td>1300300</td>\n",
       "      <td>AM</td>\n",
       "      <td>13</td>\n",
       "      <td>N</td>\n",
       "      <td>CENTRO AMAZONENSE</td>\n",
       "      <td>03</td>\n",
       "      <td>MANAUS</td>\n",
       "      <td>...</td>\n",
       "      <td>1303</td>\n",
       "      <td>130307</td>\n",
       "      <td>7598.524</td>\n",
       "      <td>-59.131</td>\n",
       "      <td>-3.580</td>\n",
       "      <td>17332.0</td>\n",
       "      <td>25761.0</td>\n",
       "      <td>130300700300</td>\n",
       "      <td>POLYGON ((-60.287419 -4.163672, -60.283819 -4....</td>\n",
       "      <td>6320</td>\n",
       "    </tr>\n",
       "    <tr>\n",
       "      <th>45</th>\n",
       "      <td>130115</td>\n",
       "      <td>CAREIRO DA VÁRZEA</td>\n",
       "      <td>CAREIRO DA VARZEA</td>\n",
       "      <td>1301159</td>\n",
       "      <td>AM</td>\n",
       "      <td>13</td>\n",
       "      <td>N</td>\n",
       "      <td>CENTRO AMAZONENSE</td>\n",
       "      <td>03</td>\n",
       "      <td>MANAUS</td>\n",
       "      <td>...</td>\n",
       "      <td>1303</td>\n",
       "      <td>130307</td>\n",
       "      <td>2631.331</td>\n",
       "      <td>-59.826</td>\n",
       "      <td>-3.221</td>\n",
       "      <td>18399.0</td>\n",
       "      <td>17505.0</td>\n",
       "      <td>130300701159</td>\n",
       "      <td>POLYGON ((-60.183473 -3.351907, -60.174154 -3....</td>\n",
       "      <td>868</td>\n",
       "    </tr>\n",
       "    <tr>\n",
       "      <th>46</th>\n",
       "      <td>130356</td>\n",
       "      <td>RIO PRETO DA EVA</td>\n",
       "      <td>RIO PRETO DA EVA</td>\n",
       "      <td>1303569</td>\n",
       "      <td>AM</td>\n",
       "      <td>13</td>\n",
       "      <td>N</td>\n",
       "      <td>CENTRO AMAZONENSE</td>\n",
       "      <td>03</td>\n",
       "      <td>RIO PRETO DA EVA</td>\n",
       "      <td>...</td>\n",
       "      <td>1303</td>\n",
       "      <td>130308</td>\n",
       "      <td>5813.063</td>\n",
       "      <td>-59.700</td>\n",
       "      <td>-2.699</td>\n",
       "      <td>6842.0</td>\n",
       "      <td>10069.0</td>\n",
       "      <td>130300803569</td>\n",
       "      <td>POLYGON ((-60.025763 -2.452915, -60.025521 -2....</td>\n",
       "      <td>4345</td>\n",
       "    </tr>\n",
       "    <tr>\n",
       "      <th>47</th>\n",
       "      <td>130190</td>\n",
       "      <td>ITACOATIARA</td>\n",
       "      <td>ITACOATIARA</td>\n",
       "      <td>1301902</td>\n",
       "      <td>AM</td>\n",
       "      <td>13</td>\n",
       "      <td>N</td>\n",
       "      <td>CENTRO AMAZONENSE</td>\n",
       "      <td>03</td>\n",
       "      <td>ITACOATIARA</td>\n",
       "      <td>...</td>\n",
       "      <td>1303</td>\n",
       "      <td>130309</td>\n",
       "      <td>8909.682</td>\n",
       "      <td>-58.444</td>\n",
       "      <td>-3.143</td>\n",
       "      <td>59926.0</td>\n",
       "      <td>64937.0</td>\n",
       "      <td>130300901902</td>\n",
       "      <td>POLYGON ((-59.500702 -2.971328, -59.491009 -2....</td>\n",
       "      <td>1057</td>\n",
       "    </tr>\n",
       "    <tr>\n",
       "      <th>48</th>\n",
       "      <td>130395</td>\n",
       "      <td>SÃO SEBASTIÃO DO UATUMÃ</td>\n",
       "      <td>SAO SEBASTIAO DO UATUMA</td>\n",
       "      <td>1303957</td>\n",
       "      <td>AM</td>\n",
       "      <td>13</td>\n",
       "      <td>N</td>\n",
       "      <td>CENTRO AMAZONENSE</td>\n",
       "      <td>03</td>\n",
       "      <td>PARINTINS</td>\n",
       "      <td>...</td>\n",
       "      <td>1303</td>\n",
       "      <td>130310</td>\n",
       "      <td>10740.810</td>\n",
       "      <td>-57.871</td>\n",
       "      <td>-2.572</td>\n",
       "      <td>4983.0</td>\n",
       "      <td>5696.0</td>\n",
       "      <td>130301003957</td>\n",
       "      <td>POLYGON ((-59.485139 -1.452755, -59.485604 -1....</td>\n",
       "      <td>740</td>\n",
       "    </tr>\n",
       "    <tr>\n",
       "      <th>49</th>\n",
       "      <td>130200</td>\n",
       "      <td>ITAPIRANGA</td>\n",
       "      <td>ITAPIRANGA</td>\n",
       "      <td>1302009</td>\n",
       "      <td>AM</td>\n",
       "      <td>13</td>\n",
       "      <td>N</td>\n",
       "      <td>CENTRO AMAZONENSE</td>\n",
       "      <td>03</td>\n",
       "      <td>ITACOATIARA</td>\n",
       "      <td>...</td>\n",
       "      <td>1303</td>\n",
       "      <td>130309</td>\n",
       "      <td>4230.776</td>\n",
       "      <td>-58.022</td>\n",
       "      <td>-2.749</td>\n",
       "      <td>5285.0</td>\n",
       "      <td>6403.0</td>\n",
       "      <td>130300902009</td>\n",
       "      <td>POLYGON ((-59.277799 -2.478526, -59.274481 -2....</td>\n",
       "      <td>857</td>\n",
       "    </tr>\n",
       "    <tr>\n",
       "      <th>51</th>\n",
       "      <td>130310</td>\n",
       "      <td>NOVA OLINDA DO NORTE</td>\n",
       "      <td>NOVA OLINDA DO NORTE</td>\n",
       "      <td>1303106</td>\n",
       "      <td>AM</td>\n",
       "      <td>13</td>\n",
       "      <td>N</td>\n",
       "      <td>CENTRO AMAZONENSE</td>\n",
       "      <td>03</td>\n",
       "      <td>ITACOATIARA</td>\n",
       "      <td>...</td>\n",
       "      <td>1303</td>\n",
       "      <td>130309</td>\n",
       "      <td>5608.287</td>\n",
       "      <td>-59.094</td>\n",
       "      <td>-3.888</td>\n",
       "      <td>12891.0</td>\n",
       "      <td>17951.0</td>\n",
       "      <td>130300903106</td>\n",
       "      <td>POLYGON ((-59.210161 -3.91842, -59.197443 -3.9...</td>\n",
       "      <td>425</td>\n",
       "    </tr>\n",
       "    <tr>\n",
       "      <th>52</th>\n",
       "      <td>130400</td>\n",
       "      <td>SILVES</td>\n",
       "      <td>SILVES</td>\n",
       "      <td>1304005</td>\n",
       "      <td>AM</td>\n",
       "      <td>13</td>\n",
       "      <td>N</td>\n",
       "      <td>CENTRO AMAZONENSE</td>\n",
       "      <td>03</td>\n",
       "      <td>ITACOATIARA</td>\n",
       "      <td>...</td>\n",
       "      <td>1303</td>\n",
       "      <td>130309</td>\n",
       "      <td>3730.657</td>\n",
       "      <td>-58.209</td>\n",
       "      <td>-2.839</td>\n",
       "      <td>5534.0</td>\n",
       "      <td>6770.0</td>\n",
       "      <td>130300904005</td>\n",
       "      <td>POLYGON ((-59.052916 -2.585509, -59.048206 -2....</td>\n",
       "      <td>382</td>\n",
       "    </tr>\n",
       "  </tbody>\n",
       "</table>\n",
       "<p>20 rows × 21 columns</p>\n",
       "</div>"
      ],
      "text/plain": [
       "   CODMUN6                MUNIC_PIO               SEM_ACENTO MUNIC_PI0  UF  \\\n",
       "27  130320               NOVO AIRÃO               NOVO AIRAO   1303205  AM   \n",
       "29  130010                    ANORI                    ANORI   1300102  AM   \n",
       "30  130063                   BERURI                   BERURI   1300631  AM   \n",
       "32  130083               CAAPIRANGA               CAAPIRANGA   1300839  AM   \n",
       "33  130008                    ANAMÃ                    ANAMA   1300086  AM   \n",
       "35  130250               MANACAPURU               MANACAPURU   1302504  AM   \n",
       "36  130080                    BORBA                    BORBA   1300805  AM   \n",
       "37  130255                MANAQUIRI                MANAQUIRI   1302553  AM   \n",
       "38  130185                 IRANDUBA                 IRANDUBA   1301852  AM   \n",
       "39  130353    PRESIDENTE FIGUEIREDO    PRESIDENTE FIGUEIREDO   1303536  AM   \n",
       "40  130260                   MANAUS                   MANAUS   1302603  AM   \n",
       "41  130110                  CAREIRO                  CAREIRO   1301100  AM   \n",
       "43  130030                  AUTAZES                  AUTAZES   1300300  AM   \n",
       "45  130115        CAREIRO DA VÁRZEA        CAREIRO DA VARZEA   1301159  AM   \n",
       "46  130356         RIO PRETO DA EVA         RIO PRETO DA EVA   1303569  AM   \n",
       "47  130190              ITACOATIARA              ITACOATIARA   1301902  AM   \n",
       "48  130395  SÃO SEBASTIÃO DO UATUMÃ  SAO SEBASTIAO DO UATUMA   1303957  AM   \n",
       "49  130200               ITAPIRANGA               ITAPIRANGA   1302009  AM   \n",
       "51  130310     NOVA OLINDA DO NORTE     NOVA OLINDA DO NORTE   1303106  AM   \n",
       "52  130400                   SILVES                   SILVES   1304005  AM   \n",
       "\n",
       "   UF_IBGE REGI_O          MESO_IBGE MESO_IBG0        MICRO_IBGE  ...  \\\n",
       "27      13      N   NORTE AMAZONENSE        01         RIO NEGRO  ...   \n",
       "29      13      N  CENTRO AMAZONENSE        03             COARI  ...   \n",
       "30      13      N  CENTRO AMAZONENSE        03             COARI  ...   \n",
       "32      13      N  CENTRO AMAZONENSE        03             COARI  ...   \n",
       "33      13      N  CENTRO AMAZONENSE        03             COARI  ...   \n",
       "35      13      N  CENTRO AMAZONENSE        03            MANAUS  ...   \n",
       "36      13      N     SUL AMAZONENSE        04           MADEIRA  ...   \n",
       "37      13      N  CENTRO AMAZONENSE        03            MANAUS  ...   \n",
       "38      13      N  CENTRO AMAZONENSE        03            MANAUS  ...   \n",
       "39      13      N  CENTRO AMAZONENSE        03  RIO PRETO DA EVA  ...   \n",
       "40      13      N  CENTRO AMAZONENSE        03            MANAUS  ...   \n",
       "41      13      N  CENTRO AMAZONENSE        03            MANAUS  ...   \n",
       "43      13      N  CENTRO AMAZONENSE        03            MANAUS  ...   \n",
       "45      13      N  CENTRO AMAZONENSE        03            MANAUS  ...   \n",
       "46      13      N  CENTRO AMAZONENSE        03  RIO PRETO DA EVA  ...   \n",
       "47      13      N  CENTRO AMAZONENSE        03       ITACOATIARA  ...   \n",
       "48      13      N  CENTRO AMAZONENSE        03         PARINTINS  ...   \n",
       "49      13      N  CENTRO AMAZONENSE        03       ITACOATIARA  ...   \n",
       "51      13      N  CENTRO AMAZONENSE        03       ITACOATIARA  ...   \n",
       "52      13      N  CENTRO AMAZONENSE        03       ITACOATIARA  ...   \n",
       "\n",
       "   MESO_IBG1 MICRO_IB1    AREA_97    SEDE  SEDE0        N91        N96  \\\n",
       "27      1301    130101  37771.740 -60.944 -2.621    15279.0    14576.0   \n",
       "29      1303    130306   6246.968 -61.644 -3.773     8723.0    10211.0   \n",
       "30      1303    130306  17250.370 -61.373 -3.898     7650.0     9050.0   \n",
       "32      1303    130306   9456.584 -61.209 -3.328     7171.0     6489.0   \n",
       "33      1303    130306   2453.976 -61.404 -3.580     6198.0     6957.0   \n",
       "35      1303    130307   7335.415 -60.621 -3.300    58777.0    65577.0   \n",
       "36      1304    130413  44258.820 -59.594 -4.388    16502.0    23673.0   \n",
       "37      1303    130307   3967.589 -60.459 -3.428    10670.0    17311.0   \n",
       "38      1303    130307   2203.848 -60.186 -3.285    19855.0    26612.0   \n",
       "39      1303    130308  25420.870 -60.025 -2.034     7783.0    10180.0   \n",
       "40      1303    130307  11407.710 -60.025 -3.102  1078277.0  1157357.0   \n",
       "41      1303    130307   6097.372 -60.369 -3.768    34962.0    18872.0   \n",
       "43      1303    130307   7598.524 -59.131 -3.580    17332.0    25761.0   \n",
       "45      1303    130307   2631.331 -59.826 -3.221    18399.0    17505.0   \n",
       "46      1303    130308   5813.063 -59.700 -2.699     6842.0    10069.0   \n",
       "47      1303    130309   8909.682 -58.444 -3.143    59926.0    64937.0   \n",
       "48      1303    130310  10740.810 -57.871 -2.572     4983.0     5696.0   \n",
       "49      1303    130309   4230.776 -58.022 -2.749     5285.0     6403.0   \n",
       "51      1303    130309   5608.287 -59.094 -3.888    12891.0    17951.0   \n",
       "52      1303    130309   3730.657 -58.209 -2.839     5534.0     6770.0   \n",
       "\n",
       "         CODCOMP                                           geometry lightnings  \n",
       "27  130100103205  POLYGON ((-63.957748 -2.445123, -63.955813 -2....       7720  \n",
       "29  130300600102  POLYGON ((-62.992051 -4.523313, -62.989618 -4....          2  \n",
       "30  130300600631  POLYGON ((-62.829671 -4.676299, -62.820848 -4....       3023  \n",
       "32  130300600839  POLYGON ((-62.582298 -3.106742, -62.57379 -3.1...       2850  \n",
       "33  130300600086  POLYGON ((-62.08746 -3.278741, -62.077387 -3.2...        400  \n",
       "35  130300702504  POLYGON ((-61.483107 -2.787378, -61.479513 -2....       6471  \n",
       "36  130401300805  POLYGON ((-61.294029 -4.712134, -61.289445 -4....       7441  \n",
       "37  130300702553  POLYGON ((-61.129962 -3.947296, -61.128518 -3....       9056  \n",
       "38  130300701852  POLYGON ((-60.98489 -2.885696, -60.983405 -2.8...        581  \n",
       "39  130300803536  POLYGON ((-60.963847 -1.309869, -60.963841 -1....      10758  \n",
       "40  130300702603  POLYGON ((-60.79289 -2.491113, -60.792624 -2.4...      10305  \n",
       "41  130300701100  POLYGON ((-60.80293 -4.173834, -60.799919 -4.1...      12753  \n",
       "43  130300700300  POLYGON ((-60.287419 -4.163672, -60.283819 -4....       6320  \n",
       "45  130300701159  POLYGON ((-60.183473 -3.351907, -60.174154 -3....        868  \n",
       "46  130300803569  POLYGON ((-60.025763 -2.452915, -60.025521 -2....       4345  \n",
       "47  130300901902  POLYGON ((-59.500702 -2.971328, -59.491009 -2....       1057  \n",
       "48  130301003957  POLYGON ((-59.485139 -1.452755, -59.485604 -1....        740  \n",
       "49  130300902009  POLYGON ((-59.277799 -2.478526, -59.274481 -2....        857  \n",
       "51  130300903106  POLYGON ((-59.210161 -3.91842, -59.197443 -3.9...        425  \n",
       "52  130300904005  POLYGON ((-59.052916 -2.585509, -59.048206 -2....        382  \n",
       "\n",
       "[20 rows x 21 columns]"
      ]
     },
     "execution_count": 83,
     "metadata": {},
     "output_type": "execute_result"
    }
   ],
   "source": [
    "am[am['lightnings'] > 0]"
   ]
  },
  {
   "cell_type": "code",
   "execution_count": 85,
   "metadata": {
    "ExecuteTime": {
     "end_time": "2019-09-07T22:28:58.047687Z",
     "start_time": "2019-09-07T22:28:57.844864Z"
    }
   },
   "outputs": [],
   "source": [
    "am.to_file('../results/geo/am-lightning.shp', encoding = 'utf-8')"
   ]
  },
  {
   "cell_type": "code",
   "execution_count": 132,
   "metadata": {
    "ExecuteTime": {
     "end_time": "2019-09-08T00:21:17.865879Z",
     "start_time": "2019-09-08T00:21:16.234314Z"
    }
   },
   "outputs": [
    {
     "data": {
      "application/vnd.plotly.v1+json": {
       "config": {
        "linkText": "Export to plot.ly",
        "plotlyServerURL": "https://plot.ly",
        "showLink": false
       },
       "data": [
        {
         "marker": {
          "color": "#23A9FC",
          "line": {
           "color": "#000000",
           "width": 0.1
          }
         },
         "orientation": "h",
         "text": "CAAPIRANGA (2850)",
         "textposition": "outside",
         "type": "bar",
         "x": [
          2850
         ],
         "y": [
          "CAAPIRANGA"
         ]
        },
        {
         "marker": {
          "color": "#23A9FC",
          "line": {
           "color": "#000000",
           "width": 0.1
          }
         },
         "orientation": "h",
         "text": "ANAMÃ (400)",
         "textposition": "outside",
         "type": "bar",
         "x": [
          400
         ],
         "y": [
          "ANAMÃ"
         ]
        },
        {
         "marker": {
          "color": "#23A9FC",
          "line": {
           "color": "#000000",
           "width": 0.1
          }
         },
         "orientation": "h",
         "text": "NOVO AIRÃO (7720)",
         "textposition": "outside",
         "type": "bar",
         "x": [
          7720
         ],
         "y": [
          "NOVO AIRÃO"
         ]
        },
        {
         "marker": {
          "color": "#23A9FC",
          "line": {
           "color": "#000000",
           "width": 0.1
          }
         },
         "orientation": "h",
         "text": "MANACAPURU (6471)",
         "textposition": "outside",
         "type": "bar",
         "x": [
          6471
         ],
         "y": [
          "MANACAPURU"
         ]
        },
        {
         "marker": {
          "color": "#23A9FC",
          "line": {
           "color": "#000000",
           "width": 0.1
          }
         },
         "orientation": "h",
         "text": "ANORI (2)",
         "textposition": "outside",
         "type": "bar",
         "x": [
          2
         ],
         "y": [
          "ANORI"
         ]
        },
        {
         "marker": {
          "color": "#23A9FC",
          "line": {
           "color": "#000000",
           "width": 0.1
          }
         },
         "orientation": "h",
         "text": "BERURI (3023)",
         "textposition": "outside",
         "type": "bar",
         "x": [
          3023
         ],
         "y": [
          "BERURI"
         ]
        },
        {
         "marker": {
          "color": "#23A9FC",
          "line": {
           "color": "#000000",
           "width": 0.1
          }
         },
         "orientation": "h",
         "text": "MANAQUIRI (9056)",
         "textposition": "outside",
         "type": "bar",
         "x": [
          9056
         ],
         "y": [
          "MANAQUIRI"
         ]
        },
        {
         "marker": {
          "color": "#23A9FC",
          "line": {
           "color": "#000000",
           "width": 0.1
          }
         },
         "orientation": "h",
         "text": "IRANDUBA (581)",
         "textposition": "outside",
         "type": "bar",
         "x": [
          581
         ],
         "y": [
          "IRANDUBA"
         ]
        },
        {
         "marker": {
          "color": "#23A9FC",
          "line": {
           "color": "#000000",
           "width": 0.1
          }
         },
         "orientation": "h",
         "text": "BORBA (7441)",
         "textposition": "outside",
         "type": "bar",
         "x": [
          7441
         ],
         "y": [
          "BORBA"
         ]
        },
        {
         "marker": {
          "color": "#23A9FC",
          "line": {
           "color": "#000000",
           "width": 0.1
          }
         },
         "orientation": "h",
         "text": "MANAUS (10305)",
         "textposition": "outside",
         "type": "bar",
         "x": [
          10305
         ],
         "y": [
          "MANAUS"
         ]
        },
        {
         "marker": {
          "color": "#23A9FC",
          "line": {
           "color": "#000000",
           "width": 0.1
          }
         },
         "orientation": "h",
         "text": "CAREIRO (12753)",
         "textposition": "outside",
         "type": "bar",
         "x": [
          12753
         ],
         "y": [
          "CAREIRO"
         ]
        },
        {
         "marker": {
          "color": "#23A9FC",
          "line": {
           "color": "#000000",
           "width": 0.1
          }
         },
         "orientation": "h",
         "text": "PRESIDENTE FIGUEIREDO (10758)",
         "textposition": "outside",
         "type": "bar",
         "x": [
          10758
         ],
         "y": [
          "PRESIDENTE FIGUEIREDO"
         ]
        },
        {
         "marker": {
          "color": "#23A9FC",
          "line": {
           "color": "#000000",
           "width": 0.1
          }
         },
         "orientation": "h",
         "text": "AUTAZES (6320)",
         "textposition": "outside",
         "type": "bar",
         "x": [
          6320
         ],
         "y": [
          "AUTAZES"
         ]
        },
        {
         "marker": {
          "color": "#23A9FC",
          "line": {
           "color": "#000000",
           "width": 0.1
          }
         },
         "orientation": "h",
         "text": "CAREIRO DA VÁRZEA (868)",
         "textposition": "outside",
         "type": "bar",
         "x": [
          868
         ],
         "y": [
          "CAREIRO DA VÁRZEA"
         ]
        },
        {
         "marker": {
          "color": "#23A9FC",
          "line": {
           "color": "#000000",
           "width": 0.1
          }
         },
         "orientation": "h",
         "text": "RIO PRETO DA EVA (4345)",
         "textposition": "outside",
         "type": "bar",
         "x": [
          4345
         ],
         "y": [
          "RIO PRETO DA EVA"
         ]
        },
        {
         "marker": {
          "color": "#23A9FC",
          "line": {
           "color": "#000000",
           "width": 0.1
          }
         },
         "orientation": "h",
         "text": "ITACOATIARA (1057)",
         "textposition": "outside",
         "type": "bar",
         "x": [
          1057
         ],
         "y": [
          "ITACOATIARA"
         ]
        },
        {
         "marker": {
          "color": "#23A9FC",
          "line": {
           "color": "#000000",
           "width": 0.1
          }
         },
         "orientation": "h",
         "text": "ITAPIRANGA (857)",
         "textposition": "outside",
         "type": "bar",
         "x": [
          857
         ],
         "y": [
          "ITAPIRANGA"
         ]
        },
        {
         "marker": {
          "color": "#23A9FC",
          "line": {
           "color": "#000000",
           "width": 0.1
          }
         },
         "orientation": "h",
         "text": "SÃO SEBASTIÃO DO UATUMÃ (740)",
         "textposition": "outside",
         "type": "bar",
         "x": [
          740
         ],
         "y": [
          "SÃO SEBASTIÃO DO UATUMÃ"
         ]
        },
        {
         "marker": {
          "color": "#23A9FC",
          "line": {
           "color": "#000000",
           "width": 0.1
          }
         },
         "orientation": "h",
         "text": "NOVA OLINDA DO NORTE (425)",
         "textposition": "outside",
         "type": "bar",
         "x": [
          425
         ],
         "y": [
          "NOVA OLINDA DO NORTE"
         ]
        },
        {
         "marker": {
          "color": "#23A9FC",
          "line": {
           "color": "#000000",
           "width": 0.1
          }
         },
         "orientation": "h",
         "text": "SILVES (382)",
         "textposition": "outside",
         "type": "bar",
         "x": [
          382
         ],
         "y": [
          "SILVES"
         ]
        }
       ],
       "layout": {
        "margin": {
         "b": 0,
         "l": 0,
         "r": 0,
         "t": 0
        },
        "showlegend": false,
        "template": {
         "data": {
          "bar": [
           {
            "error_x": {
             "color": "#2a3f5f"
            },
            "error_y": {
             "color": "#2a3f5f"
            },
            "marker": {
             "line": {
              "color": "white",
              "width": 0.5
             }
            },
            "type": "bar"
           }
          ],
          "barpolar": [
           {
            "marker": {
             "line": {
              "color": "white",
              "width": 0.5
             }
            },
            "type": "barpolar"
           }
          ],
          "carpet": [
           {
            "aaxis": {
             "endlinecolor": "#2a3f5f",
             "gridcolor": "#C8D4E3",
             "linecolor": "#C8D4E3",
             "minorgridcolor": "#C8D4E3",
             "startlinecolor": "#2a3f5f"
            },
            "baxis": {
             "endlinecolor": "#2a3f5f",
             "gridcolor": "#C8D4E3",
             "linecolor": "#C8D4E3",
             "minorgridcolor": "#C8D4E3",
             "startlinecolor": "#2a3f5f"
            },
            "type": "carpet"
           }
          ],
          "choropleth": [
           {
            "colorbar": {
             "outlinewidth": 0,
             "ticks": ""
            },
            "type": "choropleth"
           }
          ],
          "contour": [
           {
            "colorbar": {
             "outlinewidth": 0,
             "ticks": ""
            },
            "colorscale": [
             [
              0,
              "#0d0887"
             ],
             [
              0.1111111111111111,
              "#46039f"
             ],
             [
              0.2222222222222222,
              "#7201a8"
             ],
             [
              0.3333333333333333,
              "#9c179e"
             ],
             [
              0.4444444444444444,
              "#bd3786"
             ],
             [
              0.5555555555555556,
              "#d8576b"
             ],
             [
              0.6666666666666666,
              "#ed7953"
             ],
             [
              0.7777777777777778,
              "#fb9f3a"
             ],
             [
              0.8888888888888888,
              "#fdca26"
             ],
             [
              1,
              "#f0f921"
             ]
            ],
            "type": "contour"
           }
          ],
          "contourcarpet": [
           {
            "colorbar": {
             "outlinewidth": 0,
             "ticks": ""
            },
            "type": "contourcarpet"
           }
          ],
          "heatmap": [
           {
            "colorbar": {
             "outlinewidth": 0,
             "ticks": ""
            },
            "colorscale": [
             [
              0,
              "#0d0887"
             ],
             [
              0.1111111111111111,
              "#46039f"
             ],
             [
              0.2222222222222222,
              "#7201a8"
             ],
             [
              0.3333333333333333,
              "#9c179e"
             ],
             [
              0.4444444444444444,
              "#bd3786"
             ],
             [
              0.5555555555555556,
              "#d8576b"
             ],
             [
              0.6666666666666666,
              "#ed7953"
             ],
             [
              0.7777777777777778,
              "#fb9f3a"
             ],
             [
              0.8888888888888888,
              "#fdca26"
             ],
             [
              1,
              "#f0f921"
             ]
            ],
            "type": "heatmap"
           }
          ],
          "heatmapgl": [
           {
            "colorbar": {
             "outlinewidth": 0,
             "ticks": ""
            },
            "colorscale": [
             [
              0,
              "#0d0887"
             ],
             [
              0.1111111111111111,
              "#46039f"
             ],
             [
              0.2222222222222222,
              "#7201a8"
             ],
             [
              0.3333333333333333,
              "#9c179e"
             ],
             [
              0.4444444444444444,
              "#bd3786"
             ],
             [
              0.5555555555555556,
              "#d8576b"
             ],
             [
              0.6666666666666666,
              "#ed7953"
             ],
             [
              0.7777777777777778,
              "#fb9f3a"
             ],
             [
              0.8888888888888888,
              "#fdca26"
             ],
             [
              1,
              "#f0f921"
             ]
            ],
            "type": "heatmapgl"
           }
          ],
          "histogram": [
           {
            "marker": {
             "colorbar": {
              "outlinewidth": 0,
              "ticks": ""
             }
            },
            "type": "histogram"
           }
          ],
          "histogram2d": [
           {
            "colorbar": {
             "outlinewidth": 0,
             "ticks": ""
            },
            "colorscale": [
             [
              0,
              "#0d0887"
             ],
             [
              0.1111111111111111,
              "#46039f"
             ],
             [
              0.2222222222222222,
              "#7201a8"
             ],
             [
              0.3333333333333333,
              "#9c179e"
             ],
             [
              0.4444444444444444,
              "#bd3786"
             ],
             [
              0.5555555555555556,
              "#d8576b"
             ],
             [
              0.6666666666666666,
              "#ed7953"
             ],
             [
              0.7777777777777778,
              "#fb9f3a"
             ],
             [
              0.8888888888888888,
              "#fdca26"
             ],
             [
              1,
              "#f0f921"
             ]
            ],
            "type": "histogram2d"
           }
          ],
          "histogram2dcontour": [
           {
            "colorbar": {
             "outlinewidth": 0,
             "ticks": ""
            },
            "colorscale": [
             [
              0,
              "#0d0887"
             ],
             [
              0.1111111111111111,
              "#46039f"
             ],
             [
              0.2222222222222222,
              "#7201a8"
             ],
             [
              0.3333333333333333,
              "#9c179e"
             ],
             [
              0.4444444444444444,
              "#bd3786"
             ],
             [
              0.5555555555555556,
              "#d8576b"
             ],
             [
              0.6666666666666666,
              "#ed7953"
             ],
             [
              0.7777777777777778,
              "#fb9f3a"
             ],
             [
              0.8888888888888888,
              "#fdca26"
             ],
             [
              1,
              "#f0f921"
             ]
            ],
            "type": "histogram2dcontour"
           }
          ],
          "mesh3d": [
           {
            "colorbar": {
             "outlinewidth": 0,
             "ticks": ""
            },
            "type": "mesh3d"
           }
          ],
          "parcoords": [
           {
            "line": {
             "colorbar": {
              "outlinewidth": 0,
              "ticks": ""
             }
            },
            "type": "parcoords"
           }
          ],
          "scatter": [
           {
            "marker": {
             "colorbar": {
              "outlinewidth": 0,
              "ticks": ""
             }
            },
            "type": "scatter"
           }
          ],
          "scatter3d": [
           {
            "line": {
             "colorbar": {
              "outlinewidth": 0,
              "ticks": ""
             }
            },
            "marker": {
             "colorbar": {
              "outlinewidth": 0,
              "ticks": ""
             }
            },
            "type": "scatter3d"
           }
          ],
          "scattercarpet": [
           {
            "marker": {
             "colorbar": {
              "outlinewidth": 0,
              "ticks": ""
             }
            },
            "type": "scattercarpet"
           }
          ],
          "scattergeo": [
           {
            "marker": {
             "colorbar": {
              "outlinewidth": 0,
              "ticks": ""
             }
            },
            "type": "scattergeo"
           }
          ],
          "scattergl": [
           {
            "marker": {
             "colorbar": {
              "outlinewidth": 0,
              "ticks": ""
             }
            },
            "type": "scattergl"
           }
          ],
          "scattermapbox": [
           {
            "marker": {
             "colorbar": {
              "outlinewidth": 0,
              "ticks": ""
             }
            },
            "type": "scattermapbox"
           }
          ],
          "scatterpolar": [
           {
            "marker": {
             "colorbar": {
              "outlinewidth": 0,
              "ticks": ""
             }
            },
            "type": "scatterpolar"
           }
          ],
          "scatterpolargl": [
           {
            "marker": {
             "colorbar": {
              "outlinewidth": 0,
              "ticks": ""
             }
            },
            "type": "scatterpolargl"
           }
          ],
          "scatterternary": [
           {
            "marker": {
             "colorbar": {
              "outlinewidth": 0,
              "ticks": ""
             }
            },
            "type": "scatterternary"
           }
          ],
          "surface": [
           {
            "colorbar": {
             "outlinewidth": 0,
             "ticks": ""
            },
            "colorscale": [
             [
              0,
              "#0d0887"
             ],
             [
              0.1111111111111111,
              "#46039f"
             ],
             [
              0.2222222222222222,
              "#7201a8"
             ],
             [
              0.3333333333333333,
              "#9c179e"
             ],
             [
              0.4444444444444444,
              "#bd3786"
             ],
             [
              0.5555555555555556,
              "#d8576b"
             ],
             [
              0.6666666666666666,
              "#ed7953"
             ],
             [
              0.7777777777777778,
              "#fb9f3a"
             ],
             [
              0.8888888888888888,
              "#fdca26"
             ],
             [
              1,
              "#f0f921"
             ]
            ],
            "type": "surface"
           }
          ],
          "table": [
           {
            "cells": {
             "fill": {
              "color": "#EBF0F8"
             },
             "line": {
              "color": "white"
             }
            },
            "header": {
             "fill": {
              "color": "#C8D4E3"
             },
             "line": {
              "color": "white"
             }
            },
            "type": "table"
           }
          ]
         },
         "layout": {
          "annotationdefaults": {
           "arrowcolor": "#2a3f5f",
           "arrowhead": 0,
           "arrowwidth": 1
          },
          "colorscale": {
           "diverging": [
            [
             0,
             "#8e0152"
            ],
            [
             0.1,
             "#c51b7d"
            ],
            [
             0.2,
             "#de77ae"
            ],
            [
             0.3,
             "#f1b6da"
            ],
            [
             0.4,
             "#fde0ef"
            ],
            [
             0.5,
             "#f7f7f7"
            ],
            [
             0.6,
             "#e6f5d0"
            ],
            [
             0.7,
             "#b8e186"
            ],
            [
             0.8,
             "#7fbc41"
            ],
            [
             0.9,
             "#4d9221"
            ],
            [
             1,
             "#276419"
            ]
           ],
           "sequential": [
            [
             0,
             "#0d0887"
            ],
            [
             0.1111111111111111,
             "#46039f"
            ],
            [
             0.2222222222222222,
             "#7201a8"
            ],
            [
             0.3333333333333333,
             "#9c179e"
            ],
            [
             0.4444444444444444,
             "#bd3786"
            ],
            [
             0.5555555555555556,
             "#d8576b"
            ],
            [
             0.6666666666666666,
             "#ed7953"
            ],
            [
             0.7777777777777778,
             "#fb9f3a"
            ],
            [
             0.8888888888888888,
             "#fdca26"
            ],
            [
             1,
             "#f0f921"
            ]
           ],
           "sequentialminus": [
            [
             0,
             "#0d0887"
            ],
            [
             0.1111111111111111,
             "#46039f"
            ],
            [
             0.2222222222222222,
             "#7201a8"
            ],
            [
             0.3333333333333333,
             "#9c179e"
            ],
            [
             0.4444444444444444,
             "#bd3786"
            ],
            [
             0.5555555555555556,
             "#d8576b"
            ],
            [
             0.6666666666666666,
             "#ed7953"
            ],
            [
             0.7777777777777778,
             "#fb9f3a"
            ],
            [
             0.8888888888888888,
             "#fdca26"
            ],
            [
             1,
             "#f0f921"
            ]
           ]
          },
          "colorway": [
           "#636efa",
           "#EF553B",
           "#00cc96",
           "#ab63fa",
           "#FFA15A",
           "#19d3f3",
           "#FF6692",
           "#B6E880",
           "#FF97FF",
           "#FECB52"
          ],
          "font": {
           "color": "#2a3f5f"
          },
          "geo": {
           "bgcolor": "white",
           "lakecolor": "white",
           "landcolor": "white",
           "showlakes": true,
           "showland": true,
           "subunitcolor": "#C8D4E3"
          },
          "hoverlabel": {
           "align": "left"
          },
          "hovermode": "closest",
          "mapbox": {
           "style": "light"
          },
          "paper_bgcolor": "white",
          "plot_bgcolor": "white",
          "polar": {
           "angularaxis": {
            "gridcolor": "#EBF0F8",
            "linecolor": "#EBF0F8",
            "ticks": ""
           },
           "bgcolor": "white",
           "radialaxis": {
            "gridcolor": "#EBF0F8",
            "linecolor": "#EBF0F8",
            "ticks": ""
           }
          },
          "scene": {
           "xaxis": {
            "backgroundcolor": "white",
            "gridcolor": "#DFE8F3",
            "gridwidth": 2,
            "linecolor": "#EBF0F8",
            "showbackground": true,
            "ticks": "",
            "zerolinecolor": "#EBF0F8"
           },
           "yaxis": {
            "backgroundcolor": "white",
            "gridcolor": "#DFE8F3",
            "gridwidth": 2,
            "linecolor": "#EBF0F8",
            "showbackground": true,
            "ticks": "",
            "zerolinecolor": "#EBF0F8"
           },
           "zaxis": {
            "backgroundcolor": "white",
            "gridcolor": "#DFE8F3",
            "gridwidth": 2,
            "linecolor": "#EBF0F8",
            "showbackground": true,
            "ticks": "",
            "zerolinecolor": "#EBF0F8"
           }
          },
          "shapedefaults": {
           "line": {
            "color": "#2a3f5f"
           }
          },
          "ternary": {
           "aaxis": {
            "gridcolor": "#DFE8F3",
            "linecolor": "#A2B1C6",
            "ticks": ""
           },
           "baxis": {
            "gridcolor": "#DFE8F3",
            "linecolor": "#A2B1C6",
            "ticks": ""
           },
           "bgcolor": "white",
           "caxis": {
            "gridcolor": "#DFE8F3",
            "linecolor": "#A2B1C6",
            "ticks": ""
           }
          },
          "title": {
           "x": 0.05
          },
          "xaxis": {
           "automargin": true,
           "gridcolor": "#EBF0F8",
           "linecolor": "#EBF0F8",
           "ticks": "",
           "zerolinecolor": "#EBF0F8",
           "zerolinewidth": 2
          },
          "yaxis": {
           "automargin": true,
           "gridcolor": "#EBF0F8",
           "linecolor": "#EBF0F8",
           "ticks": "",
           "zerolinecolor": "#EBF0F8",
           "zerolinewidth": 2
          }
         }
        },
        "yaxis": {
         "showticklabels": false
        }
       }
      },
      "text/html": [
       "<div>\n",
       "        \n",
       "        \n",
       "            <div id=\"edafc28b-8593-48e2-a2a9-1cc0986c1c92\" class=\"plotly-graph-div\" style=\"height:525px; width:100%;\"></div>\n",
       "            <script type=\"text/javascript\">\n",
       "                require([\"plotly\"], function(Plotly) {\n",
       "                    window.PLOTLYENV=window.PLOTLYENV || {};\n",
       "                    \n",
       "                if (document.getElementById(\"edafc28b-8593-48e2-a2a9-1cc0986c1c92\")) {\n",
       "                    Plotly.newPlot(\n",
       "                        'edafc28b-8593-48e2-a2a9-1cc0986c1c92',\n",
       "                        [{\"marker\": {\"color\": \"#23A9FC\", \"line\": {\"color\": \"#000000\", \"width\": 0.1}}, \"orientation\": \"h\", \"text\": \"CAAPIRANGA (2850)\", \"textposition\": \"outside\", \"type\": \"bar\", \"x\": [2850], \"y\": [\"CAAPIRANGA\"]}, {\"marker\": {\"color\": \"#23A9FC\", \"line\": {\"color\": \"#000000\", \"width\": 0.1}}, \"orientation\": \"h\", \"text\": \"ANAM\\u00c3 (400)\", \"textposition\": \"outside\", \"type\": \"bar\", \"x\": [400], \"y\": [\"ANAM\\u00c3\"]}, {\"marker\": {\"color\": \"#23A9FC\", \"line\": {\"color\": \"#000000\", \"width\": 0.1}}, \"orientation\": \"h\", \"text\": \"NOVO AIR\\u00c3O (7720)\", \"textposition\": \"outside\", \"type\": \"bar\", \"x\": [7720], \"y\": [\"NOVO AIR\\u00c3O\"]}, {\"marker\": {\"color\": \"#23A9FC\", \"line\": {\"color\": \"#000000\", \"width\": 0.1}}, \"orientation\": \"h\", \"text\": \"MANACAPURU (6471)\", \"textposition\": \"outside\", \"type\": \"bar\", \"x\": [6471], \"y\": [\"MANACAPURU\"]}, {\"marker\": {\"color\": \"#23A9FC\", \"line\": {\"color\": \"#000000\", \"width\": 0.1}}, \"orientation\": \"h\", \"text\": \"ANORI (2)\", \"textposition\": \"outside\", \"type\": \"bar\", \"x\": [2], \"y\": [\"ANORI\"]}, {\"marker\": {\"color\": \"#23A9FC\", \"line\": {\"color\": \"#000000\", \"width\": 0.1}}, \"orientation\": \"h\", \"text\": \"BERURI (3023)\", \"textposition\": \"outside\", \"type\": \"bar\", \"x\": [3023], \"y\": [\"BERURI\"]}, {\"marker\": {\"color\": \"#23A9FC\", \"line\": {\"color\": \"#000000\", \"width\": 0.1}}, \"orientation\": \"h\", \"text\": \"MANAQUIRI (9056)\", \"textposition\": \"outside\", \"type\": \"bar\", \"x\": [9056], \"y\": [\"MANAQUIRI\"]}, {\"marker\": {\"color\": \"#23A9FC\", \"line\": {\"color\": \"#000000\", \"width\": 0.1}}, \"orientation\": \"h\", \"text\": \"IRANDUBA (581)\", \"textposition\": \"outside\", \"type\": \"bar\", \"x\": [581], \"y\": [\"IRANDUBA\"]}, {\"marker\": {\"color\": \"#23A9FC\", \"line\": {\"color\": \"#000000\", \"width\": 0.1}}, \"orientation\": \"h\", \"text\": \"BORBA (7441)\", \"textposition\": \"outside\", \"type\": \"bar\", \"x\": [7441], \"y\": [\"BORBA\"]}, {\"marker\": {\"color\": \"#23A9FC\", \"line\": {\"color\": \"#000000\", \"width\": 0.1}}, \"orientation\": \"h\", \"text\": \"MANAUS (10305)\", \"textposition\": \"outside\", \"type\": \"bar\", \"x\": [10305], \"y\": [\"MANAUS\"]}, {\"marker\": {\"color\": \"#23A9FC\", \"line\": {\"color\": \"#000000\", \"width\": 0.1}}, \"orientation\": \"h\", \"text\": \"CAREIRO (12753)\", \"textposition\": \"outside\", \"type\": \"bar\", \"x\": [12753], \"y\": [\"CAREIRO\"]}, {\"marker\": {\"color\": \"#23A9FC\", \"line\": {\"color\": \"#000000\", \"width\": 0.1}}, \"orientation\": \"h\", \"text\": \"PRESIDENTE FIGUEIREDO (10758)\", \"textposition\": \"outside\", \"type\": \"bar\", \"x\": [10758], \"y\": [\"PRESIDENTE FIGUEIREDO\"]}, {\"marker\": {\"color\": \"#23A9FC\", \"line\": {\"color\": \"#000000\", \"width\": 0.1}}, \"orientation\": \"h\", \"text\": \"AUTAZES (6320)\", \"textposition\": \"outside\", \"type\": \"bar\", \"x\": [6320], \"y\": [\"AUTAZES\"]}, {\"marker\": {\"color\": \"#23A9FC\", \"line\": {\"color\": \"#000000\", \"width\": 0.1}}, \"orientation\": \"h\", \"text\": \"CAREIRO DA V\\u00c1RZEA (868)\", \"textposition\": \"outside\", \"type\": \"bar\", \"x\": [868], \"y\": [\"CAREIRO DA V\\u00c1RZEA\"]}, {\"marker\": {\"color\": \"#23A9FC\", \"line\": {\"color\": \"#000000\", \"width\": 0.1}}, \"orientation\": \"h\", \"text\": \"RIO PRETO DA EVA (4345)\", \"textposition\": \"outside\", \"type\": \"bar\", \"x\": [4345], \"y\": [\"RIO PRETO DA EVA\"]}, {\"marker\": {\"color\": \"#23A9FC\", \"line\": {\"color\": \"#000000\", \"width\": 0.1}}, \"orientation\": \"h\", \"text\": \"ITACOATIARA (1057)\", \"textposition\": \"outside\", \"type\": \"bar\", \"x\": [1057], \"y\": [\"ITACOATIARA\"]}, {\"marker\": {\"color\": \"#23A9FC\", \"line\": {\"color\": \"#000000\", \"width\": 0.1}}, \"orientation\": \"h\", \"text\": \"ITAPIRANGA (857)\", \"textposition\": \"outside\", \"type\": \"bar\", \"x\": [857], \"y\": [\"ITAPIRANGA\"]}, {\"marker\": {\"color\": \"#23A9FC\", \"line\": {\"color\": \"#000000\", \"width\": 0.1}}, \"orientation\": \"h\", \"text\": \"S\\u00c3O SEBASTI\\u00c3O DO UATUM\\u00c3 (740)\", \"textposition\": \"outside\", \"type\": \"bar\", \"x\": [740], \"y\": [\"S\\u00c3O SEBASTI\\u00c3O DO UATUM\\u00c3\"]}, {\"marker\": {\"color\": \"#23A9FC\", \"line\": {\"color\": \"#000000\", \"width\": 0.1}}, \"orientation\": \"h\", \"text\": \"NOVA OLINDA DO NORTE (425)\", \"textposition\": \"outside\", \"type\": \"bar\", \"x\": [425], \"y\": [\"NOVA OLINDA DO NORTE\"]}, {\"marker\": {\"color\": \"#23A9FC\", \"line\": {\"color\": \"#000000\", \"width\": 0.1}}, \"orientation\": \"h\", \"text\": \"SILVES (382)\", \"textposition\": \"outside\", \"type\": \"bar\", \"x\": [382], \"y\": [\"SILVES\"]}],\n",
       "                        {\"margin\": {\"b\": 0, \"l\": 0, \"r\": 0, \"t\": 0}, \"showlegend\": false, \"template\": {\"data\": {\"bar\": [{\"error_x\": {\"color\": \"#2a3f5f\"}, \"error_y\": {\"color\": \"#2a3f5f\"}, \"marker\": {\"line\": {\"color\": \"white\", \"width\": 0.5}}, \"type\": \"bar\"}], \"barpolar\": [{\"marker\": {\"line\": {\"color\": \"white\", \"width\": 0.5}}, \"type\": \"barpolar\"}], \"carpet\": [{\"aaxis\": {\"endlinecolor\": \"#2a3f5f\", \"gridcolor\": \"#C8D4E3\", \"linecolor\": \"#C8D4E3\", \"minorgridcolor\": \"#C8D4E3\", \"startlinecolor\": \"#2a3f5f\"}, \"baxis\": {\"endlinecolor\": \"#2a3f5f\", \"gridcolor\": \"#C8D4E3\", \"linecolor\": \"#C8D4E3\", \"minorgridcolor\": \"#C8D4E3\", \"startlinecolor\": \"#2a3f5f\"}, \"type\": \"carpet\"}], \"choropleth\": [{\"colorbar\": {\"outlinewidth\": 0, \"ticks\": \"\"}, \"type\": \"choropleth\"}], \"contour\": [{\"colorbar\": {\"outlinewidth\": 0, \"ticks\": \"\"}, \"colorscale\": [[0.0, \"#0d0887\"], [0.1111111111111111, \"#46039f\"], [0.2222222222222222, \"#7201a8\"], [0.3333333333333333, \"#9c179e\"], [0.4444444444444444, \"#bd3786\"], [0.5555555555555556, \"#d8576b\"], [0.6666666666666666, \"#ed7953\"], [0.7777777777777778, \"#fb9f3a\"], [0.8888888888888888, \"#fdca26\"], [1.0, \"#f0f921\"]], \"type\": \"contour\"}], \"contourcarpet\": [{\"colorbar\": {\"outlinewidth\": 0, \"ticks\": \"\"}, \"type\": \"contourcarpet\"}], \"heatmap\": [{\"colorbar\": {\"outlinewidth\": 0, \"ticks\": \"\"}, \"colorscale\": [[0.0, \"#0d0887\"], [0.1111111111111111, \"#46039f\"], [0.2222222222222222, \"#7201a8\"], [0.3333333333333333, \"#9c179e\"], [0.4444444444444444, \"#bd3786\"], [0.5555555555555556, \"#d8576b\"], [0.6666666666666666, \"#ed7953\"], [0.7777777777777778, \"#fb9f3a\"], [0.8888888888888888, \"#fdca26\"], [1.0, \"#f0f921\"]], \"type\": \"heatmap\"}], \"heatmapgl\": [{\"colorbar\": {\"outlinewidth\": 0, \"ticks\": \"\"}, \"colorscale\": [[0.0, \"#0d0887\"], [0.1111111111111111, \"#46039f\"], [0.2222222222222222, \"#7201a8\"], [0.3333333333333333, \"#9c179e\"], [0.4444444444444444, \"#bd3786\"], [0.5555555555555556, \"#d8576b\"], [0.6666666666666666, \"#ed7953\"], [0.7777777777777778, \"#fb9f3a\"], [0.8888888888888888, \"#fdca26\"], [1.0, \"#f0f921\"]], \"type\": \"heatmapgl\"}], \"histogram\": [{\"marker\": {\"colorbar\": {\"outlinewidth\": 0, \"ticks\": \"\"}}, \"type\": \"histogram\"}], \"histogram2d\": [{\"colorbar\": {\"outlinewidth\": 0, \"ticks\": \"\"}, \"colorscale\": [[0.0, \"#0d0887\"], [0.1111111111111111, \"#46039f\"], [0.2222222222222222, \"#7201a8\"], [0.3333333333333333, \"#9c179e\"], [0.4444444444444444, \"#bd3786\"], [0.5555555555555556, \"#d8576b\"], [0.6666666666666666, \"#ed7953\"], [0.7777777777777778, \"#fb9f3a\"], [0.8888888888888888, \"#fdca26\"], [1.0, \"#f0f921\"]], \"type\": \"histogram2d\"}], \"histogram2dcontour\": [{\"colorbar\": {\"outlinewidth\": 0, \"ticks\": \"\"}, \"colorscale\": [[0.0, \"#0d0887\"], [0.1111111111111111, \"#46039f\"], [0.2222222222222222, \"#7201a8\"], [0.3333333333333333, \"#9c179e\"], [0.4444444444444444, \"#bd3786\"], [0.5555555555555556, \"#d8576b\"], [0.6666666666666666, \"#ed7953\"], [0.7777777777777778, \"#fb9f3a\"], [0.8888888888888888, \"#fdca26\"], [1.0, \"#f0f921\"]], \"type\": \"histogram2dcontour\"}], \"mesh3d\": [{\"colorbar\": {\"outlinewidth\": 0, \"ticks\": \"\"}, \"type\": \"mesh3d\"}], \"parcoords\": [{\"line\": {\"colorbar\": {\"outlinewidth\": 0, \"ticks\": \"\"}}, \"type\": \"parcoords\"}], \"scatter\": [{\"marker\": {\"colorbar\": {\"outlinewidth\": 0, \"ticks\": \"\"}}, \"type\": \"scatter\"}], \"scatter3d\": [{\"line\": {\"colorbar\": {\"outlinewidth\": 0, \"ticks\": \"\"}}, \"marker\": {\"colorbar\": {\"outlinewidth\": 0, \"ticks\": \"\"}}, \"type\": \"scatter3d\"}], \"scattercarpet\": [{\"marker\": {\"colorbar\": {\"outlinewidth\": 0, \"ticks\": \"\"}}, \"type\": \"scattercarpet\"}], \"scattergeo\": [{\"marker\": {\"colorbar\": {\"outlinewidth\": 0, \"ticks\": \"\"}}, \"type\": \"scattergeo\"}], \"scattergl\": [{\"marker\": {\"colorbar\": {\"outlinewidth\": 0, \"ticks\": \"\"}}, \"type\": \"scattergl\"}], \"scattermapbox\": [{\"marker\": {\"colorbar\": {\"outlinewidth\": 0, \"ticks\": \"\"}}, \"type\": \"scattermapbox\"}], \"scatterpolar\": [{\"marker\": {\"colorbar\": {\"outlinewidth\": 0, \"ticks\": \"\"}}, \"type\": \"scatterpolar\"}], \"scatterpolargl\": [{\"marker\": {\"colorbar\": {\"outlinewidth\": 0, \"ticks\": \"\"}}, \"type\": \"scatterpolargl\"}], \"scatterternary\": [{\"marker\": {\"colorbar\": {\"outlinewidth\": 0, \"ticks\": \"\"}}, \"type\": \"scatterternary\"}], \"surface\": [{\"colorbar\": {\"outlinewidth\": 0, \"ticks\": \"\"}, \"colorscale\": [[0.0, \"#0d0887\"], [0.1111111111111111, \"#46039f\"], [0.2222222222222222, \"#7201a8\"], [0.3333333333333333, \"#9c179e\"], [0.4444444444444444, \"#bd3786\"], [0.5555555555555556, \"#d8576b\"], [0.6666666666666666, \"#ed7953\"], [0.7777777777777778, \"#fb9f3a\"], [0.8888888888888888, \"#fdca26\"], [1.0, \"#f0f921\"]], \"type\": \"surface\"}], \"table\": [{\"cells\": {\"fill\": {\"color\": \"#EBF0F8\"}, \"line\": {\"color\": \"white\"}}, \"header\": {\"fill\": {\"color\": \"#C8D4E3\"}, \"line\": {\"color\": \"white\"}}, \"type\": \"table\"}]}, \"layout\": {\"annotationdefaults\": {\"arrowcolor\": \"#2a3f5f\", \"arrowhead\": 0, \"arrowwidth\": 1}, \"colorscale\": {\"diverging\": [[0, \"#8e0152\"], [0.1, \"#c51b7d\"], [0.2, \"#de77ae\"], [0.3, \"#f1b6da\"], [0.4, \"#fde0ef\"], [0.5, \"#f7f7f7\"], [0.6, \"#e6f5d0\"], [0.7, \"#b8e186\"], [0.8, \"#7fbc41\"], [0.9, \"#4d9221\"], [1, \"#276419\"]], \"sequential\": [[0.0, \"#0d0887\"], [0.1111111111111111, \"#46039f\"], [0.2222222222222222, \"#7201a8\"], [0.3333333333333333, \"#9c179e\"], [0.4444444444444444, \"#bd3786\"], [0.5555555555555556, \"#d8576b\"], [0.6666666666666666, \"#ed7953\"], [0.7777777777777778, \"#fb9f3a\"], [0.8888888888888888, \"#fdca26\"], [1.0, \"#f0f921\"]], \"sequentialminus\": [[0.0, \"#0d0887\"], [0.1111111111111111, \"#46039f\"], [0.2222222222222222, \"#7201a8\"], [0.3333333333333333, \"#9c179e\"], [0.4444444444444444, \"#bd3786\"], [0.5555555555555556, \"#d8576b\"], [0.6666666666666666, \"#ed7953\"], [0.7777777777777778, \"#fb9f3a\"], [0.8888888888888888, \"#fdca26\"], [1.0, \"#f0f921\"]]}, \"colorway\": [\"#636efa\", \"#EF553B\", \"#00cc96\", \"#ab63fa\", \"#FFA15A\", \"#19d3f3\", \"#FF6692\", \"#B6E880\", \"#FF97FF\", \"#FECB52\"], \"font\": {\"color\": \"#2a3f5f\"}, \"geo\": {\"bgcolor\": \"white\", \"lakecolor\": \"white\", \"landcolor\": \"white\", \"showlakes\": true, \"showland\": true, \"subunitcolor\": \"#C8D4E3\"}, \"hoverlabel\": {\"align\": \"left\"}, \"hovermode\": \"closest\", \"mapbox\": {\"style\": \"light\"}, \"paper_bgcolor\": \"white\", \"plot_bgcolor\": \"white\", \"polar\": {\"angularaxis\": {\"gridcolor\": \"#EBF0F8\", \"linecolor\": \"#EBF0F8\", \"ticks\": \"\"}, \"bgcolor\": \"white\", \"radialaxis\": {\"gridcolor\": \"#EBF0F8\", \"linecolor\": \"#EBF0F8\", \"ticks\": \"\"}}, \"scene\": {\"xaxis\": {\"backgroundcolor\": \"white\", \"gridcolor\": \"#DFE8F3\", \"gridwidth\": 2, \"linecolor\": \"#EBF0F8\", \"showbackground\": true, \"ticks\": \"\", \"zerolinecolor\": \"#EBF0F8\"}, \"yaxis\": {\"backgroundcolor\": \"white\", \"gridcolor\": \"#DFE8F3\", \"gridwidth\": 2, \"linecolor\": \"#EBF0F8\", \"showbackground\": true, \"ticks\": \"\", \"zerolinecolor\": \"#EBF0F8\"}, \"zaxis\": {\"backgroundcolor\": \"white\", \"gridcolor\": \"#DFE8F3\", \"gridwidth\": 2, \"linecolor\": \"#EBF0F8\", \"showbackground\": true, \"ticks\": \"\", \"zerolinecolor\": \"#EBF0F8\"}}, \"shapedefaults\": {\"line\": {\"color\": \"#2a3f5f\"}}, \"ternary\": {\"aaxis\": {\"gridcolor\": \"#DFE8F3\", \"linecolor\": \"#A2B1C6\", \"ticks\": \"\"}, \"baxis\": {\"gridcolor\": \"#DFE8F3\", \"linecolor\": \"#A2B1C6\", \"ticks\": \"\"}, \"bgcolor\": \"white\", \"caxis\": {\"gridcolor\": \"#DFE8F3\", \"linecolor\": \"#A2B1C6\", \"ticks\": \"\"}}, \"title\": {\"x\": 0.05}, \"xaxis\": {\"automargin\": true, \"gridcolor\": \"#EBF0F8\", \"linecolor\": \"#EBF0F8\", \"ticks\": \"\", \"zerolinecolor\": \"#EBF0F8\", \"zerolinewidth\": 2}, \"yaxis\": {\"automargin\": true, \"gridcolor\": \"#EBF0F8\", \"linecolor\": \"#EBF0F8\", \"ticks\": \"\", \"zerolinecolor\": \"#EBF0F8\", \"zerolinewidth\": 2}}}, \"yaxis\": {\"showticklabels\": false}},\n",
       "                        {\"responsive\": true}\n",
       "                    ).then(function(){\n",
       "                            \n",
       "var gd = document.getElementById('edafc28b-8593-48e2-a2a9-1cc0986c1c92');\n",
       "var x = new MutationObserver(function (mutations, observer) {{\n",
       "        var display = window.getComputedStyle(gd).display;\n",
       "        if (!display || display === 'none') {{\n",
       "            console.log([gd, 'removed!']);\n",
       "            Plotly.purge(gd);\n",
       "            observer.disconnect();\n",
       "        }}\n",
       "}});\n",
       "\n",
       "// Listen for the removal of the full notebook cells\n",
       "var notebookContainer = gd.closest('#notebook-container');\n",
       "if (notebookContainer) {{\n",
       "    x.observe(notebookContainer, {childList: true});\n",
       "}}\n",
       "\n",
       "// Listen for the clearing of the current output cell\n",
       "var outputEl = gd.closest('.output');\n",
       "if (outputEl) {{\n",
       "    x.observe(outputEl, {childList: true});\n",
       "}}\n",
       "\n",
       "                        })\n",
       "                };\n",
       "                });\n",
       "            </script>\n",
       "        </div>"
      ]
     },
     "metadata": {},
     "output_type": "display_data"
    }
   ],
   "source": [
    "fig = go.Figure()\n",
    "\n",
    "labels = list(statistics.keys())\n",
    "values = list(statistics.values())\n",
    "\n",
    "for l, v in zip(labels, values):\n",
    "#     p = 'outside' if v < 12000 else 'inside'\n",
    "    p = 'outside'\n",
    "    fig.add_trace(\n",
    "        go.Bar(x=[v], y=[l], text='%s (%s)'%(l, v), \n",
    "#                name=l,\n",
    "               marker=dict(color='#23A9FC', line=dict(color='#000000', width=.1)),\n",
    "               textposition=p, orientation='h')\n",
    "    )\n",
    "    \n",
    "fig.update_yaxes(showticklabels=False)\n",
    "fig.update_layout(\n",
    "    template='plotly_white', \n",
    "    showlegend=False,\n",
    "    margin={'t': 0, 'b': 0, 'l': 0, 'r': 0},\n",
    "    \n",
    ")\n",
    "\n",
    "offline.plot(fig, 'lightnings-cities.png', \n",
    "    image_width=1100,\n",
    "    image='svg')\n",
    "offline.iplot(fig)"
   ]
  }
 ],
 "metadata": {
  "kernelspec": {
   "display_name": "Python 3",
   "language": "python",
   "name": "python3"
  },
  "language_info": {
   "codemirror_mode": {
    "name": "ipython",
    "version": 3
   },
   "file_extension": ".py",
   "mimetype": "text/x-python",
   "name": "python",
   "nbconvert_exporter": "python",
   "pygments_lexer": "ipython3",
   "version": "3.7.3"
  }
 },
 "nbformat": 4,
 "nbformat_minor": 2
}
