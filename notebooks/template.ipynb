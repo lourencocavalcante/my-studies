{
 "cells": [
  {
   "cell_type": "markdown",
   "metadata": {},
   "source": [
    "# AI for Earth System Science Hackathon 2020\n",
    "# Challenge Notebook Template\n",
    "Author (Instituion), Second Author (Institution)\n",
    "\n",
    "## Introduction\n",
    "*A relevant picture*\n",
    "\n",
    "The introduction contains the following elements:\n",
    "* Scientific goal of the challenge\n",
    "* Contextual background on the problem\n",
    "* Short description of existing solutions (if any)\n",
    "* Why the problem is important\n",
    "* Impact if solved\n",
    "\n"
   ]
  },
  {
   "cell_type": "markdown",
   "metadata": {},
   "source": [
    "## Software Requirements\n",
    "This notebook requires Python >= 3.7. The following libraries are required:\n",
    "* numpy\n",
    "* scipy\n",
    "* matplotlib\n",
    "* xarray\n",
    "* pandas\n",
    "* scikit-learn\n",
    "* tensorflow >= 2.1\n",
    "* netcdf4\n",
    "* tqdm\n"
   ]
  },
  {
   "cell_type": "code",
   "execution_count": 1,
   "metadata": {},
   "outputs": [
    {
     "name": "stdout",
     "output_type": "stream",
     "text": [
      "Requirement already satisfied: numpy in /Users/dgagne/miniconda3/envs/tf2/lib/python3.7/site-packages (1.17.2)\n",
      "Requirement already satisfied: scipy in /Users/dgagne/miniconda3/envs/tf2/lib/python3.7/site-packages (1.4.1)\n",
      "Requirement already satisfied: matplotlib in /Users/dgagne/miniconda3/envs/tf2/lib/python3.7/site-packages (3.1.1)\n",
      "Requirement already satisfied: xarray in /Users/dgagne/miniconda3/envs/tf2/lib/python3.7/site-packages (0.13.0)\n",
      "Requirement already satisfied: pandas in /Users/dgagne/miniconda3/envs/tf2/lib/python3.7/site-packages (0.25.1)\n",
      "Requirement already satisfied: netcdf4 in /Users/dgagne/miniconda3/envs/tf2/lib/python3.7/site-packages (1.5.1.2)\n",
      "Requirement already satisfied: tqdm in /Users/dgagne/miniconda3/envs/tf2/lib/python3.7/site-packages (4.45.0)\n",
      "Requirement already satisfied: tensorflow in /Users/dgagne/miniconda3/envs/tf2/lib/python3.7/site-packages (2.0.0)\n",
      "Requirement already satisfied: scikit-learn in /Users/dgagne/miniconda3/envs/tf2/lib/python3.7/site-packages (0.22)\n",
      "Requirement already satisfied: cycler>=0.10 in /Users/dgagne/miniconda3/envs/tf2/lib/python3.7/site-packages (from matplotlib) (0.10.0)\n",
      "Requirement already satisfied: pyparsing!=2.0.4,!=2.1.2,!=2.1.6,>=2.0.1 in /Users/dgagne/miniconda3/envs/tf2/lib/python3.7/site-packages (from matplotlib) (2.4.6)\n",
      "Requirement already satisfied: python-dateutil>=2.1 in /Users/dgagne/miniconda3/envs/tf2/lib/python3.7/site-packages (from matplotlib) (2.8.1)\n",
      "Requirement already satisfied: kiwisolver>=1.0.1 in /Users/dgagne/miniconda3/envs/tf2/lib/python3.7/site-packages (from matplotlib) (1.1.0)\n",
      "Requirement already satisfied: pytz>=2017.2 in /Users/dgagne/miniconda3/envs/tf2/lib/python3.7/site-packages (from pandas) (2019.3)\n",
      "Requirement already satisfied: cftime in /Users/dgagne/miniconda3/envs/tf2/lib/python3.7/site-packages (from netcdf4) (1.0.4.2)\n",
      "Requirement already satisfied: gast==0.2.2 in /Users/dgagne/miniconda3/envs/tf2/lib/python3.7/site-packages (from tensorflow) (0.2.2)\n",
      "Requirement already satisfied: termcolor>=1.1.0 in /Users/dgagne/miniconda3/envs/tf2/lib/python3.7/site-packages (from tensorflow) (1.1.0)\n",
      "Requirement already satisfied: opt-einsum>=2.3.2 in /Users/dgagne/miniconda3/envs/tf2/lib/python3.7/site-packages (from tensorflow) (3.1.0)\n",
      "Requirement already satisfied: wrapt>=1.11.1 in /Users/dgagne/miniconda3/envs/tf2/lib/python3.7/site-packages (from tensorflow) (1.11.2)\n",
      "Requirement already satisfied: keras-preprocessing>=1.0.5 in /Users/dgagne/miniconda3/envs/tf2/lib/python3.7/site-packages (from tensorflow) (1.1.0)\n",
      "Requirement already satisfied: tensorboard<2.1.0,>=2.0.0 in /Users/dgagne/miniconda3/envs/tf2/lib/python3.7/site-packages (from tensorflow) (2.0.0)\n",
      "Requirement already satisfied: wheel>=0.26 in /Users/dgagne/miniconda3/envs/tf2/lib/python3.7/site-packages (from tensorflow) (0.34.2)\n",
      "Requirement already satisfied: protobuf>=3.6.1 in /Users/dgagne/miniconda3/envs/tf2/lib/python3.7/site-packages (from tensorflow) (3.9.2)\n",
      "Requirement already satisfied: grpcio>=1.8.6 in /Users/dgagne/miniconda3/envs/tf2/lib/python3.7/site-packages (from tensorflow) (1.24.0)\n",
      "Requirement already satisfied: tensorflow-estimator<2.1.0,>=2.0.0 in /Users/dgagne/miniconda3/envs/tf2/lib/python3.7/site-packages (from tensorflow) (2.0.0)\n",
      "Requirement already satisfied: astor>=0.6.0 in /Users/dgagne/miniconda3/envs/tf2/lib/python3.7/site-packages (from tensorflow) (0.8.0)\n",
      "Requirement already satisfied: keras-applications>=1.0.8 in /Users/dgagne/miniconda3/envs/tf2/lib/python3.7/site-packages (from tensorflow) (1.0.8)\n",
      "Requirement already satisfied: absl-py>=0.7.0 in /Users/dgagne/miniconda3/envs/tf2/lib/python3.7/site-packages (from tensorflow) (0.8.0)\n",
      "Requirement already satisfied: six>=1.10.0 in /Users/dgagne/miniconda3/envs/tf2/lib/python3.7/site-packages (from tensorflow) (1.14.0)\n",
      "Requirement already satisfied: google-pasta>=0.1.6 in /Users/dgagne/miniconda3/envs/tf2/lib/python3.7/site-packages (from tensorflow) (0.1.7)\n",
      "Requirement already satisfied: joblib>=0.11 in /Users/dgagne/miniconda3/envs/tf2/lib/python3.7/site-packages (from scikit-learn) (0.14.1)\n",
      "Requirement already satisfied: setuptools in /Users/dgagne/miniconda3/envs/tf2/lib/python3.7/site-packages (from kiwisolver>=1.0.1->matplotlib) (45.2.0.post20200209)\n",
      "Requirement already satisfied: markdown>=2.6.8 in /Users/dgagne/miniconda3/envs/tf2/lib/python3.7/site-packages (from tensorboard<2.1.0,>=2.0.0->tensorflow) (3.1.1)\n",
      "Requirement already satisfied: werkzeug>=0.11.15 in /Users/dgagne/miniconda3/envs/tf2/lib/python3.7/site-packages (from tensorboard<2.1.0,>=2.0.0->tensorflow) (0.16.0)\n",
      "Requirement already satisfied: h5py in /Users/dgagne/miniconda3/envs/tf2/lib/python3.7/site-packages (from keras-applications>=1.0.8->tensorflow) (2.10.0)\n"
     ]
    }
   ],
   "source": [
    "! pip install numpy scipy matplotlib xarray pandas netcdf4 tqdm tensorflow scikit-learn"
   ]
  },
  {
   "cell_type": "code",
   "execution_count": 2,
   "metadata": {},
   "outputs": [],
   "source": [
    "# Include imports here\n",
    "import numpy as np\n",
    "import pandas as pd\n",
    "import xarray as xr\n",
    "import tensorflow as tf\n",
    "import matplotlib.pyplot as plt\n",
    "%matplotlib inline"
   ]
  },
  {
   "cell_type": "markdown",
   "metadata": {},
   "source": [
    "## Data\n",
    "The data summary should contain the following pieces of information:\n",
    "* Data generation procedure (satellite, model, etc.) \n",
    "* Link to website containing more information about dataset\n",
    "* Time span of the dataset\n",
    "* Geographic coverage of the dataset\n",
    "* Parameter space coverage (if synthetic)\n",
    "\n",
    "### Potential Input Variables\n",
    "| Variable Name | Units | Description | Relevance |\n",
    "| ------------- | :----:|:----------- | :--------:|\n",
    "| Temperature   | K     | How hot or cold it is | ¯\\\\_(ツ)_/¯ |\n",
    "| Humidity      | %     | Moist       |\n",
    "\n",
    "### Output Variables\n",
    "| Variable Name | Units | Description |\n",
    "| ------------- | :----:|:----------- |\n",
    "| Temperature   | K     | How hot or cold it is |\n",
    "| Humidity      | %     | Moist       |\n",
    "\n",
    "### Metadata Variables\n",
    "| Variable Name | Units | Description |\n",
    "| ------------- | :----:|:----------- |\n",
    "| Date   | YYYY-MM-DD    | The Date   |\n",
    "| Lat      | degrees     | Latitude   |\n",
    "| Lon      | degrees     | Longitude  |\n",
    "\n",
    "\n",
    "### Training Set\n",
    "Description of training set time/space/parameter coverage and size\n",
    "\n",
    "### Validation Set\n",
    "Description of validation set time/space/parameter coverage and size\n",
    "\n",
    "### Test Set\n",
    "Description of test set time/space/parameter coverage and size\n"
   ]
  },
  {
   "cell_type": "code",
   "execution_count": 3,
   "metadata": {},
   "outputs": [],
   "source": [
    "# Set random seed\n",
    "seed = 3985\n",
    "np.random.seed(seed)\n",
    "tf.random.set_seed(seed)"
   ]
  },
  {
   "cell_type": "code",
   "execution_count": null,
   "metadata": {},
   "outputs": [],
   "source": [
    "# How to load the data from disk or cloud\n"
   ]
  },
  {
   "cell_type": "code",
   "execution_count": null,
   "metadata": {},
   "outputs": [],
   "source": [
    "# Separate input, output and meta data\n"
   ]
  },
  {
   "cell_type": "code",
   "execution_count": null,
   "metadata": {},
   "outputs": [],
   "source": [
    "# Split into training, validation, and test sets\n"
   ]
  },
  {
   "cell_type": "code",
   "execution_count": null,
   "metadata": {},
   "outputs": [],
   "source": [
    "# Exploratory visualizations of data\n"
   ]
  },
  {
   "cell_type": "markdown",
   "metadata": {},
   "source": [
    "### Data Transforms\n",
    "Discuss any transforms or normalizations that may be needed for this dataset. Remember to fit a scaler only to the training data and then apply it on testing and validation."
   ]
  },
  {
   "cell_type": "code",
   "execution_count": null,
   "metadata": {},
   "outputs": [],
   "source": [
    "# Example of data transform procedure for dataset"
   ]
  },
  {
   "cell_type": "code",
   "execution_count": null,
   "metadata": {},
   "outputs": [],
   "source": [
    "# Visual of input variable before and after transform"
   ]
  },
  {
   "cell_type": "markdown",
   "metadata": {},
   "source": [
    "## Baseline Machine Learning Model\n",
    "Description of baseline ML approach should include:\n",
    "* Choice of ML software\n",
    "* Type of ML model\n",
    "* Hyperparameter choices and justification\n"
   ]
  },
  {
   "cell_type": "code",
   "execution_count": null,
   "metadata": {},
   "outputs": [],
   "source": [
    "# Baseline ML model initialization code goes here\n"
   ]
  },
  {
   "cell_type": "markdown",
   "metadata": {},
   "source": [
    "## Metrics\n",
    "Description of the different metrics used to assess performance on the challenge:\n",
    "* Correctness Metric: how close are the predictions to the truth (e.g., RMSE or AUC) \n",
    "* Training time\n",
    "* Inference time\n",
    "* Model complexity"
   ]
  },
  {
   "cell_type": "code",
   "execution_count": null,
   "metadata": {},
   "outputs": [],
   "source": [
    "# Metric functions "
   ]
  },
  {
   "cell_type": "markdown",
   "metadata": {},
   "source": [
    "## Interpretation\n",
    "Description of interpretation methods for problem"
   ]
  },
  {
   "cell_type": "code",
   "execution_count": null,
   "metadata": {},
   "outputs": [],
   "source": [
    "# Include examples of interpretation code"
   ]
  },
  {
   "cell_type": "markdown",
   "metadata": {},
   "source": [
    "## Hackathon Challenges\n",
    "\n",
    "### Monday\n",
    "* Load the data\n",
    "* Create an exploratory visualization of the data\n",
    "* Test two different transformation and scaling methods\n",
    "* Test one dimensionality reduction method\n",
    "* Train a linear model\n",
    "* Train a decision tree ensemble method of your choice"
   ]
  },
  {
   "cell_type": "code",
   "execution_count": null,
   "metadata": {},
   "outputs": [],
   "source": [
    "# Monday's code goes here\n"
   ]
  },
  {
   "cell_type": "markdown",
   "metadata": {},
   "source": [
    "### Tuesday\n",
    "* Train a densely connected neural network\n",
    "* Train a convolutional or recurrent neural network (depends on problem)\n",
    "* Experiment with different architectures"
   ]
  },
  {
   "cell_type": "code",
   "execution_count": null,
   "metadata": {},
   "outputs": [],
   "source": [
    "# Tuesday's code goes here\n"
   ]
  },
  {
   "cell_type": "markdown",
   "metadata": {},
   "source": [
    "### Wednesday\n",
    "* Calculate three relevant evaluation metrics for each ML solution and baseline\n",
    "* Refine machine learning approaches and test additional hyperparameter settings"
   ]
  },
  {
   "cell_type": "code",
   "execution_count": null,
   "metadata": {},
   "outputs": [],
   "source": [
    "# Wednesday's code goes here\n"
   ]
  },
  {
   "cell_type": "markdown",
   "metadata": {},
   "source": [
    "### Thursday \n",
    "* Evaluate two interpretation methods for your machine learning solution\n",
    "* Compare interpretation of baseline with your approach\n",
    "* Submit best results on project to leaderboard\n",
    "* Prepare 2 Google Slides on team's approach and submit them "
   ]
  },
  {
   "cell_type": "code",
   "execution_count": 4,
   "metadata": {},
   "outputs": [],
   "source": [
    "# Thursday's code goes here\n"
   ]
  },
  {
   "cell_type": "markdown",
   "metadata": {},
   "source": [
    "## Ultimate Submission Code\n",
    "Please insert your full data processing and machine learning pipeline code in the cell below."
   ]
  },
  {
   "cell_type": "code",
   "execution_count": null,
   "metadata": {},
   "outputs": [],
   "source": []
  }
 ],
 "metadata": {
  "kernelspec": {
   "display_name": "Python 3",
   "language": "python",
   "name": "python3"
  },
  "language_info": {
   "codemirror_mode": {
    "name": "ipython",
    "version": 3
   },
   "file_extension": ".py",
   "mimetype": "text/x-python",
   "name": "python",
   "nbconvert_exporter": "python",
   "pygments_lexer": "ipython3",
   "version": "3.7.6"
  }
 },
 "nbformat": 4,
 "nbformat_minor": 4
}
